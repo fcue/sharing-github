{
 "cells": [
  {
   "cell_type": "markdown",
   "metadata": {},
   "source": [
    "# 1. Try to model the result of a coin toss. In your model, include any features that you think important in explaining the result. Discuss with your mentor about the pros and cons of adding too many features into your model."
   ]
  },
  {
   "cell_type": "raw",
   "metadata": {},
   "source": [
    "When trying to create a model a result for a coin toss, we must factor in several variables that can affect \n",
    "the result of a coin toss.\n",
    "\n",
    "A. The weight of the coin.\n",
    "B. The thickness or width of the coin.\n",
    "C. Is the coin exactly flat? Is it a flat surface as most coins are, or is it a coin with indentation?\n",
    "    If it's not flat, is there engraving or does the design of the coin matter? Does it create bias towards one \n",
    "    side?\n",
    "D. The surface of where the coin toss was performed. Is it flat? Is it rough? Is it wet/dry?\n",
    " "
   ]
  },
  {
   "cell_type": "markdown",
   "metadata": {},
   "source": [
    "# 2. If you ever used Netflix, you should already have realized that it provides some recommendations for you to watch. In data science, this is an example of the so-called recommendations systems. Read this nontechnical blog post of Netflix about how they model their recommendations systems. Then, derive the features they use in their recommendations engines and discuss what else can be incorporated into this model."
   ]
  },
  {
   "cell_type": "markdown",
   "metadata": {},
   "source": [
    "From what the blog post states they derive features they use in their recommendations engines through the following variables. \n",
    "\n",
    "\"your interactions with our service (such as your viewing history and how you rated other titles),\n",
    "\n",
    "other members with similar tastes and preferences on our service (more info here), and\n",
    "\n",
    "information about the titles, such as their genre, categories, actors, release year, etc.\n",
    "\n",
    "In addition to knowing what you have watched on Netflix, to best personalize the recommendations we also look at things like:\n",
    "\n",
    "the time of day you watch,\n",
    "\n",
    "the devices you are watching Netflix on, and\n",
    "\n",
    "how long you watch.\"\n",
    "\n",
    "It was mentioned that they do not include demographic variables such as age,gender. I think that would be a helpful addition to feattures but I'm not sure how legal it would be. \n",
    "\n",
    "I'm not a big Netflix user but if there is a section where a user enters their preferences of genres, that would make it extremely personal and probably more accurate recommendations would be presented to the user. "
   ]
  }
 ],
 "metadata": {
  "kernelspec": {
   "display_name": "Python 3",
   "language": "python",
   "name": "python3"
  },
  "language_info": {
   "codemirror_mode": {
    "name": "ipython",
    "version": 3
   },
   "file_extension": ".py",
   "mimetype": "text/x-python",
   "name": "python",
   "nbconvert_exporter": "python",
   "pygments_lexer": "ipython3",
   "version": "3.7.3"
  }
 },
 "nbformat": 4,
 "nbformat_minor": 2
}

{
 "cells": [
  {
   "cell_type": "code",
   "execution_count": 1,
   "metadata": {},
   "outputs": [
    {
     "name": "stdout",
     "output_type": "stream",
     "text": [
      "First 100 links extracted!\n"
     ]
    }
   ],
   "source": [
    "import scrapy\n",
    "from scrapy.crawler import CrawlerProcess\n",
    "#from ..items import amazontutorial\n",
    "\n",
    "class Amazon_Spider(scrapy.Spider):\n",
    "    \n",
    "    \n",
    "    name = \"AS\"\n",
    "    \n",
    "    # Here is where we insert our API call.\n",
    "    start_urls = ['https://www.amazon.com/s?bbn=283155&rh=n%3A283155%2Cp_n_publication_date%3A1250226011&dc&fst=as%3Aoff&qid=1570131080&rnid=1250225011&ref=lp_283155_nr_p_n_publication_date_0'\n",
    "                 ]\n",
    "    # Identifying the information we want from the query response and extracting it using xpath.\n",
    "    def parse(self, response):\n",
    "        \n",
    "        items= AmazontutorialItem()\n",
    "        \n",
    "        book_name= response.css('.a-color-base.a-text-normal::text').extract()\n",
    "        book_author= response.css('.a-color-secondary .a-size-base.a-link-normal').css('::text').extract()\n",
    "        book_price= response.css('.a-spacing-top-small .a-price-whole').css('::text').extract()\n",
    "        book_image_link=response.css('.s-image::attr(src)').extract()\n",
    "            \n",
    "        items['book_name'] = ''.join(book_name).strip()\n",
    "        items['book_author']= ''.join(book_author).strip()\n",
    "        items['book_price']= ''.join(book_price).strip()\n",
    "        items['book_image_link']= ''.join(book_image_link).strip()\n",
    "        \n",
    "        yield items\n",
    "\n",
    "process = CrawlerProcess({\n",
    "    'FEED_FORMAT': 'json',\n",
    "    'FEED_URI': 'PythonLinks.json',\n",
    "    'ROBOTSTXT_OBEY': True,\n",
    "    'USER_AGENT': 'ThinkfulDataScienceBootcampCrawler (thinkful.com)',\n",
    "    'AUTOTHROTTLE_ENABLED': True,\n",
    "    'HTTPCACHE_ENABLED': True,\n",
    "    'LOG_ENABLED': False,\n",
    "    # We use CLOSESPIDER_PAGECOUNT to limit our scraper to the first 100 links.    \n",
    "    'CLOSESPIDER_PAGECOUNT' : 100\n",
    "})\n",
    "                                         \n",
    "\n",
    "# Starting the crawler with our spider.\n",
    "process.crawl(Amazon_Spider)\n",
    "process.start()\n",
    "print('First 100 links extracted!')\n"
   ]
  },
  {
   "cell_type": "code",
   "execution_count": 5,
   "metadata": {},
   "outputs": [
    {
     "name": "stdout",
     "output_type": "stream",
     "text": [
      "[b'[\\n', b'{\"book_name\": [\"The Water Dancer (Oprah\\'s Book Club): A Novel\", \"Blowout: Corrupted Democracy, Rogue State Russia, and the Richest, Most Destructive  Industry on Earth\", \"Inside Out: A Memoir\", \"Guts\", \"The Testaments: The Sequel to The Handmaid\\'s Tale\", \"Talking to Strangers: What We Should Know About the People We Don\\'t Know\", \"Permanent Record\", \"The Institute: A Novel\", \"Over the Top: A Raw Journey to Self-Love\", \"Know My Name: A Memoir\", \"The Dutch House: A Novel\", \"Exonerated: The Failed Takedown of President Donald Trump by the Swamp\", \"The United States of Trump: How the President Really Sees America\", \"The Ride of a Lifetime: Lessons Learned from 15 Years as CEO of the Walt Disney Company\", \"The Book of Gutsy Women: Favorite\\\\u00a0Stories of Courage and Resilience\", \"The Tyrant\\'s Tomb (The Trials of Apollo, Book Four)\"], \"book_author\": [\"\\\\n    \\\\n        \\\\n        \\\\n            Ta-Nehisi Coates\\\\n        \\\\n    \\\\n\", \"\\\\n    \\\\n        \\\\n        \\\\n            Rachel Maddow\\\\n        \\\\n    \\\\n\", \"\\\\n    \\\\n        \\\\n        \\\\n            Raina Telgemeier\\\\n        \\\\n    \\\\n\", \"\\\\n    \\\\n        \\\\n        \\\\n            Margaret Atwood\\\\n        \\\\n    \\\\n\", \"\\\\n    \\\\n        \\\\n        \\\\n            Edward Snowden\\\\n        \\\\n    \\\\n\", \"\\\\n    \\\\n        \\\\n        \\\\n            Van Ness, Jonathan\\\\n        \\\\n    \\\\n\", \"\\\\n    \\\\n        \\\\n        \\\\n            Chanel Miller\\\\n        \\\\n    \\\\n\", \"\\\\n    \\\\n        \\\\n        \\\\n            Ann Patchett\\\\n        \\\\n    \\\\n\", \"\\\\n    \\\\n        \\\\n        \\\\n            Dan Bongino\\\\n        \\\\n    \\\\n\", \"\\\\n    \\\\n        \\\\n        \\\\n            Bill O\\'Reilly\\\\n        \\\\n    \\\\n\", \"\\\\n    \\\\n        \\\\n        \\\\n            Robert Iger\\\\n        \\\\n    \\\\n\", \"\\\\n    \\\\n        \\\\n        \\\\n            Hillary Rodham Clinton\\\\n        \\\\n    \\\\n\", \"\\\\n    \\\\n        \\\\n        \\\\n            Chelsea Clinton\\\\n        \\\\n    \\\\n\", \"\\\\n    \\\\n        \\\\n        \\\\n            Rick Riordan\\\\n        \\\\n    \\\\n\"], \"book_price\": [\"16\", \".\", \"18\", \".\", \"0\", \".\", \"7\", \".\", \"17\", \".\", \"0\", \".\", \"18\", \".\", \"0\", \".\", \"17\", \".\", \"16\", \".\", \"14\", \".\", \"16\", \".\", \"16\", \".\", \"16\", \".\", \"21\", \".\", \"11\", \".\"], \"book_image_link\": [\"https://m.media-amazon.com/images/I/91fyn4n3R3L._AC_UY218_ML3_.jpg\", \"https://m.media-amazon.com/images/I/71cETK81pML._AC_UY218_ML3_.jpg\", \"https://m.media-amazon.com/images/I/8175e9I+FeL._AC_UY218_ML3_.jpg\", \"https://m.media-amazon.com/images/I/51rmgUYwLJL._AC_UY218_ML3_.jpg\", \"https://m.media-amazon.com/images/I/71x4baXyxvL._AC_UY218_ML3_.jpg\", \"https://m.media-amazon.com/images/I/71YyoTJC-eL._AC_UY218_ML3_.jpg\", \"https://m.media-amazon.com/images/I/A1opZLgQdoL._AC_UY218_ML3_.jpg\", \"https://m.media-amazon.com/images/I/81WtFHzH+hL._AC_UY218_ML3_.jpg\", \"https://m.media-amazon.com/images/I/81RFZOXtWnL._AC_UY218_ML3_.jpg\", \"https://m.media-amazon.com/images/I/715jJuJje+L._AC_UY218_ML3_.jpg\", \"https://m.media-amazon.com/images/I/81lCL0QrdbL._AC_UY218_ML3_.jpg\", \"https://m.media-amazon.com/images/I/71OSxoT-COL._AC_UY218_ML3_.jpg\", \"https://m.media-amazon.com/images/I/81Xp8TrxxQL._AC_UY218_ML3_.jpg\", \"https://m.media-amazon.com/images/I/81GppmH96wL._AC_UY218_ML3_.jpg\", \"https://m.media-amazon.com/images/I/710yrIeYA1L._AC_UY218_ML3_.jpg\", \"https://m.media-amazon.com/images/I/81+AhaPcYwL._AC_UY218_ML3_.jpg\"]}\\n', b'][\\n', b'{\"book_name\": [\"The Water Dancer (Oprah\\'s Book Club): A Novel\", \"Blowout: Corrupted Democracy, Rogue State Russia, and the Richest, Most Destructive  Industry on Earth\", \"Inside Out: A Memoir\", \"Guts\", \"The Testaments: The Sequel to The Handmaid\\'s Tale\", \"Talking to Strangers: What We Should Know About the People We Don\\'t Know\", \"Permanent Record\", \"The Institute: A Novel\", \"Over the Top: A Raw Journey to Self-Love\", \"Know My Name: A Memoir\", \"The Dutch House: A Novel\", \"Exonerated: The Failed Takedown of President Donald Trump by the Swamp\", \"The United States of Trump: How the President Really Sees America\", \"The Ride of a Lifetime: Lessons Learned from 15 Years as CEO of the Walt Disney Company\", \"The Book of Gutsy Women: Favorite\\\\u00a0Stories of Courage and Resilience\", \"The Tyrant\\'s Tomb (The Trials of Apollo, Book Four)\"], \"book_author\": [\"\\\\n    \\\\n        \\\\n        \\\\n            Ta-Nehisi Coates\\\\n        \\\\n    \\\\n\", \"\\\\n    \\\\n        \\\\n        \\\\n            Rachel Maddow\\\\n        \\\\n    \\\\n\", \"\\\\n    \\\\n        \\\\n        \\\\n            Raina Telgemeier\\\\n        \\\\n    \\\\n\", \"\\\\n    \\\\n        \\\\n        \\\\n            Margaret Atwood\\\\n        \\\\n    \\\\n\", \"\\\\n    \\\\n        \\\\n        \\\\n            Edward Snowden\\\\n        \\\\n    \\\\n\", \"\\\\n    \\\\n        \\\\n        \\\\n            Van Ness, Jonathan\\\\n        \\\\n    \\\\n\", \"\\\\n    \\\\n        \\\\n        \\\\n            Chanel Miller\\\\n        \\\\n    \\\\n\", \"\\\\n    \\\\n        \\\\n        \\\\n            Ann Patchett\\\\n        \\\\n    \\\\n\", \"\\\\n    \\\\n        \\\\n        \\\\n            Dan Bongino\\\\n        \\\\n    \\\\n\", \"\\\\n    \\\\n        \\\\n        \\\\n            Bill O\\'Reilly\\\\n        \\\\n    \\\\n\", \"\\\\n    \\\\n        \\\\n        \\\\n            Robert Iger\\\\n        \\\\n    \\\\n\", \"\\\\n    \\\\n        \\\\n        \\\\n            Hillary Rodham Clinton\\\\n        \\\\n    \\\\n\", \"\\\\n    \\\\n        \\\\n        \\\\n            Chelsea Clinton\\\\n        \\\\n    \\\\n\", \"\\\\n    \\\\n        \\\\n        \\\\n            Rick Riordan\\\\n        \\\\n    \\\\n\"], \"book_price\": [\"16\", \".\", \"18\", \".\", \"0\", \".\", \"7\", \".\", \"17\", \".\", \"0\", \".\", \"18\", \".\", \"0\", \".\", \"17\", \".\", \"16\", \".\", \"14\", \".\", \"16\", \".\", \"16\", \".\", \"16\", \".\", \"21\", \".\", \"11\", \".\"], \"book_image_link\": [\"https://m.media-amazon.com/images/I/91fyn4n3R3L._AC_UY218_ML3_.jpg\", \"https://m.media-amazon.com/images/I/71cETK81pML._AC_UY218_ML3_.jpg\", \"https://m.media-amazon.com/images/I/8175e9I+FeL._AC_UY218_ML3_.jpg\", \"https://m.media-amazon.com/images/I/51rmgUYwLJL._AC_UY218_ML3_.jpg\", \"https://m.media-amazon.com/images/I/71x4baXyxvL._AC_UY218_ML3_.jpg\", \"https://m.media-amazon.com/images/I/71YyoTJC-eL._AC_UY218_ML3_.jpg\", \"https://m.media-amazon.com/images/I/A1opZLgQdoL._AC_UY218_ML3_.jpg\", \"https://m.media-amazon.com/images/I/81WtFHzH+hL._AC_UY218_ML3_.jpg\", \"https://m.media-amazon.com/images/I/81RFZOXtWnL._AC_UY218_ML3_.jpg\", \"https://m.media-amazon.com/images/I/715jJuJje+L._AC_UY218_ML3_.jpg\", \"https://m.media-amazon.com/images/I/81lCL0QrdbL._AC_UY218_ML3_.jpg\", \"https://m.media-amazon.com/images/I/71OSxoT-COL._AC_UY218_ML3_.jpg\", \"https://m.media-amazon.com/images/I/81Xp8TrxxQL._AC_UY218_ML3_.jpg\", \"https://m.media-amazon.com/images/I/81GppmH96wL._AC_UY218_ML3_.jpg\", \"https://m.media-amazon.com/images/I/710yrIeYA1L._AC_UY218_ML3_.jpg\", \"https://m.media-amazon.com/images/I/81+AhaPcYwL._AC_UY218_ML3_.jpg\"]}\\n', b']']\n"
     ]
    }
   ],
   "source": [
    "with open('PythonLinks.json', 'rb') as f:\n",
    "    data = f.readlines()\n",
    "\n",
    "print (data)"
   ]
  },
  {
   "cell_type": "code",
   "execution_count": 7,
   "metadata": {},
   "outputs": [
    {
     "name": "stdout",
     "output_type": "stream",
     "text": [
      "                                                   0\n",
      "0                                             b'[\\n'\n",
      "1  b'{\"book_name\": [\"The Water Dancer (Oprah\\'s B...\n",
      "2                                            b'][\\n'\n",
      "3  b'{\"book_name\": [\"The Water Dancer (Oprah\\'s B...\n",
      "4                                               b']'\n"
     ]
    }
   ],
   "source": [
    "import pandas as pd\n",
    "print (pd.DataFrame(data))"
   ]
  }
 ],
 "metadata": {
  "kernelspec": {
   "display_name": "Python 3",
   "language": "python",
   "name": "python3"
  },
  "language_info": {
   "codemirror_mode": {
    "name": "ipython",
    "version": 3
   },
   "file_extension": ".py",
   "mimetype": "text/x-python",
   "name": "python",
   "nbconvert_exporter": "python",
   "pygments_lexer": "ipython3",
   "version": "3.7.3"
  }
 },
 "nbformat": 4,
 "nbformat_minor": 2
}

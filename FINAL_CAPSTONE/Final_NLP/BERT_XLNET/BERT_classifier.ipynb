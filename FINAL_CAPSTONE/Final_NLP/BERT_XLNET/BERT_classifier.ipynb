{
 "cells": [
  {
   "cell_type": "markdown",
   "metadata": {},
   "source": [
    "## This section is where I upload all of my cleaned tweets and turn them into tsv files for BERT/pytorch hugging face classifying."
   ]
  },
  {
   "cell_type": "code",
   "execution_count": 1,
   "metadata": {},
   "outputs": [],
   "source": [
    "import pandas as pd\n",
    "import string\n",
    "import nltk\n",
    "from numpy.random import RandomState\n",
    "wn = nltk.WordNetLemmatizer()\n",
    "import re\n",
    "prefix = 'data/'"
   ]
  },
  {
   "cell_type": "code",
   "execution_count": 2,
   "metadata": {},
   "outputs": [],
   "source": [
    "#load data\n",
    "df=pd.read_csv('data/cleaned_tweets.csv')\n",
    "#test_df = pd.read_csv(prefix + 'test.csv', header=None)"
   ]
  },
  {
   "cell_type": "code",
   "execution_count": 18,
   "metadata": {},
   "outputs": [
    {
     "data": {
      "text/html": [
       "<div>\n",
       "<style scoped>\n",
       "    .dataframe tbody tr th:only-of-type {\n",
       "        vertical-align: middle;\n",
       "    }\n",
       "\n",
       "    .dataframe tbody tr th {\n",
       "        vertical-align: top;\n",
       "    }\n",
       "\n",
       "    .dataframe thead th {\n",
       "        text-align: right;\n",
       "    }\n",
       "</style>\n",
       "<table border=\"1\" class=\"dataframe\">\n",
       "  <thead>\n",
       "    <tr style=\"text-align: right;\">\n",
       "      <th></th>\n",
       "      <th>Unnamed: 0</th>\n",
       "      <th>text</th>\n",
       "      <th>label</th>\n",
       "      <th>text_noURLs</th>\n",
       "      <th>text_punct</th>\n",
       "      <th>text_removeRT</th>\n",
       "      <th>tokenized</th>\n",
       "      <th>nonstop</th>\n",
       "      <th>Tweet_lemmatized</th>\n",
       "      <th>stemmed</th>\n",
       "      <th>remove_less_freq</th>\n",
       "      <th>remove_less_freq_lemma</th>\n",
       "      <th>document</th>\n",
       "      <th>document_lemma</th>\n",
       "      <th>document_stemmed</th>\n",
       "    </tr>\n",
       "  </thead>\n",
       "  <tbody>\n",
       "    <tr>\n",
       "      <td>0</td>\n",
       "      <td>0</td>\n",
       "      <td>The free flu jab is also available for people ...</td>\n",
       "      <td>0</td>\n",
       "      <td>The free flu jab is also available for people ...</td>\n",
       "      <td>The free flu jab is also available for people ...</td>\n",
       "      <td>The free flu jab  also available for people wi...</td>\n",
       "      <td>['the', 'free', 'flu', 'jab', 'also', 'availab...</td>\n",
       "      <td>['free', 'flu', 'jab', 'also', 'available', 'p...</td>\n",
       "      <td>['free', 'flu', 'jab', 'also', 'available', 'p...</td>\n",
       "      <td>['free', 'flu', 'jab', 'also', 'avail', 'peopl...</td>\n",
       "      <td>['free', 'jab', 'also', 'avail', 'peopl', 'cer...</td>\n",
       "      <td>['free', 'jab', 'also', 'certain']</td>\n",
       "      <td>free jab also avail peopl certain medic condit...</td>\n",
       "      <td>free flu jab also available people certain med...</td>\n",
       "      <td>free flu jab also avail peopl certain medic co...</td>\n",
       "    </tr>\n",
       "    <tr>\n",
       "      <td>1</td>\n",
       "      <td>1</td>\n",
       "      <td>RT @OUBarstool: “Baker deserved a national cha...</td>\n",
       "      <td>0</td>\n",
       "      <td>RT : “Baker deserved a national championship m...</td>\n",
       "      <td>RT  “Baker deserved a national championship mo...</td>\n",
       "      <td>“Baker deserved  national championship more ...</td>\n",
       "      <td>['', 'baker', 'deserved', 'national', 'champio...</td>\n",
       "      <td>['', 'baker', 'deserved', 'national', 'champio...</td>\n",
       "      <td>['', 'baker', 'deserved', 'national', 'champio...</td>\n",
       "      <td>['', 'baker', 'deserv', 'nation', 'championshi...</td>\n",
       "      <td>['deserv', 'nation', 'anyon', 'averag']</td>\n",
       "      <td>[]</td>\n",
       "      <td>deserv nation anyon averag</td>\n",
       "      <td>baker deserved national championship anyone p...</td>\n",
       "      <td>baker deserv nation championship anyon planet...</td>\n",
       "    </tr>\n",
       "  </tbody>\n",
       "</table>\n",
       "</div>"
      ],
      "text/plain": [
       "   Unnamed: 0                                               text  label  \\\n",
       "0           0  The free flu jab is also available for people ...      0   \n",
       "1           1  RT @OUBarstool: “Baker deserved a national cha...      0   \n",
       "\n",
       "                                         text_noURLs  \\\n",
       "0  The free flu jab is also available for people ...   \n",
       "1  RT : “Baker deserved a national championship m...   \n",
       "\n",
       "                                          text_punct  \\\n",
       "0  The free flu jab is also available for people ...   \n",
       "1  RT  “Baker deserved a national championship mo...   \n",
       "\n",
       "                                       text_removeRT  \\\n",
       "0  The free flu jab  also available for people wi...   \n",
       "1    “Baker deserved  national championship more ...   \n",
       "\n",
       "                                           tokenized  \\\n",
       "0  ['the', 'free', 'flu', 'jab', 'also', 'availab...   \n",
       "1  ['', 'baker', 'deserved', 'national', 'champio...   \n",
       "\n",
       "                                             nonstop  \\\n",
       "0  ['free', 'flu', 'jab', 'also', 'available', 'p...   \n",
       "1  ['', 'baker', 'deserved', 'national', 'champio...   \n",
       "\n",
       "                                    Tweet_lemmatized  \\\n",
       "0  ['free', 'flu', 'jab', 'also', 'available', 'p...   \n",
       "1  ['', 'baker', 'deserved', 'national', 'champio...   \n",
       "\n",
       "                                             stemmed  \\\n",
       "0  ['free', 'flu', 'jab', 'also', 'avail', 'peopl...   \n",
       "1  ['', 'baker', 'deserv', 'nation', 'championshi...   \n",
       "\n",
       "                                    remove_less_freq  \\\n",
       "0  ['free', 'jab', 'also', 'avail', 'peopl', 'cer...   \n",
       "1            ['deserv', 'nation', 'anyon', 'averag']   \n",
       "\n",
       "               remove_less_freq_lemma  \\\n",
       "0  ['free', 'jab', 'also', 'certain']   \n",
       "1                                  []   \n",
       "\n",
       "                                            document  \\\n",
       "0  free jab also avail peopl certain medic condit...   \n",
       "1                         deserv nation anyon averag   \n",
       "\n",
       "                                      document_lemma  \\\n",
       "0  free flu jab also available people certain med...   \n",
       "1   baker deserved national championship anyone p...   \n",
       "\n",
       "                                    document_stemmed  \n",
       "0  free flu jab also avail peopl certain medic co...  \n",
       "1   baker deserv nation championship anyon planet...  "
      ]
     },
     "execution_count": 18,
     "metadata": {},
     "output_type": "execute_result"
    }
   ],
   "source": [
    "df.head(2)"
   ]
  },
  {
   "cell_type": "code",
   "execution_count": 4,
   "metadata": {},
   "outputs": [],
   "source": [
    "# I'm using tweets with just simple cleaning. \n",
    "new= pd.DataFrame(df[['text_removeRT', 'label']]).reset_index(drop=True)"
   ]
  },
  {
   "cell_type": "code",
   "execution_count": 5,
   "metadata": {},
   "outputs": [],
   "source": [
    "# I know there's nan's in label section since I intentionally left it blank to try to achieve a more balance class\n",
    "#while manually labeling the data\n",
    "new.label.dropna(inplace=True)"
   ]
  },
  {
   "cell_type": "code",
   "execution_count": 6,
   "metadata": {},
   "outputs": [
    {
     "data": {
      "text/plain": [
       "0    3427\n",
       "1     896\n",
       "Name: label, dtype: int64"
      ]
     },
     "execution_count": 6,
     "metadata": {},
     "output_type": "execute_result"
    }
   ],
   "source": [
    "new.label.value_counts()"
   ]
  },
  {
   "cell_type": "code",
   "execution_count": 7,
   "metadata": {},
   "outputs": [
    {
     "data": {
      "text/html": [
       "<div>\n",
       "<style scoped>\n",
       "    .dataframe tbody tr th:only-of-type {\n",
       "        vertical-align: middle;\n",
       "    }\n",
       "\n",
       "    .dataframe tbody tr th {\n",
       "        vertical-align: top;\n",
       "    }\n",
       "\n",
       "    .dataframe thead th {\n",
       "        text-align: right;\n",
       "    }\n",
       "</style>\n",
       "<table border=\"1\" class=\"dataframe\">\n",
       "  <thead>\n",
       "    <tr style=\"text-align: right;\">\n",
       "      <th></th>\n",
       "      <th>text_removeRT</th>\n",
       "      <th>label</th>\n",
       "    </tr>\n",
       "  </thead>\n",
       "  <tbody>\n",
       "    <tr>\n",
       "      <td>0</td>\n",
       "      <td>The free flu jab  also available for people wi...</td>\n",
       "      <td>0</td>\n",
       "    </tr>\n",
       "    <tr>\n",
       "      <td>1</td>\n",
       "      <td>“Baker deserved  national championship more ...</td>\n",
       "      <td>0</td>\n",
       "    </tr>\n",
       "    <tr>\n",
       "      <td>2</td>\n",
       "      <td>Got  flu jab today  now   the office trying   ...</td>\n",
       "      <td>0</td>\n",
       "    </tr>\n",
       "    <tr>\n",
       "      <td>3</td>\n",
       "      <td>Hummm ive been with  headache for the last tw...</td>\n",
       "      <td>1</td>\n",
       "    </tr>\n",
       "    <tr>\n",
       "      <td>4</td>\n",
       "      <td>Throw the whole boyfriend away</td>\n",
       "      <td>0</td>\n",
       "    </tr>\n",
       "  </tbody>\n",
       "</table>\n",
       "</div>"
      ],
      "text/plain": [
       "                                       text_removeRT  label\n",
       "0  The free flu jab  also available for people wi...      0\n",
       "1    “Baker deserved  national championship more ...      0\n",
       "2  Got  flu jab today  now   the office trying   ...      0\n",
       "3   Hummm ive been with  headache for the last tw...      1\n",
       "4                     Throw the whole boyfriend away      0"
      ]
     },
     "execution_count": 7,
     "metadata": {},
     "output_type": "execute_result"
    }
   ],
   "source": [
    "new.head()"
   ]
  },
  {
   "cell_type": "code",
   "execution_count": 8,
   "metadata": {},
   "outputs": [],
   "source": [
    "#shuffling data\n",
    "new = new.sample(frac=1).reset_index(drop=True)"
   ]
  },
  {
   "cell_type": "code",
   "execution_count": 9,
   "metadata": {},
   "outputs": [],
   "source": [
    "# I want to split this data to get a test and train set\n",
    "rng = RandomState()\n",
    "\n",
    "df_train = new.sample(frac=0.70, random_state=rng)\n",
    "df_test = new.loc[~new.index.isin(df_train.index)]"
   ]
  },
  {
   "cell_type": "code",
   "execution_count": 10,
   "metadata": {},
   "outputs": [],
   "source": [
    "train= pd.DataFrame(df_train[['text_removeRT', 'label']]).reset_index(drop=True)"
   ]
  },
  {
   "cell_type": "code",
   "execution_count": 11,
   "metadata": {},
   "outputs": [
    {
     "name": "stdout",
     "output_type": "stream",
     "text": [
      "(3026, 2)\n",
      "(1297, 2)\n"
     ]
    }
   ],
   "source": [
    "print(df_train.shape)\n",
    "print(df_test.shape)"
   ]
  },
  {
   "cell_type": "markdown",
   "metadata": {},
   "source": [
    "## Converting files that BERT understand. It requires an ID, label, alpha and text columns. "
   ]
  },
  {
   "cell_type": "code",
   "execution_count": 12,
   "metadata": {},
   "outputs": [
    {
     "data": {
      "text/html": [
       "<div>\n",
       "<style scoped>\n",
       "    .dataframe tbody tr th:only-of-type {\n",
       "        vertical-align: middle;\n",
       "    }\n",
       "\n",
       "    .dataframe tbody tr th {\n",
       "        vertical-align: top;\n",
       "    }\n",
       "\n",
       "    .dataframe thead th {\n",
       "        text-align: right;\n",
       "    }\n",
       "</style>\n",
       "<table border=\"1\" class=\"dataframe\">\n",
       "  <thead>\n",
       "    <tr style=\"text-align: right;\">\n",
       "      <th></th>\n",
       "      <th>id</th>\n",
       "      <th>label</th>\n",
       "      <th>alpha</th>\n",
       "      <th>text</th>\n",
       "    </tr>\n",
       "  </thead>\n",
       "  <tbody>\n",
       "    <tr>\n",
       "      <td>0</td>\n",
       "      <td>0</td>\n",
       "      <td>0</td>\n",
       "      <td>a</td>\n",
       "      <td>Would you</td>\n",
       "    </tr>\n",
       "    <tr>\n",
       "      <td>1</td>\n",
       "      <td>1</td>\n",
       "      <td>0</td>\n",
       "      <td>a</td>\n",
       "      <td>amp ’ sick   😂</td>\n",
       "    </tr>\n",
       "    <tr>\n",
       "      <td>2</td>\n",
       "      <td>2</td>\n",
       "      <td>0</td>\n",
       "      <td>a</td>\n",
       "      <td>Being bed ridden with for  days has given  way...</td>\n",
       "    </tr>\n",
       "    <tr>\n",
       "      <td>3</td>\n",
       "      <td>3</td>\n",
       "      <td>1</td>\n",
       "      <td>a</td>\n",
       "      <td>love when  flu turns  bronchitis  really can’...</td>\n",
       "    </tr>\n",
       "    <tr>\n",
       "      <td>4</td>\n",
       "      <td>4</td>\n",
       "      <td>0</td>\n",
       "      <td>a</td>\n",
       "      <td>yeah sure use antibiotics  cure viral diseases...</td>\n",
       "    </tr>\n",
       "  </tbody>\n",
       "</table>\n",
       "</div>"
      ],
      "text/plain": [
       "   id  label alpha                                               text\n",
       "0   0      0     a                                      Would you    \n",
       "1   1      0     a                                     amp ’ sick   😂\n",
       "2   2      0     a  Being bed ridden with for  days has given  way...\n",
       "3   3      1     a   love when  flu turns  bronchitis  really can’...\n",
       "4   4      0     a  yeah sure use antibiotics  cure viral diseases..."
      ]
     },
     "execution_count": 12,
     "metadata": {},
     "output_type": "execute_result"
    }
   ],
   "source": [
    "train_df = pd.DataFrame({\n",
    "    'id':range(len(train)),\n",
    "    'label':train.iloc[:,-1],\n",
    "    'alpha':['a']*train.shape[0],\n",
    "    'text': train.iloc[:,-2].replace(r'\\n', ' ', regex=True)\n",
    "})\n",
    "\n",
    "train_df.head()"
   ]
  },
  {
   "cell_type": "code",
   "execution_count": 13,
   "metadata": {},
   "outputs": [
    {
     "data": {
      "text/plain": [
       "0    2389\n",
       "1     637\n",
       "Name: label, dtype: int64"
      ]
     },
     "execution_count": 13,
     "metadata": {},
     "output_type": "execute_result"
    }
   ],
   "source": [
    "train_df.label.value_counts()"
   ]
  },
  {
   "cell_type": "code",
   "execution_count": 14,
   "metadata": {},
   "outputs": [],
   "source": [
    "test= pd.DataFrame(df_test[['text_removeRT', 'label']]).reset_index()"
   ]
  },
  {
   "cell_type": "code",
   "execution_count": 15,
   "metadata": {},
   "outputs": [
    {
     "data": {
      "text/html": [
       "<div>\n",
       "<style scoped>\n",
       "    .dataframe tbody tr th:only-of-type {\n",
       "        vertical-align: middle;\n",
       "    }\n",
       "\n",
       "    .dataframe tbody tr th {\n",
       "        vertical-align: top;\n",
       "    }\n",
       "\n",
       "    .dataframe thead th {\n",
       "        text-align: right;\n",
       "    }\n",
       "</style>\n",
       "<table border=\"1\" class=\"dataframe\">\n",
       "  <thead>\n",
       "    <tr style=\"text-align: right;\">\n",
       "      <th></th>\n",
       "      <th>id</th>\n",
       "      <th>label</th>\n",
       "      <th>alpha</th>\n",
       "      <th>text</th>\n",
       "    </tr>\n",
       "  </thead>\n",
       "  <tbody>\n",
       "    <tr>\n",
       "      <td>0</td>\n",
       "      <td>0</td>\n",
       "      <td>0</td>\n",
       "      <td>a</td>\n",
       "      <td>either have the flu  food poisoning</td>\n",
       "    </tr>\n",
       "    <tr>\n",
       "      <td>1</td>\n",
       "      <td>1</td>\n",
       "      <td>0</td>\n",
       "      <td>a</td>\n",
       "      <td>bang</td>\n",
       "    </tr>\n",
       "    <tr>\n",
       "      <td>2</td>\n",
       "      <td>2</td>\n",
       "      <td>0</td>\n",
       "      <td>a</td>\n",
       "      <td>this  disgusting  faking  flu shot Especially ...</td>\n",
       "    </tr>\n",
       "    <tr>\n",
       "      <td>3</td>\n",
       "      <td>3</td>\n",
       "      <td>1</td>\n",
       "      <td>a</td>\n",
       "      <td>omg  have the flu too</td>\n",
       "    </tr>\n",
       "    <tr>\n",
       "      <td>4</td>\n",
       "      <td>4</td>\n",
       "      <td>0</td>\n",
       "      <td>a</td>\n",
       "      <td>‚¶</td>\n",
       "    </tr>\n",
       "  </tbody>\n",
       "</table>\n",
       "</div>"
      ],
      "text/plain": [
       "   id  label alpha                                               text\n",
       "0   0      0     a                either have the flu  food poisoning\n",
       "1   1      0     a                                               bang\n",
       "2   2      0     a  this  disgusting  faking  flu shot Especially ...\n",
       "3   3      1     a                             omg  have the flu too \n",
       "4   4      0     a                                                 ‚¶"
      ]
     },
     "execution_count": 15,
     "metadata": {},
     "output_type": "execute_result"
    }
   ],
   "source": [
    "dev_df = pd.DataFrame({\n",
    "    'id':range(len(test)),\n",
    "    'label':test.iloc[:,-1],\n",
    "    'alpha':['a']*test.shape[0],\n",
    "    'text': test.iloc[:,-2].replace(r'\\n', ' ', regex=True)\n",
    "})\n",
    "\n",
    "dev_df.head()"
   ]
  },
  {
   "cell_type": "code",
   "execution_count": 16,
   "metadata": {},
   "outputs": [
    {
     "data": {
      "text/plain": [
       "0    1038\n",
       "1     259\n",
       "Name: label, dtype: int64"
      ]
     },
     "execution_count": 16,
     "metadata": {},
     "output_type": "execute_result"
    }
   ],
   "source": [
    "dev_df.label.value_counts()"
   ]
  },
  {
   "cell_type": "markdown",
   "metadata": {},
   "source": [
    "## Saving data as TSV for BERT/XLNet to be able to read data. "
   ]
  },
  {
   "cell_type": "code",
   "execution_count": 17,
   "metadata": {},
   "outputs": [],
   "source": [
    "train_df.to_csv('data/train.tsv', sep='\\t', index=False, header=False)\n",
    "dev_df.to_csv('data/dev.tsv', sep='\\t', index=False, header=False)"
   ]
  }
 ],
 "metadata": {
  "kernelspec": {
   "display_name": "Python 3",
   "language": "python",
   "name": "python3"
  },
  "language_info": {
   "codemirror_mode": {
    "name": "ipython",
    "version": 3
   },
   "file_extension": ".py",
   "mimetype": "text/x-python",
   "name": "python",
   "nbconvert_exporter": "python",
   "pygments_lexer": "ipython3",
   "version": "3.7.3"
  }
 },
 "nbformat": 4,
 "nbformat_minor": 2
}

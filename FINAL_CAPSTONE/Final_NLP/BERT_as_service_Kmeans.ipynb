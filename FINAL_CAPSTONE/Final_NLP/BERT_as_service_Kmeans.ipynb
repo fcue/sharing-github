{
 "cells": [
  {
   "cell_type": "markdown",
   "metadata": {},
   "source": [
    "# Using BERT with K-means\n",
    "\n",
    "## Exploring to see if BERT with k-means will yield better clusters as opposed to just regular K-means with Tf-Idf from our other notebook."
   ]
  },
  {
   "cell_type": "code",
   "execution_count": 465,
   "metadata": {},
   "outputs": [],
   "source": [
    "# Connected to Bert-as-service server for sentence embeddings\n",
    "from bert_serving.client import BertClient\n",
    "import pandas as pd\n",
    "from sklearn.cluster import KMeans\n",
    "import numpy as np\n"
   ]
  },
  {
   "cell_type": "code",
   "execution_count": 356,
   "metadata": {},
   "outputs": [],
   "source": [
    "#loading cleaned tweets\n",
    "df= pd.read_csv('cleaned_tweets.csv', index_col=False)\n",
    "df.dropna(inplace=True)"
   ]
  },
  {
   "cell_type": "code",
   "execution_count": 357,
   "metadata": {},
   "outputs": [],
   "source": [
    "df.reset_index(drop=True, inplace=True)"
   ]
  },
  {
   "cell_type": "code",
   "execution_count": 466,
   "metadata": {},
   "outputs": [
    {
     "data": {
      "text/plain": [
       "0                        full practic today miss game due\n",
       "1                 pneumonia danger guy flu look job manag\n",
       "2       ive lost pound less week due time ive get sick...\n",
       "3                     actual whole way felt last time flu\n",
       "4                      find famili need babi mom take med\n",
       "                              ...                        \n",
       "1941                               insulin also enjoy flu\n",
       "1942    stream tonight go get sleep gotta get flu auto...\n",
       "1943        flu kill white blood cell one job pleas start\n",
       "1944             sit librari hour think healthi sorri man\n",
       "1945                      took week flu put back bullshit\n",
       "Name: document, Length: 1946, dtype: object"
      ]
     },
     "execution_count": 466,
     "metadata": {},
     "output_type": "execute_result"
    }
   ],
   "source": [
    "#looking at the cleaned column of tweets we are interested in\n",
    "df.document"
   ]
  },
  {
   "cell_type": "code",
   "execution_count": 330,
   "metadata": {},
   "outputs": [
    {
     "data": {
      "text/plain": [
       "['full practic today miss game due',\n",
       " 'pneumonia danger guy flu look job manag',\n",
       " 'ive lost pound less week due time ive get sick symptom seem',\n",
       " 'actual whole way felt last time flu',\n",
       " 'find famili need babi mom take med',\n",
       " 'havent singl flu shot vaccin kid import diseas',\n",
       " 'feel like tweet normal get test mean gonna around',\n",
       " 'stream tonight still super sick still pretti bad also arm hurt',\n",
       " 'got fluvaccin know didnt detain ice despit free',\n",
       " 'flu season folk wash gym',\n",
       " 'back get last round vaccin bet get shot med',\n",
       " 'could get paid catch flu',\n",
       " 'shit gone today stomach flu like actual fuck',\n",
       " 'flu season flu short market',\n",
       " 'take one team part reason love guy fuck']"
      ]
     },
     "execution_count": 330,
     "metadata": {},
     "output_type": "execute_result"
    }
   ],
   "source": [
    "# transforming into a corpus for reading into Bert Client encoder\n",
    "corpus=[]\n",
    "a=[]\n",
    "for i in range(len(df['document'])):\n",
    "        a=df['document'][i]\n",
    "        corpus.append(a)\n",
    "        \n",
    "corpus[0:15]"
   ]
  },
  {
   "cell_type": "markdown",
   "metadata": {},
   "source": [
    "## Running our Bert_as_service to get embeddings"
   ]
  },
  {
   "cell_type": "code",
   "execution_count": 361,
   "metadata": {},
   "outputs": [],
   "source": [
    "bc = BertClient(check_length=False)\n",
    "vectors= bc.encode(['corpus'])"
   ]
  },
  {
   "cell_type": "code",
   "execution_count": 386,
   "metadata": {},
   "outputs": [
    {
     "data": {
      "text/plain": [
       "(768, 1)"
      ]
     },
     "execution_count": 386,
     "metadata": {},
     "output_type": "execute_result"
    }
   ],
   "source": [
    "#X = vectors.reshape(vectors.shape[1:])\n",
    "X= vectors.reshape(-1, 1)\n",
    "y= df.label\n",
    "\n",
    "X.shape"
   ]
  },
  {
   "cell_type": "code",
   "execution_count": null,
   "metadata": {},
   "outputs": [],
   "source": [
    "# tried splitting data but shapes of X and y and not the same\n",
    "from sklearn.model_selection import train_test_split  \n",
    "X_train, X_test, y_train, y_test = train_test_split(X, y, test_size=0.2, random_state=0)"
   ]
  },
  {
   "cell_type": "code",
   "execution_count": null,
   "metadata": {},
   "outputs": [],
   "source": [
    "X = np.asarray([ 1994.,  1995.,  1996.,  1997.,  1998.,  1999.])\n",
    "y = np.asarray([1.2, 2.3, 3.4, 4.5, 5.6, 6.7])"
   ]
  },
  {
   "cell_type": "code",
   "execution_count": 387,
   "metadata": {},
   "outputs": [],
   "source": [
    "km = KMeans(20)\n",
    "km.fit(X)\n",
    "clusters = km.labels_.tolist()"
   ]
  },
  {
   "cell_type": "code",
   "execution_count": 364,
   "metadata": {},
   "outputs": [],
   "source": [
    "cost=[]\n",
    "for i in range(1,20):\n",
    "    kmean= KMeans(i)\n",
    "    kmean.fit(X)\n",
    "    cost.append(kmean.inertia_)"
   ]
  },
  {
   "cell_type": "code",
   "execution_count": 365,
   "metadata": {},
   "outputs": [
    {
     "data": {
      "image/png": "[encoded data removed]",
      "text/plain": [
       "<Figure size 432x288 with 1 Axes>"
      ]
     },
     "metadata": {
      "needs_background": "light"
     },
     "output_type": "display_data"
    }
   ],
   "source": [
    "plt.plot(cost, 'bx-')\n",
    "plt.title('Elbow Method')\n",
    "plt.show()"
   ]
  },
  {
   "cell_type": "markdown",
   "metadata": {},
   "source": [
    "## Choosing number of topics here based on our elbow plot"
   ]
  },
  {
   "cell_type": "code",
   "execution_count": 425,
   "metadata": {},
   "outputs": [],
   "source": [
    "kmean= KMeans(5)\n",
    "kmean.fit(X)\n",
    "labels=kmean.labels_"
   ]
  },
  {
   "cell_type": "code",
   "execution_count": 426,
   "metadata": {},
   "outputs": [
    {
     "data": {
      "text/html": [
       "<div>\n",
       "<style scoped>\n",
       "    .dataframe tbody tr th:only-of-type {\n",
       "        vertical-align: middle;\n",
       "    }\n",
       "\n",
       "    .dataframe tbody tr th {\n",
       "        vertical-align: top;\n",
       "    }\n",
       "\n",
       "    .dataframe thead th {\n",
       "        text-align: right;\n",
       "    }\n",
       "</style>\n",
       "<table border=\"1\" class=\"dataframe\">\n",
       "  <thead>\n",
       "    <tr style=\"text-align: right;\">\n",
       "      <th></th>\n",
       "      <th>Unnamed: 0</th>\n",
       "      <th>text</th>\n",
       "      <th>label</th>\n",
       "      <th>text_noURLs</th>\n",
       "      <th>text_punct</th>\n",
       "      <th>text_removeRT</th>\n",
       "      <th>tokenized</th>\n",
       "      <th>nonstop</th>\n",
       "      <th>Tweet_lemmatized</th>\n",
       "      <th>stemmed</th>\n",
       "      <th>remove_less_freq</th>\n",
       "      <th>remove_less_freq_lemma</th>\n",
       "      <th>document</th>\n",
       "      <th>document_lemma</th>\n",
       "      <th>document_stemmed</th>\n",
       "      <th>cluster</th>\n",
       "    </tr>\n",
       "  </thead>\n",
       "  <tbody>\n",
       "    <tr>\n",
       "      <td>0</td>\n",
       "      <td>0</td>\n",
       "      <td>RT @HockeyinVegas: The @GoldenKnights'  Marc-A...</td>\n",
       "      <td>0.0</td>\n",
       "      <td>RT : The '  Marc-Andre Fleury was a full parti...</td>\n",
       "      <td>RT  The   MarcAndre Fleury was a full particip...</td>\n",
       "      <td>The   MarcAndre Fleury was  full participant...</td>\n",
       "      <td>['', 'the', 'marcandre', 'fleury', 'was', 'ful...</td>\n",
       "      <td>['', 'marcandre', 'fleury', 'full', 'participa...</td>\n",
       "      <td>['', 'marcandre', 'fleury', 'full', 'participa...</td>\n",
       "      <td>['', 'marcandr', 'fleuri', 'full', 'particip',...</td>\n",
       "      <td>['full', 'practic', 'today', 'miss', 'game', '...</td>\n",
       "      <td>['full', 'today', 'game', 'due']</td>\n",
       "      <td>full practic today miss game due</td>\n",
       "      <td>marcandre fleury full participant practice to...</td>\n",
       "      <td>marcandr fleuri full particip practic today m...</td>\n",
       "      <td>2.0</td>\n",
       "    </tr>\n",
       "    <tr>\n",
       "      <td>1</td>\n",
       "      <td>1</td>\n",
       "      <td>Pneumonia is dangerous guys it’s not the flu ,...</td>\n",
       "      <td>0.0</td>\n",
       "      <td>Pneumonia is dangerous guys it’s not the flu ,...</td>\n",
       "      <td>Pneumonia is dangerous guys it’s not the flu  ...</td>\n",
       "      <td>Pneumonia  dangerous guys ’ not the flu  look ...</td>\n",
       "      <td>['pneumonia', 'dangerous', 'guys', 'not', 'the...</td>\n",
       "      <td>['pneumonia', 'dangerous', 'guys', 'flu', 'loo...</td>\n",
       "      <td>['pneumonia', 'dangerous', 'guy', 'flu', 'look...</td>\n",
       "      <td>['pneumonia', 'danger', 'guy', 'flu', 'look', ...</td>\n",
       "      <td>['pneumonia', 'danger', 'guy', 'flu', 'look', ...</td>\n",
       "      <td>['pneumonia', 'guy', 'flu', 'look', 'job']</td>\n",
       "      <td>pneumonia danger guy flu look job manag</td>\n",
       "      <td>pneumonia dangerous guy flu look job manager r...</td>\n",
       "      <td>pneumonia danger guy flu look job manag replac...</td>\n",
       "      <td>2.0</td>\n",
       "    </tr>\n",
       "    <tr>\n",
       "      <td>2</td>\n",
       "      <td>2</td>\n",
       "      <td>I've lost 10 pounds in less than a week due to...</td>\n",
       "      <td>1.0</td>\n",
       "      <td>I've lost 10 pounds in less than a week due to...</td>\n",
       "      <td>Ive lost  pounds in less than a week due to th...</td>\n",
       "      <td>Ive lost  pounds  less than  week due  the amo...</td>\n",
       "      <td>['ive', 'lost', 'pounds', 'less', 'than', 'wee...</td>\n",
       "      <td>['ive', 'lost', 'pounds', 'less', 'week', 'due...</td>\n",
       "      <td>['ive', 'lost', 'pound', 'le', 'week', 'due', ...</td>\n",
       "      <td>['ive', 'lost', 'pound', 'less', 'week', 'due'...</td>\n",
       "      <td>['ive', 'lost', 'pound', 'less', 'week', 'due'...</td>\n",
       "      <td>['ive', 'lost', 'pound', 'week', 'due', 'time'...</td>\n",
       "      <td>ive lost pound less week due time ive get sick...</td>\n",
       "      <td>ive lost pound le week due amount time ive get...</td>\n",
       "      <td>ive lost pound less week due amount time ive g...</td>\n",
       "      <td>2.0</td>\n",
       "    </tr>\n",
       "    <tr>\n",
       "      <td>3</td>\n",
       "      <td>3</td>\n",
       "      <td>RT @greatestjubilee: there was actually a whol...</td>\n",
       "      <td>0.0</td>\n",
       "      <td>RT : there was actually a whole compilation of...</td>\n",
       "      <td>RT  there was actually a whole compilation of ...</td>\n",
       "      <td>there was actually  whole compilation  ways ...</td>\n",
       "      <td>['', 'there', 'was', 'actually', 'whole', 'com...</td>\n",
       "      <td>['', 'actually', 'whole', 'compilation', 'ways...</td>\n",
       "      <td>['', 'actually', 'whole', 'compilation', 'way'...</td>\n",
       "      <td>['', 'actual', 'whole', 'compil', 'way', 'felt...</td>\n",
       "      <td>['actual', 'whole', 'way', 'felt', 'last', 'ti...</td>\n",
       "      <td>['whole', 'way', 'felt', 'last', 'time', 'flu']</td>\n",
       "      <td>actual whole way felt last time flu</td>\n",
       "      <td>actually whole compilation way felt last time...</td>\n",
       "      <td>actual whole compil way felt last time flu</td>\n",
       "      <td>2.0</td>\n",
       "    </tr>\n",
       "    <tr>\n",
       "      <td>4</td>\n",
       "      <td>4</td>\n",
       "      <td>RT @hitchcockherd: You can find a family in ne...</td>\n",
       "      <td>0.0</td>\n",
       "      <td>RT : You can find a family in need (whether it...</td>\n",
       "      <td>RT  You can find a family in need whether its ...</td>\n",
       "      <td>You can find  family  need whether its  baby...</td>\n",
       "      <td>['', 'you', 'can', 'find', 'family', 'need', '...</td>\n",
       "      <td>['', 'find', 'family', 'need', 'whether', 'bab...</td>\n",
       "      <td>['', 'find', 'family', 'need', 'whether', 'bab...</td>\n",
       "      <td>['', 'find', 'famili', 'need', 'whether', 'bab...</td>\n",
       "      <td>['find', 'famili', 'need', 'babi', 'mom', 'tak...</td>\n",
       "      <td>['find', 'need', 'mom', 'med']</td>\n",
       "      <td>find famili need babi mom take med</td>\n",
       "      <td>find family need whether baby adopted fostere...</td>\n",
       "      <td>find famili need whether babi adopt foster mo...</td>\n",
       "      <td>3.0</td>\n",
       "    </tr>\n",
       "  </tbody>\n",
       "</table>\n",
       "</div>"
      ],
      "text/plain": [
       "   Unnamed: 0                                               text  label  \\\n",
       "0           0  RT @HockeyinVegas: The @GoldenKnights'  Marc-A...    0.0   \n",
       "1           1  Pneumonia is dangerous guys it’s not the flu ,...    0.0   \n",
       "2           2  I've lost 10 pounds in less than a week due to...    1.0   \n",
       "3           3  RT @greatestjubilee: there was actually a whol...    0.0   \n",
       "4           4  RT @hitchcockherd: You can find a family in ne...    0.0   \n",
       "\n",
       "                                         text_noURLs  \\\n",
       "0  RT : The '  Marc-Andre Fleury was a full parti...   \n",
       "1  Pneumonia is dangerous guys it’s not the flu ,...   \n",
       "2  I've lost 10 pounds in less than a week due to...   \n",
       "3  RT : there was actually a whole compilation of...   \n",
       "4  RT : You can find a family in need (whether it...   \n",
       "\n",
       "                                          text_punct  \\\n",
       "0  RT  The   MarcAndre Fleury was a full particip...   \n",
       "1  Pneumonia is dangerous guys it’s not the flu  ...   \n",
       "2  Ive lost  pounds in less than a week due to th...   \n",
       "3  RT  there was actually a whole compilation of ...   \n",
       "4  RT  You can find a family in need whether its ...   \n",
       "\n",
       "                                       text_removeRT  \\\n",
       "0    The   MarcAndre Fleury was  full participant...   \n",
       "1  Pneumonia  dangerous guys ’ not the flu  look ...   \n",
       "2  Ive lost  pounds  less than  week due  the amo...   \n",
       "3    there was actually  whole compilation  ways ...   \n",
       "4    You can find  family  need whether its  baby...   \n",
       "\n",
       "                                           tokenized  \\\n",
       "0  ['', 'the', 'marcandre', 'fleury', 'was', 'ful...   \n",
       "1  ['pneumonia', 'dangerous', 'guys', 'not', 'the...   \n",
       "2  ['ive', 'lost', 'pounds', 'less', 'than', 'wee...   \n",
       "3  ['', 'there', 'was', 'actually', 'whole', 'com...   \n",
       "4  ['', 'you', 'can', 'find', 'family', 'need', '...   \n",
       "\n",
       "                                             nonstop  \\\n",
       "0  ['', 'marcandre', 'fleury', 'full', 'participa...   \n",
       "1  ['pneumonia', 'dangerous', 'guys', 'flu', 'loo...   \n",
       "2  ['ive', 'lost', 'pounds', 'less', 'week', 'due...   \n",
       "3  ['', 'actually', 'whole', 'compilation', 'ways...   \n",
       "4  ['', 'find', 'family', 'need', 'whether', 'bab...   \n",
       "\n",
       "                                    Tweet_lemmatized  \\\n",
       "0  ['', 'marcandre', 'fleury', 'full', 'participa...   \n",
       "1  ['pneumonia', 'dangerous', 'guy', 'flu', 'look...   \n",
       "2  ['ive', 'lost', 'pound', 'le', 'week', 'due', ...   \n",
       "3  ['', 'actually', 'whole', 'compilation', 'way'...   \n",
       "4  ['', 'find', 'family', 'need', 'whether', 'bab...   \n",
       "\n",
       "                                             stemmed  \\\n",
       "0  ['', 'marcandr', 'fleuri', 'full', 'particip',...   \n",
       "1  ['pneumonia', 'danger', 'guy', 'flu', 'look', ...   \n",
       "2  ['ive', 'lost', 'pound', 'less', 'week', 'due'...   \n",
       "3  ['', 'actual', 'whole', 'compil', 'way', 'felt...   \n",
       "4  ['', 'find', 'famili', 'need', 'whether', 'bab...   \n",
       "\n",
       "                                    remove_less_freq  \\\n",
       "0  ['full', 'practic', 'today', 'miss', 'game', '...   \n",
       "1  ['pneumonia', 'danger', 'guy', 'flu', 'look', ...   \n",
       "2  ['ive', 'lost', 'pound', 'less', 'week', 'due'...   \n",
       "3  ['actual', 'whole', 'way', 'felt', 'last', 'ti...   \n",
       "4  ['find', 'famili', 'need', 'babi', 'mom', 'tak...   \n",
       "\n",
       "                              remove_less_freq_lemma  \\\n",
       "0                   ['full', 'today', 'game', 'due']   \n",
       "1         ['pneumonia', 'guy', 'flu', 'look', 'job']   \n",
       "2  ['ive', 'lost', 'pound', 'week', 'due', 'time'...   \n",
       "3    ['whole', 'way', 'felt', 'last', 'time', 'flu']   \n",
       "4                     ['find', 'need', 'mom', 'med']   \n",
       "\n",
       "                                            document  \\\n",
       "0                   full practic today miss game due   \n",
       "1            pneumonia danger guy flu look job manag   \n",
       "2  ive lost pound less week due time ive get sick...   \n",
       "3                actual whole way felt last time flu   \n",
       "4                 find famili need babi mom take med   \n",
       "\n",
       "                                      document_lemma  \\\n",
       "0   marcandre fleury full participant practice to...   \n",
       "1  pneumonia dangerous guy flu look job manager r...   \n",
       "2  ive lost pound le week due amount time ive get...   \n",
       "3   actually whole compilation way felt last time...   \n",
       "4   find family need whether baby adopted fostere...   \n",
       "\n",
       "                                    document_stemmed  cluster  \n",
       "0   marcandr fleuri full particip practic today m...      2.0  \n",
       "1  pneumonia danger guy flu look job manag replac...      2.0  \n",
       "2  ive lost pound less week due amount time ive g...      2.0  \n",
       "3        actual whole compil way felt last time flu       2.0  \n",
       "4   find famili need whether babi adopt foster mo...      3.0  "
      ]
     },
     "execution_count": 426,
     "metadata": {},
     "output_type": "execute_result"
    }
   ],
   "source": [
    "clusters=pd.concat([df, pd.DataFrame({'cluster':labels})], axis=1)\n",
    "clusters.head()"
   ]
  },
  {
   "cell_type": "code",
   "execution_count": 399,
   "metadata": {},
   "outputs": [
    {
     "data": {
      "text/plain": [
       "(1946, 16)"
      ]
     },
     "execution_count": 399,
     "metadata": {},
     "output_type": "execute_result"
    }
   ],
   "source": [
    "clusters.shape"
   ]
  },
  {
   "cell_type": "markdown",
   "metadata": {},
   "source": [
    "## Interpreting our clusters"
   ]
  },
  {
   "cell_type": "code",
   "execution_count": 467,
   "metadata": {},
   "outputs": [
    {
     "ename": "ValueError",
     "evalue": "color kwarg must have one color per data set. 274 data sets and 1 colors were provided",
     "output_type": "error",
     "traceback": [
      "\u001b[0;31m---------------------------------------------------------------------------\u001b[0m",
      "\u001b[0;31mValueError\u001b[0m                                Traceback (most recent call last)",
      "\u001b[0;32m<ipython-input-467-d99253046676>\u001b[0m in \u001b[0;36m<module>\u001b[0;34m\u001b[0m\n\u001b[1;32m      3\u001b[0m \u001b[0;32mfor\u001b[0m \u001b[0mc\u001b[0m \u001b[0;32min\u001b[0m \u001b[0mclusters\u001b[0m\u001b[0;34m:\u001b[0m\u001b[0;34m\u001b[0m\u001b[0;34m\u001b[0m\u001b[0m\n\u001b[1;32m      4\u001b[0m     \u001b[0mgrid\u001b[0m\u001b[0;34m=\u001b[0m \u001b[0msns\u001b[0m\u001b[0;34m.\u001b[0m\u001b[0mFacetGrid\u001b[0m\u001b[0;34m(\u001b[0m\u001b[0mclusters\u001b[0m\u001b[0;34m,\u001b[0m \u001b[0mcol\u001b[0m\u001b[0;34m=\u001b[0m\u001b[0;34m'cluster'\u001b[0m\u001b[0;34m,\u001b[0m \u001b[0mcol_wrap\u001b[0m\u001b[0;34m=\u001b[0m\u001b[0;36m2\u001b[0m\u001b[0;34m,\u001b[0m \u001b[0mheight\u001b[0m\u001b[0;34m=\u001b[0m\u001b[0;36m4\u001b[0m\u001b[0;34m)\u001b[0m\u001b[0;34m\u001b[0m\u001b[0;34m\u001b[0m\u001b[0m\n\u001b[0;32m----> 5\u001b[0;31m     \u001b[0mgrid\u001b[0m\u001b[0;34m.\u001b[0m\u001b[0mmap\u001b[0m\u001b[0;34m(\u001b[0m\u001b[0mplt\u001b[0m\u001b[0;34m.\u001b[0m\u001b[0mhist\u001b[0m\u001b[0;34m,\u001b[0m \u001b[0mc\u001b[0m\u001b[0;34m)\u001b[0m\u001b[0;34m\u001b[0m\u001b[0;34m\u001b[0m\u001b[0m\n\u001b[0m",
      "\u001b[0;32m/Library/Frameworks/Python.framework/Versions/3.7/lib/python3.7/site-packages/seaborn/axisgrid.py\u001b[0m in \u001b[0;36mmap\u001b[0;34m(self, func, *args, **kwargs)\u001b[0m\n\u001b[1;32m    752\u001b[0m \u001b[0;34m\u001b[0m\u001b[0m\n\u001b[1;32m    753\u001b[0m             \u001b[0;31m# Draw the plot\u001b[0m\u001b[0;34m\u001b[0m\u001b[0;34m\u001b[0m\u001b[0;34m\u001b[0m\u001b[0m\n\u001b[0;32m--> 754\u001b[0;31m             \u001b[0mself\u001b[0m\u001b[0;34m.\u001b[0m\u001b[0m_facet_plot\u001b[0m\u001b[0;34m(\u001b[0m\u001b[0mfunc\u001b[0m\u001b[0;34m,\u001b[0m \u001b[0max\u001b[0m\u001b[0;34m,\u001b[0m \u001b[0mplot_args\u001b[0m\u001b[0;34m,\u001b[0m \u001b[0mkwargs\u001b[0m\u001b[0;34m)\u001b[0m\u001b[0;34m\u001b[0m\u001b[0;34m\u001b[0m\u001b[0m\n\u001b[0m\u001b[1;32m    755\u001b[0m \u001b[0;34m\u001b[0m\u001b[0m\n\u001b[1;32m    756\u001b[0m         \u001b[0;31m# Finalize the annotations and layout\u001b[0m\u001b[0;34m\u001b[0m\u001b[0;34m\u001b[0m\u001b[0;34m\u001b[0m\u001b[0m\n",
      "\u001b[0;32m/Library/Frameworks/Python.framework/Versions/3.7/lib/python3.7/site-packages/seaborn/axisgrid.py\u001b[0m in \u001b[0;36m_facet_plot\u001b[0;34m(self, func, ax, plot_args, plot_kwargs)\u001b[0m\n\u001b[1;32m    836\u001b[0m \u001b[0;34m\u001b[0m\u001b[0m\n\u001b[1;32m    837\u001b[0m         \u001b[0;31m# Draw the plot\u001b[0m\u001b[0;34m\u001b[0m\u001b[0;34m\u001b[0m\u001b[0;34m\u001b[0m\u001b[0m\n\u001b[0;32m--> 838\u001b[0;31m         \u001b[0mfunc\u001b[0m\u001b[0;34m(\u001b[0m\u001b[0;34m*\u001b[0m\u001b[0mplot_args\u001b[0m\u001b[0;34m,\u001b[0m \u001b[0;34m**\u001b[0m\u001b[0mplot_kwargs\u001b[0m\u001b[0;34m)\u001b[0m\u001b[0;34m\u001b[0m\u001b[0;34m\u001b[0m\u001b[0m\n\u001b[0m\u001b[1;32m    839\u001b[0m \u001b[0;34m\u001b[0m\u001b[0m\n\u001b[1;32m    840\u001b[0m         \u001b[0;31m# Sort out the supporting information\u001b[0m\u001b[0;34m\u001b[0m\u001b[0;34m\u001b[0m\u001b[0;34m\u001b[0m\u001b[0m\n",
      "\u001b[0;32m/Library/Frameworks/Python.framework/Versions/3.7/lib/python3.7/site-packages/matplotlib/pyplot.py\u001b[0m in \u001b[0;36mhist\u001b[0;34m(x, bins, range, density, weights, cumulative, bottom, histtype, align, orientation, rwidth, log, color, label, stacked, normed, data, **kwargs)\u001b[0m\n\u001b[1;32m   2657\u001b[0m         \u001b[0malign\u001b[0m\u001b[0;34m=\u001b[0m\u001b[0malign\u001b[0m\u001b[0;34m,\u001b[0m \u001b[0morientation\u001b[0m\u001b[0;34m=\u001b[0m\u001b[0morientation\u001b[0m\u001b[0;34m,\u001b[0m \u001b[0mrwidth\u001b[0m\u001b[0;34m=\u001b[0m\u001b[0mrwidth\u001b[0m\u001b[0;34m,\u001b[0m \u001b[0mlog\u001b[0m\u001b[0;34m=\u001b[0m\u001b[0mlog\u001b[0m\u001b[0;34m,\u001b[0m\u001b[0;34m\u001b[0m\u001b[0;34m\u001b[0m\u001b[0m\n\u001b[1;32m   2658\u001b[0m         \u001b[0mcolor\u001b[0m\u001b[0;34m=\u001b[0m\u001b[0mcolor\u001b[0m\u001b[0;34m,\u001b[0m \u001b[0mlabel\u001b[0m\u001b[0;34m=\u001b[0m\u001b[0mlabel\u001b[0m\u001b[0;34m,\u001b[0m \u001b[0mstacked\u001b[0m\u001b[0;34m=\u001b[0m\u001b[0mstacked\u001b[0m\u001b[0;34m,\u001b[0m \u001b[0mnormed\u001b[0m\u001b[0;34m=\u001b[0m\u001b[0mnormed\u001b[0m\u001b[0;34m,\u001b[0m\u001b[0;34m\u001b[0m\u001b[0;34m\u001b[0m\u001b[0m\n\u001b[0;32m-> 2659\u001b[0;31m         **({\"data\": data} if data is not None else {}), **kwargs)\n\u001b[0m\u001b[1;32m   2660\u001b[0m \u001b[0;34m\u001b[0m\u001b[0m\n\u001b[1;32m   2661\u001b[0m \u001b[0;34m\u001b[0m\u001b[0m\n",
      "\u001b[0;32m/Library/Frameworks/Python.framework/Versions/3.7/lib/python3.7/site-packages/matplotlib/__init__.py\u001b[0m in \u001b[0;36minner\u001b[0;34m(ax, data, *args, **kwargs)\u001b[0m\n\u001b[1;32m   1808\u001b[0m                         \u001b[0;34m\"the Matplotlib list!)\"\u001b[0m \u001b[0;34m%\u001b[0m \u001b[0;34m(\u001b[0m\u001b[0mlabel_namer\u001b[0m\u001b[0;34m,\u001b[0m \u001b[0mfunc\u001b[0m\u001b[0;34m.\u001b[0m\u001b[0m__name__\u001b[0m\u001b[0;34m)\u001b[0m\u001b[0;34m,\u001b[0m\u001b[0;34m\u001b[0m\u001b[0;34m\u001b[0m\u001b[0m\n\u001b[1;32m   1809\u001b[0m                         RuntimeWarning, stacklevel=2)\n\u001b[0;32m-> 1810\u001b[0;31m             \u001b[0;32mreturn\u001b[0m \u001b[0mfunc\u001b[0m\u001b[0;34m(\u001b[0m\u001b[0max\u001b[0m\u001b[0;34m,\u001b[0m \u001b[0;34m*\u001b[0m\u001b[0margs\u001b[0m\u001b[0;34m,\u001b[0m \u001b[0;34m**\u001b[0m\u001b[0mkwargs\u001b[0m\u001b[0;34m)\u001b[0m\u001b[0;34m\u001b[0m\u001b[0;34m\u001b[0m\u001b[0m\n\u001b[0m\u001b[1;32m   1811\u001b[0m \u001b[0;34m\u001b[0m\u001b[0m\n\u001b[1;32m   1812\u001b[0m         inner.__doc__ = _add_data_doc(inner.__doc__,\n",
      "\u001b[0;32m/Library/Frameworks/Python.framework/Versions/3.7/lib/python3.7/site-packages/matplotlib/axes/_axes.py\u001b[0m in \u001b[0;36mhist\u001b[0;34m(self, x, bins, range, density, weights, cumulative, bottom, histtype, align, orientation, rwidth, log, color, label, stacked, normed, **kwargs)\u001b[0m\n\u001b[1;32m   6563\u001b[0m                     \u001b[0;34m\"color kwarg must have one color per data set. %d data \"\u001b[0m\u001b[0;34m\u001b[0m\u001b[0;34m\u001b[0m\u001b[0m\n\u001b[1;32m   6564\u001b[0m                     \"sets and %d colors were provided\" % (nx, len(color)))\n\u001b[0;32m-> 6565\u001b[0;31m                 \u001b[0;32mraise\u001b[0m \u001b[0mValueError\u001b[0m\u001b[0;34m(\u001b[0m\u001b[0merror_message\u001b[0m\u001b[0;34m)\u001b[0m\u001b[0;34m\u001b[0m\u001b[0;34m\u001b[0m\u001b[0m\n\u001b[0m\u001b[1;32m   6566\u001b[0m \u001b[0;34m\u001b[0m\u001b[0m\n\u001b[1;32m   6567\u001b[0m         \u001b[0;31m# If bins are not specified either explicitly or via range,\u001b[0m\u001b[0;34m\u001b[0m\u001b[0;34m\u001b[0m\u001b[0;34m\u001b[0m\u001b[0m\n",
      "\u001b[0;31mValueError\u001b[0m: color kwarg must have one color per data set. 274 data sets and 1 colors were provided"
     ]
    },
    {
     "data": {
      "image/png": "[encoded data removed]",
      "text/plain": [
       "<Figure size 576x864 with 5 Axes>"
      ]
     },
     "metadata": {
      "needs_background": "light"
     },
     "output_type": "display_data"
    },
    {
     "data": {
      "image/png": "[encoded data removed]",
      "text/plain": [
       "<Figure size 576x864 with 5 Axes>"
      ]
     },
     "metadata": {
      "needs_background": "light"
     },
     "output_type": "display_data"
    }
   ],
   "source": [
    "import seaborn as sns\n",
    "import matplotlib.pyplot as plt\n",
    "for c in clusters:\n",
    "    grid= sns.FacetGrid(clusters, col='cluster', col_wrap=2, height=4)\n",
    "    grid.map(plt.hist, c)"
   ]
  },
  {
   "cell_type": "markdown",
   "metadata": {},
   "source": [
    "## Using PCA only for visualization"
   ]
  },
  {
   "cell_type": "code",
   "execution_count": 353,
   "metadata": {},
   "outputs": [
    {
     "data": {
      "text/plain": [
       "(768, 2)"
      ]
     },
     "execution_count": 353,
     "metadata": {},
     "output_type": "execute_result"
    }
   ],
   "source": [
    "from sklearn.metrics.pairwise import cosine_similarity\n",
    "from sklearn.decomposition import PCA\n",
    "dist = 1 - cosine_similarity(X.reshape(-1,1))\n",
    "\n",
    "pca = PCA(2)\n",
    "pca.fit(dist)\n",
    "X_PCA = pca.transform(dist)\n",
    "X_PCA.shape"
   ]
  },
  {
   "cell_type": "code",
   "execution_count": null,
   "metadata": {},
   "outputs": [],
   "source": [
    "x, y = X_PCA[:, 0], X_PCA[:, 1]\n",
    "\n",
    "colors = {0: 'red',\n",
    "          1: 'blue',\n",
    "          2: 'green', \n",
    "          3: 'yellow', \n",
    "          4: 'orange',  \n",
    "          5:'purple'}\n",
    "\n",
    "names = {0: '', \n",
    "         1: '', \n",
    "         2: '', \n",
    "         3: '', \n",
    "         4: '',\n",
    "         5:''}\n",
    "  \n",
    "df = pd.DataFrame({'x': x, 'y':y, 'label':labels}) \n",
    "groups = df.groupby('label')\n",
    "\n",
    "fig, ax = plt.subplots(figsize=(20, 13)) \n",
    "\n",
    "for name, group in groups:\n",
    "    ax.plot(group.x, group.y, marker='o', linestyle='', ms=5,\n",
    "            color=colors[name],label=names[name], mec='none')\n",
    "    ax.set_aspect('auto')\n",
    "    ax.tick_params(axis='x',which='both',bottom='off',top='off',labelbottom='off')\n",
    "    ax.tick_params(axis= 'y',which='both',left='off',top='off',labelleft='off')\n",
    "    \n",
    "ax.legend()\n",
    "ax.set_title(\"\")\n",
    "plt.show()"
   ]
  }
 ],
 "metadata": {
  "kernelspec": {
   "display_name": "Python 3",
   "language": "python",
   "name": "python3"
  },
  "language_info": {
   "codemirror_mode": {
    "name": "ipython",
    "version": 3
   },
   "file_extension": ".py",
   "mimetype": "text/x-python",
   "name": "python",
   "nbconvert_exporter": "python",
   "pygments_lexer": "ipython3",
   "version": "3.7.3"
  }
 },
 "nbformat": 4,
 "nbformat_minor": 2
}

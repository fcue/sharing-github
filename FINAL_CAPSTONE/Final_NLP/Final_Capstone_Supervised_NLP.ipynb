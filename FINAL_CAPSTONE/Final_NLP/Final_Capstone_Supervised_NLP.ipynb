{
 "cells": [
  {
   "cell_type": "markdown",
   "metadata": {},
   "source": [
    "# Building a Classifier with our labeled Tweets\n",
    "\n",
    "\n",
    "### In this section, we analyze our tweets using supervised learning methods. I have manully labeled the data to detect which tweets are indicative of flu and which tweets are not. I've collected a total of ____ tweets. Among these tweets, ___ are positive for flu, meaning that the user indicated that he/she is sick due to the flu. \n",
    "\n",
    "### We employ various NLP methods such as removal of stopwords, stemming, lemmatizing and use of bigrams and trigrams. "
   ]
  },
  {
   "cell_type": "code",
   "execution_count": 1,
   "metadata": {},
   "outputs": [],
   "source": [
    "import numpy as np\n",
    "import pandas as pd\n",
    "\n",
    "from sklearn.feature_extraction.text import CountVectorizer\n",
    "import nltk\n",
    "import string\n",
    "import preprocessor as p\n",
    "from nltk.corpus import stopwords\n",
    "\n",
    "#visualizations\n",
    "import matplotlib.pyplot as plt\n",
    "import matplotlib\n",
    "import seaborn as sns\n",
    "from IPython.display import display\n",
    "from wordcloud import WordCloud, STOPWORDS\n",
    "import re\n",
    "import string\n",
    "import itertools\n",
    "#from mpl_toolkits.basemap import Basemap\n",
    "\n",
    "#machine learning\n",
    "from sklearn.metrics import confusion_matrix\n",
    "from sklearn.feature_extraction.text import TfidfVectorizer\n",
    "from sklearn.decomposition import TruncatedSVD\n",
    "from sklearn.pipeline import make_pipeline\n",
    "from sklearn.preprocessing import Normalizer, normalize\n",
    "from sklearn.model_selection import KFold\n",
    "from sklearn.model_selection import cross_val_score\n",
    "\n",
    "from sklearn.naive_bayes import MultinomialNB\n"
   ]
  },
  {
   "cell_type": "code",
   "execution_count": 2,
   "metadata": {},
   "outputs": [],
   "source": [
    "df1=pd.read_csv('df_stream8.csv')\n",
    "df2=pd.read_csv('df_stream3.csv')\n",
    "df3= pd.read_csv('df_stream7.csv')\n",
    "df9=pd.read_csv('df_stream9.csv')\n",
    "df10=pd.read_csv('df_stream10.csv')\n",
    "df11=pd.read_csv('df_stream11.csv')\n",
    "df14=pd.read_csv('df_stream14.csv')"
   ]
  },
  {
   "cell_type": "code",
   "execution_count": 3,
   "metadata": {},
   "outputs": [],
   "source": [
    "#dropping the extra label 2 I had created in the beginning since I only want a binary class\n",
    "indexNames = df2[ df2['label'] == 2 ].index\n",
    "df2.drop(indexNames, inplace=True)\n",
    "indexNames = df3[ df3['label'] == 2 ].index\n",
    "df3.drop(indexNames, inplace=True)"
   ]
  },
  {
   "cell_type": "code",
   "execution_count": 4,
   "metadata": {},
   "outputs": [],
   "source": [
    "all= pd.concat(([df1,df2,df3,df9,df10,df11,df14]), sort=False)\n",
    "#saving data\n",
    "all.to_csv('all.csv')"
   ]
  },
  {
   "cell_type": "code",
   "execution_count": 5,
   "metadata": {},
   "outputs": [
    {
     "data": {
      "text/plain": [
       "0.0    1861\n",
       "1.0     350\n",
       "Name: label, dtype: int64"
      ]
     },
     "execution_count": 5,
     "metadata": {},
     "output_type": "execute_result"
    }
   ],
   "source": [
    "all.label.value_counts()"
   ]
  },
  {
   "cell_type": "markdown",
   "metadata": {},
   "source": [
    "### Let's take a look at the most popular people tweet when they are sick with the flu?"
   ]
  },
  {
   "cell_type": "code",
   "execution_count": 6,
   "metadata": {},
   "outputs": [],
   "source": [
    "all['Timestamp'] = pd.to_datetime(all['created_at'], infer_datetime_format = \"%d/%m/%Y\", utc  = False)"
   ]
  },
  {
   "cell_type": "code",
   "execution_count": 7,
   "metadata": {},
   "outputs": [],
   "source": [
    "#looking at the hour of Tweets\n",
    "def givehour(timestamp):\n",
    "    hour_string = timestamp.hour\n",
    "    return hour_string\n",
    "all['hour'] = all['Timestamp'].apply(givehour)\n",
    "hours = all.groupby('hour')\n",
    "hourcount = hours['text'].count()\n",
    "hourdict = hourcount.to_dict()"
   ]
  },
  {
   "cell_type": "code",
   "execution_count": 8,
   "metadata": {},
   "outputs": [
    {
     "data": {
      "image/png": "[encoded data removed]",
      "text/plain": [
       "<Figure size 1080x720 with 1 Axes>"
      ]
     },
     "metadata": {
      "needs_background": "light"
     },
     "output_type": "display_data"
    }
   ],
   "source": [
    "hr= all.loc[all.label==1].hour\n",
    "plt.figure(figsize=(15,10))\n",
    "sns.countplot(hr)\n",
    "plt.xlabel('Hour in Military Time')\n",
    "plt.ylabel('Count of Positive Flu Tweets')\n",
    "plt.title('Time of +Flu Tweets')\n",
    "plt.show()"
   ]
  },
  {
   "cell_type": "markdown",
   "metadata": {},
   "source": [
    "# Data Cleaning and Feature Engineering\n",
    "\n",
    "### Tweets have many miscellaneous characters and are prone to having slang and erroneous terms. We will try to clean this data as best as we can before we use it for modeling. "
   ]
  },
  {
   "cell_type": "code",
   "execution_count": 9,
   "metadata": {},
   "outputs": [],
   "source": [
    "#Creating dataframe that just focuses on 'Text' and 'Label'. \n",
    "new= pd.DataFrame(all[['text', 'label']])"
   ]
  },
  {
   "cell_type": "code",
   "execution_count": 10,
   "metadata": {},
   "outputs": [],
   "source": [
    "# While labeling, I've intentionally left some tweets blank to try to achieve a higher positive label.I'm dropping\n",
    "# the blank tweets here\n",
    "new.dropna(inplace=True)"
   ]
  },
  {
   "cell_type": "code",
   "execution_count": 11,
   "metadata": {},
   "outputs": [
    {
     "name": "stdout",
     "output_type": "stream",
     "text": [
      "Values before dropping duplicate tweets\n"
     ]
    },
    {
     "data": {
      "text/plain": [
       "0.0    1850\n",
       "1.0     348\n",
       "Name: label, dtype: int64"
      ]
     },
     "execution_count": 11,
     "metadata": {},
     "output_type": "execute_result"
    }
   ],
   "source": [
    "print('Values before dropping duplicate tweets')\n",
    "new.label.value_counts()"
   ]
  },
  {
   "cell_type": "code",
   "execution_count": 12,
   "metadata": {},
   "outputs": [],
   "source": [
    "# because there were so many tweets that are Retweeets or the same tweets over and over again in the feeds,\n",
    "# I've had to drop it here. \n",
    "new.drop_duplicates(inplace=True)"
   ]
  },
  {
   "cell_type": "code",
   "execution_count": 13,
   "metadata": {},
   "outputs": [
    {
     "name": "stdout",
     "output_type": "stream",
     "text": [
      "Values after dropping duplicate tweets\n"
     ]
    },
    {
     "data": {
      "text/plain": [
       "0.0    1707\n",
       "1.0     329\n",
       "Name: label, dtype: int64"
      ]
     },
     "execution_count": 13,
     "metadata": {},
     "output_type": "execute_result"
    }
   ],
   "source": [
    "print('Values after dropping duplicate tweets')\n",
    "new.label.value_counts()"
   ]
  },
  {
   "cell_type": "markdown",
   "metadata": {},
   "source": [
    "### Creating functions to clean tweets and add new columns as we clean and process."
   ]
  },
  {
   "cell_type": "code",
   "execution_count": 14,
   "metadata": {},
   "outputs": [],
   "source": [
    "#removing URLs and string beginning with @ \n",
    "def remove_mentionsURLs(text):\n",
    "    tweet_out= re.sub(r'@[A-Za-z0-9]+', '', text)\n",
    "    tweet_out=re.sub(r'http\\S+', '', tweet_out)\n",
    "    tweet_out= re.sub(r'RT @[\\w_]+:', '', tweet_out)\n",
    "    return tweet_out\n",
    "\n",
    "new['text_noURLs'] = new['text'].apply(lambda x: remove_mentionsURLs(x))"
   ]
  },
  {
   "cell_type": "code",
   "execution_count": 15,
   "metadata": {},
   "outputs": [],
   "source": [
    "#removing punctuations from the text\n",
    "def remove_punct(text):\n",
    "    text  = \"\".join([char for char in text if char not in string.punctuation])\n",
    "    text = re.sub('[0-9]+', '', text)\n",
    "    return text\n",
    "\n",
    "new['text_punct'] = new['text_noURLs'].apply(lambda x: remove_punct(x))"
   ]
  },
  {
   "cell_type": "code",
   "execution_count": 16,
   "metadata": {},
   "outputs": [],
   "source": [
    "# remove words with 2 or less characters\n",
    "def remove_RT(text):\n",
    "    text= re.sub(r'\\b\\w{1,2}\\b', '', text)\n",
    "    return text\n",
    "\n",
    "new['text_removeRT'] = new['text_punct'].apply(lambda x: remove_RT(x))"
   ]
  },
  {
   "cell_type": "code",
   "execution_count": 17,
   "metadata": {},
   "outputs": [],
   "source": [
    "#tokenzing into words \n",
    "def tokenization(text):\n",
    "    text = re.split('\\W+', text)\n",
    "    return text\n",
    "\n",
    "new['tokenized'] = new['text_removeRT'].apply(lambda x: tokenization(x.lower()))"
   ]
  },
  {
   "cell_type": "code",
   "execution_count": 18,
   "metadata": {
    "scrolled": true
   },
   "outputs": [],
   "source": [
    "#removing stop words\n",
    "stopword = nltk.corpus.stopwords.words('english')\n",
    "def remove_stopwords(text):\n",
    "    text = [word for word in text if word not in stopword]\n",
    "    return text\n",
    "    \n",
    "new['nonstop'] = new['tokenized'].apply(lambda x: remove_stopwords(x))"
   ]
  },
  {
   "cell_type": "code",
   "execution_count": 19,
   "metadata": {},
   "outputs": [],
   "source": [
    "# lemmatizing\n",
    "wn = nltk.WordNetLemmatizer()\n",
    "\n",
    "def lemmatizer(text):\n",
    "    text = [wn.lemmatize(word) for word in text]\n",
    "    return text\n",
    "\n",
    "new['Tweet_lemmatized'] = new['nonstop'].apply(lambda x: lemmatizer(x))"
   ]
  },
  {
   "cell_type": "code",
   "execution_count": 20,
   "metadata": {},
   "outputs": [],
   "source": [
    "#stemming\n",
    "from nltk.stem import PorterStemmer \n",
    "port_stemmer= nltk.PorterStemmer()\n",
    "\n",
    "def stemming(text):\n",
    "    #stripped = [word.lower() for word in text if word.lower() not in stopwords]\n",
    "    out_text= [port_stemmer.stem(word) for word in text]\n",
    "    return out_text\n",
    "\n",
    "new['stemmed']= new['nonstop'].apply(lambda x: stemming(x))"
   ]
  },
  {
   "cell_type": "code",
   "execution_count": 21,
   "metadata": {},
   "outputs": [
    {
     "name": "stdout",
     "output_type": "stream",
     "text": [
      "Unique words in lemmatized text:4486\n",
      "Unique words in stemmed text:3935\n"
     ]
    }
   ],
   "source": [
    "#Let's check to see how many unique words in lemmatized and stemmed words\n",
    "\n",
    "word_count_lemma= list(itertools.chain.from_iterable(new['Tweet_lemmatized']))\n",
    "word_count_stem= list(itertools.chain.from_iterable(new['stemmed']))\n",
    "\n",
    "print('Unique words in lemmatized text:' +str(len(set(word_count_lemma))));\n",
    "print('Unique words in stemmed text:' +str(len(set(word_count_stem))));"
   ]
  },
  {
   "cell_type": "code",
   "execution_count": 22,
   "metadata": {},
   "outputs": [],
   "source": [
    "# this removes less frequent words, leaving ONLY frequent words\n",
    "flat_list= list(itertools.chain.from_iterable(new['stemmed']))\n",
    "fd= nltk.FreqDist(flat_list)\n",
    "\n",
    "keep_words= list(filter(lambda x: 2000>x[1]>3, fd.items()))\n",
    "keep_words_list= [item[0] for item in keep_words]\n",
    "\n",
    "def remove_lessfreq(tokanized_tweets):\n",
    "    text_out= [word for word in tokanized_tweets if word in keep_words_list]\n",
    "    return text_out\n",
    "#removing less frequent words that are stemmed\n",
    "new['remove_less_freq']= new['stemmed'].apply(lambda x: remove_lessfreq(x))\n",
    "#removing less frequent words that are stemmed\n",
    "new['remove_less_freq_lemma']= new['Tweet_lemmatized'].apply(lambda x: remove_lessfreq(x))"
   ]
  },
  {
   "cell_type": "code",
   "execution_count": 23,
   "metadata": {},
   "outputs": [
    {
     "data": {
      "text/plain": [
       "['full',\n",
       " 'practic',\n",
       " 'today',\n",
       " 'miss',\n",
       " 'game',\n",
       " 'due',\n",
       " 'pneumonia',\n",
       " 'danger',\n",
       " 'guy',\n",
       " 'flu',\n",
       " 'look',\n",
       " 'job',\n",
       " 'manag',\n",
       " 'ive',\n",
       " 'lost',\n",
       " 'pound',\n",
       " 'less',\n",
       " 'week',\n",
       " 'time',\n",
       " 'get',\n",
       " 'sick',\n",
       " 'symptom',\n",
       " 'seem',\n",
       " 'actual',\n",
       " 'whole',\n",
       " 'way',\n",
       " 'felt',\n",
       " 'last',\n",
       " 'find',\n",
       " 'famili',\n",
       " 'need',\n",
       " 'babi',\n",
       " 'mom',\n",
       " 'take',\n",
       " 'med',\n",
       " 'havent',\n",
       " 'singl',\n",
       " 'shot',\n",
       " 'vaccin',\n",
       " 'kid',\n",
       " 'import',\n",
       " 'diseas',\n",
       " 'feel',\n",
       " 'like',\n",
       " 'tweet',\n",
       " 'normal',\n",
       " 'test',\n",
       " 'mean',\n",
       " 'gonna',\n",
       " 'around',\n",
       " 'stream',\n",
       " 'tonight',\n",
       " 'still',\n",
       " 'super',\n",
       " 'pretti',\n",
       " 'bad',\n",
       " 'also',\n",
       " 'arm',\n",
       " 'hurt',\n",
       " 'got',\n",
       " 'fluvaccin',\n",
       " 'know',\n",
       " 'didnt',\n",
       " 'detain',\n",
       " 'ice',\n",
       " 'despit',\n",
       " 'free',\n",
       " 'season',\n",
       " 'folk',\n",
       " 'wash',\n",
       " 'gym',\n",
       " 'back',\n",
       " 'round',\n",
       " 'bet',\n",
       " 'could',\n",
       " 'paid',\n",
       " 'catch',\n",
       " 'shit',\n",
       " 'gone',\n",
       " 'stomach',\n",
       " 'fuck',\n",
       " 'short',\n",
       " 'market',\n",
       " 'one',\n",
       " 'team',\n",
       " 'part',\n",
       " 'reason',\n",
       " 'love',\n",
       " 'guess',\n",
       " 'longer',\n",
       " 'influenza',\n",
       " 'check',\n",
       " 'bandaid',\n",
       " 'local',\n",
       " 'pharmaci',\n",
       " 'boy',\n",
       " 'provid',\n",
       " 'six',\n",
       " 'thing',\n",
       " 'probabl',\n",
       " 'final',\n",
       " 'year',\n",
       " 'chanc',\n",
       " 'lmao',\n",
       " 'medic',\n",
       " 'group',\n",
       " 'peopl',\n",
       " 'month',\n",
       " 'possibl',\n",
       " 'report',\n",
       " 'outbreak',\n",
       " 'border',\n",
       " 'camp',\n",
       " 'includ',\n",
       " 'measl',\n",
       " 'start',\n",
       " 'cdc',\n",
       " 'estim',\n",
       " 'fluseason',\n",
       " 'children',\n",
       " 'receiv',\n",
       " 'fast',\n",
       " 'act',\n",
       " 'see',\n",
       " 'doctor',\n",
       " 'first',\n",
       " 'sign',\n",
       " 'common',\n",
       " 'caus',\n",
       " 'sever',\n",
       " 'ill',\n",
       " 'even',\n",
       " 'death',\n",
       " 'best',\n",
       " 'let',\n",
       " 'fightflu',\n",
       " 'amp',\n",
       " 'bed',\n",
       " 'rest',\n",
       " 'readi',\n",
       " 'exercis',\n",
       " 'train',\n",
       " 'make',\n",
       " 'sure',\n",
       " 'everyon',\n",
       " 'cancer',\n",
       " 'immun',\n",
       " 'system',\n",
       " 'compromis',\n",
       " 'annual',\n",
       " 'depress',\n",
       " 'work',\n",
       " 'far',\n",
       " 'good',\n",
       " 'resist',\n",
       " 'friend',\n",
       " 'case',\n",
       " 'period',\n",
       " 'half',\n",
       " 'medicin',\n",
       " 'tip',\n",
       " 'protect',\n",
       " 'think',\n",
       " 'hope',\n",
       " 'dont',\n",
       " 'want',\n",
       " 'realli',\n",
       " 'hospit',\n",
       " 'push',\n",
       " 'risk',\n",
       " 'event',\n",
       " 'almost',\n",
       " 'die',\n",
       " 'stay',\n",
       " 'stop',\n",
       " 'follow',\n",
       " 'three',\n",
       " 'prevent',\n",
       " 'measur',\n",
       " 'late',\n",
       " 'reduc',\n",
       " 'note',\n",
       " 'experi',\n",
       " 'monday',\n",
       " 'came',\n",
       " 'pandem',\n",
       " 'deni',\n",
       " 'happi',\n",
       " 'say',\n",
       " 'con',\n",
       " 'never',\n",
       " 'pregnant',\n",
       " 'women',\n",
       " 'learn',\n",
       " 'benefit',\n",
       " 'enter',\n",
       " 'win',\n",
       " 'wors',\n",
       " 'strep',\n",
       " 'anyway',\n",
       " 'imma',\n",
       " 'without',\n",
       " 'sore',\n",
       " 'throat',\n",
       " 'kick',\n",
       " 'hot',\n",
       " 'oil',\n",
       " 'better',\n",
       " 'everyth',\n",
       " 'go',\n",
       " 'give',\n",
       " 'live',\n",
       " 'life',\n",
       " 'recent',\n",
       " 'studi',\n",
       " 'found',\n",
       " 'hand',\n",
       " 'water',\n",
       " 'alon',\n",
       " 'might',\n",
       " 'would',\n",
       " 'myth',\n",
       " 'fact',\n",
       " 'anim',\n",
       " 'new',\n",
       " 'cold',\n",
       " 'rememb',\n",
       " 'alway',\n",
       " 'side',\n",
       " 'done',\n",
       " 'low',\n",
       " 'head',\n",
       " 'worst',\n",
       " 'cant',\n",
       " 'speak',\n",
       " 'care',\n",
       " 'watch',\n",
       " 'swine',\n",
       " 'believ',\n",
       " 'use',\n",
       " 'send',\n",
       " 'pregnanc',\n",
       " 'mani',\n",
       " 'chang',\n",
       " 'bodi',\n",
       " 'put',\n",
       " 'higher',\n",
       " 'seriou',\n",
       " 'girl',\n",
       " 'tomorrow',\n",
       " 'next',\n",
       " 'recommend',\n",
       " 'age',\n",
       " 'kiss',\n",
       " 'real',\n",
       " 'top',\n",
       " 'smh',\n",
       " 'pig',\n",
       " 'visit',\n",
       " 'place',\n",
       " 'fight',\n",
       " 'ingredi',\n",
       " 'relat',\n",
       " 'appar',\n",
       " 'mouth',\n",
       " 'contagi',\n",
       " 'thought',\n",
       " 'fever',\n",
       " 'bro',\n",
       " 'clinic',\n",
       " 'tuesday',\n",
       " 'novemb',\n",
       " 'complet',\n",
       " 'form',\n",
       " 'return',\n",
       " 'univers',\n",
       " 'vaccineswork',\n",
       " 'absolut',\n",
       " 'away',\n",
       " 'lol',\n",
       " 'may',\n",
       " 'your',\n",
       " 'travel',\n",
       " 'winter',\n",
       " 'plan',\n",
       " 'least',\n",
       " 'infect',\n",
       " 'big',\n",
       " 'thank',\n",
       " 'hold',\n",
       " 'jab',\n",
       " 'moment',\n",
       " 'home',\n",
       " 'bit',\n",
       " 'pleas',\n",
       " 'join',\n",
       " 'health',\n",
       " 'open',\n",
       " 'commun',\n",
       " 'idea',\n",
       " 'show',\n",
       " 'develop',\n",
       " 'hour',\n",
       " 'lead',\n",
       " 'soon',\n",
       " 'avail',\n",
       " 'come',\n",
       " 'great',\n",
       " 'knock',\n",
       " 'two',\n",
       " 'day',\n",
       " 'caught',\n",
       " 'healthi',\n",
       " 'young',\n",
       " 'man',\n",
       " 'old',\n",
       " 'weekend',\n",
       " 'complic',\n",
       " 'later',\n",
       " 'damn',\n",
       " 'break',\n",
       " 'run',\n",
       " 'money',\n",
       " 'turn',\n",
       " 'told',\n",
       " 'bullshit',\n",
       " 'said',\n",
       " 'near',\n",
       " 'breath',\n",
       " 'right',\n",
       " 'honestli',\n",
       " 'point',\n",
       " 'suggest',\n",
       " 'tho',\n",
       " 'read',\n",
       " 'si',\n",
       " 'prayer',\n",
       " 'skin',\n",
       " 'boondock',\n",
       " 'enough',\n",
       " 'credit',\n",
       " 'fri',\n",
       " 'chicken',\n",
       " 'episod',\n",
       " 'went',\n",
       " 'wait',\n",
       " 'ago',\n",
       " 'eye',\n",
       " 'respiratori',\n",
       " 'virus',\n",
       " 'alreadi',\n",
       " 'bronchiti',\n",
       " 'fullblown',\n",
       " 'video',\n",
       " 'fake',\n",
       " 'psa',\n",
       " 'insur',\n",
       " 'news',\n",
       " 'forget',\n",
       " 'especi',\n",
       " 'differ',\n",
       " 'pray',\n",
       " 'kill',\n",
       " 'elderli',\n",
       " 'effect',\n",
       " 'pass',\n",
       " 'poison',\n",
       " 'interest',\n",
       " 'vitamin',\n",
       " 'though',\n",
       " 'ahead',\n",
       " 'hear',\n",
       " 'class',\n",
       " 'usual',\n",
       " 'sinc',\n",
       " 'quit',\n",
       " 'lab',\n",
       " 'exposur',\n",
       " 'viru',\n",
       " 'weather',\n",
       " 'long',\n",
       " 'share',\n",
       " 'remind',\n",
       " 'mine',\n",
       " 'quick',\n",
       " 'blow',\n",
       " 'nose',\n",
       " 'littl',\n",
       " 'bug',\n",
       " 'noth',\n",
       " 'happen',\n",
       " 'wednesday',\n",
       " 'bring',\n",
       " 'student',\n",
       " 'someon',\n",
       " 'everi',\n",
       " 'cough',\n",
       " 'omg',\n",
       " 'suffer',\n",
       " 'decid',\n",
       " 'ever',\n",
       " 'screw',\n",
       " 'that',\n",
       " 'excus',\n",
       " 'strain',\n",
       " 'mayb',\n",
       " 'keep',\n",
       " 'ask',\n",
       " 'pay',\n",
       " 'person',\n",
       " 'play',\n",
       " 'african',\n",
       " 'there',\n",
       " 'hey',\n",
       " 'bitch',\n",
       " 'daughter',\n",
       " 'jesu',\n",
       " 'sit',\n",
       " 'blame',\n",
       " 'cat',\n",
       " 'gave',\n",
       " 'swear',\n",
       " 'south',\n",
       " 'woke',\n",
       " 'extrem',\n",
       " 'anyon',\n",
       " 'remedi',\n",
       " 'rid',\n",
       " 'viral',\n",
       " 'ach',\n",
       " 'pain',\n",
       " 'yet',\n",
       " 'kaiser',\n",
       " 'anoth',\n",
       " 'earli',\n",
       " 'spray',\n",
       " 'wanna',\n",
       " 'amaz',\n",
       " 'wont',\n",
       " 'cell',\n",
       " 'name',\n",
       " 'word',\n",
       " 'friday',\n",
       " 'asthma',\n",
       " 'becom',\n",
       " 'well',\n",
       " 'tri',\n",
       " 'meet',\n",
       " 'lack',\n",
       " 'anyth',\n",
       " 'eat',\n",
       " 'son',\n",
       " 'husband',\n",
       " 'sound',\n",
       " 'ye',\n",
       " 'joke',\n",
       " 'four',\n",
       " 'farmer',\n",
       " 'small',\n",
       " 'hate',\n",
       " 'needl',\n",
       " 'god',\n",
       " 'someth',\n",
       " 'activ',\n",
       " 'countri',\n",
       " 'second',\n",
       " 'must',\n",
       " 'took',\n",
       " 'mental',\n",
       " 'face',\n",
       " 'high',\n",
       " 'disappoint',\n",
       " 'blood',\n",
       " 'cannot',\n",
       " 'flushot',\n",
       " 'welcom',\n",
       " 'canada',\n",
       " 'dog',\n",
       " 'liter',\n",
       " 'answer',\n",
       " 'question',\n",
       " 'semest',\n",
       " 'street',\n",
       " 'exactli',\n",
       " 'minut',\n",
       " 'offic',\n",
       " 'red',\n",
       " 'dear',\n",
       " 'harm',\n",
       " 'buy',\n",
       " 'surgeri',\n",
       " 'gotten',\n",
       " 'simpl',\n",
       " 'surviv',\n",
       " 'total',\n",
       " 'million',\n",
       " 'stori',\n",
       " 'past',\n",
       " 'talk',\n",
       " 'help',\n",
       " 'poor',\n",
       " 'safe',\n",
       " 'avoid',\n",
       " 'cool',\n",
       " 'ass',\n",
       " 'shift',\n",
       " 'via',\n",
       " 'product',\n",
       " 'germ',\n",
       " 'els',\n",
       " 'doubl',\n",
       " 'ear',\n",
       " 'shout',\n",
       " 'agre',\n",
       " 'she',\n",
       " 'lie',\n",
       " 'tell',\n",
       " 'cut',\n",
       " 'spend',\n",
       " 'cover',\n",
       " 'straight',\n",
       " 'coupl',\n",
       " 'fall',\n",
       " 'clean',\n",
       " 'antibiot',\n",
       " 'coldflu',\n",
       " 'yeah',\n",
       " 'allergi',\n",
       " 'nation',\n",
       " 'save',\n",
       " 'night',\n",
       " 'ladi',\n",
       " 'public',\n",
       " 'food',\n",
       " 'tissu',\n",
       " 'nov',\n",
       " 'offici',\n",
       " 'theyr',\n",
       " 'order',\n",
       " 'excit',\n",
       " 'handl',\n",
       " 'he',\n",
       " 'support',\n",
       " 'rather',\n",
       " 'end',\n",
       " 'youv',\n",
       " 'made',\n",
       " 'forc',\n",
       " 'american',\n",
       " 'offer',\n",
       " 'veteran',\n",
       " 'boyfriend',\n",
       " 'refus',\n",
       " 'autoimmun',\n",
       " 'nurs',\n",
       " 'sister',\n",
       " 'lot',\n",
       " 'human',\n",
       " 'okay',\n",
       " 'often',\n",
       " 'expert',\n",
       " 'host',\n",
       " 'bacteria',\n",
       " 'nh',\n",
       " 'info',\n",
       " 'problem',\n",
       " 'sort',\n",
       " 'heard',\n",
       " 'book',\n",
       " 'call',\n",
       " 'ultim',\n",
       " 'world',\n",
       " 'servic',\n",
       " 'walk',\n",
       " 'pack',\n",
       " 'pharmacist',\n",
       " 'skip',\n",
       " 'fun',\n",
       " 'control',\n",
       " 'finna',\n",
       " 'vote',\n",
       " 'librari',\n",
       " 'respons',\n",
       " 'adult',\n",
       " 'current',\n",
       " 'serious',\n",
       " 'left',\n",
       " 'yesterday',\n",
       " 'cri',\n",
       " 'deal',\n",
       " 'white',\n",
       " 'member',\n",
       " 'mind',\n",
       " 'truth',\n",
       " 'trump',\n",
       " 'school',\n",
       " 'step',\n",
       " 'heart',\n",
       " 'much',\n",
       " 'drop',\n",
       " 'edit',\n",
       " 'christma',\n",
       " 'nigga',\n",
       " 'shock',\n",
       " 'counti',\n",
       " 'throw',\n",
       " 'men',\n",
       " 'deserv',\n",
       " 'spread',\n",
       " 'warm',\n",
       " 'yall',\n",
       " 'rip',\n",
       " 'sorri',\n",
       " 'beat',\n",
       " 'diabet',\n",
       " 'massag',\n",
       " 'holiday',\n",
       " 'dump',\n",
       " 'hous',\n",
       " 'recov',\n",
       " 'natur',\n",
       " 'imagin',\n",
       " 'twitter',\n",
       " 'worri',\n",
       " 'issu',\n",
       " 'parti',\n",
       " 'polici',\n",
       " 'gotta',\n",
       " 'doesnt',\n",
       " 'abl',\n",
       " 'drink',\n",
       " 'disgust',\n",
       " 'car',\n",
       " 'weak',\n",
       " 'celebr',\n",
       " 'awar',\n",
       " 'getvaccin',\n",
       " 'daili',\n",
       " 'list',\n",
       " 'nap',\n",
       " 'key',\n",
       " 'explain',\n",
       " 'hit',\n",
       " 'zero',\n",
       " 'favorit',\n",
       " 'suck',\n",
       " 'ugh',\n",
       " 'hard',\n",
       " 'facebook',\n",
       " 'suppos',\n",
       " 'patient',\n",
       " 'staff',\n",
       " 'constantli',\n",
       " 'power',\n",
       " 'post',\n",
       " 'diagnos',\n",
       " 'given',\n",
       " 'john',\n",
       " 'listen',\n",
       " 'child',\n",
       " 'posit',\n",
       " 'room',\n",
       " 'touch',\n",
       " 'dead',\n",
       " 'antivaxx',\n",
       " 'isnt',\n",
       " 'leav',\n",
       " 'dude',\n",
       " 'encourag',\n",
       " 'condit',\n",
       " 'other',\n",
       " 'wrong',\n",
       " 'morn',\n",
       " 'grade',\n",
       " 'begin',\n",
       " 'stupid',\n",
       " 'chronic',\n",
       " 'crazi',\n",
       " 'thi',\n",
       " 'price',\n",
       " 'epidem',\n",
       " 'china',\n",
       " 'research',\n",
       " 'inject',\n",
       " 'gener',\n",
       " 'physician',\n",
       " 'employe',\n",
       " 'instead',\n",
       " 'door',\n",
       " 'continu',\n",
       " 'contract',\n",
       " 'prepar',\n",
       " 'war',\n",
       " 'wish',\n",
       " 'type',\n",
       " 'cure',\n",
       " 'older',\n",
       " 'fool',\n",
       " 'tire',\n",
       " 'forward',\n",
       " 'bore',\n",
       " 'headach',\n",
       " 'sneez',\n",
       " 'bird',\n",
       " 'mad',\n",
       " 'heal',\n",
       " 'anymor',\n",
       " 'argu',\n",
       " 'pl',\n",
       " 'togeth',\n",
       " 'smile',\n",
       " 'air',\n",
       " 'relief',\n",
       " 'drug',\n",
       " 'reaction',\n",
       " 'younger',\n",
       " 'fulli',\n",
       " 'stuff',\n",
       " 'write',\n",
       " 'hell',\n",
       " 'count',\n",
       " 'democrat',\n",
       " 'halloween',\n",
       " 'gun',\n",
       " 'sunday',\n",
       " 'candi',\n",
       " 'expect',\n",
       " 'fan',\n",
       " 'move',\n",
       " 'wtf',\n",
       " 'twist',\n",
       " 'stage',\n",
       " 'admit',\n",
       " 'evil',\n",
       " 'america',\n",
       " 'kinda',\n",
       " 'enjoy',\n",
       " 'freez',\n",
       " 'nasti',\n",
       " 'shame',\n",
       " 'twice',\n",
       " 'danc',\n",
       " 'hors',\n",
       " 'dream',\n",
       " 'pic',\n",
       " 'set',\n",
       " 'consent',\n",
       " 'wonder',\n",
       " 'within',\n",
       " 'either',\n",
       " 'sleep',\n",
       " 'teacher',\n",
       " 'busi',\n",
       " 'fire',\n",
       " 'treat',\n",
       " 'ignor',\n",
       " 'town',\n",
       " 'bulli',\n",
       " 'critic',\n",
       " 'gain',\n",
       " 'definit',\n",
       " 'insid',\n",
       " 'nobodi',\n",
       " 'cours',\n",
       " 'futur',\n",
       " 'appetit',\n",
       " 'drive',\n",
       " 'wit',\n",
       " 'birthday',\n",
       " 'extra',\n",
       " 'insulin',\n",
       " 'scienc',\n",
       " 'oklahoma',\n",
       " 'haha',\n",
       " 'app',\n",
       " 'design',\n",
       " 'state',\n",
       " 'forecast',\n",
       " 'fitzhenri']"
      ]
     },
     "execution_count": 23,
     "metadata": {},
     "output_type": "execute_result"
    }
   ],
   "source": [
    "keep_words_list"
   ]
  },
  {
   "cell_type": "code",
   "execution_count": 24,
   "metadata": {},
   "outputs": [],
   "source": [
    "# joining words back for modeling\n",
    "def join_tokens(tokens):\n",
    "    documents= \" \".join([word for word in tokens if not word.isdigit()])\n",
    "    return documents\n",
    "\n",
    "new['document']= new['remove_less_freq'].apply(lambda x: join_tokens(x))"
   ]
  },
  {
   "cell_type": "code",
   "execution_count": 25,
   "metadata": {},
   "outputs": [],
   "source": [
    "def join_tokens(tokens):\n",
    "    documents= \" \".join([word for word in tokens if not word.isdigit()])\n",
    "    return documents\n",
    "\n",
    "new['document_lemma']= new['Tweet_lemmatized'].apply(lambda x: join_tokens(x))"
   ]
  },
  {
   "cell_type": "code",
   "execution_count": 26,
   "metadata": {},
   "outputs": [],
   "source": [
    "def join_tokens(tokens):\n",
    "    documents= \" \".join([word for word in tokens if not word.isdigit()])\n",
    "    return documents\n",
    "\n",
    "new['document_stemmed']= new['stemmed'].apply(lambda x: join_tokens(x))"
   ]
  },
  {
   "cell_type": "code",
   "execution_count": 27,
   "metadata": {},
   "outputs": [
    {
     "data": {
      "text/html": [
       "<div>\n",
       "<style scoped>\n",
       "    .dataframe tbody tr th:only-of-type {\n",
       "        vertical-align: middle;\n",
       "    }\n",
       "\n",
       "    .dataframe tbody tr th {\n",
       "        vertical-align: top;\n",
       "    }\n",
       "\n",
       "    .dataframe thead th {\n",
       "        text-align: right;\n",
       "    }\n",
       "</style>\n",
       "<table border=\"1\" class=\"dataframe\">\n",
       "  <thead>\n",
       "    <tr style=\"text-align: right;\">\n",
       "      <th></th>\n",
       "      <th>text</th>\n",
       "      <th>label</th>\n",
       "      <th>text_noURLs</th>\n",
       "      <th>text_punct</th>\n",
       "      <th>text_removeRT</th>\n",
       "      <th>tokenized</th>\n",
       "      <th>nonstop</th>\n",
       "      <th>Tweet_lemmatized</th>\n",
       "      <th>stemmed</th>\n",
       "      <th>remove_less_freq</th>\n",
       "      <th>remove_less_freq_lemma</th>\n",
       "      <th>document</th>\n",
       "      <th>document_lemma</th>\n",
       "      <th>document_stemmed</th>\n",
       "    </tr>\n",
       "  </thead>\n",
       "  <tbody>\n",
       "    <tr>\n",
       "      <td>0</td>\n",
       "      <td>RT @HockeyinVegas: The @GoldenKnights'  Marc-A...</td>\n",
       "      <td>0.0</td>\n",
       "      <td>RT : The '  Marc-Andre Fleury was a full parti...</td>\n",
       "      <td>RT  The   MarcAndre Fleury was a full particip...</td>\n",
       "      <td>The   MarcAndre Fleury was  full participant...</td>\n",
       "      <td>[, the, marcandre, fleury, was, full, particip...</td>\n",
       "      <td>[, marcandre, fleury, full, participant, pract...</td>\n",
       "      <td>[, marcandre, fleury, full, participant, pract...</td>\n",
       "      <td>[, marcandr, fleuri, full, particip, practic, ...</td>\n",
       "      <td>[full, practic, today, miss, game, due]</td>\n",
       "      <td>[full, today, game, due]</td>\n",
       "      <td>full practic today miss game due</td>\n",
       "      <td>marcandre fleury full participant practice to...</td>\n",
       "      <td>marcandr fleuri full particip practic today m...</td>\n",
       "    </tr>\n",
       "    <tr>\n",
       "      <td>1</td>\n",
       "      <td>Pneumonia is dangerous guys it’s not the flu ,...</td>\n",
       "      <td>0.0</td>\n",
       "      <td>Pneumonia is dangerous guys it’s not the flu ,...</td>\n",
       "      <td>Pneumonia is dangerous guys it’s not the flu  ...</td>\n",
       "      <td>Pneumonia  dangerous guys ’ not the flu  look ...</td>\n",
       "      <td>[pneumonia, dangerous, guys, not, the, flu, lo...</td>\n",
       "      <td>[pneumonia, dangerous, guys, flu, look, job, m...</td>\n",
       "      <td>[pneumonia, dangerous, guy, flu, look, job, ma...</td>\n",
       "      <td>[pneumonia, danger, guy, flu, look, job, manag...</td>\n",
       "      <td>[pneumonia, danger, guy, flu, look, job, manag]</td>\n",
       "      <td>[pneumonia, guy, flu, look, job]</td>\n",
       "      <td>pneumonia danger guy flu look job manag</td>\n",
       "      <td>pneumonia dangerous guy flu look job manager r...</td>\n",
       "      <td>pneumonia danger guy flu look job manag replac...</td>\n",
       "    </tr>\n",
       "    <tr>\n",
       "      <td>2</td>\n",
       "      <td>I've lost 10 pounds in less than a week due to...</td>\n",
       "      <td>1.0</td>\n",
       "      <td>I've lost 10 pounds in less than a week due to...</td>\n",
       "      <td>Ive lost  pounds in less than a week due to th...</td>\n",
       "      <td>Ive lost  pounds  less than  week due  the amo...</td>\n",
       "      <td>[ive, lost, pounds, less, than, week, due, the...</td>\n",
       "      <td>[ive, lost, pounds, less, week, due, amount, t...</td>\n",
       "      <td>[ive, lost, pound, le, week, due, amount, time...</td>\n",
       "      <td>[ive, lost, pound, less, week, due, amount, ti...</td>\n",
       "      <td>[ive, lost, pound, less, week, due, time, ive,...</td>\n",
       "      <td>[ive, lost, pound, week, due, time, ive, sick,...</td>\n",
       "      <td>ive lost pound less week due time ive get sick...</td>\n",
       "      <td>ive lost pound le week due amount time ive get...</td>\n",
       "      <td>ive lost pound less week due amount time ive g...</td>\n",
       "    </tr>\n",
       "    <tr>\n",
       "      <td>3</td>\n",
       "      <td>RT @greatestjubilee: there was actually a whol...</td>\n",
       "      <td>0.0</td>\n",
       "      <td>RT : there was actually a whole compilation of...</td>\n",
       "      <td>RT  there was actually a whole compilation of ...</td>\n",
       "      <td>there was actually  whole compilation  ways ...</td>\n",
       "      <td>[, there, was, actually, whole, compilation, w...</td>\n",
       "      <td>[, actually, whole, compilation, ways, felt, l...</td>\n",
       "      <td>[, actually, whole, compilation, way, felt, la...</td>\n",
       "      <td>[, actual, whole, compil, way, felt, last, tim...</td>\n",
       "      <td>[actual, whole, way, felt, last, time, flu]</td>\n",
       "      <td>[whole, way, felt, last, time, flu]</td>\n",
       "      <td>actual whole way felt last time flu</td>\n",
       "      <td>actually whole compilation way felt last time...</td>\n",
       "      <td>actual whole compil way felt last time flu</td>\n",
       "    </tr>\n",
       "    <tr>\n",
       "      <td>4</td>\n",
       "      <td>RT @hitchcockherd: You can find a family in ne...</td>\n",
       "      <td>0.0</td>\n",
       "      <td>RT : You can find a family in need (whether it...</td>\n",
       "      <td>RT  You can find a family in need whether its ...</td>\n",
       "      <td>You can find  family  need whether its  baby...</td>\n",
       "      <td>[, you, can, find, family, need, whether, its,...</td>\n",
       "      <td>[, find, family, need, whether, baby, adopted,...</td>\n",
       "      <td>[, find, family, need, whether, baby, adopted,...</td>\n",
       "      <td>[, find, famili, need, whether, babi, adopt, f...</td>\n",
       "      <td>[find, famili, need, babi, mom, take, med]</td>\n",
       "      <td>[find, need, mom, med]</td>\n",
       "      <td>find famili need babi mom take med</td>\n",
       "      <td>find family need whether baby adopted fostere...</td>\n",
       "      <td>find famili need whether babi adopt foster mo...</td>\n",
       "    </tr>\n",
       "  </tbody>\n",
       "</table>\n",
       "</div>"
      ],
      "text/plain": [
       "                                                text  label  \\\n",
       "0  RT @HockeyinVegas: The @GoldenKnights'  Marc-A...    0.0   \n",
       "1  Pneumonia is dangerous guys it’s not the flu ,...    0.0   \n",
       "2  I've lost 10 pounds in less than a week due to...    1.0   \n",
       "3  RT @greatestjubilee: there was actually a whol...    0.0   \n",
       "4  RT @hitchcockherd: You can find a family in ne...    0.0   \n",
       "\n",
       "                                         text_noURLs  \\\n",
       "0  RT : The '  Marc-Andre Fleury was a full parti...   \n",
       "1  Pneumonia is dangerous guys it’s not the flu ,...   \n",
       "2  I've lost 10 pounds in less than a week due to...   \n",
       "3  RT : there was actually a whole compilation of...   \n",
       "4  RT : You can find a family in need (whether it...   \n",
       "\n",
       "                                          text_punct  \\\n",
       "0  RT  The   MarcAndre Fleury was a full particip...   \n",
       "1  Pneumonia is dangerous guys it’s not the flu  ...   \n",
       "2  Ive lost  pounds in less than a week due to th...   \n",
       "3  RT  there was actually a whole compilation of ...   \n",
       "4  RT  You can find a family in need whether its ...   \n",
       "\n",
       "                                       text_removeRT  \\\n",
       "0    The   MarcAndre Fleury was  full participant...   \n",
       "1  Pneumonia  dangerous guys ’ not the flu  look ...   \n",
       "2  Ive lost  pounds  less than  week due  the amo...   \n",
       "3    there was actually  whole compilation  ways ...   \n",
       "4    You can find  family  need whether its  baby...   \n",
       "\n",
       "                                           tokenized  \\\n",
       "0  [, the, marcandre, fleury, was, full, particip...   \n",
       "1  [pneumonia, dangerous, guys, not, the, flu, lo...   \n",
       "2  [ive, lost, pounds, less, than, week, due, the...   \n",
       "3  [, there, was, actually, whole, compilation, w...   \n",
       "4  [, you, can, find, family, need, whether, its,...   \n",
       "\n",
       "                                             nonstop  \\\n",
       "0  [, marcandre, fleury, full, participant, pract...   \n",
       "1  [pneumonia, dangerous, guys, flu, look, job, m...   \n",
       "2  [ive, lost, pounds, less, week, due, amount, t...   \n",
       "3  [, actually, whole, compilation, ways, felt, l...   \n",
       "4  [, find, family, need, whether, baby, adopted,...   \n",
       "\n",
       "                                    Tweet_lemmatized  \\\n",
       "0  [, marcandre, fleury, full, participant, pract...   \n",
       "1  [pneumonia, dangerous, guy, flu, look, job, ma...   \n",
       "2  [ive, lost, pound, le, week, due, amount, time...   \n",
       "3  [, actually, whole, compilation, way, felt, la...   \n",
       "4  [, find, family, need, whether, baby, adopted,...   \n",
       "\n",
       "                                             stemmed  \\\n",
       "0  [, marcandr, fleuri, full, particip, practic, ...   \n",
       "1  [pneumonia, danger, guy, flu, look, job, manag...   \n",
       "2  [ive, lost, pound, less, week, due, amount, ti...   \n",
       "3  [, actual, whole, compil, way, felt, last, tim...   \n",
       "4  [, find, famili, need, whether, babi, adopt, f...   \n",
       "\n",
       "                                    remove_less_freq  \\\n",
       "0            [full, practic, today, miss, game, due]   \n",
       "1    [pneumonia, danger, guy, flu, look, job, manag]   \n",
       "2  [ive, lost, pound, less, week, due, time, ive,...   \n",
       "3        [actual, whole, way, felt, last, time, flu]   \n",
       "4         [find, famili, need, babi, mom, take, med]   \n",
       "\n",
       "                              remove_less_freq_lemma  \\\n",
       "0                           [full, today, game, due]   \n",
       "1                   [pneumonia, guy, flu, look, job]   \n",
       "2  [ive, lost, pound, week, due, time, ive, sick,...   \n",
       "3                [whole, way, felt, last, time, flu]   \n",
       "4                             [find, need, mom, med]   \n",
       "\n",
       "                                            document  \\\n",
       "0                   full practic today miss game due   \n",
       "1            pneumonia danger guy flu look job manag   \n",
       "2  ive lost pound less week due time ive get sick...   \n",
       "3                actual whole way felt last time flu   \n",
       "4                 find famili need babi mom take med   \n",
       "\n",
       "                                      document_lemma  \\\n",
       "0   marcandre fleury full participant practice to...   \n",
       "1  pneumonia dangerous guy flu look job manager r...   \n",
       "2  ive lost pound le week due amount time ive get...   \n",
       "3   actually whole compilation way felt last time...   \n",
       "4   find family need whether baby adopted fostere...   \n",
       "\n",
       "                                    document_stemmed  \n",
       "0   marcandr fleuri full particip practic today m...  \n",
       "1  pneumonia danger guy flu look job manag replac...  \n",
       "2  ive lost pound less week due amount time ive g...  \n",
       "3        actual whole compil way felt last time flu   \n",
       "4   find famili need whether babi adopt foster mo...  "
      ]
     },
     "execution_count": 27,
     "metadata": {},
     "output_type": "execute_result"
    }
   ],
   "source": [
    "new.head()"
   ]
  },
  {
   "cell_type": "markdown",
   "metadata": {},
   "source": [
    "### Comparing what stemmed words looks like without removing less frequent words, "
   ]
  },
  {
   "cell_type": "code",
   "execution_count": 28,
   "metadata": {},
   "outputs": [
    {
     "name": "stdout",
     "output_type": "stream",
     "text": [
      "0      marcandr fleuri full particip practic today m...\n",
      "1     pneumonia danger guy flu look job manag replac...\n",
      "2     ive lost pound less week due amount time ive g...\n",
      "3           actual whole compil way felt last time flu \n",
      "4      find famili need whether babi adopt foster mo...\n",
      "                            ...                        \n",
      "63                 unit fastact insulin also enjoy flu \n",
      "65     stream tonight go relax get sleep gotta get f...\n",
      "69    flu kill white blood cell one job pleas start ...\n",
      "70      sit librari chair hour think healthi sorri man \n",
      "82                     took week flu put back bullshit \n",
      "Name: document_stemmed, Length: 2036, dtype: object\n"
     ]
    }
   ],
   "source": [
    "#comparing what stemmed words looks like without removing less frequent words\n",
    "print(new['document_stemmed'])             "
   ]
  },
  {
   "cell_type": "code",
   "execution_count": 29,
   "metadata": {},
   "outputs": [
    {
     "name": "stdout",
     "output_type": "stream",
     "text": [
      "0                      full practic today miss game due\n",
      "1               pneumonia danger guy flu look job manag\n",
      "2     ive lost pound less week due time ive get sick...\n",
      "3                   actual whole way felt last time flu\n",
      "4                    find famili need babi mom take med\n",
      "                            ...                        \n",
      "63                               insulin also enjoy flu\n",
      "65    stream tonight go get sleep gotta get flu auto...\n",
      "69        flu kill white blood cell one job pleas start\n",
      "70             sit librari hour think healthi sorri man\n",
      "82                      took week flu put back bullshit\n",
      "Name: document, Length: 2036, dtype: object\n"
     ]
    }
   ],
   "source": [
    "#stemmed words removing less \n",
    "print(new['document']) "
   ]
  },
  {
   "cell_type": "code",
   "execution_count": 30,
   "metadata": {},
   "outputs": [
    {
     "name": "stdout",
     "output_type": "stream",
     "text": [
      "0      marcandre fleury full participant practice to...\n",
      "1     pneumonia dangerous guy flu look job manager r...\n",
      "2     ive lost pound le week due amount time ive get...\n",
      "3      actually whole compilation way felt last time...\n",
      "4      find family need whether baby adopted fostere...\n",
      "                            ...                        \n",
      "63              unit fastacting insulin also enjoy flu \n",
      "65     stream tonight going relax get sleep gotta ge...\n",
      "69    flu killing white blood cell one job please st...\n",
      "70     sitting library chair hour think healthy sorr...\n",
      "82                     took week flu put back bullshit \n",
      "Name: document_lemma, Length: 2036, dtype: object\n"
     ]
    }
   ],
   "source": [
    "print(new['document_lemma'])"
   ]
  },
  {
   "cell_type": "code",
   "execution_count": 31,
   "metadata": {},
   "outputs": [
    {
     "name": "stdout",
     "output_type": "stream",
     "text": [
      "{'grade', 'expert', 'avail', 'find', 'would', 'appetit', 'left', 'influenza', 'amp', 'care', 'flushot', 'actual', 'he', 'mayb', 'remedi', 'chang', 'bore', 'jab', 'credit', 'respons', 'hey', 'problem', 'cannot', 'agre', 'alway', 'open', 'kinda', 'issu', 'danc', 'water', 'pregnant', 'vaccineswork', 'bed', 'throat', 'contagi', 'lead', 'free', 'follow', 'oklahoma', 'design', 'kick', 'bulli', 'air', 'experi', 'word', 'give', 'appar', 'awar', 'listen', 'tell', 'without', 'veteran', 'blame', 'babi', 'win', 'knock', 'whole', 'pharmacist', 'critic', 'info', 'next', 'liter', 'drink', 'jesu', 'sunday', 'scienc', 'needl', 'go', 'long', 'train', 'decid', 'tomorrow', 'person', 'bacteria', 'theyr', 'tuesday', 'post', 'drug', 'fan', 'med', 'physician', 'compromis', 'pig', 'money', 'turn', 'god', 'diagnos', 'anymor', 'nose', 'son', 'coldflu', 'spray', 'pleas', 'noth', 'kid', 'surgeri', 'age', 'cell', 'measl', 'activ', 'pack', 'surviv', 'fluseason', 'counti', 'import', 'member', 'harm', 'might', 'excit', 'studi', 'four', 'boy', 'total', 'realli', 'time', 'best', 'everi', 'monday', 'show', 'bird', 'librari', 'ago', 'employe', 'forget', 'diabet', 'well', 'lie', 'soon', 'boondock', 'refus', 'christma', 'check', 'woke', 'yeah', 'alreadi', 'cat', 'stop', 'came', 'death', 'extrem', 'case', 'spread', 'fast', 'probabl', 'boyfriend', 'singl', 'asthma', 'good', 'teacher', 'ach', 'even', 'leav', 'infect', 'side', 'cdc', 'sort', 'guy', 'call', 'truth', 'winter', 'earli', 'video', 'throw', 'prepar', 'strep', 'havent', 'lack', 'worri', 'send', 'deserv', 'research', 'ahead', 'also', 'avoid', 'look', 'quick', 'servic', 'nurs', 'need', 'edit', 'make', 'shift', 'inject', 'folk', 'night', 'mean', 'fri', 'period', 'tissu', 'point', 'joke', 'favorit', 'thought', 'sign', 'via', 'went', 'swine', 'tho', 'sit', 'act', 'chronic', 'kaiser', 'world', 'pharmaci', 'write', 'health', 'forecast', 'simpl', 'catch', 'note', 'worst', 'pneumonia', 'say', 'bodi', 'war', 'later', 'fluvaccin', 'bitch', 'put', 'place', 'current', 'count', 'heal', 'got', 'straight', 'nation', 'wash', 'prevent', 'read', 'wait', 'ultim', 'year', 'see', 'hour', 'differ', 'interest', 'ill', 'manag', 'sinc', 'group', 'germ', 'warm', 'prayer', 'sound', 'bro', 'reaction', 'constantli', 'pound', 'resist', 'medicin', 'older', 'anyon', 'benefit', 'human', 'natur', 'getvaccin', 'stori', 'stupid', 'freez', 'nasti', 'spend', 'friend', 'cours', 'public', 'despit', 'shout', 'pretti', 'wednesday', 'dear', 'relat', 'disappoint', 'red', 'system', 'weather', 'posit', 'support', 'blow', 'cough', 'class', 'guess', 'that', 'anyth', 'african', 'smile', 'less', 'children', 'heart', 'medic', 'fightflu', 'happi', 'symptom', 'semest', 'nov', 'men', 'headach', 'one', 'common', 'your', 'yet', 'think', 'weekend', 'vote', 'crazi', 'away', 'littl', 'tri', 'practic', 'wors', 'door', 'gun', 'event', 'polici', 'feel', 'gave', 'lol', 'busi', 'app', 'fight', 'antivaxx', 'hold', 'round', 'sore', 'screw', 'bring', 'treat', 'room', 'measur', 'sick', 'nigga', 'univers', 'pay', 'healthi', 'welcom', 'con', 'work', 'definit', 'reduc', 'bad', 'receiv', 'least', 'local', 'break', 'honestli', 'begin', 'effect', 'back', 'shame', 'miss', 'stay', 'told', 'safe', 'fulli', 'test', 'clinic', 'breath', 'vitamin', 'six', 'young', 'dont', 'bit', 'twice', 'cure', 'insulin', 'beat', 'market', 'si', 'hot', 'move', 'wonder', 'drive', 'rid', 'fire', 'love', 'women', 'fever', 'omg', 'town', 'minut', 'ice', 'like', 'trump', 'month', 'gym', 'student', 'doctor', 'usual', 'someon', 'hous', 'ear', 'food', 'talk', 'camp', 'complic', 'skin', 'futur', 'detain', 'three', 'everyth', 'deni', 'viru', 'encourag', 'step', 'great', 'hear', 'fuck', 'dog', 'girl', 'fitzhenri', 'ye', 'china', 'given', 'use', 'bronchiti', 'respiratori', 'insur', 'past', 'canada', 'famili', 'mind', 'push', 'anim', 'shock', 'due', 'remind', 'offic', 'twitter', 'deal', 'suck', 'believ', 'fact', 'absolut', 'high', 'tip', 'she', 'last', 'travel', 'wont', 'allergi', 'book', 'expect', 'though', 'handl', 'virus', 'took', 'bandaid', 'john', 'husband', 'vaccin', 'paid', 'alon', 'watch', 'recommend', 'hand', 'commun', 'cri', 'seriou', 'old', 'set', 'enjoy', 'gain', 'rememb', 'elderli', 'abl', 'rather', 'isnt', 'strain', 'anoth', 'walk', 'product', 'share', 'poor', 'border', 'togeth', 'other', 'autoimmun', 'els', 'peopl', 'coupl', 'normal', 'moment', 'within', 'top', 'must', 'estim', 'viral', 'end', 'found', 'thi', 'much', 'real', 'gonna', 'serious', 'know', 'power', 'fullblown', 'stream', 'diseas', 'two', 'save', 'skip', 'argu', 'done', 'full', 'ass', 'everyon', 'okay', 'felt', 'sever', 'exactli', 'cover', 'doesnt', 'million', 'holiday', 'face', 'dude', 'bullshit', 'cant', 'smh', 'die', 'life', 'arm', 'dead', 'disgust', 'sleep', 'mine', 'mouth', 'fall', 'doubl', 'cancer', 'thank', 'oil', 'forward', 'play', 'mom', 'american', 'antibiot', 'get', 'finna', 'poison', 'plan', 'week', 'near', 'car', 'wit', 'take', 'child', 'drop', 'job', 'almost', 'mental', 'suppos', 'pandem', 'didnt', 'pain', 'stomach', 'provid', 'news', 'flu', 'far', 'nap', 'better', 'man', 'longer', 'want', 'swear', 'meet', 'daughter', 'thing', 'celebr', 'hors', 'amaz', 'visit', 'around', 'happen', 'white', 'chicken', 'wanna', 'quit', 'team', 'nh', 'right', 'sorri', 'suffer', 'hope', 'small', 'learn', 'mani', 'clean', 'readi', 'yall', 'blood', 'continu', 'order', 'day', 'weak', 'type', 'key', 'extra', 'offici', 'caught', 'daili', 'instead', 'includ', 'run', 'second', 'street', 'fun', 'buy', 'stuff', 'america', 'lmao', 'south', 'zero', 'fake', 'pregnanc', 'eat', 'especi', 'bug', 'bet', 'hell', 'enter', 'dream', 'facebook', 'could', 'touch', 'game', 'reason', 'gener', 'damn', 'excus', 'birthday', 'hospit', 'evil', 'often', 'ignor', 'develop', 'ive', 'anyway', 'season', 'becom', 'heard', 'explain', 'suggest', 'complet', 'let', 'twist', 'wish', 'contract', 'countri', 'school', 'staff', 'mad', 'youv', 'lost', 'way', 'big', 'admit', 'higher', 'short', 'list', 'possibl', 'annual', 'new', 'gotta', 'final', 'epidem', 'price', 'imma', 'join', 'haha', 'there', 'risk', 'parti', 'state', 'report', 'ladi', 'home', 'shit', 'sister', 'protect', 'pass', 'episod', 'chanc', 'idea', 'myth', 'ever', 'imagin', 'outbreak', 'lot', 'consent', 'wrong', 'someth', 'dump', 'hurt', 'cool', 'hard', 'head', 'danger', 'never', 'start', 'rip', 'said', 'recent', 'exercis', 'stage', 'cut', 'half', 'gone', 'democrat', 'name', 'question', 'come', 'offer', 'massag', 'ingredi', 'answer', 'host', 'sure', 'part', 'tonight', 'still', 'yesterday', 'patient', 'live', 'kiss', 'friday', 'pic', 'forc', 'caus', 'late', 'ask', 'tire', 'novemb', 'rest', 'may', 'super', 'keep', 'depress', 'immun', 'either', 'relief', 'wtf', 'made', 'adult', 'psa', 'seem', 'lab', 'farmer', 'halloween', 'form', 'help', 'younger', 'pl', 'eye', 'low', 'shot', 'today', 'return', 'morn', 'nobodi', 'enough', 'fool', 'hit', 'pray', 'ugh', 'gotten', 'cold', 'first', 'speak', 'exposur', 'sneez', 'tweet', 'kill', 'insid', 'recov', 'candi', 'control', 'hate', 'condit'}\n"
     ]
    }
   ],
   "source": [
    "list_unique= set(list(itertools.chain.from_iterable(new['remove_less_freq'])))\n",
    "print (list_unique)"
   ]
  },
  {
   "cell_type": "markdown",
   "metadata": {},
   "source": [
    "# I want to visualize the top 20 ngrams for the tweets we've collected. N-grams using the CountVectorizer helps us create bigrams and trigrams. A bigram makes a prediction for a word based on the one before, and a trigram makes a prediction for the word based on the two words before tha"
   ]
  },
  {
   "cell_type": "code",
   "execution_count": 32,
   "metadata": {},
   "outputs": [
    {
     "name": "stdout",
     "output_type": "stream",
     "text": [
      "flu 1382\n",
      "shot 415\n",
      "sick 266\n",
      "got 194\n",
      "vaccin 151\n",
      "like 124\n",
      "season 110\n",
      "year 108\n",
      "cold 104\n",
      "time 102\n",
      "day 96\n",
      "peopl 91\n",
      "today 84\n",
      "feel 79\n",
      "know 73\n",
      "work 69\n",
      "week 66\n",
      "make 63\n",
      "need 61\n",
      "fuck 61\n"
     ]
    },
    {
     "data": {
      "image/png": "[encoded data removed]",
      "text/plain": [
       "<Figure size 1080x720 with 1 Axes>"
      ]
     },
     "metadata": {
      "needs_background": "light"
     },
     "output_type": "display_data"
    }
   ],
   "source": [
    "def get_top_n_words(corpus, n=None):\n",
    "    vec = CountVectorizer(stop_words = 'english').fit(corpus)\n",
    "    bag_of_words = vec.transform(corpus)\n",
    "    sum_words = bag_of_words.sum(axis=0) \n",
    "    words_freq = [(word, sum_words[0, idx]) for word, idx in vec.vocabulary_.items()]\n",
    "    words_freq =sorted(words_freq, key = lambda x: x[1], reverse=True)\n",
    "    return words_freq[:n]\n",
    "common_words = get_top_n_words(new['document'], 20)\n",
    "for word, freq in common_words:\n",
    "    print(word, freq)\n",
    "df2 = pd.DataFrame(common_words, columns = ['text' , 'count'])\n",
    "plt.figure(figsize=(15,10))\n",
    "df2.groupby('text').sum()['count'].sort_values(ascending=False).plot(\n",
    "    kind='bar', title='Top 20 words in tweets after removing stop words')\n",
    "plt.show()"
   ]
  },
  {
   "cell_type": "code",
   "execution_count": 33,
   "metadata": {},
   "outputs": [
    {
     "name": "stdout",
     "output_type": "stream",
     "text": [
      "flu shot 394\n",
      "get flu 207\n",
      "got flu 103\n",
      "flu season 81\n",
      "flu vaccin 79\n",
      "cold flu 50\n",
      "flu jab 38\n",
      "stomach flu 31\n",
      "get sick 25\n",
      "feel like 25\n",
      "swine flu 20\n",
      "get vaccin 19\n",
      "like flu 18\n",
      "give flu 17\n",
      "free flu 17\n",
      "catch flu 14\n",
      "amp flu 14\n",
      "sick flu 14\n",
      "shot today 13\n",
      "make sure 13\n"
     ]
    },
    {
     "data": {
      "image/png": "[encoded data removed]",
      "text/plain": [
       "<Figure size 1080x720 with 1 Axes>"
      ]
     },
     "metadata": {
      "needs_background": "light"
     },
     "output_type": "display_data"
    }
   ],
   "source": [
    "def get_top_n_bigram(corpus, n=None):\n",
    "    vec = CountVectorizer(ngram_range=(2, 2)).fit(corpus)\n",
    "    bag_of_words = vec.transform(corpus)\n",
    "    sum_words = bag_of_words.sum(axis=0) \n",
    "    words_freq = [(word, sum_words[0, idx]) for word, idx in vec.vocabulary_.items()]\n",
    "    words_freq =sorted(words_freq, key = lambda x: x[1], reverse=True)\n",
    "    return words_freq[:n]\n",
    "common_words = get_top_n_bigram(new['document'], 20)\n",
    "for word, freq in common_words:\n",
    "    print(word, freq)\n",
    "df3 = pd.DataFrame(common_words, columns = ['text' , 'count'])\n",
    "plt.figure(figsize=(15,10))\n",
    "df3.groupby('text').sum()['count'].sort_values(ascending=False).plot(\n",
    "    kind='bar', title='Top 20 bigrams in review before removing stop words')\n",
    "plt.show()"
   ]
  },
  {
   "cell_type": "code",
   "execution_count": 34,
   "metadata": {},
   "outputs": [
    {
     "name": "stdout",
     "output_type": "stream",
     "text": [
      "got flu shot 58\n",
      "flu shot today 15\n",
      "cold flu season 14\n",
      "fri chicken flu 11\n",
      "flu shot clinic 11\n",
      "cold amp flu 11\n",
      "flu shot flu 10\n",
      "flu shot protect 9\n",
      "flu shot year 9\n",
      "instead flu shot 8\n",
      "year flu shot 7\n",
      "free flu shot 7\n",
      "flu vaccin today 7\n",
      "gotten flu shot 6\n",
      "flu shot time 6\n",
      "free flu jab 6\n",
      "flu flu shot 5\n",
      "went flu shot 5\n",
      "feel better soon 5\n",
      "year flu season 5\n"
     ]
    },
    {
     "data": {
      "image/png": "[encoded data removed]",
      "text/plain": [
       "<Figure size 1080x720 with 1 Axes>"
      ]
     },
     "metadata": {
      "needs_background": "light"
     },
     "output_type": "display_data"
    }
   ],
   "source": [
    "def get_top_n_trigram(corpus, n=None):\n",
    "    vec = CountVectorizer(ngram_range=(3, 3), stop_words='english').fit(corpus)\n",
    "    bag_of_words = vec.transform(corpus)\n",
    "    sum_words = bag_of_words.sum(axis=0) \n",
    "    words_freq = [(word, sum_words[0, idx]) for word, idx in vec.vocabulary_.items()]\n",
    "    words_freq =sorted(words_freq, key = lambda x: x[1], reverse=True)\n",
    "    return words_freq[:n]\n",
    "common_words = get_top_n_trigram(new['document'], 20)\n",
    "for word, freq in common_words:\n",
    "    print(word, freq)\n",
    "df4 = pd.DataFrame(common_words, columns = ['text' , 'count'])\n",
    "plt.figure(figsize=(15,10))\n",
    "df4.groupby('text').sum()['count'].sort_values(ascending=False).plot(\n",
    "    kind='bar', title='Top 20 trigrams in review after removing stop words')\n",
    "plt.show()"
   ]
  },
  {
   "cell_type": "markdown",
   "metadata": {},
   "source": [
    "# Defining our bag of words\n",
    "\n",
    "### Using bag of words with our unique list of words and trying out lemmatized ,stemmed documents. Let's see which ones will get better scores. "
   ]
  },
  {
   "cell_type": "code",
   "execution_count": 35,
   "metadata": {},
   "outputs": [],
   "source": [
    "from sklearn.feature_extraction.text import CountVectorizer\n",
    "cv=CountVectorizer(list_unique)\n",
    "#remember that our 'document is from stemmed tweets with frequent words removed'\n",
    "count_vector=cv.fit_transform(new['document'])\n",
    "count_vectordf= pd.DataFrame(count_vector.toarray())\n",
    "count_vectordf.columns= cv.get_feature_names()"
   ]
  },
  {
   "cell_type": "code",
   "execution_count": 36,
   "metadata": {},
   "outputs": [
    {
     "name": "stdout",
     "output_type": "stream",
     "text": [
      "   abl  absolut  ach  act  activ  actual  admit  adult  african  age  ...  ye  \\\n",
      "0    0        0    0    0      0       0      0      0        0    0  ...   0   \n",
      "1    0        0    0    0      0       0      0      0        0    0  ...   0   \n",
      "2    0        0    0    0      0       0      0      0        0    0  ...   0   \n",
      "3    0        0    0    0      0       1      0      0        0    0  ...   0   \n",
      "4    0        0    0    0      0       0      0      0        0    0  ...   0   \n",
      "5    0        0    0    0      0       0      0      0        0    0  ...   0   \n",
      "6    0        0    0    0      0       0      0      0        0    0  ...   0   \n",
      "7    0        0    0    0      0       0      0      0        0    0  ...   0   \n",
      "8    0        0    0    0      0       0      0      0        0    0  ...   0   \n",
      "9    0        0    0    0      0       0      0      0        0    0  ...   0   \n",
      "\n",
      "   yeah  year  yesterday  yet  young  younger  your  youv  zero  \n",
      "0     0     0          0    0      0        0     0     0     0  \n",
      "1     0     0          0    0      0        0     0     0     0  \n",
      "2     0     0          0    0      0        0     0     0     0  \n",
      "3     0     0          0    0      0        0     0     0     0  \n",
      "4     0     0          0    0      0        0     0     0     0  \n",
      "5     0     0          0    0      0        0     0     0     0  \n",
      "6     0     0          0    0      0        0     0     0     0  \n",
      "7     0     0          0    0      0        0     0     0     0  \n",
      "8     0     0          0    0      0        0     0     0     0  \n",
      "9     0     0          0    0      0        0     0     0     0  \n",
      "\n",
      "[10 rows x 779 columns]\n"
     ]
    }
   ],
   "source": [
    "print (count_vectordf[:10])"
   ]
  },
  {
   "cell_type": "markdown",
   "metadata": {},
   "source": [
    "# Logistic Regression with BOW\n",
    "\n"
   ]
  },
  {
   "cell_type": "code",
   "execution_count": 37,
   "metadata": {},
   "outputs": [],
   "source": [
    "from sklearn.model_selection import train_test_split\n",
    "X_train, X_test, y_train, y_test = train_test_split(count_vectordf, new['label'], test_size=0.20, random_state=42)"
   ]
  },
  {
   "cell_type": "code",
   "execution_count": 38,
   "metadata": {},
   "outputs": [
    {
     "name": "stderr",
     "output_type": "stream",
     "text": [
      "/Library/Frameworks/Python.framework/Versions/3.7/lib/python3.7/site-packages/sklearn/linear_model/logistic.py:432: FutureWarning: Default solver will be changed to 'lbfgs' in 0.22. Specify a solver to silence this warning.\n",
      "  FutureWarning)\n"
     ]
    }
   ],
   "source": [
    "from sklearn.linear_model import LogisticRegression\n",
    "\n",
    "lr=LogisticRegression()\n",
    "logreg=lr.fit(X_train, y_train)"
   ]
  },
  {
   "cell_type": "code",
   "execution_count": 39,
   "metadata": {},
   "outputs": [
    {
     "name": "stdout",
     "output_type": "stream",
     "text": [
      "[0.8597561  0.85276074 0.87116564 0.86503067 0.82822086 0.85889571\n",
      " 0.81595092 0.86419753 0.83333333 0.82716049]\n"
     ]
    }
   ],
   "source": [
    "predicted = (cross_val_score(LogisticRegression(solver= 'lbfgs'), X_train, y_train, cv=10))\n",
    "print (predicted)"
   ]
  },
  {
   "cell_type": "code",
   "execution_count": 40,
   "metadata": {},
   "outputs": [
    {
     "name": "stdout",
     "output_type": "stream",
     "text": [
      "              precision    recall  f1-score   support\n",
      "\n",
      "         0.0       0.89      0.97      0.93       346\n",
      "         1.0       0.65      0.35      0.46        62\n",
      "\n",
      "    accuracy                           0.87       408\n",
      "   macro avg       0.77      0.66      0.69       408\n",
      "weighted avg       0.86      0.87      0.86       408\n",
      "\n",
      "Accuracy: 0.8725490196078431\n"
     ]
    },
    {
     "data": {
      "image/png": "[encoded data removed]",
      "text/plain": [
       "<Figure size 432x288 with 1 Axes>"
      ]
     },
     "metadata": {
      "needs_background": "light"
     },
     "output_type": "display_data"
    }
   ],
   "source": [
    "y_pred= logreg.predict(X_test)\n",
    "mat = confusion_matrix(y_test, y_pred)\n",
    "sns.heatmap(mat.T, square=True, annot=True, fmt='d', cmap= 'RdBu', cbar=False,\n",
    "            xticklabels=['no flu', 'flu'], yticklabels=['no flu', 'flu'])\n",
    "plt.xlabel('true label')\n",
    "plt.ylabel('predicted label');\n",
    "\n",
    "import sklearn.metrics as metrics\n",
    "from sklearn.metrics import classification_report\n",
    "print(classification_report(y_test, y_pred))\n",
    "print('Accuracy:', metrics.accuracy_score(y_test, y_pred))"
   ]
  },
  {
   "cell_type": "markdown",
   "metadata": {},
   "source": [
    "# Naive Bayes with BOW"
   ]
  },
  {
   "cell_type": "code",
   "execution_count": 41,
   "metadata": {},
   "outputs": [],
   "source": [
    "naive_bayes = MultinomialNB()\n",
    "naive_bayes.fit(X_train, y_train)\n",
    "y_pred = naive_bayes.predict(X_test)"
   ]
  },
  {
   "cell_type": "code",
   "execution_count": 42,
   "metadata": {},
   "outputs": [
    {
     "name": "stdout",
     "output_type": "stream",
     "text": [
      "[0.82926829 0.84662577 0.85276074 0.77300613 0.80368098 0.7791411\n",
      " 0.80368098 0.7962963  0.7962963  0.82098765]\n"
     ]
    }
   ],
   "source": [
    "predicted = (cross_val_score(naive_bayes, X_train, y_train, cv=10))\n",
    "print (predicted)"
   ]
  },
  {
   "cell_type": "code",
   "execution_count": 43,
   "metadata": {},
   "outputs": [
    {
     "name": "stdout",
     "output_type": "stream",
     "text": [
      "              precision    recall  f1-score   support\n",
      "\n",
      "         0.0       0.87      0.91      0.89       346\n",
      "         1.0       0.34      0.26      0.29        62\n",
      "\n",
      "    accuracy                           0.81       408\n",
      "   macro avg       0.61      0.58      0.59       408\n",
      "weighted avg       0.79      0.81      0.80       408\n",
      "\n",
      "Accuracy: 0.8112745098039216\n"
     ]
    },
    {
     "data": {
      "image/png": "[encoded data removed]",
      "text/plain": [
       "<Figure size 432x288 with 1 Axes>"
      ]
     },
     "metadata": {
      "needs_background": "light"
     },
     "output_type": "display_data"
    }
   ],
   "source": [
    "print(classification_report(y_test, y_pred))\n",
    "print('Accuracy:', metrics.accuracy_score(y_test, y_pred))\n",
    "\n",
    "mat = confusion_matrix(y_test, y_pred)\n",
    "sns.heatmap(mat.T, square=True, annot=True, fmt='d', cmap= 'RdBu', cbar=False,\n",
    "            xticklabels=['no flu', 'flu'], yticklabels=['no flu', 'flu'])\n",
    "\n",
    "plt.xlabel('true label')\n",
    "plt.ylabel('predicted label');"
   ]
  },
  {
   "cell_type": "markdown",
   "metadata": {},
   "source": [
    "## Logistic Regression with BOW Lemma"
   ]
  },
  {
   "cell_type": "code",
   "execution_count": 44,
   "metadata": {},
   "outputs": [],
   "source": [
    "cv=CountVectorizer(list_unique)\n",
    "count_vector=cv.fit_transform(new['document_lemma'])\n",
    "count_vectordf= pd.DataFrame(count_vector.toarray())\n",
    "count_vectordf.columns= cv.get_feature_names()"
   ]
  },
  {
   "cell_type": "code",
   "execution_count": 45,
   "metadata": {},
   "outputs": [
    {
     "name": "stderr",
     "output_type": "stream",
     "text": [
      "/Library/Frameworks/Python.framework/Versions/3.7/lib/python3.7/site-packages/sklearn/linear_model/logistic.py:432: FutureWarning: Default solver will be changed to 'lbfgs' in 0.22. Specify a solver to silence this warning.\n",
      "  FutureWarning)\n"
     ]
    },
    {
     "name": "stdout",
     "output_type": "stream",
     "text": [
      "[0.8597561  0.85276074 0.86503067 0.85889571 0.82208589 0.86503067\n",
      " 0.81595092 0.87037037 0.83950617 0.85802469]\n"
     ]
    }
   ],
   "source": [
    "X_train, X_test, y_train, y_test = train_test_split(count_vectordf, new['label'], test_size=0.20, random_state=42)\n",
    "lr=LogisticRegression()\n",
    "logreg=lr.fit(X_train, y_train)\n",
    "predicted = (cross_val_score(LogisticRegression(solver= 'lbfgs'), X_train, y_train, cv=10))\n",
    "print (predicted)"
   ]
  },
  {
   "cell_type": "code",
   "execution_count": 46,
   "metadata": {},
   "outputs": [
    {
     "name": "stdout",
     "output_type": "stream",
     "text": [
      "              precision    recall  f1-score   support\n",
      "\n",
      "         0.0       0.88      0.96      0.92       346\n",
      "         1.0       0.56      0.29      0.38        62\n",
      "\n",
      "    accuracy                           0.86       408\n",
      "   macro avg       0.72      0.62      0.65       408\n",
      "weighted avg       0.83      0.86      0.84       408\n",
      "\n",
      "Accuracy: 0.8578431372549019\n"
     ]
    },
    {
     "data": {
      "image/png": "[encoded data removed]",
      "text/plain": [
       "<Figure size 432x288 with 1 Axes>"
      ]
     },
     "metadata": {
      "needs_background": "light"
     },
     "output_type": "display_data"
    }
   ],
   "source": [
    "y_pred= lr.predict(X_test)\n",
    "mat = confusion_matrix(y_test, y_pred)\n",
    "sns.heatmap(mat.T, square=True, annot=True, fmt='d', cmap= 'RdBu', cbar=False,\n",
    "            xticklabels=['no flu', 'flu'], yticklabels=['no flu', 'flu'])\n",
    "plt.xlabel('true label')\n",
    "plt.ylabel('predicted label');\n",
    "\n",
    "import sklearn.metrics as metrics\n",
    "from sklearn.metrics import classification_report\n",
    "print(classification_report(y_test, y_pred))\n",
    "print('Accuracy:', metrics.accuracy_score(y_test, y_pred))"
   ]
  },
  {
   "cell_type": "markdown",
   "metadata": {},
   "source": [
    "# Naive Bayes with BOW Lemma"
   ]
  },
  {
   "cell_type": "code",
   "execution_count": 47,
   "metadata": {},
   "outputs": [],
   "source": [
    "from sklearn.naive_bayes import MultinomialNB\n",
    "naive_bayes = MultinomialNB()\n",
    "naive_bayes.fit(X_train, y_train)\n",
    "y_pred = naive_bayes.predict(X_test)"
   ]
  },
  {
   "cell_type": "code",
   "execution_count": 48,
   "metadata": {},
   "outputs": [
    {
     "name": "stdout",
     "output_type": "stream",
     "text": [
      "[0.73780488 0.7791411  0.78527607 0.80368098 0.76687117 0.7607362\n",
      " 0.74233129 0.79012346 0.74691358 0.77160494]\n"
     ]
    }
   ],
   "source": [
    "predicted = (cross_val_score(naive_bayes, X_train, y_train, cv=10))\n",
    "print (predicted)"
   ]
  },
  {
   "cell_type": "code",
   "execution_count": 49,
   "metadata": {},
   "outputs": [
    {
     "name": "stdout",
     "output_type": "stream",
     "text": [
      "              precision    recall  f1-score   support\n",
      "\n",
      "         0.0       0.87      0.88      0.87       346\n",
      "         1.0       0.27      0.24      0.25        62\n",
      "\n",
      "    accuracy                           0.78       408\n",
      "   macro avg       0.57      0.56      0.56       408\n",
      "weighted avg       0.78      0.78      0.78       408\n",
      "\n",
      "Accuracy: 0.7843137254901961\n"
     ]
    },
    {
     "data": {
      "image/png": "[encoded data removed]",
      "text/plain": [
       "<Figure size 432x288 with 1 Axes>"
      ]
     },
     "metadata": {
      "needs_background": "light"
     },
     "output_type": "display_data"
    }
   ],
   "source": [
    "print(classification_report(y_test, y_pred))\n",
    "print('Accuracy:', metrics.accuracy_score(y_test, y_pred))\n",
    "\n",
    "mat = confusion_matrix(y_test, y_pred)\n",
    "sns.heatmap(mat.T, square=True, annot=True, fmt='d', cmap= 'RdBu', cbar=False,\n",
    "            xticklabels=['no flu', 'flu'], yticklabels=['no flu', 'flu'])\n",
    "\n",
    "plt.xlabel('true label')\n",
    "plt.ylabel('predicted label');"
   ]
  },
  {
   "cell_type": "markdown",
   "metadata": {},
   "source": [
    "# Using TF-IDF"
   ]
  },
  {
   "cell_type": "code",
   "execution_count": 50,
   "metadata": {},
   "outputs": [],
   "source": [
    "\n",
    "X_train, X_test, y_train, y_test = train_test_split(new['document'], \n",
    "                                                    new['label'], \n",
    "                                                    test_size=0.25, \n",
    "                                                    random_state=0)"
   ]
  },
  {
   "cell_type": "code",
   "execution_count": 51,
   "metadata": {},
   "outputs": [
    {
     "name": "stdout",
     "output_type": "stream",
     "text": [
      "Number of features: 705\n"
     ]
    }
   ],
   "source": [
    "# Split original into train and test, used to look at text later\n",
    "from sklearn.feature_extraction import text\n",
    "punc = ['.', ',', '\"', \"'\", '?', '!', ':', ';', '(', ')', '[', ']', '{', '}',\"%\", 'pron']\n",
    "stop_words = text.ENGLISH_STOP_WORDS.union(punc)\n",
    "\n",
    "#creating our Tf_idf vectorizer\n",
    "vectorizer_tfidf = TfidfVectorizer(list_unique,\n",
    "    max_features= 2000, # drop words that occur in more than this % of paragraphs\n",
    "                             #min_df=1# only use words that appear at least 10 times\n",
    "                             stop_words=stop_words, \n",
    "                             lowercase=True, #convert everything to lower case\n",
    "                             use_idf=True,#we definitely want to use inverse document frequencies in our weighting\n",
    "                             norm=u'l2', #Applies a correction factor so that longer paragraphs and shorter paragraphs get treated equally\n",
    "                             smooth_idf=True #Adds 1 to all document frequencies, as if an extra document existed that used every word once.  Prevents divide-by-zero errors\n",
    "                            )\n",
    "\n",
    "\n",
    "# Fit and transform training data set, only transform test\n",
    "X_train_tfidf = vectorizer_tfidf.fit_transform(X_train)\n",
    "X_test_tfidf = vectorizer_tfidf.transform(X_test)\n",
    "\n",
    "print(\"Number of features: %d\" % X_train_tfidf.get_shape()[1])"
   ]
  },
  {
   "cell_type": "markdown",
   "metadata": {},
   "source": [
    "# Logistic Regression with TF-IDF"
   ]
  },
  {
   "cell_type": "code",
   "execution_count": 52,
   "metadata": {},
   "outputs": [
    {
     "name": "stderr",
     "output_type": "stream",
     "text": [
      "/Library/Frameworks/Python.framework/Versions/3.7/lib/python3.7/site-packages/sklearn/linear_model/logistic.py:432: FutureWarning: Default solver will be changed to 'lbfgs' in 0.22. Specify a solver to silence this warning.\n",
      "  FutureWarning)\n"
     ]
    }
   ],
   "source": [
    "from sklearn.linear_model import LogisticRegression\n",
    "\n",
    "lr=LogisticRegression()\n",
    "\n",
    "logreg=lr.fit(X_train_tfidf, y_train)"
   ]
  },
  {
   "cell_type": "code",
   "execution_count": 53,
   "metadata": {},
   "outputs": [
    {
     "name": "stdout",
     "output_type": "stream",
     "text": [
      "Training set score: 0.8533071381794368\n"
     ]
    }
   ],
   "source": [
    "print('Training set score:', lr.score(X_train_tfidf, y_train))"
   ]
  },
  {
   "cell_type": "code",
   "execution_count": 54,
   "metadata": {},
   "outputs": [
    {
     "name": "stderr",
     "output_type": "stream",
     "text": [
      "/Library/Frameworks/Python.framework/Versions/3.7/lib/python3.7/site-packages/sklearn/linear_model/logistic.py:432: FutureWarning: Default solver will be changed to 'lbfgs' in 0.22. Specify a solver to silence this warning.\n",
      "  FutureWarning)\n"
     ]
    },
    {
     "name": "stdout",
     "output_type": "stream",
     "text": [
      "[0.83766234 0.79738562 0.83006536 0.83006536 0.83660131 0.84313725\n",
      " 0.84868421 0.84210526 0.84210526 0.84210526]\n"
     ]
    }
   ],
   "source": [
    "predicted = (cross_val_score(LogisticRegression(), X_train_tfidf, y_train, cv=10))\n",
    "print (predicted)"
   ]
  },
  {
   "cell_type": "code",
   "execution_count": 55,
   "metadata": {},
   "outputs": [
    {
     "name": "stdout",
     "output_type": "stream",
     "text": [
      "              precision    recall  f1-score   support\n",
      "\n",
      "         0.0       0.84      1.00      0.91       426\n",
      "         1.0       0.67      0.02      0.05        83\n",
      "\n",
      "    accuracy                           0.84       509\n",
      "   macro avg       0.75      0.51      0.48       509\n",
      "weighted avg       0.81      0.84      0.77       509\n",
      "\n",
      "Accuracy: 0.8388998035363457\n"
     ]
    },
    {
     "data": {
      "image/png": "[encoded data removed]",
      "text/plain": [
       "<Figure size 432x288 with 1 Axes>"
      ]
     },
     "metadata": {
      "needs_background": "light"
     },
     "output_type": "display_data"
    }
   ],
   "source": [
    "y_pred= logreg.predict(X_test_tfidf)\n",
    "print(classification_report(y_test, y_pred))\n",
    "print('Accuracy:', metrics.accuracy_score(y_test, y_pred))\n",
    "\n",
    "mat = confusion_matrix(y_test, y_pred)\n",
    "sns.heatmap(mat.T, square=True, annot=True, fmt='d', cmap= 'RdBu', cbar=False,\n",
    "            xticklabels=['no flu', 'flu'], yticklabels=['no flu', 'flu'])\n",
    "\n",
    "plt.xlabel('true label')\n",
    "plt.ylabel('predicted label');"
   ]
  },
  {
   "cell_type": "markdown",
   "metadata": {},
   "source": [
    "# Naive Bayes with TF-IDF"
   ]
  },
  {
   "cell_type": "code",
   "execution_count": 56,
   "metadata": {},
   "outputs": [
    {
     "name": "stdout",
     "output_type": "stream",
     "text": [
      "Training set score: 0.8519973804846104\n"
     ]
    }
   ],
   "source": [
    "naive_bayes = MultinomialNB()\n",
    "naive_bayes.fit(X_train_tfidf, y_train)\n",
    "print('Training set score:', naive_bayes.score(X_train_tfidf, y_train))"
   ]
  },
  {
   "cell_type": "code",
   "execution_count": 57,
   "metadata": {},
   "outputs": [
    {
     "name": "stdout",
     "output_type": "stream",
     "text": [
      "[0.83116883 0.83660131 0.83006536 0.83660131 0.84313725 0.84313725\n",
      " 0.84210526 0.84210526 0.84868421 0.84868421]\n"
     ]
    }
   ],
   "source": [
    "predicted = (cross_val_score(MultinomialNB(), X_train_tfidf, y_train, cv=10))\n",
    "print (predicted)"
   ]
  },
  {
   "cell_type": "code",
   "execution_count": 58,
   "metadata": {},
   "outputs": [
    {
     "name": "stdout",
     "output_type": "stream",
     "text": [
      "              precision    recall  f1-score   support\n",
      "\n",
      "         0.0       0.84      1.00      0.91       426\n",
      "         1.0       0.00      0.00      0.00        83\n",
      "\n",
      "    accuracy                           0.83       509\n",
      "   macro avg       0.42      0.50      0.46       509\n",
      "weighted avg       0.70      0.83      0.76       509\n",
      "\n",
      "Accuracy: 0.8349705304518664\n"
     ]
    },
    {
     "data": {
      "image/png": "[encoded data removed]",
      "text/plain": [
       "<Figure size 432x288 with 1 Axes>"
      ]
     },
     "metadata": {
      "needs_background": "light"
     },
     "output_type": "display_data"
    }
   ],
   "source": [
    "y_pred= naive_bayes.predict(X_test_tfidf)\n",
    "print(classification_report(y_test, y_pred))\n",
    "print('Accuracy:', metrics.accuracy_score(y_test, y_pred))\n",
    "\n",
    "mat = confusion_matrix(y_test, y_pred)\n",
    "sns.heatmap(mat.T, square=True, annot=True, fmt='d', cmap= 'RdBu', cbar=False,\n",
    "            xticklabels=['no flu', 'flu'], yticklabels=['no flu', 'flu'])\n",
    "\n",
    "plt.xlabel('true label')\n",
    "plt.ylabel('predicted label');"
   ]
  },
  {
   "cell_type": "markdown",
   "metadata": {},
   "source": [
    "# So far, Logistic Regression with BOW has the highest score when used with stemmed words and unique set of words. But what about bigrams and trigrams? Will this produce better scores than BOW? "
   ]
  },
  {
   "cell_type": "markdown",
   "metadata": {},
   "source": [
    "### Logistic Regression with Bigrams"
   ]
  },
  {
   "cell_type": "code",
   "execution_count": 59,
   "metadata": {},
   "outputs": [],
   "source": [
    "# Using bigrams \n",
    "cv=CountVectorizer(list_unique, ngram_range=(2, 2))\n",
    "count_vector= cv.fit_transform(new['document'])\n",
    "count_vectordf= pd.DataFrame(count_vector.toarray())\n",
    "count_vectordf.columns= cv.get_feature_names()"
   ]
  },
  {
   "cell_type": "code",
   "execution_count": 60,
   "metadata": {},
   "outputs": [],
   "source": [
    "X= count_vectordf\n",
    "X_train, X_test, y_train, y_test = train_test_split(X, new['label'], test_size=0.20, random_state=42)"
   ]
  },
  {
   "cell_type": "code",
   "execution_count": 61,
   "metadata": {},
   "outputs": [
    {
     "name": "stderr",
     "output_type": "stream",
     "text": [
      "/Library/Frameworks/Python.framework/Versions/3.7/lib/python3.7/site-packages/sklearn/linear_model/logistic.py:432: FutureWarning: Default solver will be changed to 'lbfgs' in 0.22. Specify a solver to silence this warning.\n",
      "  FutureWarning)\n"
     ]
    },
    {
     "name": "stdout",
     "output_type": "stream",
     "text": [
      "Training set score: 0.9459459459459459\n"
     ]
    }
   ],
   "source": [
    "lr=LogisticRegression()\n",
    "\n",
    "logreg=lr.fit(X_train, y_train)\n",
    "print('Training set score:', lr.score(X_train, y_train))"
   ]
  },
  {
   "cell_type": "code",
   "execution_count": 62,
   "metadata": {},
   "outputs": [
    {
     "name": "stdout",
     "output_type": "stream",
     "text": [
      "[0.84756098 0.83435583 0.82208589 0.8404908  0.82208589 0.8404908\n",
      " 0.8404908  0.84567901 0.82716049 0.85802469]\n"
     ]
    }
   ],
   "source": [
    "predicted = (cross_val_score(LogisticRegression(solver= 'lbfgs'), X_train, y_train, cv=10))\n",
    "print (predicted)"
   ]
  },
  {
   "cell_type": "code",
   "execution_count": 63,
   "metadata": {},
   "outputs": [
    {
     "name": "stdout",
     "output_type": "stream",
     "text": [
      "              precision    recall  f1-score   support\n",
      "\n",
      "         0.0       0.86      0.98      0.92       346\n",
      "         1.0       0.54      0.11      0.19        62\n",
      "\n",
      "    accuracy                           0.85       408\n",
      "   macro avg       0.70      0.55      0.55       408\n",
      "weighted avg       0.81      0.85      0.81       408\n",
      "\n",
      "Accuracy: 0.8504901960784313\n"
     ]
    }
   ],
   "source": [
    "y_pred= logreg.predict(X_test)\n",
    "print(classification_report(y_test, y_pred))\n",
    "print('Accuracy:', metrics.accuracy_score(y_test, y_pred))"
   ]
  },
  {
   "cell_type": "code",
   "execution_count": 64,
   "metadata": {},
   "outputs": [
    {
     "data": {
      "image/png": "[encoded data removed]",
      "text/plain": [
       "<Figure size 432x288 with 1 Axes>"
      ]
     },
     "metadata": {
      "needs_background": "light"
     },
     "output_type": "display_data"
    }
   ],
   "source": [
    "mat = confusion_matrix(y_test, y_pred)\n",
    "sns.heatmap(mat.T, square=True, annot=True, fmt='d', cmap= 'RdBu', cbar=False,\n",
    "            xticklabels=['no flu', 'flu'], yticklabels=['no flu', 'flu'])\n",
    "plt.xlabel('true label')\n",
    "plt.ylabel('predicted label');"
   ]
  },
  {
   "cell_type": "markdown",
   "metadata": {},
   "source": [
    "### Naive Bayes with Bigrams"
   ]
  },
  {
   "cell_type": "code",
   "execution_count": 65,
   "metadata": {},
   "outputs": [
    {
     "name": "stdout",
     "output_type": "stream",
     "text": [
      "Training set score: 0.9606879606879607\n"
     ]
    }
   ],
   "source": [
    "naive_bayes = MultinomialNB()\n",
    "naive_bayes.fit(X_train, y_train)\n",
    "print('Training set score:', naive_bayes.score(X_train, y_train))"
   ]
  },
  {
   "cell_type": "code",
   "execution_count": 66,
   "metadata": {},
   "outputs": [
    {
     "name": "stdout",
     "output_type": "stream",
     "text": [
      "[0.73780488 0.69325153 0.74233129 0.6809816  0.72392638 0.70552147\n",
      " 0.72392638 0.70987654 0.67283951 0.77160494]\n"
     ]
    }
   ],
   "source": [
    "predicted = (cross_val_score(MultinomialNB(), X_train, y_train, cv=10))\n",
    "print (predicted)"
   ]
  },
  {
   "cell_type": "code",
   "execution_count": 67,
   "metadata": {},
   "outputs": [
    {
     "name": "stdout",
     "output_type": "stream",
     "text": [
      "              precision    recall  f1-score   support\n",
      "\n",
      "         0.0       0.90      0.77      0.83       346\n",
      "         1.0       0.28      0.52      0.37        62\n",
      "\n",
      "    accuracy                           0.73       408\n",
      "   macro avg       0.59      0.64      0.60       408\n",
      "weighted avg       0.80      0.73      0.76       408\n",
      "\n",
      "Accuracy: 0.7279411764705882\n"
     ]
    },
    {
     "data": {
      "image/png": "[encoded data removed]",
      "text/plain": [
       "<Figure size 432x288 with 1 Axes>"
      ]
     },
     "metadata": {
      "needs_background": "light"
     },
     "output_type": "display_data"
    }
   ],
   "source": [
    "y_pred= naive_bayes.predict(X_test)\n",
    "print(classification_report(y_test, y_pred))\n",
    "print('Accuracy:', metrics.accuracy_score(y_test, y_pred))\n",
    "\n",
    "mat = confusion_matrix(y_test, y_pred)\n",
    "sns.heatmap(mat.T, square=True, annot=True, fmt='d', cmap= 'RdBu', cbar=False,\n",
    "            xticklabels=['no flu', 'flu'], yticklabels=['no flu', 'flu'])\n",
    "\n",
    "plt.xlabel('true label')\n",
    "plt.ylabel('predicted label');"
   ]
  },
  {
   "cell_type": "markdown",
   "metadata": {},
   "source": [
    "### Logistic Regression with Trigrams"
   ]
  },
  {
   "cell_type": "code",
   "execution_count": 68,
   "metadata": {},
   "outputs": [],
   "source": [
    "#Trigrams\n",
    "cv=CountVectorizer(ngram_range=(3, 3))\n",
    "count_vector= cv.fit_transform(new['document'])\n",
    "count_vectordf= pd.DataFrame(count_vector.toarray())\n",
    "count_vectordf.columns= cv.get_feature_names()\n",
    "X= count_vectordf\n",
    "X_train, X_test, y_train, y_test = train_test_split(X, new['label'], test_size=0.20, random_state=42)"
   ]
  },
  {
   "cell_type": "code",
   "execution_count": 69,
   "metadata": {},
   "outputs": [
    {
     "name": "stderr",
     "output_type": "stream",
     "text": [
      "/Library/Frameworks/Python.framework/Versions/3.7/lib/python3.7/site-packages/sklearn/linear_model/logistic.py:432: FutureWarning: Default solver will be changed to 'lbfgs' in 0.22. Specify a solver to silence this warning.\n",
      "  FutureWarning)\n"
     ]
    },
    {
     "name": "stdout",
     "output_type": "stream",
     "text": [
      "Training set score: 0.9164619164619164\n"
     ]
    }
   ],
   "source": [
    "lr=LogisticRegression()\n",
    "\n",
    "logreg=lr.fit(X_train, y_train)\n",
    "print('Training set score:', lr.score(X_train, y_train))"
   ]
  },
  {
   "cell_type": "code",
   "execution_count": 70,
   "metadata": {},
   "outputs": [
    {
     "name": "stdout",
     "output_type": "stream",
     "text": [
      "[0.82926829 0.83435583 0.83435583 0.82822086 0.82208589 0.83435583\n",
      " 0.83435583 0.83950617 0.83333333 0.84567901]\n"
     ]
    }
   ],
   "source": [
    "predicted = (cross_val_score(LogisticRegression(solver= 'lbfgs'), X_train, y_train, cv=10))\n",
    "print (predicted)"
   ]
  },
  {
   "cell_type": "code",
   "execution_count": 71,
   "metadata": {},
   "outputs": [
    {
     "name": "stdout",
     "output_type": "stream",
     "text": [
      "              precision    recall  f1-score   support\n",
      "\n",
      "         0.0       0.85      0.99      0.91       346\n",
      "         1.0       0.33      0.03      0.06        62\n",
      "\n",
      "    accuracy                           0.84       408\n",
      "   macro avg       0.59      0.51      0.49       408\n",
      "weighted avg       0.77      0.84      0.78       408\n",
      "\n",
      "Accuracy: 0.8431372549019608\n"
     ]
    },
    {
     "data": {
      "image/png": "[encoded data removed]",
      "text/plain": [
       "<Figure size 432x288 with 1 Axes>"
      ]
     },
     "metadata": {
      "needs_background": "light"
     },
     "output_type": "display_data"
    }
   ],
   "source": [
    "y_pred= logreg.predict(X_test)\n",
    "print(classification_report(y_test, y_pred))\n",
    "print('Accuracy:', metrics.accuracy_score(y_test, y_pred))\n",
    "\n",
    "mat = confusion_matrix(y_test, y_pred)\n",
    "sns.heatmap(mat.T, square=True, annot=True, fmt='d', cmap= 'RdBu', cbar=False,\n",
    "            xticklabels=['no flu', 'flu'], yticklabels=['no flu', 'flu'])\n",
    "plt.xlabel('true label')\n",
    "plt.ylabel('predicted label');"
   ]
  },
  {
   "cell_type": "code",
   "execution_count": 72,
   "metadata": {},
   "outputs": [
    {
     "name": "stdout",
     "output_type": "stream",
     "text": [
      "Training set score: 0.957002457002457\n"
     ]
    }
   ],
   "source": [
    "naive_bayes = MultinomialNB()\n",
    "naive_bayes.fit(X_train, y_train)\n",
    "print('Training set score:', naive_bayes.score(X_train, y_train))"
   ]
  },
  {
   "cell_type": "code",
   "execution_count": 73,
   "metadata": {},
   "outputs": [
    {
     "name": "stdout",
     "output_type": "stream",
     "text": [
      "[0.65243902 0.6196319  0.63803681 0.60122699 0.67484663 0.63190184\n",
      " 0.65644172 0.61111111 0.57407407 0.60493827]\n"
     ]
    }
   ],
   "source": [
    "predicted = (cross_val_score(MultinomialNB(), X_train, y_train, cv=10))\n",
    "print (predicted)"
   ]
  },
  {
   "cell_type": "code",
   "execution_count": 74,
   "metadata": {},
   "outputs": [
    {
     "name": "stdout",
     "output_type": "stream",
     "text": [
      "              precision    recall  f1-score   support\n",
      "\n",
      "         0.0       0.90      0.61      0.73       346\n",
      "         1.0       0.22      0.63      0.33        62\n",
      "\n",
      "    accuracy                           0.61       408\n",
      "   macro avg       0.56      0.62      0.53       408\n",
      "weighted avg       0.80      0.61      0.67       408\n",
      "\n",
      "Accuracy: 0.6127450980392157\n"
     ]
    },
    {
     "data": {
      "image/png": "[encoded data removed]",
      "text/plain": [
       "<Figure size 432x288 with 1 Axes>"
      ]
     },
     "metadata": {
      "needs_background": "light"
     },
     "output_type": "display_data"
    }
   ],
   "source": [
    "y_pred= naive_bayes.predict(X_test)\n",
    "print(classification_report(y_test, y_pred))\n",
    "print('Accuracy:', metrics.accuracy_score(y_test, y_pred))\n",
    "\n",
    "mat = confusion_matrix(y_test, y_pred)\n",
    "sns.heatmap(mat.T, square=True, annot=True, fmt='d', cmap= 'RdBu', cbar=False,\n",
    "            xticklabels=['no flu', 'flu'], yticklabels=['no flu', 'flu'])\n",
    "\n",
    "plt.xlabel('true label')\n",
    "plt.ylabel('predicted label');"
   ]
  },
  {
   "cell_type": "markdown",
   "metadata": {},
   "source": [
    "# With the same data, we train a BERT classifier in the next notebook. There will be two notebooks, one without tuning, and another with tuning. We can then compare the scores of our classifiers in the end. "
   ]
  }
 ],
 "metadata": {
  "kernelspec": {
   "display_name": "Python 3",
   "language": "python",
   "name": "python3"
  },
  "language_info": {
   "codemirror_mode": {
    "name": "ipython",
    "version": 3
   },
   "file_extension": ".py",
   "mimetype": "text/x-python",
   "name": "python",
   "nbconvert_exporter": "python",
   "pygments_lexer": "ipython3",
   "version": "3.7.3"
  }
 },
 "nbformat": 4,
 "nbformat_minor": 2
}

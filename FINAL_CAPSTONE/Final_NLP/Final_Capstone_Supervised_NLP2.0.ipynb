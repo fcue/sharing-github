{
 "cells": [
  {
   "cell_type": "markdown",
   "metadata": {},
   "source": [
    "# Building a Classifier with our labeled Tweets\n",
    "\n",
    "\n",
    "### In this section, we analyze our tweets using supervised learning methods. I have manully labeled the data to detect which tweets are indicative of flu and which tweets are not.  I employ various NLP methods such as removal of stopwords, stemming, lemmatizing and use of bigrams and trigrams. "
   ]
  },
  {
   "cell_type": "code",
   "execution_count": 1,
   "metadata": {},
   "outputs": [],
   "source": [
    "import numpy as np\n",
    "import pandas as pd\n",
    "\n",
    "from sklearn.feature_extraction.text import CountVectorizer\n",
    "import nltk\n",
    "import string\n",
    "import preprocessor as p\n",
    "from nltk.corpus import stopwords\n",
    "\n",
    "#visualizations\n",
    "import matplotlib.pyplot as plt\n",
    "import matplotlib\n",
    "import seaborn as sns\n",
    "from IPython.display import display\n",
    "from wordcloud import WordCloud, STOPWORDS\n",
    "import re\n",
    "import string\n",
    "import itertools\n",
    "#from mpl_toolkits.basemap import Basemap\n",
    "\n",
    "#machine learning\n",
    "from sklearn.metrics import confusion_matrix\n",
    "from sklearn.feature_extraction.text import TfidfVectorizer\n",
    "from sklearn.decomposition import TruncatedSVD\n",
    "from sklearn.pipeline import make_pipeline\n",
    "from sklearn.preprocessing import Normalizer, normalize\n",
    "from sklearn.model_selection import KFold\n",
    "from sklearn.model_selection import cross_val_score\n",
    "from sklearn.model_selection import train_test_split\n",
    "from sklearn.metrics import roc_auc_score\n",
    "from sklearn.ensemble import RandomForestClassifier\n",
    "from sklearn.naive_bayes import MultinomialNB\n",
    "import sklearn.metrics as metrics\n",
    "from sklearn.metrics import classification_report"
   ]
  },
  {
   "cell_type": "code",
   "execution_count": 2,
   "metadata": {},
   "outputs": [],
   "source": [
    "df7= pd.read_csv('df_stream7.csv') #good to go\n",
    "df8=pd.read_csv('df_stream8.csv') #good to go\n",
    "df9=pd.read_csv('df_stream9.csv') # good to go\n",
    "df10=pd.read_csv('df_stream10.csv') # good to go\n",
    "df11=pd.read_csv('df_stream11.csv') # good to go\n",
    "df13=pd.read_csv('df_stream13.csv') # good to go \n",
    "df14=pd.read_csv('df_stream14.csv') # good to go\n",
    "df16=pd.read_csv('df_stream16.csv') # good to go\n",
    "df19=pd.read_csv('df_stream19_pos.csv')\n",
    "df20=pd.read_csv('df_stream20_pos.csv') # good to go\n",
    "df21=pd.read_csv('df_stream21.csv')\n",
    "df22=pd.read_csv('df_stream22.csv')\n",
    "df23=pd.read_csv('df_stream23.csv')"
   ]
  },
  {
   "cell_type": "code",
   "execution_count": 3,
   "metadata": {},
   "outputs": [],
   "source": [
    "all= pd.concat(([df7,df8,df9,df10,df11,df13,df14,df16,df19,df20, df21, df22,df23]), sort=False)\n",
    "#saving data\n",
    "all.to_csv('all.csv')"
   ]
  },
  {
   "cell_type": "code",
   "execution_count": 4,
   "metadata": {},
   "outputs": [],
   "source": [
    "all.drop(['Unnamed: 0'], axis=1, inplace=True)"
   ]
  },
  {
   "cell_type": "code",
   "execution_count": 5,
   "metadata": {},
   "outputs": [
    {
     "data": {
      "text/plain": [
       "0    3553\n",
       "1     912\n",
       "Name: label, dtype: int64"
      ]
     },
     "execution_count": 5,
     "metadata": {},
     "output_type": "execute_result"
    }
   ],
   "source": [
    "all.label.value_counts()"
   ]
  },
  {
   "cell_type": "code",
   "execution_count": 6,
   "metadata": {},
   "outputs": [
    {
     "name": "stdout",
     "output_type": "stream",
     "text": [
      "<class 'pandas.core.frame.DataFrame'>\n",
      "Int64Index: 4465 entries, 0 to 558\n",
      "Data columns (total 37 columns):\n",
      "created_at                   4465 non-null object\n",
      "id                           4465 non-null float64\n",
      "id_str                       4465 non-null float64\n",
      "text                         4464 non-null object\n",
      "label                        4465 non-null int64\n",
      "source                       4465 non-null object\n",
      "truncated                    4465 non-null bool\n",
      "in_reply_to_status_id        854 non-null float64\n",
      "in_reply_to_status_id_str    854 non-null float64\n",
      "in_reply_to_user_id          903 non-null float64\n",
      "in_reply_to_user_id_str      903 non-null float64\n",
      "in_reply_to_screen_name      903 non-null object\n",
      "user                         4463 non-null object\n",
      "geo                          9 non-null object\n",
      "coordinates                  9 non-null object\n",
      "place                        144 non-null object\n",
      "contributors                 0 non-null float64\n",
      "retweeted_status             1231 non-null object\n",
      "quoted_status_id             724 non-null float64\n",
      "quoted_status_id_str         724 non-null float64\n",
      "quoted_status                724 non-null object\n",
      "quoted_status_permalink      724 non-null object\n",
      "is_quote_status              4462 non-null object\n",
      "quote_count                  4462 non-null float64\n",
      "reply_count                  4462 non-null float64\n",
      "retweet_count                4462 non-null float64\n",
      "favorite_count               4462 non-null float64\n",
      "entities                     4462 non-null object\n",
      "favorited                    4462 non-null object\n",
      "retweeted                    4462 non-null object\n",
      "possibly_sensitive           1063 non-null object\n",
      "filter_level                 4462 non-null object\n",
      "lang                         4462 non-null object\n",
      "timestamp_ms                 4462 non-null float64\n",
      "extended_entities            262 non-null object\n",
      "display_text_range           989 non-null object\n",
      "extended_tweet               1094 non-null object\n",
      "dtypes: bool(1), float64(14), int64(1), object(21)\n",
      "memory usage: 1.3+ MB\n"
     ]
    }
   ],
   "source": [
    "all.info()"
   ]
  },
  {
   "cell_type": "code",
   "execution_count": 7,
   "metadata": {},
   "outputs": [
    {
     "data": {
      "text/plain": [
       "0.0"
      ]
     },
     "execution_count": 7,
     "metadata": {},
     "output_type": "execute_result"
    }
   ],
   "source": [
    "all.label.isnull().sum()/len(all)"
   ]
  },
  {
   "cell_type": "code",
   "execution_count": 8,
   "metadata": {},
   "outputs": [],
   "source": [
    "#saving combined tweets without cleaning\n",
    "all.to_csv('all_tweets.csv')"
   ]
  },
  {
   "cell_type": "markdown",
   "metadata": {},
   "source": [
    "### Let's take a look at the most popular people tweet when they are sick with the flu?"
   ]
  },
  {
   "cell_type": "code",
   "execution_count": 9,
   "metadata": {},
   "outputs": [],
   "source": [
    "all['Timestamp'] = pd.to_datetime(all['created_at'], infer_datetime_format = \"%d/%m/%Y\", utc  = False)"
   ]
  },
  {
   "cell_type": "code",
   "execution_count": 10,
   "metadata": {},
   "outputs": [],
   "source": [
    "#looking at the hour of Tweets\n",
    "def givehour(timestamp):\n",
    "    hour_string = timestamp.hour\n",
    "    return hour_string\n",
    "all['hour'] = all['Timestamp'].apply(givehour)\n",
    "hours = all.groupby('hour')\n",
    "hourcount = hours['text'].count()\n",
    "hourdict = hourcount.to_dict()"
   ]
  },
  {
   "cell_type": "code",
   "execution_count": 11,
   "metadata": {},
   "outputs": [],
   "source": [
    "#looking at the day of Tweets\n",
    "def giveday(timestamp):\n",
    "    day_string = timestamp.date\n",
    "    return day_string\n",
    "all['date'] = all['Timestamp'].apply(giveday)\n",
    "days = all.groupby('date')\n",
    "daycount = days['text'].count()\n",
    "hourdict = daycount.to_dict()"
   ]
  },
  {
   "cell_type": "code",
   "execution_count": 12,
   "metadata": {},
   "outputs": [
    {
     "data": {
      "image/png": "[encoded data removed]",
      "text/plain": [
       "<Figure size 1080x720 with 1 Axes>"
      ]
     },
     "metadata": {
      "needs_background": "light"
     },
     "output_type": "display_data"
    }
   ],
   "source": [
    "hr= all.loc[all.label==1].date\n",
    "plt.figure(figsize=(15,10))\n",
    "sns.set(style=\"darkgrid\")\n",
    "sns.countplot(hr, palette=\"Set3\")\n",
    "plt.xlabel('Dates')\n",
    "plt.ylabel('Count of Positive Flu Tweets')\n",
    "plt.title('Date of Positive Flu Tweets')\n",
    "plt.show()"
   ]
  },
  {
   "cell_type": "code",
   "execution_count": 93,
   "metadata": {},
   "outputs": [
    {
     "data": {
      "image/png": "[encoded data removed]",
      "text/plain": [
       "<Figure size 1080x720 with 1 Axes>"
      ]
     },
     "metadata": {},
     "output_type": "display_data"
    }
   ],
   "source": [
    "hr= all.loc[all.label==1].hour\n",
    "plt.figure(figsize=(15,10))\n",
    "sns.set(style=\"darkgrid\")\n",
    "sns.countplot(hr, palette=\"Set3\")\n",
    "plt.xlabel('Hour')\n",
    "plt.ylabel('Count of Positive Flu Tweets')\n",
    "plt.title('Time of +Flu Tweets')\n",
    "plt.show()"
   ]
  },
  {
   "cell_type": "markdown",
   "metadata": {},
   "source": [
    "# Data Cleaning and Feature Engineering\n",
    "\n",
    "### Tweets have many miscellaneous characters and are prone to having slang and erroneous terms. We will try to clean this data as best as we can before we use it for modeling. "
   ]
  },
  {
   "cell_type": "code",
   "execution_count": 14,
   "metadata": {},
   "outputs": [],
   "source": [
    "#Creating dataframe that just focuses on 'Text' and 'Label'. \n",
    "new= pd.DataFrame(all[['text', 'label']])"
   ]
  },
  {
   "cell_type": "code",
   "execution_count": 15,
   "metadata": {},
   "outputs": [],
   "source": [
    "new = new.sample(frac=1).reset_index(drop=True)"
   ]
  },
  {
   "cell_type": "code",
   "execution_count": 16,
   "metadata": {},
   "outputs": [
    {
     "data": {
      "text/html": [
       "<div>\n",
       "<style scoped>\n",
       "    .dataframe tbody tr th:only-of-type {\n",
       "        vertical-align: middle;\n",
       "    }\n",
       "\n",
       "    .dataframe tbody tr th {\n",
       "        vertical-align: top;\n",
       "    }\n",
       "\n",
       "    .dataframe thead th {\n",
       "        text-align: right;\n",
       "    }\n",
       "</style>\n",
       "<table border=\"1\" class=\"dataframe\">\n",
       "  <thead>\n",
       "    <tr style=\"text-align: right;\">\n",
       "      <th></th>\n",
       "      <th>text</th>\n",
       "      <th>label</th>\n",
       "    </tr>\n",
       "  </thead>\n",
       "  <tbody>\n",
       "    <tr>\n",
       "      <td>0</td>\n",
       "      <td>The free flu jab is also available for people ...</td>\n",
       "      <td>0</td>\n",
       "    </tr>\n",
       "    <tr>\n",
       "      <td>1</td>\n",
       "      <td>RT @OUBarstool: “Baker deserved a national cha...</td>\n",
       "      <td>0</td>\n",
       "    </tr>\n",
       "    <tr>\n",
       "      <td>2</td>\n",
       "      <td>Got my flu jab today so now I'm in the office ...</td>\n",
       "      <td>0</td>\n",
       "    </tr>\n",
       "    <tr>\n",
       "      <td>3</td>\n",
       "      <td>@fireox9 Hummm i've been with a headache for t...</td>\n",
       "      <td>1</td>\n",
       "    </tr>\n",
       "    <tr>\n",
       "      <td>4</td>\n",
       "      <td>Throw the whole boyfriend away</td>\n",
       "      <td>0</td>\n",
       "    </tr>\n",
       "    <tr>\n",
       "      <td>5</td>\n",
       "      <td>@fancyzealot I got flu and anxiety.</td>\n",
       "      <td>1</td>\n",
       "    </tr>\n",
       "    <tr>\n",
       "      <td>6</td>\n",
       "      <td>RT @IllinoisDoctors: Don’t let the flu get you...</td>\n",
       "      <td>0</td>\n",
       "    </tr>\n",
       "    <tr>\n",
       "      <td>7</td>\n",
       "      <td>RT @htTweets: Sanjay Kaushik, assistant conser...</td>\n",
       "      <td>0</td>\n",
       "    </tr>\n",
       "    <tr>\n",
       "      <td>8</td>\n",
       "      <td>RT @BramaleaCHC: We’re open for flu shots now!...</td>\n",
       "      <td>0</td>\n",
       "    </tr>\n",
       "    <tr>\n",
       "      <td>9</td>\n",
       "      <td>'Flu nearly killed me last winter' - https://t...</td>\n",
       "      <td>0</td>\n",
       "    </tr>\n",
       "  </tbody>\n",
       "</table>\n",
       "</div>"
      ],
      "text/plain": [
       "                                                text  label\n",
       "0  The free flu jab is also available for people ...      0\n",
       "1  RT @OUBarstool: “Baker deserved a national cha...      0\n",
       "2  Got my flu jab today so now I'm in the office ...      0\n",
       "3  @fireox9 Hummm i've been with a headache for t...      1\n",
       "4                     Throw the whole boyfriend away      0\n",
       "5                @fancyzealot I got flu and anxiety.      1\n",
       "6  RT @IllinoisDoctors: Don’t let the flu get you...      0\n",
       "7  RT @htTweets: Sanjay Kaushik, assistant conser...      0\n",
       "8  RT @BramaleaCHC: We’re open for flu shots now!...      0\n",
       "9  'Flu nearly killed me last winter' - https://t...      0"
      ]
     },
     "execution_count": 16,
     "metadata": {},
     "output_type": "execute_result"
    }
   ],
   "source": [
    "new.head(10)"
   ]
  },
  {
   "cell_type": "code",
   "execution_count": 17,
   "metadata": {},
   "outputs": [],
   "source": [
    "# While labeling, I've intentionally left some tweets blank to try to achieve a higher positive label.I'm dropping\n",
    "# the blank tweets here\n",
    "\n",
    "new.dropna(inplace=True)"
   ]
  },
  {
   "cell_type": "code",
   "execution_count": 18,
   "metadata": {},
   "outputs": [
    {
     "name": "stdout",
     "output_type": "stream",
     "text": [
      "Values before dropping duplicate tweets\n"
     ]
    },
    {
     "data": {
      "text/plain": [
       "0    3552\n",
       "1     912\n",
       "Name: label, dtype: int64"
      ]
     },
     "execution_count": 18,
     "metadata": {},
     "output_type": "execute_result"
    }
   ],
   "source": [
    "print('Values before dropping duplicate tweets')\n",
    "new.label.value_counts()"
   ]
  },
  {
   "cell_type": "code",
   "execution_count": 19,
   "metadata": {},
   "outputs": [],
   "source": [
    "# because there were so many tweets that are Retweeets or the same tweets over and over again in the feeds,\n",
    "# I've had to drop it here. \n",
    "new.drop_duplicates(inplace=True)"
   ]
  },
  {
   "cell_type": "code",
   "execution_count": 20,
   "metadata": {},
   "outputs": [
    {
     "name": "stdout",
     "output_type": "stream",
     "text": [
      "Values after dropping duplicate tweets\n"
     ]
    },
    {
     "data": {
      "text/plain": [
       "0    3427\n",
       "1     896\n",
       "Name: label, dtype: int64"
      ]
     },
     "execution_count": 20,
     "metadata": {},
     "output_type": "execute_result"
    }
   ],
   "source": [
    "print('Values after dropping duplicate tweets')\n",
    "new.label.value_counts()"
   ]
  },
  {
   "cell_type": "markdown",
   "metadata": {},
   "source": [
    "### Creating functions to clean tweets and add new columns as we clean and process."
   ]
  },
  {
   "cell_type": "code",
   "execution_count": 21,
   "metadata": {},
   "outputs": [],
   "source": [
    "#removing URLs and string beginning with @ \n",
    "def remove_mentionsURLs(text):\n",
    "    tweet_out= re.sub(r'@[A-Za-z0-9]+', '', text)\n",
    "    tweet_out=re.sub(r'http\\S+', '', tweet_out)\n",
    "    tweet_out= re.sub(r'RT @[\\w_]+:', '', tweet_out)\n",
    "    return tweet_out\n",
    "\n",
    "new['text_noURLs'] = new['text'].apply(lambda x: remove_mentionsURLs(x))"
   ]
  },
  {
   "cell_type": "code",
   "execution_count": 22,
   "metadata": {},
   "outputs": [],
   "source": [
    "#removing punctuations from the text\n",
    "def remove_punct(text):\n",
    "    text  = \"\".join([char for char in text if char not in string.punctuation])\n",
    "    text = re.sub('[0-9]+', '', text)\n",
    "    return text\n",
    "\n",
    "new['text_punct'] = new['text_noURLs'].apply(lambda x: remove_punct(x))"
   ]
  },
  {
   "cell_type": "code",
   "execution_count": 23,
   "metadata": {},
   "outputs": [],
   "source": [
    "# remove words with 2 or less characters\n",
    "def remove_RT(text):\n",
    "    text= re.sub(r'\\b\\w{1,2}\\b', '', text)\n",
    "    return text\n",
    "\n",
    "new['text_removeRT'] = new['text_punct'].apply(lambda x: remove_RT(x))"
   ]
  },
  {
   "cell_type": "code",
   "execution_count": 24,
   "metadata": {},
   "outputs": [],
   "source": [
    "#tokenzing into words \n",
    "def tokenization(text):\n",
    "    text = re.split('\\W+', text)\n",
    "    return text\n",
    "\n",
    "new['tokenized'] = new['text_removeRT'].apply(lambda x: tokenization(x.lower()))"
   ]
  },
  {
   "cell_type": "code",
   "execution_count": 25,
   "metadata": {
    "scrolled": true
   },
   "outputs": [],
   "source": [
    "#removing stop words\n",
    "stopword = nltk.corpus.stopwords.words('english')\n",
    "def remove_stopwords(text):\n",
    "    text = [word for word in text if word not in stopword]\n",
    "    return text\n",
    "    \n",
    "new['nonstop'] = new['tokenized'].apply(lambda x: remove_stopwords(x))"
   ]
  },
  {
   "cell_type": "code",
   "execution_count": 26,
   "metadata": {},
   "outputs": [],
   "source": [
    "# lemmatizing\n",
    "wn = nltk.WordNetLemmatizer()\n",
    "\n",
    "def lemmatizer(text):\n",
    "    text = [wn.lemmatize(word) for word in text]\n",
    "    return text\n",
    "\n",
    "new['Tweet_lemmatized'] = new['nonstop'].apply(lambda x: lemmatizer(x))"
   ]
  },
  {
   "cell_type": "code",
   "execution_count": 27,
   "metadata": {},
   "outputs": [],
   "source": [
    "#stemming\n",
    "from nltk.stem import PorterStemmer \n",
    "port_stemmer= nltk.PorterStemmer()\n",
    "\n",
    "def stemming(text):\n",
    "    #stripped = [word.lower() for word in text if word.lower() not in stopwords]\n",
    "    out_text= [port_stemmer.stem(word) for word in text]\n",
    "    return out_text\n",
    "\n",
    "new['stemmed']= new['nonstop'].apply(lambda x: stemming(x))"
   ]
  },
  {
   "cell_type": "code",
   "execution_count": 28,
   "metadata": {},
   "outputs": [
    {
     "name": "stdout",
     "output_type": "stream",
     "text": [
      "Unique words in lemmatized text:6937\n",
      "Unique words in stemmed text:5975\n"
     ]
    }
   ],
   "source": [
    "#Let's check to see how many unique words in lemmatized and stemmed words\n",
    "\n",
    "word_count_lemma= list(itertools.chain.from_iterable(new['Tweet_lemmatized']))\n",
    "word_count_stem= list(itertools.chain.from_iterable(new['stemmed']))\n",
    "\n",
    "print('Unique words in lemmatized text:' +str(len(set(word_count_lemma))));\n",
    "print('Unique words in stemmed text:' +str(len(set(word_count_stem))));"
   ]
  },
  {
   "cell_type": "code",
   "execution_count": 29,
   "metadata": {},
   "outputs": [],
   "source": [
    "# this removes less frequent words, leaving ONLY frequent words\n",
    "flat_list= list(itertools.chain.from_iterable(new['stemmed']))\n",
    "fd= nltk.FreqDist(flat_list)\n",
    "\n",
    "keep_words= list(filter(lambda x: 2500>x[1]>3, fd.items()))\n",
    "keep_words_list= [item[0] for item in keep_words]\n",
    "\n",
    "def remove_lessfreq(tokanized_tweets):\n",
    "    text_out= [word for word in tokanized_tweets if word in keep_words_list]\n",
    "    return text_out\n",
    "#removing less frequent words that are stemmed\n",
    "new['remove_less_freq']= new['stemmed'].apply(lambda x: remove_lessfreq(x))\n",
    "#removing less frequent words that are stemmed\n",
    "new['remove_less_freq_lemma']= new['Tweet_lemmatized'].apply(lambda x: remove_lessfreq(x))"
   ]
  },
  {
   "cell_type": "code",
   "execution_count": 30,
   "metadata": {},
   "outputs": [
    {
     "name": "stdout",
     "output_type": "stream",
     "text": [
      "['free', 'jab', 'also', 'avail', 'peopl', 'certain', 'medic', 'condit', 'includ', 'learn']\n"
     ]
    }
   ],
   "source": [
    "print(keep_words_list[0:10])"
   ]
  },
  {
   "cell_type": "code",
   "execution_count": 31,
   "metadata": {},
   "outputs": [],
   "source": [
    "# joining words back for modeling\n",
    "def join_tokens(tokens):\n",
    "    documents= \" \".join([word for word in tokens if not word.isdigit()])\n",
    "    return documents\n",
    "#this one is from stemmed words with common words\n",
    "new['document']= new['remove_less_freq'].apply(lambda x: join_tokens(x))"
   ]
  },
  {
   "cell_type": "code",
   "execution_count": 32,
   "metadata": {},
   "outputs": [],
   "source": [
    "def join_tokens(tokens):\n",
    "    documents= \" \".join([word for word in tokens if not word.isdigit()])\n",
    "    return documents\n",
    "#this one is lemma words \n",
    "new['document_lemma']= new['Tweet_lemmatized'].apply(lambda x: join_tokens(x))"
   ]
  },
  {
   "cell_type": "code",
   "execution_count": 33,
   "metadata": {},
   "outputs": [],
   "source": [
    "def join_tokens(tokens):\n",
    "    documents= \" \".join([word for word in tokens if not word.isdigit()])\n",
    "    return documents\n",
    "\n",
    "new['document_stemmed']= new['stemmed'].apply(lambda x: join_tokens(x))"
   ]
  },
  {
   "cell_type": "markdown",
   "metadata": {},
   "source": [
    "### Comparing what stemmed words looks like without removing less frequent words, "
   ]
  },
  {
   "cell_type": "code",
   "execution_count": 34,
   "metadata": {},
   "outputs": [
    {
     "name": "stdout",
     "output_type": "stream",
     "text": [
      "0       free flu jab also avail peopl certain medic co...\n",
      "1        baker deserv nation championship anyon planet...\n",
      "2           got flu jab today offic tri work fluarm like \n",
      "3        hummm ive headach last two week straight toge...\n",
      "4                              throw whole boyfriend away\n",
      "                              ...                        \n",
      "4460     bambam said youll never catch slip fashion ki...\n",
      "4461          outstand support bmore healthi bmore involv\n",
      "4462     past hr usa horrif lost peopl mass shoot aver...\n",
      "4463     famili richmondbc roll sleev host flu clinic ...\n",
      "4464          flu made everi time poop feel like pee help\n",
      "Name: document_stemmed, Length: 4323, dtype: object\n"
     ]
    }
   ],
   "source": [
    "#comparing what stemmed words looks like without removing less frequent words\n",
    "print(new['document_stemmed'])             "
   ]
  },
  {
   "cell_type": "code",
   "execution_count": 35,
   "metadata": {},
   "outputs": [
    {
     "name": "stdout",
     "output_type": "stream",
     "text": [
      "0       free jab also avail peopl certain medic condit...\n",
      "1                              deserv nation anyon averag\n",
      "2                       got jab today offic tri work like\n",
      "3         ive headach last two week straight togeth today\n",
      "4                              throw whole boyfriend away\n",
      "                              ...                        \n",
      "4460       said youll never catch slip fashion year round\n",
      "4461                   support bmore healthi bmore involv\n",
      "4462    past hr lost peopl shoot averag across hr also...\n",
      "4463     famili roll sleev host clinic call ahead appoint\n",
      "4464                       made everi time feel like help\n",
      "Name: document, Length: 4323, dtype: object\n"
     ]
    }
   ],
   "source": [
    "#stemmed words removing less \n",
    "print(new['document']) "
   ]
  },
  {
   "cell_type": "code",
   "execution_count": 36,
   "metadata": {
    "scrolled": true
   },
   "outputs": [
    {
     "name": "stdout",
     "output_type": "stream",
     "text": [
      "{'trump', 'machin', 'fact', 'vaccineswork', 'limit', 'spell', 'media', 'global', 'forecast', 'immigr', 'district', 'suppos', 'latest', 'find', 'alreadi', 'citi', 'women', 'ward', 'agre', 'wale', 'ignor', 'ceo', 'schedul', 'peac', 'honor', 'poor', 'season', 'highest', 'condit', 'ppl', 'size', 'canadian', 'anyth', 'news', 'measl', 'circl', 'stream', 'question', 'fri', 'strong', 'stupid', 'offic', 'epidem', 'üòí', 'exactli', 'wanna', 'pregnant', 'record', 'disabl', 'admin', 'wit', 'ach', 'fluvaccin', 'huge', 'min', 'sure', 'lay', 'father', 'treatment', 'tast', 'back', 'afford', 'nope', 'symptom', 'viral', 'none', 'cri', 'daughter', 'äôall', 'travel', 'celebr', 'busi', 'accord', 'wors', 'movi', 'hold', 'your', 'continu', 'obvious', 'he', 'read', 'explain', 'educ', 'get', 'turn', 'seen', 'getvaccin', 'public', 'diseas', 'mention', 'older', 'thi', 'may', 'like', 'disord', 'product', 'urgent', 'andor', 'thank', 'would', 'plu', 'bed', 'pull', 'nation', 'fail', 'central', 'expos', 'spread', 'particip', 'cross', 'parent', 'podcast', 'christma', 'around', 'slept', 'far', 'üèω', 'awak', 'success', 'say', 'sinc', 'write', 'pretti', 'suggest', 'risk', 'üòå', 'dont', 'chanc', 'awesom', 'other', 'screw', 'maryland', 'stick', 'blue', 'bacteria', 'campu', 'review', 'wonder', 'pharmacist', 'seem', 'someon', 'water', 'autoimmun', 'obtain', 'woke', 'tool', 'tissu', 'piec', 'averag', 'slip', 'havent', 'contact', 'lesson', 'cat', 'island', 'realiz', 'worri', 'relief', 'second', 'facil', 'beach', 'poison', 'shock', 'send', 'flushot', 'unit', 'form', 'dear', 'guarante', 'studi', 'recov', 'scari', 'evid', 'annoy', 'alway', 'till', 'mandatori', 'rip', 'liter', 'move', 'doubl', 'listen', 'deadli', 'info', 'air', 'hous', 'jesu', 'possibl', 'affect', 'gener', 'per', 'jam', 'retweet', 'campaign', 'identifi', 'yay', 'session', 'tip', 'healthi', 'detent', 'tomorrow', 'present', 'szn', 'energi', 'nobodi', 'pharma', 'small', 'pain', 'super', 'mask', 'antibiot', 'whiskey', 'god', 'full', 'quick', 'sent', 'via', 'determin', 'counti', 'warn', 'catch', 'done', 'host', 'injuri', 'potenti', 'without', 'flew', 'peopl', 'sever', 'sorri', 'court', 'think', 'rough', 'bodi', 'äôt', 'easi', 'keep', 'seriou', 'arriv', 'whole', 'piss', 'error', 'import', 'neck', 'elderberri', 'disney', 'london', 'everi', 'almost', 'feel', 'rapid', 'mount', 'either', 'kept', 'friendli', 'canada', 'game', 'enemi', 'save', 'insur', 'egg', 'son', 'answer', 'danger', 'tech', 'sticker', 'caught', 'strep', 'knock', 'someth', 'relat', 'appar', 'better', 'improv', 'natur', 'felt', 'flulik', 'regret', 'omg', 'win', 'fake', 'use', 'half', 'exercis', 'lie', 'design', 'fine', 'genuin', 'shake', 'confirm', 'encourag', 'univers', 'outrag', 'threw', 'louisiana', 'warm', 'case', 'flurel', 'mucinex', 'fluffi', 'fit', 'includ', 'yeah', 'interest', 'job', 'here', 'drop', 'cant', 'googl', 'advers', 'narcolepsi', 'semest', 'argu', 'sanit', 'base', 'correl', 'pregnanc', 'polic', 'sneez', 'speak', 'shop', 'nigga', 'south', 'first', 'medic', 'allow', 'away', 'smile', 'despit', 'spray', 'top', 'realli', 'function', 'point', 'flash', 'way', 'saw', 'non', 'publicli', 'control', 'appear', 'actual', 'flufight', 'track', 'student', 'deni', 'allergi', 'credit', 'wednesday', 'cool', 'whether', 'chair', 'togeth', 'respiratori', 'fire', 'watson', 'disgust', 'alon', 'tabl', 'juic', 'hell', 'anoth', 'ill', 'estim', 'probabl', 'hope', 'that', 'told', 'needl', 'act', 'lemon', 'üòç', 'sick', 'visit', 'third', 'surviv', 'pressur', 'novemb', 'fat', 'dose', 'video', 'administ', 'okay', 'least', 'dad', 'reach', 'leg', 'chest', 'less', 'good', 'flucold', 'see', 'rather', 'race', 'shot', 'funni', 'contract', 'andrew', 'room', 'term', 'cheer', 'true', 'custom', 'polio', 'welcom', 'came', 'moment', 'account', 'rise', 'strength', 'diagnos', 'weekend', 'even', 'sell', 'man', 'rest', 'avail', 'kid', 'äôll', 'elig', 'carri', 'minut', 'three', 'anymor', 'hour', 'appropri', 'midterm', 'spanish', 'physic', 'btw', 'atm', 'meant', 'lol', 'äôm', 'reaction', 'plan', 'common', 'genocid', 'store', 'neg', 'yell', 'amaz', 'gonna', 'vote', 'wash', 'side', 'decad', 'nutrit', 'clearli', 'call', 'market', 'bet', 'chronic', 'afterward', 'spent', 'twitter', 'note', 'freedom', 'nah', 'death', 'sit', 'compromis', 'whistl', 'pound', 'wrong', 'mice', 'mom', 'price', 'activ', 'singl', 'proud', 'headlin', 'butt', 'consent', 'wake', 'readi', 'idk', 'stay', 'lucki', 'rsv', 'bore', 'love', 'inject', 'develop', 'prior', 'offer', 'blow', 'nice', 'bmore', 'pic', 'given', 'winter', 'birthday', 'concentr', 'know', 'enter', 'chicago', 'deliveri', 'short', 'bowl', 'treat', 'postpon', 'expert', 'prescript', 'hand', 'name', 'type', 'men', 'vax', 'hurt', 'cost', 'staff', 'si', 'drive', 'pharmaci', 'coffe', 'fish', 'accept', 'weaken', 'asthma', 'taken', 'soup', 'selfish', 'everybodi', 'prof', 'kind', 'dan', 'amount', 'shift', 'come', 'damn', 'predict', 'protect', 'contagi', 'gross', 'lead', 'prepar', 'cowork', 'ring', 'infant', 'cold', 'servic', 'rate', 'basic', 'wild', 'clear', 'bacteri', 'tri', 'ten', 'human', 'everyday', 'today', 'girl', 'add', 'comin', 'ginger', 'confid', 'time', 'ye', 'cut', 'miser', 'throw', 'demand', 'sex', 'florida', 'dr', 'miss', 'expect', 'vulner', 'emerg', 'channel', 'take', 'lost', 'attack', 'recent', 'book', 'experienc', 'di', 'give', 'end', 'made', 'link', 'will', 'terribl', 'destroy', 'let', 'saturday', 'later', 'issu', 'tryna', 'mani', 'hey', 'idea', 'tablet', 'need', 'myth', 'volunt', 'highli', 'voic', 'luck', 'freez', 'blame', 'goe', 'ùìæ', 'devil', 'trust', 'gym', 'nasti', 'fitzhenri', 'ad', 'associ', 'keto', 'group', 'china', 'joke', 'immun', 'card', 'kaiser', 'cours', 'dude', 'walkin', 'american', 'dick', 'countri', 'trigger', 'purpos', 'interview', 'dump', 'increas', 'honest', 'adem', 'yep', 'wear', 'clean', 'could', 'action', 'äôve', 'swab', 'hygien', 'texa', 'concern', 'taught', 'trash', 'etc', 'essenti', 'custodi', 'big', 'pleas', 'fightflu', 'offici', 'join', 'complic', 'bout', 'cute', 'bring', 'provid', 'ago', 'mental', 'outta', 'resid', 'worst', 'earlier', 'multipl', 'germ', 'program', 'fight', 'year', 'insid', 'play', 'bless', 'yall', 'step', 'money', 'üòé', 'forev', 'exposur', 'donat', 'lose', 'absolut', 'diet', 'oil', 'stop', 'gave', 'üèæ', 'anim', 'laugh', 'eat', 'finish', 'partner', 'tbh', 'brother', 'becom', 'brain', 'night', 'app', 'posit', 'green', 'depart', 'santa', 'everywher', 'asap', 'holiday', 'cell', 'talk', 'fall', 'decid', 'librari', 'took', 'garlic', 'paul', 'sound', 'date', 'found', 'normal', 'hit', 'head', 'herbal', 'cancel', 'demdeb', 'watch', 'proper', 'detain', 'effort', 'guess', 'australian', 'leav', 'bitch', 'old', 'üèº', 'near', 'paid', 'jame', 'sad', 'report', 'honestli', 'abl', 'smh', 'close', 'employe', 'ultra', 'mean', 'gut', 'jude', 'fragil', 'internet', 'robert', 'sky', 'run', 'choos', 'bare', 'truth', 'wipe', 'support', 'circul', 'ate', 'hiv', 'younger', 'open', 'admit', 'line', 'lowkey', 'recommend', 'tire', 'simpli', 'compani', 'bronchiti', 'karma', 'pill', 'nov', 'confus', 'husband', 'week', 'medicin', 'pay', 'prescrib', 'asleep', 'fuck', 'benefit', 'friend', 'cassandra', 'set', 'killer', 'fuckin', 'aint', 'dyk', 'claim', 'lot', 'lick', 'thought', 'bandaid', 'part', 'veteran', 'key', 'clinic', 'team', 'ticket', 'motiv', 'lung', 'round', 'glad', 'tonight', 'morn', 'neurosurgeon', 'everyon', 'fullblown', 'standard', 'bill', 'guy', 'perform', 'yesterday', 'put', 'number', 'black', 'safe', 'kidney', 'twice', 'cop', 'wtf', 'histori', 'onlin', 'entir', 'discuss', 'ann', 'footbal', 'rid', 'go', 'forgot', 'dumb', 'biden', 'make', 'social', 'europ', 'updat', 'hahaha', 'experi', 'ôäô', 'meet', 'haha', 'üôé', 'share', 'peak', 'lunch', 'dental', 'forward', 'simpl', 'cdc', 'theyll', 'outbreak', 'facebook', 'üòû', 'face', 'diabet', 'heal', 'major', 'center', 'fast', 'imma', 'lab', 'alright', 'regular', 'memori', 'period', 'post', 'hoe', 'slowli', 'dead', 'howev', 'load', 'longer', 'low', 'oklahoma', 'remind', 'war', 'stage', 'con', 'üôå', 'tree', 'horribl', 'cup', 'nearli', 'similar', 'yearli', 'cough', 'mercuri', 'dee', 'friday', 'boyfriend', 'ass', 'pray', 'breath', 'patient', 'weird', 'temperatur', 'octob', 'declin', 'widespread', 'dumbass', 'goal', 'deep', 'doesnt', 'believ', 'chill', 'rememb', 'light', 'shut', 'ingredi', 'world', 'worker', 'monster', 'finna', 'noth', 'respons', 'there', 'sleep', 'perhap', 'pmpm', 'weather', 'follow', 'pop', 'shit', 'med', 'collect', 'stand', 'must', 'sore', 'went', 'john', 'appoint', 'mayb', 'street', 'pl', 'wouldnt', 'plenti', 'stomach', 'real', 'beep', 'isnt', 'urg', 'theyr', 'fatal', 'among', 'lack', 'minor', 'senior', 'vibe', 'live', 'region', 'contain', 'nh', 'üíï', 'scienc', 'harm', 'fund', 'long', 'bu', 'request', 'kiss', 'scare', 'nonsens', 'hospit', 'perfect', 'african', 'receiv', 'daili', 'babi', 'üòä', 'cook', 'manag', 'rais', 'upon', 'life', 'battl', 'what', 'learn', 'ôçô', 'ever', 'didnt', 'famili', 'fluid', 'past', 'vitamin', 'bag', 'afternoon', 'ear', 'order', 'zero', 'jab', 'foot', 'ask', 'burn', 'crown', 'block', 'state', 'mine', 'realiti', 'child', 'mind', 'effect', 'roll', 'extrem', 'creep', 'event', 'strain', 'six', 'swollen', 'row', 'member', 'music', 'result', 'choic', 'govern', 'soap', 'tho', 'serious', 'still', 'freak', 'infect', 'refus', 'swear', 'target', 'check', 'never', 'dinner', 'influenza', 'wife', 'massag', 'kick', 'favorit', 'awar', 'erythromycin', 'data', 'new', 'resist', 'gain', 'chang', 'boy', 'pack', 'ive', 'dang', 'viru', 'million', 'virus', 'said', 'walter', 'ladi', 'safeti', 'grade', 'sister', 'usual', 'plagu', 'bit', 'involv', 'shout', 'test', 'bro', 'tune', 'disappoint', 'yr', 'administr', 'antibodi', 'fli', 'topic', 'fever', 'mother', 'legit', 'stori', 'free', 'rare', 'might', 'els', 'skip', 'fashion', 'next', 'omfg', 'help', 'sweet', 'nose', 'yet', 'place', 'cannot', 'tha', 'worldwid', 'red', 'fluseason', 'hug', 'commun', 'hear', 'across', 'push', 'arent', 'herd', 'evil', 'sleev', 'hot', 'certain', 'young', 'fun', 'within', 'advic', 'snow', 'food', 'wow', 'nerd', 'ice', 'work', 'understand', 'littl', 'farmer', 'kill', 'arm', 'bullshit', 'town', 'fell', 'extra', 'great', 'beat', 'phone', 'complain', 'anyway', 'yea', 'thing', 'local', 'messag', 'whatev', 'dog', 'psa', 'pick', 'scientist', 'nap', 'ultim', 'knew', 'jordan', 'level', 'suck', 'amp', 'futur', 'wont', 'sat', 'hate', 'got', 'worth', 'deserv', 'want', 'spend', 'muscl', 'sinu', 'attend', 'insulin', 'drank', 'complet', 'wish', 'health', 'forc', 'definit', 'nyquil', 'total', 'putin', 'known', 'oper', 'anti', 'broke', 'home', 'throat', 'excus', 'straight', 'camp', 'threaten', 'wasnt', 'üíâ', 'outsid', 'mexican', 'screen', 'hero', 'stuff', 'therapi', 'reduc', 'enough', 'right', 'white', 'coldflu', 'especi', 'enjoy', 'soon', 'happen', 'shoutout', 'return', 'look', 'bug', 'train', 'eye', 'word', 'annual', 'chicken', 'list', 'though', 'com', 'anxieti', 'practic', 'begin', 'colleg', 'youv', 'differ', 'pass', 'high', 'murder', 'power', 'bruh', 'thru', 'buy', 'break', 'heart', 'äôre', 'caus', 'kinda', 'physician', 'appetit', 'self', 'wait', 'text', 'poll', 'replac', 'crazi', 'boondock', 'area', 'quit', 'prevent', 'select', 'headach', 'well', 'cure', 'depress', 'teddi', 'north', 'avian', 'age', 'wiggin', 'mouth', 'fulli', 'teen', 'weight', 'blood', 'tough', 'billion', 'flume', 'hard', 'stock', 'class', 'school', 'bird', 'system', 'she', 'due', 'heard', 'along', 'loss', 'ùóô', 'herb', 'happi', 'bad', 'show', 'üëè', 'instead', 'swine', 'river', 'aw', 'month', 'fan', 'cover', 'victim', 'peski', 'measur', 'border', 'everytim', 'often', 'trip', 'rich', 'concert', 'start', 'person', 'doc', 'monday', 'sometim', 'problem', 'nasal', 'day', 'die', 'walk', 'final', 'fill', 'noon', 'gotten', 'remedi', 'last', 'soldier', 'introduc', 'pneumonia', 'anyon', 'colleagu', 'gotta', 'care', 'articl', 'äô', 'one', 'brown', 'skin', 'patrol', 'aim', 'current', 'vaccin', 'sign', 'acut', 'tell', 'drink', 'combo', 'youll', 'thimeros', 'boost', 'cuz', 'research', 'car', 'tea', 'debut', 'also', 'stress', 'tour', 'much', 'hr', 'lmao', 'pandem', 'everyth', 'adult', 'avoid', 'gone', 'door', 'migrant', 'weve', 'fighter', 'healthcar', 'reason', 'ugh', 'lil', 'sort', 'beauti', 'folk', 'truli', 'children', 'allerg', 'crap', 'two', 'episod', 'critic', 'releas', 'combin', 'ahead', 'encephalomyel', 'tuesday', 'tattoo', 'itll', 'announc', 'suffer', 'touch', 'doctor', 'smoke', 'cancer', 'parti', 'inform', 'imagin', 'coupl', 'grown', 'late', 'deal', 'nurs', 'left', 'üíø', 'alarm', 'elderli', 'mix', 'antivaxx', 'earli', 'shoot', 'üòî', 'five', 'drug', 'professor', 'tweet', 'four', 'hello', 'consid', 'higher', 'forget', 'best', 'prayer', 'discov', 'mistak', 'centr'}\n"
     ]
    }
   ],
   "source": [
    "list_unique= set(list(itertools.chain.from_iterable(new['remove_less_freq'])))\n",
    "print (list_unique)"
   ]
  },
  {
   "cell_type": "code",
   "execution_count": 37,
   "metadata": {},
   "outputs": [],
   "source": [
    "new.to_csv('data/cleaned_tweets.csv')"
   ]
  },
  {
   "cell_type": "code",
   "execution_count": 94,
   "metadata": {},
   "outputs": [
    {
     "data": {
      "text/html": [
       "<div>\n",
       "<style scoped>\n",
       "    .dataframe tbody tr th:only-of-type {\n",
       "        vertical-align: middle;\n",
       "    }\n",
       "\n",
       "    .dataframe tbody tr th {\n",
       "        vertical-align: top;\n",
       "    }\n",
       "\n",
       "    .dataframe thead th {\n",
       "        text-align: right;\n",
       "    }\n",
       "</style>\n",
       "<table border=\"1\" class=\"dataframe\">\n",
       "  <thead>\n",
       "    <tr style=\"text-align: right;\">\n",
       "      <th></th>\n",
       "      <th>text</th>\n",
       "      <th>label</th>\n",
       "      <th>text_noURLs</th>\n",
       "      <th>text_punct</th>\n",
       "      <th>text_removeRT</th>\n",
       "      <th>tokenized</th>\n",
       "      <th>nonstop</th>\n",
       "      <th>Tweet_lemmatized</th>\n",
       "      <th>stemmed</th>\n",
       "      <th>remove_less_freq</th>\n",
       "      <th>remove_less_freq_lemma</th>\n",
       "      <th>document</th>\n",
       "      <th>document_lemma</th>\n",
       "      <th>document_stemmed</th>\n",
       "    </tr>\n",
       "  </thead>\n",
       "  <tbody>\n",
       "    <tr>\n",
       "      <td>0</td>\n",
       "      <td>The free flu jab is also available for people ...</td>\n",
       "      <td>0</td>\n",
       "      <td>The free flu jab is also available for people ...</td>\n",
       "      <td>The free flu jab is also available for people ...</td>\n",
       "      <td>The free flu jab  also available for people wi...</td>\n",
       "      <td>[the, free, flu, jab, also, available, for, pe...</td>\n",
       "      <td>[free, flu, jab, also, available, people, cert...</td>\n",
       "      <td>[free, flu, jab, also, available, people, cert...</td>\n",
       "      <td>[free, flu, jab, also, avail, peopl, certain, ...</td>\n",
       "      <td>[free, jab, also, avail, peopl, certain, medic...</td>\n",
       "      <td>[free, jab, also, certain]</td>\n",
       "      <td>free jab also avail peopl certain medic condit...</td>\n",
       "      <td>free flu jab also available people certain med...</td>\n",
       "      <td>free flu jab also avail peopl certain medic co...</td>\n",
       "    </tr>\n",
       "    <tr>\n",
       "      <td>1</td>\n",
       "      <td>RT @OUBarstool: “Baker deserved a national cha...</td>\n",
       "      <td>0</td>\n",
       "      <td>RT : “Baker deserved a national championship m...</td>\n",
       "      <td>RT  “Baker deserved a national championship mo...</td>\n",
       "      <td>“Baker deserved  national championship more ...</td>\n",
       "      <td>[, baker, deserved, national, championship, mo...</td>\n",
       "      <td>[, baker, deserved, national, championship, an...</td>\n",
       "      <td>[, baker, deserved, national, championship, an...</td>\n",
       "      <td>[, baker, deserv, nation, championship, anyon,...</td>\n",
       "      <td>[deserv, nation, anyon, averag]</td>\n",
       "      <td>[]</td>\n",
       "      <td>deserv nation anyon averag</td>\n",
       "      <td>baker deserved national championship anyone p...</td>\n",
       "      <td>baker deserv nation championship anyon planet...</td>\n",
       "    </tr>\n",
       "    <tr>\n",
       "      <td>2</td>\n",
       "      <td>Got my flu jab today so now I'm in the office ...</td>\n",
       "      <td>0</td>\n",
       "      <td>Got my flu jab today so now I'm in the office ...</td>\n",
       "      <td>Got my flu jab today so now Im in the office t...</td>\n",
       "      <td>Got  flu jab today  now   the office trying   ...</td>\n",
       "      <td>[got, flu, jab, today, now, the, office, tryin...</td>\n",
       "      <td>[got, flu, jab, today, office, trying, work, f...</td>\n",
       "      <td>[got, flu, jab, today, office, trying, work, f...</td>\n",
       "      <td>[got, flu, jab, today, offic, tri, work, fluar...</td>\n",
       "      <td>[got, jab, today, offic, tri, work, like]</td>\n",
       "      <td>[got, jab, today, work, like]</td>\n",
       "      <td>got jab today offic tri work like</td>\n",
       "      <td>got flu jab today office trying work fluarm like</td>\n",
       "      <td>got flu jab today offic tri work fluarm like</td>\n",
       "    </tr>\n",
       "    <tr>\n",
       "      <td>3</td>\n",
       "      <td>@fireox9 Hummm i've been with a headache for t...</td>\n",
       "      <td>1</td>\n",
       "      <td>Hummm i've been with a headache for the last ...</td>\n",
       "      <td>Hummm ive been with a headache for the last t...</td>\n",
       "      <td>Hummm ive been with  headache for the last tw...</td>\n",
       "      <td>[, hummm, ive, been, with, headache, for, the,...</td>\n",
       "      <td>[, hummm, ive, headache, last, two, weeks, str...</td>\n",
       "      <td>[, hummm, ive, headache, last, two, week, stra...</td>\n",
       "      <td>[, hummm, ive, headach, last, two, week, strai...</td>\n",
       "      <td>[ive, headach, last, two, week, straight, toge...</td>\n",
       "      <td>[ive, last, two, week, straight, today]</td>\n",
       "      <td>ive headach last two week straight togeth today</td>\n",
       "      <td>hummm ive headache last two week straight tog...</td>\n",
       "      <td>hummm ive headach last two week straight toge...</td>\n",
       "    </tr>\n",
       "    <tr>\n",
       "      <td>4</td>\n",
       "      <td>Throw the whole boyfriend away</td>\n",
       "      <td>0</td>\n",
       "      <td>Throw the whole boyfriend away</td>\n",
       "      <td>Throw the whole boyfriend away</td>\n",
       "      <td>Throw the whole boyfriend away</td>\n",
       "      <td>[throw, the, whole, boyfriend, away]</td>\n",
       "      <td>[throw, whole, boyfriend, away]</td>\n",
       "      <td>[throw, whole, boyfriend, away]</td>\n",
       "      <td>[throw, whole, boyfriend, away]</td>\n",
       "      <td>[throw, whole, boyfriend, away]</td>\n",
       "      <td>[throw, whole, boyfriend, away]</td>\n",
       "      <td>throw whole boyfriend away</td>\n",
       "      <td>throw whole boyfriend away</td>\n",
       "      <td>throw whole boyfriend away</td>\n",
       "    </tr>\n",
       "  </tbody>\n",
       "</table>\n",
       "</div>"
      ],
      "text/plain": [
       "                                                text  label  \\\n",
       "0  The free flu jab is also available for people ...      0   \n",
       "1  RT @OUBarstool: “Baker deserved a national cha...      0   \n",
       "2  Got my flu jab today so now I'm in the office ...      0   \n",
       "3  @fireox9 Hummm i've been with a headache for t...      1   \n",
       "4                     Throw the whole boyfriend away      0   \n",
       "\n",
       "                                         text_noURLs  \\\n",
       "0  The free flu jab is also available for people ...   \n",
       "1  RT : “Baker deserved a national championship m...   \n",
       "2  Got my flu jab today so now I'm in the office ...   \n",
       "3   Hummm i've been with a headache for the last ...   \n",
       "4                     Throw the whole boyfriend away   \n",
       "\n",
       "                                          text_punct  \\\n",
       "0  The free flu jab is also available for people ...   \n",
       "1  RT  “Baker deserved a national championship mo...   \n",
       "2  Got my flu jab today so now Im in the office t...   \n",
       "3   Hummm ive been with a headache for the last t...   \n",
       "4                     Throw the whole boyfriend away   \n",
       "\n",
       "                                       text_removeRT  \\\n",
       "0  The free flu jab  also available for people wi...   \n",
       "1    “Baker deserved  national championship more ...   \n",
       "2  Got  flu jab today  now   the office trying   ...   \n",
       "3   Hummm ive been with  headache for the last tw...   \n",
       "4                     Throw the whole boyfriend away   \n",
       "\n",
       "                                           tokenized  \\\n",
       "0  [the, free, flu, jab, also, available, for, pe...   \n",
       "1  [, baker, deserved, national, championship, mo...   \n",
       "2  [got, flu, jab, today, now, the, office, tryin...   \n",
       "3  [, hummm, ive, been, with, headache, for, the,...   \n",
       "4               [throw, the, whole, boyfriend, away]   \n",
       "\n",
       "                                             nonstop  \\\n",
       "0  [free, flu, jab, also, available, people, cert...   \n",
       "1  [, baker, deserved, national, championship, an...   \n",
       "2  [got, flu, jab, today, office, trying, work, f...   \n",
       "3  [, hummm, ive, headache, last, two, weeks, str...   \n",
       "4                    [throw, whole, boyfriend, away]   \n",
       "\n",
       "                                    Tweet_lemmatized  \\\n",
       "0  [free, flu, jab, also, available, people, cert...   \n",
       "1  [, baker, deserved, national, championship, an...   \n",
       "2  [got, flu, jab, today, office, trying, work, f...   \n",
       "3  [, hummm, ive, headache, last, two, week, stra...   \n",
       "4                    [throw, whole, boyfriend, away]   \n",
       "\n",
       "                                             stemmed  \\\n",
       "0  [free, flu, jab, also, avail, peopl, certain, ...   \n",
       "1  [, baker, deserv, nation, championship, anyon,...   \n",
       "2  [got, flu, jab, today, offic, tri, work, fluar...   \n",
       "3  [, hummm, ive, headach, last, two, week, strai...   \n",
       "4                    [throw, whole, boyfriend, away]   \n",
       "\n",
       "                                    remove_less_freq  \\\n",
       "0  [free, jab, also, avail, peopl, certain, medic...   \n",
       "1                    [deserv, nation, anyon, averag]   \n",
       "2          [got, jab, today, offic, tri, work, like]   \n",
       "3  [ive, headach, last, two, week, straight, toge...   \n",
       "4                    [throw, whole, boyfriend, away]   \n",
       "\n",
       "                    remove_less_freq_lemma  \\\n",
       "0               [free, jab, also, certain]   \n",
       "1                                       []   \n",
       "2            [got, jab, today, work, like]   \n",
       "3  [ive, last, two, week, straight, today]   \n",
       "4          [throw, whole, boyfriend, away]   \n",
       "\n",
       "                                            document  \\\n",
       "0  free jab also avail peopl certain medic condit...   \n",
       "1                         deserv nation anyon averag   \n",
       "2                  got jab today offic tri work like   \n",
       "3    ive headach last two week straight togeth today   \n",
       "4                         throw whole boyfriend away   \n",
       "\n",
       "                                      document_lemma  \\\n",
       "0  free flu jab also available people certain med...   \n",
       "1   baker deserved national championship anyone p...   \n",
       "2  got flu jab today office trying work fluarm like    \n",
       "3   hummm ive headache last two week straight tog...   \n",
       "4                         throw whole boyfriend away   \n",
       "\n",
       "                                    document_stemmed  \n",
       "0  free flu jab also avail peopl certain medic co...  \n",
       "1   baker deserv nation championship anyon planet...  \n",
       "2      got flu jab today offic tri work fluarm like   \n",
       "3   hummm ive headach last two week straight toge...  \n",
       "4                         throw whole boyfriend away  "
      ]
     },
     "execution_count": 94,
     "metadata": {},
     "output_type": "execute_result"
    }
   ],
   "source": [
    "new.head()"
   ]
  },
  {
   "cell_type": "markdown",
   "metadata": {},
   "source": [
    "# I want to visualize the top 20 ngrams for the tweets we've collected. N-grams using the CountVectorizer helps us create bigrams and trigrams. A bigram makes a prediction for a word based on the one before, and a trigram makes a prediction for the word based on the two words before tha"
   ]
  },
  {
   "cell_type": "code",
   "execution_count": 90,
   "metadata": {},
   "outputs": [
    {
     "name": "stdout",
     "output_type": "stream",
     "text": [
      "flu 3351\n",
      "shot 873\n",
      "got 422\n",
      "like 306\n",
      "sick 260\n",
      "cold 258\n",
      "getting 231\n",
      "day 216\n",
      "year 212\n",
      "season 210\n",
      "vaccine 204\n",
      "time 178\n",
      "today 175\n",
      "people 169\n",
      "week 155\n",
      "know 144\n",
      "feel 139\n",
      "amp 136\n",
      "work 120\n",
      "think 115\n"
     ]
    },
    {
     "data": {
      "image/png": "[encoded data removed]",
      "text/plain": [
       "<Figure size 1080x720 with 1 Axes>"
      ]
     },
     "metadata": {},
     "output_type": "display_data"
    }
   ],
   "source": [
    "def get_top_n_words(corpus, n=None):\n",
    "    vec = CountVectorizer(stop_words = 'english').fit(corpus)\n",
    "    bag_of_words = vec.transform(corpus)\n",
    "    sum_words = bag_of_words.sum(axis=0) \n",
    "    words_freq = [(word, sum_words[0, idx]) for word, idx in vec.vocabulary_.items()]\n",
    "    words_freq =sorted(words_freq, key = lambda x: x[1], reverse=True)\n",
    "    return words_freq[:n]\n",
    "common_words = get_top_n_words(new['document_lemma'], 20)\n",
    "for word, freq in common_words:\n",
    "    print(word, freq)\n",
    "df2 = pd.DataFrame(common_words, columns = ['text' , 'count'])\n",
    "plt.figure(figsize=(15,10))\n",
    "df2.groupby('text').sum()['count'].sort_values(ascending=False).plot(\n",
    "    kind='bar', title='Top 20 words')\n",
    "plt.show()"
   ]
  },
  {
   "cell_type": "code",
   "execution_count": 91,
   "metadata": {},
   "outputs": [
    {
     "name": "stdout",
     "output_type": "stream",
     "text": [
      "flu shot 819\n",
      "got flu 242\n",
      "flu season 172\n",
      "getting flu 145\n",
      "flu vaccine 124\n",
      "cold flu 100\n",
      "stomach flu 68\n",
      "flu jab 65\n",
      "feel like 55\n",
      "like flu 42\n",
      "free flu 39\n",
      "amp flu 35\n",
      "sick flu 34\n",
      "shot today 32\n",
      "swine flu 31\n",
      "flu like 31\n",
      "flu game 29\n",
      "cold amp 26\n",
      "year flu 25\n",
      "man flu 25\n"
     ]
    },
    {
     "data": {
      "image/png": "[encoded data removed]",
      "text/plain": [
       "<Figure size 1080x720 with 1 Axes>"
      ]
     },
     "metadata": {},
     "output_type": "display_data"
    }
   ],
   "source": [
    "def get_top_n_bigram(corpus, n=None):\n",
    "    vec = CountVectorizer(stop_words = 'english', ngram_range=(2, 2)).fit(corpus)\n",
    "    bag_of_words = vec.transform(corpus)\n",
    "    sum_words = bag_of_words.sum(axis=0) \n",
    "    words_freq = [(word, sum_words[0, idx]) for word, idx in vec.vocabulary_.items()]\n",
    "    words_freq =sorted(words_freq, key = lambda x: x[1], reverse=True)\n",
    "    return words_freq[:n]\n",
    "common_words = get_top_n_bigram(new['document_lemma'], 20)\n",
    "for word, freq in common_words:\n",
    "    print(word, freq)\n",
    "df3 = pd.DataFrame(common_words, columns = ['text' , 'count'])\n",
    "plt.figure(figsize=(15,10))\n",
    "df3.groupby('text').sum()['count'].sort_values(ascending=False).plot(\n",
    "    kind='bar', title='Top 20 bigrams')\n",
    "plt.show()"
   ]
  },
  {
   "cell_type": "code",
   "execution_count": 92,
   "metadata": {},
   "outputs": [
    {
     "name": "stdout",
     "output_type": "stream",
     "text": [
      "got flu shot 122\n",
      "getting flu shot 79\n",
      "flu shot today 32\n",
      "cold flu season 26\n",
      "cold amp flu 26\n",
      "flu shot year 20\n",
      "free flu shot 17\n",
      "flu shot flu 16\n",
      "gotten flu shot 13\n",
      "flu shot clinic 13\n",
      "flu nearly killed 12\n",
      "nearly killed winter 12\n",
      "flu shot protect 12\n",
      "flu shot got 11\n",
      "flu like symptom 11\n",
      "fried chicken flu 11\n",
      "feel like flu 11\n",
      "border patrol refusing 10\n",
      "patrol refusing let 10\n",
      "refusing let doctor 10\n"
     ]
    },
    {
     "data": {
      "image/png": "[encoded data removed]",
      "text/plain": [
       "<Figure size 1080x720 with 1 Axes>"
      ]
     },
     "metadata": {},
     "output_type": "display_data"
    }
   ],
   "source": [
    "def get_top_n_trigram(corpus, n=None):\n",
    "    vec = CountVectorizer(stop_words = 'english', ngram_range=(3, 3)).fit(corpus)\n",
    "    bag_of_words = vec.transform(corpus)\n",
    "    sum_words = bag_of_words.sum(axis=0) \n",
    "    words_freq = [(word, sum_words[0, idx]) for word, idx in vec.vocabulary_.items()]\n",
    "    words_freq =sorted(words_freq, key = lambda x: x[1], reverse=True)\n",
    "    return words_freq[:n]\n",
    "common_words = get_top_n_trigram(new['document_lemma'], 20)\n",
    "for word, freq in common_words:\n",
    "    print(word, freq)\n",
    "df4 = pd.DataFrame(common_words, columns = ['text' , 'count'])\n",
    "plt.figure(figsize=(15,10))\n",
    "df4.groupby('text').sum()['count'].sort_values(ascending=False).plot(\n",
    "    kind='bar', title='Top 20 trigrams')\n",
    "plt.show()"
   ]
  },
  {
   "cell_type": "markdown",
   "metadata": {},
   "source": [
    "# Defining our bag of words\n",
    "\n",
    "### Using bag of words with our unique list of words and trying out lemmatized ,stemmed documents. Let's see which ones will get better scores. "
   ]
  },
  {
   "cell_type": "code",
   "execution_count": 41,
   "metadata": {},
   "outputs": [
    {
     "name": "stdout",
     "output_type": "stream",
     "text": [
      "There are 1395 features\n",
      "['abl', 'absolut', 'accept', 'accord', 'account', 'ach', 'across', 'act', 'action', 'activ', 'actual', 'acut', 'ad', 'add', 'adem', 'admin', 'administ', 'administr', 'admit', 'adult']\n"
     ]
    },
    {
     "data": {
      "text/html": [
       "<div>\n",
       "<style scoped>\n",
       "    .dataframe tbody tr th:only-of-type {\n",
       "        vertical-align: middle;\n",
       "    }\n",
       "\n",
       "    .dataframe tbody tr th {\n",
       "        vertical-align: top;\n",
       "    }\n",
       "\n",
       "    .dataframe thead th {\n",
       "        text-align: right;\n",
       "    }\n",
       "</style>\n",
       "<table border=\"1\" class=\"dataframe\">\n",
       "  <thead>\n",
       "    <tr style=\"text-align: right;\">\n",
       "      <th></th>\n",
       "      <th>abl</th>\n",
       "      <th>absolut</th>\n",
       "      <th>accept</th>\n",
       "      <th>accord</th>\n",
       "      <th>account</th>\n",
       "      <th>ach</th>\n",
       "      <th>across</th>\n",
       "      <th>act</th>\n",
       "      <th>action</th>\n",
       "      <th>activ</th>\n",
       "      <th>...</th>\n",
       "      <th>üíø</th>\n",
       "      <th>üòä</th>\n",
       "      <th>üòå</th>\n",
       "      <th>üòç</th>\n",
       "      <th>üòé</th>\n",
       "      <th>üòí</th>\n",
       "      <th>üòî</th>\n",
       "      <th>üòû</th>\n",
       "      <th>üôå</th>\n",
       "      <th>üôé</th>\n",
       "    </tr>\n",
       "  </thead>\n",
       "  <tbody>\n",
       "    <tr>\n",
       "      <td>0</td>\n",
       "      <td>0</td>\n",
       "      <td>0</td>\n",
       "      <td>0</td>\n",
       "      <td>0</td>\n",
       "      <td>0</td>\n",
       "      <td>0</td>\n",
       "      <td>0</td>\n",
       "      <td>0</td>\n",
       "      <td>0</td>\n",
       "      <td>0</td>\n",
       "      <td>...</td>\n",
       "      <td>0</td>\n",
       "      <td>0</td>\n",
       "      <td>0</td>\n",
       "      <td>0</td>\n",
       "      <td>0</td>\n",
       "      <td>0</td>\n",
       "      <td>0</td>\n",
       "      <td>0</td>\n",
       "      <td>0</td>\n",
       "      <td>0</td>\n",
       "    </tr>\n",
       "    <tr>\n",
       "      <td>1</td>\n",
       "      <td>0</td>\n",
       "      <td>0</td>\n",
       "      <td>0</td>\n",
       "      <td>0</td>\n",
       "      <td>0</td>\n",
       "      <td>0</td>\n",
       "      <td>0</td>\n",
       "      <td>0</td>\n",
       "      <td>0</td>\n",
       "      <td>0</td>\n",
       "      <td>...</td>\n",
       "      <td>0</td>\n",
       "      <td>0</td>\n",
       "      <td>0</td>\n",
       "      <td>0</td>\n",
       "      <td>0</td>\n",
       "      <td>0</td>\n",
       "      <td>0</td>\n",
       "      <td>0</td>\n",
       "      <td>0</td>\n",
       "      <td>0</td>\n",
       "    </tr>\n",
       "    <tr>\n",
       "      <td>2</td>\n",
       "      <td>0</td>\n",
       "      <td>0</td>\n",
       "      <td>0</td>\n",
       "      <td>0</td>\n",
       "      <td>0</td>\n",
       "      <td>0</td>\n",
       "      <td>0</td>\n",
       "      <td>0</td>\n",
       "      <td>0</td>\n",
       "      <td>0</td>\n",
       "      <td>...</td>\n",
       "      <td>0</td>\n",
       "      <td>0</td>\n",
       "      <td>0</td>\n",
       "      <td>0</td>\n",
       "      <td>0</td>\n",
       "      <td>0</td>\n",
       "      <td>0</td>\n",
       "      <td>0</td>\n",
       "      <td>0</td>\n",
       "      <td>0</td>\n",
       "    </tr>\n",
       "    <tr>\n",
       "      <td>3</td>\n",
       "      <td>0</td>\n",
       "      <td>0</td>\n",
       "      <td>0</td>\n",
       "      <td>0</td>\n",
       "      <td>0</td>\n",
       "      <td>0</td>\n",
       "      <td>0</td>\n",
       "      <td>0</td>\n",
       "      <td>0</td>\n",
       "      <td>0</td>\n",
       "      <td>...</td>\n",
       "      <td>0</td>\n",
       "      <td>0</td>\n",
       "      <td>0</td>\n",
       "      <td>0</td>\n",
       "      <td>0</td>\n",
       "      <td>0</td>\n",
       "      <td>0</td>\n",
       "      <td>0</td>\n",
       "      <td>0</td>\n",
       "      <td>0</td>\n",
       "    </tr>\n",
       "    <tr>\n",
       "      <td>4</td>\n",
       "      <td>0</td>\n",
       "      <td>0</td>\n",
       "      <td>0</td>\n",
       "      <td>0</td>\n",
       "      <td>0</td>\n",
       "      <td>0</td>\n",
       "      <td>0</td>\n",
       "      <td>0</td>\n",
       "      <td>0</td>\n",
       "      <td>0</td>\n",
       "      <td>...</td>\n",
       "      <td>0</td>\n",
       "      <td>0</td>\n",
       "      <td>0</td>\n",
       "      <td>0</td>\n",
       "      <td>0</td>\n",
       "      <td>0</td>\n",
       "      <td>0</td>\n",
       "      <td>0</td>\n",
       "      <td>0</td>\n",
       "      <td>0</td>\n",
       "    </tr>\n",
       "  </tbody>\n",
       "</table>\n",
       "<p>5 rows × 1395 columns</p>\n",
       "</div>"
      ],
      "text/plain": [
       "   abl  absolut  accept  accord  account  ach  across  act  action  activ  \\\n",
       "0    0        0       0       0        0    0       0    0       0      0   \n",
       "1    0        0       0       0        0    0       0    0       0      0   \n",
       "2    0        0       0       0        0    0       0    0       0      0   \n",
       "3    0        0       0       0        0    0       0    0       0      0   \n",
       "4    0        0       0       0        0    0       0    0       0      0   \n",
       "\n",
       "   ...  üíø  üòä  üòå  üòç  üòé  üòí  üòî  üòû  üôå  üôé  \n",
       "0  ...    0    0    0    0    0    0    0    0    0    0  \n",
       "1  ...    0    0    0    0    0    0    0    0    0    0  \n",
       "2  ...    0    0    0    0    0    0    0    0    0    0  \n",
       "3  ...    0    0    0    0    0    0    0    0    0    0  \n",
       "4  ...    0    0    0    0    0    0    0    0    0    0  \n",
       "\n",
       "[5 rows x 1395 columns]"
      ]
     },
     "execution_count": 41,
     "metadata": {},
     "output_type": "execute_result"
    }
   ],
   "source": [
    "from sklearn.feature_extraction import text\n",
    "#extended punctuation list\n",
    "punc = ['.', ',', '\"', \"'\", '?', '!', ':', ';', '(', ')', '[', ']', '{', '}',\"%\"]\n",
    "stop_words = text.ENGLISH_STOP_WORDS.union(punc)\n",
    "#stopwords_en = stopwords.words('english')\n",
    "\n",
    "#create a bag of words using CountVectorizer.\n",
    "vectorizer = CountVectorizer(vocabulary=list_unique,#max_features=2000,\n",
    "                                min_df=10, \n",
    "                             stop_words=stop_words,\n",
    "                             #tokenizer='callable',\n",
    "                             ngram_range=(1, 1),\n",
    "                            strip_accents='ascii')\n",
    "X = vectorizer.fit_transform(new['document'])\n",
    "#extracting features \n",
    "columns = list(vectorizer.get_feature_names())\n",
    "print('There are {} features'.format(len(columns)))\n",
    "print(columns[0:20])\n",
    "\n",
    "# Convert bag of words to a dataframe\n",
    "count_vectordf = pd.DataFrame(X.toarray(), columns=columns)\n",
    "count_vectordf.head()"
   ]
  },
  {
   "cell_type": "markdown",
   "metadata": {},
   "source": [
    "### Splitting"
   ]
  },
  {
   "cell_type": "code",
   "execution_count": 42,
   "metadata": {},
   "outputs": [],
   "source": [
    "X_train, X_test, y_train, y_test = train_test_split(count_vectordf, new['label'], test_size=0.20, random_state=42)"
   ]
  },
  {
   "cell_type": "code",
   "execution_count": 43,
   "metadata": {},
   "outputs": [],
   "source": [
    "#sm = SMOTE(random_state=12, ratio = 1.0)\n",
    "#from imblearn.over_sampling import SMOTE\n",
    "#X_train_res, y_train_res = sm.fit_sample(X_train, y_train)"
   ]
  },
  {
   "cell_type": "code",
   "execution_count": 44,
   "metadata": {},
   "outputs": [],
   "source": [
    "#from sklearn.utils import resample\n",
    "#df_majority= new[new.label==0]\n",
    "#df_minority=new[new.label==1]\n",
    "\n",
    "#Downsampling majority\n",
    "#df_majority_downsample= resample(df_majority,replace=False,n_samples=903\n",
    " #                                , random_state=0)\n",
    "\n",
    "#df_downsample= pd.concat([df_majority_downsample, df_minority])\n",
    "\n",
    "#df_downsample.label.value_counts()"
   ]
  },
  {
   "cell_type": "markdown",
   "metadata": {},
   "source": [
    "# Logistic Regression with BOW\n",
    "\n"
   ]
  },
  {
   "cell_type": "code",
   "execution_count": 45,
   "metadata": {},
   "outputs": [],
   "source": [
    "from sklearn.pipeline import make_pipeline\n",
    "from sklearn.model_selection import GridSearchCV\n",
    "from sklearn.metrics import confusion_matrix\n",
    "from sklearn.linear_model import LogisticRegression\n",
    "logreg = LogisticRegression(class_weight='balanced', solver='liblinear', random_state=0)\n",
    "param_grid = {'C': [0.01, 0.1, 1, 10, 100]}\n",
    "grid = GridSearchCV(logreg, param_grid, scoring='roc_auc', cv=5)\n",
    "logreg_train = grid.fit(X_train, y_train)"
   ]
  },
  {
   "cell_type": "code",
   "execution_count": 46,
   "metadata": {},
   "outputs": [
    {
     "name": "stdout",
     "output_type": "stream",
     "text": [
      "              precision    recall  f1-score   support\n",
      "\n",
      "           0       0.94      0.69      0.79       680\n",
      "           1       0.42      0.83      0.56       185\n",
      "\n",
      "    accuracy                           0.72       865\n",
      "   macro avg       0.68      0.76      0.68       865\n",
      "weighted avg       0.83      0.72      0.74       865\n",
      "\n",
      "AUC score: 0.7595985691573927\n",
      "Classification accuracy is:  0.7179190751445087\n"
     ]
    },
    {
     "data": {
      "image/png": "[encoded data removed]",
      "text/plain": [
       "<Figure size 432x288 with 1 Axes>"
      ]
     },
     "metadata": {},
     "output_type": "display_data"
    }
   ],
   "source": [
    "y_pred = logreg_train.predict(X_test)\n",
    "print(classification_report(y_test, y_pred))\n",
    "mat = confusion_matrix(y_test, y_pred)\n",
    "print('AUC score: {}'.format(roc_auc_score(y_test, y_pred)))\n",
    "print(\"Classification accuracy is: \", (mat[0][0] + mat[1][1]) / np.sum(mat))\n",
    "\n",
    "\n",
    "sns.heatmap(mat.T, square=True, annot=True, fmt='d', cmap= 'RdBu', cbar=False,\n",
    "            xticklabels=['no flu', 'flu'], yticklabels=['no flu', 'flu'])\n",
    "plt.xlabel('true label')\n",
    "plt.ylabel('predicted label');\n"
   ]
  },
  {
   "cell_type": "markdown",
   "metadata": {},
   "source": [
    "## Random Forest with BOW"
   ]
  },
  {
   "cell_type": "code",
   "execution_count": 47,
   "metadata": {},
   "outputs": [],
   "source": [
    "n_estimators = [100]\n",
    "max_depth = [5, 8]\n",
    "min_samples_split = [2, 3]\n",
    "min_samples_leaf = [1, 2] \n",
    "rfc = RandomForestClassifier(class_weight='balanced')\n",
    "param_grid = dict(n_estimators = n_estimators, max_depth = max_depth,  \n",
    "              min_samples_split = min_samples_split, \n",
    "             min_samples_leaf = min_samples_leaf)\n",
    "\n",
    "grid = GridSearchCV(rfc, param_grid, scoring='roc_auc', cv=5)\n",
    "random_forest = grid.fit(X_train, y_train)"
   ]
  },
  {
   "cell_type": "code",
   "execution_count": 48,
   "metadata": {},
   "outputs": [
    {
     "name": "stdout",
     "output_type": "stream",
     "text": [
      "              precision    recall  f1-score   support\n",
      "\n",
      "           0       0.95      0.56      0.71       680\n",
      "           1       0.36      0.89      0.51       185\n",
      "\n",
      "    accuracy                           0.63       865\n",
      "   macro avg       0.65      0.73      0.61       865\n",
      "weighted avg       0.82      0.63      0.67       865\n",
      "\n",
      "AUC score: 0.7255961844197139\n",
      "Classification accuracy is:  0.6335260115606937\n"
     ]
    },
    {
     "data": {
      "image/png": "[encoded data removed]",
      "text/plain": [
       "<Figure size 432x288 with 1 Axes>"
      ]
     },
     "metadata": {},
     "output_type": "display_data"
    }
   ],
   "source": [
    "y_pred = random_forest.predict(X_test)\n",
    "print(classification_report(y_test, y_pred))\n",
    "mat = confusion_matrix(y_test, y_pred)\n",
    "print('AUC score: {}'.format(roc_auc_score(y_test, y_pred)))\n",
    "print(\"Classification accuracy is: \", (mat[0][0] + mat[1][1]) / np.sum(mat))\n",
    "\n",
    "sns.heatmap(mat.T, square=True, annot=True, fmt='d', cmap= 'RdBu', cbar=False,\n",
    "            xticklabels=['no flu', 'flu'], yticklabels=['no flu', 'flu'])\n",
    "plt.xlabel('true label')\n",
    "plt.ylabel('predicted label');\n"
   ]
  },
  {
   "cell_type": "code",
   "execution_count": 49,
   "metadata": {},
   "outputs": [
    {
     "name": "stderr",
     "output_type": "stream",
     "text": [
      "/Library/Frameworks/Python.framework/Versions/3.7/lib/python3.7/site-packages/sklearn/ensemble/forest.py:245: FutureWarning: The default value of n_estimators will change from 10 in version 0.20 to 100 in 0.22.\n",
      "  \"10 in version 0.20 to 100 in 0.22.\", FutureWarning)\n"
     ]
    },
    {
     "name": "stdout",
     "output_type": "stream",
     "text": [
      "Feature ranking:\n",
      "1. feature 1066 (0.0797) shot\n",
      "2. feature 1265 (0.0327) vaccin\n",
      "3. feature 1037 (0.0201) season\n",
      "4. feature 443 (0.0169) feel\n",
      "5. feature 298 (0.0152) day\n",
      "6. feature 876 (0.0139) peopl\n",
      "7. feature 533 (0.0127) got\n",
      "8. feature 1304 (0.0106) week\n",
      "9. feature 1072 (0.0105) sick\n",
      "10. feature 1132 (0.0079) stomach\n",
      "11. feature 698 (0.0075) like\n",
      "12. feature 1149 (0.0067) suck\n",
      "13. feature 1198 (0.0066) think\n",
      "14. feature 643 (0.0064) jab\n",
      "15. feature 117 (0.0058) bed\n",
      "16. feature 1355 (0.0058) year\n",
      "17. feature 556 (0.0057) hate\n",
      "18. feature 1211 (0.0055) time\n",
      "19. feature 970 (0.0051) realli\n",
      "20. feature 492 (0.0050) free\n"
     ]
    },
    {
     "data": {
      "image/png": "[encoded data removed]",
      "text/plain": [
       "<Figure size 432x288 with 1 Axes>"
      ]
     },
     "metadata": {},
     "output_type": "display_data"
    }
   ],
   "source": [
    "#have to fit without Gridsearch to get feature importances\n",
    "rfc.fit(X_train, y_train)\n",
    "importances = rfc.feature_importances_\n",
    "indices = np.argsort(importances)[::-1]\n",
    "\n",
    "# Print the feature ranking\n",
    "print(\"Feature ranking:\")\n",
    "\n",
    "terms = vectorizer.get_feature_names()\n",
    "\n",
    "for f in range(20):\n",
    "    print('{}. feature {} ({:.4f}) {}'.format((f+1), indices[f], importances[indices[f]], terms[indices[f]]))\n",
    "\n",
    "# Plot the feature importances of the forest\n",
    "plt.figure()\n",
    "plt.title(\"Feature importances\")\n",
    "plt.bar(range(0,20), importances[indices][:20], color=\"r\", align=\"center\")\n",
    "plt.xticks(range(20), indices, rotation=90)\n",
    "plt.xlim([-1, 20])\n",
    "plt.show()"
   ]
  },
  {
   "cell_type": "markdown",
   "metadata": {},
   "source": [
    "# Naive Bayes with BOW"
   ]
  },
  {
   "cell_type": "code",
   "execution_count": 50,
   "metadata": {},
   "outputs": [],
   "source": [
    "naive_bayes = MultinomialNB()\n",
    "param_grid = {'alpha':[1, 1e-1, 1e-2] }\n",
    "\n",
    "grid = GridSearchCV(naive_bayes, param_grid, scoring='roc_auc', cv=5)\n",
    "nb = grid.fit(X_train, y_train)\n"
   ]
  },
  {
   "cell_type": "code",
   "execution_count": 51,
   "metadata": {},
   "outputs": [
    {
     "name": "stdout",
     "output_type": "stream",
     "text": [
      "              precision    recall  f1-score   support\n",
      "\n",
      "           0       0.87      0.88      0.87       680\n",
      "           1       0.54      0.50      0.52       185\n",
      "\n",
      "    accuracy                           0.80       865\n",
      "   macro avg       0.70      0.69      0.70       865\n",
      "weighted avg       0.80      0.80      0.80       865\n",
      "\n",
      "AUC score: 0.6925278219395866\n",
      "Classification accuracy is:  0.8011560693641618\n"
     ]
    },
    {
     "data": {
      "image/png": "[encoded data removed]",
      "text/plain": [
       "<Figure size 432x288 with 1 Axes>"
      ]
     },
     "metadata": {},
     "output_type": "display_data"
    }
   ],
   "source": [
    "y_pred = nb.predict(X_test)\n",
    "print(classification_report(y_test, y_pred))\n",
    "mat = confusion_matrix(y_test, y_pred)\n",
    "print('AUC score: {}'.format(roc_auc_score(y_test, y_pred)))\n",
    "print(\"Classification accuracy is: \", (mat[0][0] + mat[1][1]) / np.sum(mat))\n",
    "\n",
    "sns.heatmap(mat.T, square=True, annot=True, fmt='d', cmap= 'RdBu', cbar=False,\n",
    "            xticklabels=['no flu', 'flu'], yticklabels=['no flu', 'flu'])\n",
    "plt.xlabel('true label')\n",
    "plt.ylabel('predicted label');\n"
   ]
  },
  {
   "cell_type": "markdown",
   "metadata": {},
   "source": [
    "## Not bad for our a small dataset and imbalanced classes. But there's more things to try. This time we'll take our lemmatized words and see if it improves scores"
   ]
  },
  {
   "cell_type": "code",
   "execution_count": 52,
   "metadata": {},
   "outputs": [],
   "source": [
    "cv=CountVectorizer(strip_accents='ascii')\n",
    "\n",
    "count_vector=cv.fit_transform(new['document_lemma'])\n",
    "count_vectordf= pd.DataFrame(count_vector.toarray())\n",
    "count_vectordf.columns= cv.get_feature_names()\n",
    "X_train, X_test, y_train, y_test = train_test_split(count_vectordf, new['label'], test_size=0.20, random_state=42)"
   ]
  },
  {
   "cell_type": "markdown",
   "metadata": {},
   "source": [
    "## Random Forest with BOW Lemma"
   ]
  },
  {
   "cell_type": "code",
   "execution_count": 53,
   "metadata": {},
   "outputs": [],
   "source": [
    "n_estimators = [100, 200]\n",
    "max_depth = [5, 8, 15]\n",
    "min_samples_split = [2, 5, 10]\n",
    "min_samples_leaf = [1, 2, 5] \n",
    "rfc = RandomForestClassifier(class_weight='balanced')\n",
    "param_grid = dict(n_estimators = n_estimators, max_depth = max_depth,  \n",
    "              min_samples_split = min_samples_split, \n",
    "             min_samples_leaf = min_samples_leaf)\n",
    "\n",
    "grid = GridSearchCV(rfc, param_grid, scoring='roc_auc', cv=5)\n",
    "random_forest = grid.fit(X_train, y_train)"
   ]
  },
  {
   "cell_type": "code",
   "execution_count": 54,
   "metadata": {},
   "outputs": [
    {
     "name": "stdout",
     "output_type": "stream",
     "text": [
      "              precision    recall  f1-score   support\n",
      "\n",
      "           0       0.96      0.75      0.84       680\n",
      "           1       0.50      0.89      0.64       185\n",
      "\n",
      "    accuracy                           0.78       865\n",
      "   macro avg       0.73      0.82      0.74       865\n",
      "weighted avg       0.86      0.78      0.80       865\n",
      "\n",
      "AUC score: 0.82241653418124\n",
      "Classification accuracy is:  0.7826589595375723\n"
     ]
    },
    {
     "data": {
      "image/png": "[encoded data removed]",
      "text/plain": [
       "<Figure size 432x288 with 1 Axes>"
      ]
     },
     "metadata": {},
     "output_type": "display_data"
    }
   ],
   "source": [
    "y_pred = random_forest.predict(X_test)\n",
    "print(classification_report(y_test, y_pred))\n",
    "mat = confusion_matrix(y_test, y_pred)\n",
    "print('AUC score: {}'.format(roc_auc_score(y_test, y_pred)))\n",
    "print(\"Classification accuracy is: \", (mat[0][0] + mat[1][1]) / np.sum(mat))\n",
    "\n",
    "sns.heatmap(mat.T, square=True, annot=True, fmt='d', cmap= 'RdBu', cbar=False,\n",
    "            xticklabels=['no flu', 'flu'], yticklabels=['no flu', 'flu'])\n",
    "plt.xlabel('true label')\n",
    "plt.ylabel('predicted label');"
   ]
  },
  {
   "cell_type": "code",
   "execution_count": 55,
   "metadata": {},
   "outputs": [
    {
     "name": "stderr",
     "output_type": "stream",
     "text": [
      "/Library/Frameworks/Python.framework/Versions/3.7/lib/python3.7/site-packages/sklearn/ensemble/forest.py:245: FutureWarning: The default value of n_estimators will change from 10 in version 0.20 to 100 in 0.22.\n",
      "  \"10 in version 0.20 to 100 in 0.22.\", FutureWarning)\n"
     ]
    },
    {
     "name": "stdout",
     "output_type": "stream",
     "text": [
      "Feature ranking:\n",
      "1. feature 2241 (0.1160) flu\n",
      "2. feature 5388 (0.0723) shot\n",
      "3. feature 5263 (0.0160) season\n",
      "4. feature 6437 (0.0157) vaccine\n",
      "5. feature 4413 (0.0086) people\n",
      "6. feature 2470 (0.0079) get\n",
      "7. feature 5730 (0.0077) stomach\n",
      "8. feature 2136 (0.0074) feel\n",
      "9. feature 1467 (0.0067) day\n",
      "10. feature 2543 (0.0066) got\n",
      "11. feature 3153 (0.0065) jab\n",
      "12. feature 5416 (0.0054) sick\n",
      "13. feature 2473 (0.0051) getting\n",
      "14. feature 1104 (0.0051) cold\n",
      "15. feature 3460 (0.0050) like\n",
      "16. feature 993 (0.0048) child\n",
      "17. feature 1108 (0.0047) coldflu\n",
      "18. feature 3149 (0.0043) ive\n",
      "19. feature 260 (0.0040) antibiotic\n",
      "20. feature 6613 (0.0040) week\n"
     ]
    },
    {
     "data": {
      "image/png": "[encoded data removed]",
      "text/plain": [
       "<Figure size 432x288 with 1 Axes>"
      ]
     },
     "metadata": {},
     "output_type": "display_data"
    }
   ],
   "source": [
    "rfc.fit(X_train, y_train)\n",
    "importances = rfc.feature_importances_\n",
    "indices = np.argsort(importances)[::-1]\n",
    "\n",
    "# Print the feature ranking\n",
    "print(\"Feature ranking:\")\n",
    "\n",
    "terms = cv.get_feature_names()\n",
    "\n",
    "for f in range(20):\n",
    "    print('{}. feature {} ({:.4f}) {}'.format((f+1), indices[f], importances[indices[f]], terms[indices[f]]))\n",
    "\n",
    "# Plot the feature importances of the forest\n",
    "plt.figure()\n",
    "plt.title(\"Feature importances\")\n",
    "plt.bar(range(0,20), importances[indices][:20], color=\"r\", align=\"center\")\n",
    "plt.xticks(range(20), indices, rotation=90)\n",
    "plt.xlim([-1, 20])\n",
    "plt.show()"
   ]
  },
  {
   "cell_type": "markdown",
   "metadata": {},
   "source": [
    "## Logistic Regression with BOW Lemma"
   ]
  },
  {
   "cell_type": "code",
   "execution_count": 56,
   "metadata": {},
   "outputs": [],
   "source": [
    "logreg = LogisticRegression(class_weight='balanced', solver= 'liblinear', random_state=0)\n",
    "param_grid = {'C': [0.01, 0.1, 1, 10, 100]}\n",
    "grid = GridSearchCV(logreg, param_grid, scoring='roc_auc', cv=5)\n",
    "logreg_train = grid.fit(X_train, y_train)"
   ]
  },
  {
   "cell_type": "code",
   "execution_count": 57,
   "metadata": {},
   "outputs": [
    {
     "name": "stdout",
     "output_type": "stream",
     "text": [
      "              precision    recall  f1-score   support\n",
      "\n",
      "           0       0.95      0.83      0.89       680\n",
      "           1       0.57      0.85      0.68       185\n",
      "\n",
      "    accuracy                           0.83       865\n",
      "   macro avg       0.76      0.84      0.78       865\n",
      "weighted avg       0.87      0.83      0.84       865\n",
      "\n",
      "AUC score: 0.8375596184419714\n",
      "Classification accuracy is:  0.8312138728323699\n"
     ]
    },
    {
     "data": {
      "image/png": "[encoded data removed]",
      "text/plain": [
       "<Figure size 432x288 with 1 Axes>"
      ]
     },
     "metadata": {},
     "output_type": "display_data"
    }
   ],
   "source": [
    "y_pred = logreg_train.predict(X_test)\n",
    "print(classification_report(y_test, y_pred))\n",
    "mat = confusion_matrix(y_test, y_pred)\n",
    "print('AUC score: {}'.format(roc_auc_score(y_test, y_pred)))\n",
    "print(\"Classification accuracy is: \", (mat[0][0] + mat[1][1]) / np.sum(mat))\n",
    "\n",
    "\n",
    "sns.heatmap(mat.T, square=True, annot=True, fmt='d', cmap= 'RdBu', cbar=False,\n",
    "            xticklabels=['no flu', 'flu'], yticklabels=['no flu', 'flu'])\n",
    "plt.xlabel('true label')\n",
    "plt.ylabel('predicted label');\n"
   ]
  },
  {
   "cell_type": "markdown",
   "metadata": {},
   "source": [
    "# Naive Bayes with BOW Lemma"
   ]
  },
  {
   "cell_type": "code",
   "execution_count": 58,
   "metadata": {},
   "outputs": [],
   "source": [
    "naive_bayes = MultinomialNB()\n",
    "param_grid = {'alpha':[1, 1e-1, 1e-2] }\n",
    "\n",
    "grid = GridSearchCV(naive_bayes, param_grid, scoring='roc_auc', cv=5)\n",
    "nb = grid.fit(X_train, y_train)\n"
   ]
  },
  {
   "cell_type": "code",
   "execution_count": 59,
   "metadata": {},
   "outputs": [
    {
     "name": "stdout",
     "output_type": "stream",
     "text": [
      "              precision    recall  f1-score   support\n",
      "\n",
      "           0       0.92      0.77      0.84       680\n",
      "           1       0.46      0.74      0.57       185\n",
      "\n",
      "    accuracy                           0.76       865\n",
      "   macro avg       0.69      0.75      0.70       865\n",
      "weighted avg       0.82      0.76      0.78       865\n",
      "\n",
      "AUC score: 0.7540937996820349\n",
      "Classification accuracy is:  0.761849710982659\n"
     ]
    },
    {
     "data": {
      "image/png": "[encoded data removed]",
      "text/plain": [
       "<Figure size 432x288 with 1 Axes>"
      ]
     },
     "metadata": {},
     "output_type": "display_data"
    }
   ],
   "source": [
    "y_pred = nb.predict(X_test)\n",
    "print(classification_report(y_test, y_pred))\n",
    "mat = confusion_matrix(y_test, y_pred)\n",
    "print('AUC score: {}'.format(roc_auc_score(y_test, y_pred)))\n",
    "print(\"Classification accuracy is: \", (mat[0][0] + mat[1][1]) / np.sum(mat))\n",
    "\n",
    "sns.heatmap(mat.T, square=True, annot=True, fmt='d', cmap= 'RdBu', cbar=False,\n",
    "            xticklabels=['no flu', 'flu'], yticklabels=['no flu', 'flu'])\n",
    "plt.xlabel('true label')\n",
    "plt.ylabel('predicted label');\n"
   ]
  },
  {
   "cell_type": "markdown",
   "metadata": {},
   "source": [
    "# Using TF-IDF"
   ]
  },
  {
   "cell_type": "code",
   "execution_count": 60,
   "metadata": {},
   "outputs": [
    {
     "name": "stdout",
     "output_type": "stream",
     "text": [
      "Number of features: 1000\n"
     ]
    }
   ],
   "source": [
    "# Split original into train and test, used to look at text later\n",
    "from sklearn.feature_extraction import text\n",
    "punc = ['.', ',', '\"', \"'\", '?', '!', ':', ';', '(', ')', '[', ']', '{', '}',\"%\", 'pron']\n",
    "stop_words = text.ENGLISH_STOP_WORDS.union(punc)\n",
    "\n",
    "\n",
    "X_train, X_test, y_train, y_test = train_test_split(new['document_lemma'], \n",
    "                                                    new['label'], \n",
    "                                                    test_size=0.25, \n",
    "                                                    random_state=0)\n",
    "\n",
    "#creating our Tf_idf vectorizer\n",
    "vectorizer_tfidf = TfidfVectorizer(#vocabulary= list_unique,\n",
    "    max_features= 1000, # drop words that occur in more than this % of paragraphs\n",
    "                             #min_df=1# only use words that appear at least 10 times\n",
    "                             stop_words=stop_words, \n",
    "                             lowercase=True, #convert everything to lower case\n",
    "                             use_idf=True,#we definitely want to use inverse document frequencies in our weighting\n",
    "                             norm=u'l2', #Applies a correction factor so that longer paragraphs and shorter paragraphs get treated equally\n",
    "                             smooth_idf=True ,#Adds 1 to all document frequencies, as if an extra document existed that used every word once.  Prevents divide-by-zero errors\n",
    "                            strip_accents= 'ascii')\n",
    "\n",
    "\n",
    "# Fit and transform training data set, only transform test\n",
    "X_train_tfidf = vectorizer_tfidf.fit_transform(X_train)\n",
    "X_test_tfidf = vectorizer_tfidf.transform(X_test)\n",
    "\n",
    "print(\"Number of features: %d\" % X_train_tfidf.get_shape()[1])"
   ]
  },
  {
   "cell_type": "markdown",
   "metadata": {},
   "source": [
    "## Random Forest Tf-IDF"
   ]
  },
  {
   "cell_type": "code",
   "execution_count": 61,
   "metadata": {},
   "outputs": [],
   "source": [
    "n_estimators = [100, 200]\n",
    "max_depth = [5, 8, 15]\n",
    "min_samples_split = [2, 5, 10]\n",
    "min_samples_leaf = [1, 2, 5] \n",
    "rfc = RandomForestClassifier(class_weight='balanced')\n",
    "param_grid = dict(n_estimators = n_estimators, max_depth = max_depth,  \n",
    "              min_samples_split = min_samples_split, \n",
    "             min_samples_leaf = min_samples_leaf)\n",
    "\n",
    "grid = GridSearchCV(rfc, param_grid, scoring='roc_auc', cv=5)\n",
    "random_forest = grid.fit(X_train_tfidf, y_train)"
   ]
  },
  {
   "cell_type": "code",
   "execution_count": 62,
   "metadata": {},
   "outputs": [
    {
     "name": "stdout",
     "output_type": "stream",
     "text": [
      "              precision    recall  f1-score   support\n",
      "\n",
      "           0       0.96      0.77      0.86       841\n",
      "           1       0.53      0.90      0.66       240\n",
      "\n",
      "    accuracy                           0.80      1081\n",
      "   macro avg       0.75      0.83      0.76      1081\n",
      "weighted avg       0.87      0.80      0.81      1081\n",
      "\n",
      "AUC score: 0.8346611177170036\n",
      "Classification accuracy is:  0.7983348751156337\n"
     ]
    },
    {
     "data": {
      "image/png": "[encoded data removed]",
      "text/plain": [
       "<Figure size 432x288 with 1 Axes>"
      ]
     },
     "metadata": {},
     "output_type": "display_data"
    }
   ],
   "source": [
    "y_pred = random_forest.predict(X_test_tfidf)\n",
    "print(classification_report(y_test, y_pred))\n",
    "mat = confusion_matrix(y_test, y_pred)\n",
    "print('AUC score: {}'.format(roc_auc_score(y_test, y_pred)))\n",
    "print(\"Classification accuracy is: \", (mat[0][0] + mat[1][1]) / np.sum(mat))\n",
    "\n",
    "sns.heatmap(mat.T, square=True, annot=True, fmt='d', cmap= 'RdBu', cbar=False,\n",
    "            xticklabels=['no flu', 'flu'], yticklabels=['no flu', 'flu'])\n",
    "plt.xlabel('true label')\n",
    "plt.ylabel('predicted label');"
   ]
  },
  {
   "cell_type": "code",
   "execution_count": 63,
   "metadata": {},
   "outputs": [
    {
     "name": "stderr",
     "output_type": "stream",
     "text": [
      "/Library/Frameworks/Python.framework/Versions/3.7/lib/python3.7/site-packages/sklearn/ensemble/forest.py:245: FutureWarning: The default value of n_estimators will change from 10 in version 0.20 to 100 in 0.22.\n",
      "  \"10 in version 0.20 to 100 in 0.22.\", FutureWarning)\n"
     ]
    },
    {
     "name": "stdout",
     "output_type": "stream",
     "text": [
      "Feature ranking:\n",
      "1. feature 307 (0.1618) flu\n",
      "2. feature 760 (0.1004) shot\n",
      "3. feature 741 (0.0234) season\n",
      "4. feature 923 (0.0199) vaccine\n",
      "5. feature 352 (0.0195) got\n",
      "6. feature 197 (0.0183) day\n",
      "7. feature 293 (0.0130) feel\n",
      "8. feature 150 (0.0114) cold\n",
      "9. feature 806 (0.0111) stomach\n",
      "10. feature 151 (0.0110) coldflu\n",
      "11. feature 71 (0.0109) bed\n",
      "12. feature 620 (0.0106) people\n",
      "13. feature 990 (0.0096) year\n",
      "14. feature 763 (0.0092) sick\n",
      "15. feature 492 (0.0091) like\n",
      "16. feature 446 (0.0087) jab\n",
      "17. feature 857 (0.0073) think\n",
      "18. feature 955 (0.0072) week\n",
      "19. feature 445 (0.0068) ive\n",
      "20. feature 336 (0.0062) game\n"
     ]
    },
    {
     "data": {
      "image/png": "[encoded data removed]",
      "text/plain": [
       "<Figure size 432x288 with 1 Axes>"
      ]
     },
     "metadata": {},
     "output_type": "display_data"
    }
   ],
   "source": [
    "rfc.fit(X_train_tfidf, y_train)\n",
    "importances = rfc.feature_importances_\n",
    "indices = np.argsort(importances)[::-1]\n",
    "\n",
    "# Print the feature ranking\n",
    "print(\"Feature ranking:\")\n",
    "\n",
    "terms = vectorizer_tfidf.get_feature_names()\n",
    "\n",
    "for f in range(20):\n",
    "    print('{}. feature {} ({:.4f}) {}'.format((f+1), indices[f], importances[indices[f]], terms[indices[f]]))\n",
    "\n",
    "# Plot the feature importances of the forest\n",
    "plt.figure()\n",
    "plt.title(\"Feature importances\")\n",
    "plt.bar(range(0,20), importances[indices][:20], color=\"r\", align=\"center\")\n",
    "plt.xticks(range(20), indices, rotation=90)\n",
    "plt.xlim([-1, 20])\n",
    "plt.show()"
   ]
  },
  {
   "cell_type": "markdown",
   "metadata": {},
   "source": [
    "## Logistic Regression with TF-IDF"
   ]
  },
  {
   "cell_type": "code",
   "execution_count": 64,
   "metadata": {},
   "outputs": [],
   "source": [
    "logreg = LogisticRegression(class_weight='balanced', solver= 'liblinear', random_state=0)\n",
    "param_grid = {'C': [0.01, 0.1, 1, 10, 100]}\n",
    "grid = GridSearchCV(logreg, param_grid, scoring='roc_auc', cv=5)\n",
    "logreg_train = grid.fit(X_train_tfidf, y_train)"
   ]
  },
  {
   "cell_type": "code",
   "execution_count": 65,
   "metadata": {},
   "outputs": [
    {
     "name": "stdout",
     "output_type": "stream",
     "text": [
      "              precision    recall  f1-score   support\n",
      "\n",
      "           0       0.92      0.84      0.87       841\n",
      "           1       0.56      0.73      0.63       240\n",
      "\n",
      "    accuracy                           0.81      1081\n",
      "   macro avg       0.74      0.78      0.75      1081\n",
      "weighted avg       0.84      0.81      0.82      1081\n",
      "\n",
      "AUC score: 0.7825381490289337\n",
      "Classification accuracy is:  0.8122109158186864\n"
     ]
    },
    {
     "data": {
      "image/png": "[encoded data removed]",
      "text/plain": [
       "<Figure size 432x288 with 1 Axes>"
      ]
     },
     "metadata": {},
     "output_type": "display_data"
    }
   ],
   "source": [
    "y_pred = logreg_train.predict(X_test_tfidf)\n",
    "print(classification_report(y_test, y_pred))\n",
    "mat = confusion_matrix(y_test, y_pred)\n",
    "print('AUC score: {}'.format(roc_auc_score(y_test, y_pred)))\n",
    "print(\"Classification accuracy is: \", (mat[0][0] + mat[1][1]) / np.sum(mat))\n",
    "\n",
    "\n",
    "sns.heatmap(mat.T, square=True, annot=True, fmt='d', cmap= 'RdBu', cbar=False,\n",
    "            xticklabels=['no flu', 'flu'], yticklabels=['no flu', 'flu'])\n",
    "plt.xlabel('true label')\n",
    "plt.ylabel('predicted label');\n"
   ]
  },
  {
   "cell_type": "markdown",
   "metadata": {},
   "source": [
    "## Naive Bayes with TF-IDF"
   ]
  },
  {
   "cell_type": "code",
   "execution_count": 66,
   "metadata": {},
   "outputs": [],
   "source": [
    "naive_bayes = MultinomialNB()\n",
    "param_grid = {'alpha':[1, 1e-1, 1e-2] }\n",
    "\n",
    "grid = GridSearchCV(naive_bayes, param_grid, scoring='roc_auc', cv=5)\n",
    "nb = grid.fit(X_train_tfidf, y_train)\n"
   ]
  },
  {
   "cell_type": "code",
   "execution_count": 67,
   "metadata": {},
   "outputs": [
    {
     "name": "stdout",
     "output_type": "stream",
     "text": [
      "              precision    recall  f1-score   support\n",
      "\n",
      "           0       0.82      0.96      0.88       841\n",
      "           1       0.64      0.27      0.38       240\n",
      "\n",
      "    accuracy                           0.80      1081\n",
      "   macro avg       0.73      0.61      0.63      1081\n",
      "weighted avg       0.78      0.80      0.77      1081\n",
      "\n",
      "AUC score: 0.6134190447879508\n",
      "Classification accuracy is:  0.8038852913968547\n"
     ]
    },
    {
     "data": {
      "image/png": "[encoded data removed]",
      "text/plain": [
       "<Figure size 432x288 with 1 Axes>"
      ]
     },
     "metadata": {},
     "output_type": "display_data"
    }
   ],
   "source": [
    "y_pred = nb.predict(X_test_tfidf)\n",
    "print(classification_report(y_test, y_pred))\n",
    "mat = confusion_matrix(y_test, y_pred)\n",
    "print('AUC score: {}'.format(roc_auc_score(y_test, y_pred)))\n",
    "print(\"Classification accuracy is: \", (mat[0][0] + mat[1][1]) / np.sum(mat))\n",
    "\n",
    "sns.heatmap(mat.T, square=True, annot=True, fmt='d', cmap= 'RdBu', cbar=False,\n",
    "            xticklabels=['no flu', 'flu'], yticklabels=['no flu', 'flu'])\n",
    "plt.xlabel('true label')\n",
    "plt.ylabel('predicted label');"
   ]
  },
  {
   "cell_type": "markdown",
   "metadata": {},
   "source": [
    "# Bigrams"
   ]
  },
  {
   "cell_type": "code",
   "execution_count": 68,
   "metadata": {},
   "outputs": [],
   "source": [
    "# Using bigrams \n",
    "cv=CountVectorizer(ngram_range=(2, 2))\n",
    "count_vector= cv.fit_transform(new['document_lemma'])\n",
    "count_vectordf= pd.DataFrame(count_vector.toarray())\n",
    "count_vectordf.columns= cv.get_feature_names()"
   ]
  },
  {
   "cell_type": "code",
   "execution_count": 69,
   "metadata": {},
   "outputs": [],
   "source": [
    "X= count_vectordf\n",
    "X_train, X_test, y_train, y_test = train_test_split(X, new['label'], test_size=0.20, random_state=42)"
   ]
  },
  {
   "cell_type": "markdown",
   "metadata": {},
   "source": [
    "## Random Forest with Bigrams"
   ]
  },
  {
   "cell_type": "code",
   "execution_count": 70,
   "metadata": {},
   "outputs": [],
   "source": [
    "n_estimators = [100, 200]\n",
    "max_depth = [5, 8, 15]\n",
    "min_samples_split = [2, 5, 10]\n",
    "min_samples_leaf = [1, 2, 5] \n",
    "rfc = RandomForestClassifier(class_weight='balanced')\n",
    "param_grid = dict(n_estimators = n_estimators, max_depth = max_depth,  \n",
    "              min_samples_split = min_samples_split, \n",
    "             min_samples_leaf = min_samples_leaf)\n",
    "\n",
    "grid = GridSearchCV(rfc, param_grid, scoring='roc_auc', cv=5)\n",
    "random_forest = grid.fit(X_train, y_train)"
   ]
  },
  {
   "cell_type": "code",
   "execution_count": 71,
   "metadata": {},
   "outputs": [
    {
     "name": "stdout",
     "output_type": "stream",
     "text": [
      "              precision    recall  f1-score   support\n",
      "\n",
      "           0       0.85      0.96      0.90       680\n",
      "           1       0.72      0.40      0.51       185\n",
      "\n",
      "    accuracy                           0.84       865\n",
      "   macro avg       0.79      0.68      0.71       865\n",
      "weighted avg       0.83      0.84      0.82       865\n",
      "\n",
      "AUC score: 0.6786764705882353\n",
      "Classification accuracy is:  0.838150289017341\n"
     ]
    },
    {
     "data": {
      "image/png": "[encoded data removed]",
      "text/plain": [
       "<Figure size 432x288 with 1 Axes>"
      ]
     },
     "metadata": {},
     "output_type": "display_data"
    }
   ],
   "source": [
    "y_pred = random_forest.predict(X_test)\n",
    "print(classification_report(y_test, y_pred))\n",
    "mat = confusion_matrix(y_test, y_pred)\n",
    "print('AUC score: {}'.format(roc_auc_score(y_test, y_pred)))\n",
    "print(\"Classification accuracy is: \", (mat[0][0] + mat[1][1]) / np.sum(mat))\n",
    "\n",
    "sns.heatmap(mat.T, square=True, annot=True, fmt='d', cmap= 'RdBu', cbar=False,\n",
    "            xticklabels=['no flu', 'flu'], yticklabels=['no flu', 'flu'])\n",
    "plt.xlabel('true label')\n",
    "plt.ylabel('predicted label');"
   ]
  },
  {
   "cell_type": "code",
   "execution_count": 72,
   "metadata": {},
   "outputs": [
    {
     "name": "stderr",
     "output_type": "stream",
     "text": [
      "/Library/Frameworks/Python.framework/Versions/3.7/lib/python3.7/site-packages/sklearn/ensemble/forest.py:245: FutureWarning: The default value of n_estimators will change from 10 in version 0.20 to 100 in 0.22.\n",
      "  \"10 in version 0.20 to 100 in 0.22.\", FutureWarning)\n"
     ]
    },
    {
     "name": "stdout",
     "output_type": "stream",
     "text": [
      "Feature ranking:\n",
      "1. feature 6861 (0.0534) flu shot\n",
      "2. feature 8279 (0.0170) got flu\n",
      "3. feature 6841 (0.0143) flu season\n",
      "4. feature 7012 (0.0112) flu vaccine\n",
      "5. feature 6924 (0.0078) flu suck\n",
      "6. feature 7732 (0.0068) get flu\n",
      "7. feature 6640 (0.0060) flu jab\n",
      "8. feature 8723 (0.0055) hate flu\n",
      "9. feature 5943 (0.0053) feel like\n",
      "10. feature 7469 (0.0051) fuck flu\n",
      "11. feature 6432 (0.0047) flu day\n",
      "12. feature 2592 (0.0044) caught flu\n",
      "13. feature 17140 (0.0043) sick flu\n",
      "14. feature 14620 (0.0042) pretty sure\n",
      "15. feature 19103 (0.0040) think flu\n",
      "16. feature 7868 (0.0037) getting flu\n",
      "17. feature 2200 (0.0036) bruh flu\n",
      "18. feature 6643 (0.0036) flu joke\n",
      "19. feature 3914 (0.0035) damn flu\n",
      "20. feature 4026 (0.0034) day flu\n"
     ]
    },
    {
     "data": {
      "image/png": "[encoded data removed]",
      "text/plain": [
       "<Figure size 432x288 with 1 Axes>"
      ]
     },
     "metadata": {},
     "output_type": "display_data"
    }
   ],
   "source": [
    "rfc.fit(X_train, y_train)\n",
    "importances = rfc.feature_importances_\n",
    "indices = np.argsort(importances)[::-1]\n",
    "\n",
    "# Print the feature ranking\n",
    "print(\"Feature ranking:\")\n",
    "\n",
    "terms = cv.get_feature_names()\n",
    "\n",
    "for f in range(20):\n",
    "    print('{}. feature {} ({:.4f}) {}'.format((f+1), indices[f], importances[indices[f]], terms[indices[f]]))\n",
    "\n",
    "# Plot the feature importances of the forest\n",
    "plt.figure()\n",
    "plt.title(\"Feature importances\")\n",
    "plt.bar(range(0,20), importances[indices][:20], color=\"r\", align=\"center\")\n",
    "plt.xticks(range(20), indices, rotation=90)\n",
    "plt.xlim([-1, 20])\n",
    "plt.show()"
   ]
  },
  {
   "cell_type": "markdown",
   "metadata": {},
   "source": [
    "## Logistic Regression with Bigrams"
   ]
  },
  {
   "cell_type": "code",
   "execution_count": 73,
   "metadata": {},
   "outputs": [],
   "source": [
    "logreg = LogisticRegression(class_weight='balanced', solver= 'liblinear', random_state=0)\n",
    "param_grid = {'C': [0.01, 0.1, 1, 10, 100]}\n",
    "grid = GridSearchCV(logreg, param_grid, scoring='roc_auc', cv=5)\n",
    "logreg_train = grid.fit(X_train, y_train)"
   ]
  },
  {
   "cell_type": "code",
   "execution_count": 74,
   "metadata": {},
   "outputs": [
    {
     "name": "stdout",
     "output_type": "stream",
     "text": [
      "              precision    recall  f1-score   support\n",
      "\n",
      "           0       0.90      0.94      0.92       680\n",
      "           1       0.73      0.61      0.66       185\n",
      "\n",
      "    accuracy                           0.87       865\n",
      "   macro avg       0.81      0.77      0.79       865\n",
      "weighted avg       0.86      0.87      0.86       865\n",
      "\n",
      "AUC score: 0.7718203497615261\n",
      "Classification accuracy is:  0.8670520231213873\n"
     ]
    },
    {
     "data": {
      "image/png": "[encoded data removed]",
      "text/plain": [
       "<Figure size 432x288 with 1 Axes>"
      ]
     },
     "metadata": {},
     "output_type": "display_data"
    }
   ],
   "source": [
    "y_pred = logreg_train.predict(X_test)\n",
    "print(classification_report(y_test, y_pred))\n",
    "mat = confusion_matrix(y_test, y_pred)\n",
    "print('AUC score: {}'.format(roc_auc_score(y_test, y_pred)))\n",
    "print(\"Classification accuracy is: \", (mat[0][0] + mat[1][1]) / np.sum(mat))\n",
    "\n",
    "\n",
    "sns.heatmap(mat.T, square=True, annot=True, fmt='d', cmap= 'RdBu', cbar=False,\n",
    "            xticklabels=['no flu', 'flu'], yticklabels=['no flu', 'flu'])\n",
    "plt.xlabel('true label')\n",
    "plt.ylabel('predicted label');\n"
   ]
  },
  {
   "cell_type": "markdown",
   "metadata": {},
   "source": [
    "## Naive Bayes with Bigrams"
   ]
  },
  {
   "cell_type": "code",
   "execution_count": 75,
   "metadata": {},
   "outputs": [],
   "source": [
    "naive_bayes = MultinomialNB()\n",
    "param_grid = {'alpha':[1, 1e-1, 1e-2] }\n",
    "\n",
    "grid = GridSearchCV(naive_bayes, param_grid, scoring='roc_auc', cv=5)\n",
    "nb = grid.fit(X_train, y_train)"
   ]
  },
  {
   "cell_type": "code",
   "execution_count": 76,
   "metadata": {},
   "outputs": [
    {
     "name": "stdout",
     "output_type": "stream",
     "text": [
      "              precision    recall  f1-score   support\n",
      "\n",
      "           0       0.87      0.61      0.72       680\n",
      "           1       0.32      0.67      0.43       185\n",
      "\n",
      "    accuracy                           0.63       865\n",
      "   macro avg       0.60      0.64      0.58       865\n",
      "weighted avg       0.75      0.63      0.66       865\n",
      "\n",
      "AUC score: 0.6424880763116059\n",
      "Classification accuracy is:  0.6265895953757226\n"
     ]
    },
    {
     "data": {
      "image/png": "[encoded data removed]",
      "text/plain": [
       "<Figure size 432x288 with 1 Axes>"
      ]
     },
     "metadata": {},
     "output_type": "display_data"
    }
   ],
   "source": [
    "y_pred = nb.predict(X_test)\n",
    "print(classification_report(y_test, y_pred))\n",
    "mat = confusion_matrix(y_test, y_pred)\n",
    "print('AUC score: {}'.format(roc_auc_score(y_test, y_pred)))\n",
    "print(\"Classification accuracy is: \", (mat[0][0] + mat[1][1]) / np.sum(mat))\n",
    "\n",
    "sns.heatmap(mat.T, square=True, annot=True, fmt='d', cmap= 'RdBu', cbar=False,\n",
    "            xticklabels=['no flu', 'flu'], yticklabels=['no flu', 'flu'])\n",
    "plt.xlabel('true label')\n",
    "plt.ylabel('predicted label');"
   ]
  },
  {
   "cell_type": "markdown",
   "metadata": {},
   "source": [
    "# Trigrams"
   ]
  },
  {
   "cell_type": "code",
   "execution_count": 77,
   "metadata": {},
   "outputs": [],
   "source": [
    "#Trigrams\n",
    "cv=CountVectorizer(ngram_range=(3, 3))\n",
    "count_vector= cv.fit_transform(new['document_lemma'])\n",
    "count_vectordf= pd.DataFrame(count_vector.toarray())\n",
    "count_vectordf.columns= cv.get_feature_names()\n",
    "X= count_vectordf\n",
    "X_train, X_test, y_train, y_test = train_test_split(X, new['label'], test_size=0.20, random_state=42)"
   ]
  },
  {
   "cell_type": "markdown",
   "metadata": {},
   "source": [
    "## Random Forest with Trigrams"
   ]
  },
  {
   "cell_type": "code",
   "execution_count": 78,
   "metadata": {},
   "outputs": [],
   "source": [
    "n_estimators = [100, 200]\n",
    "max_depth = [5, 8, 15]\n",
    "min_samples_split = [2, 5, 10]\n",
    "min_samples_leaf = [1, 2, 5] \n",
    "rfc = RandomForestClassifier(class_weight='balanced')\n",
    "param_grid = dict(n_estimators = n_estimators, max_depth = max_depth,  \n",
    "              min_samples_split = min_samples_split, \n",
    "             min_samples_leaf = min_samples_leaf)\n",
    "\n",
    "grid = GridSearchCV(rfc, param_grid, scoring='roc_auc', cv=5)\n",
    "random_forest = grid.fit(X_train, y_train)"
   ]
  },
  {
   "cell_type": "code",
   "execution_count": 79,
   "metadata": {},
   "outputs": [
    {
     "name": "stdout",
     "output_type": "stream",
     "text": [
      "              precision    recall  f1-score   support\n",
      "\n",
      "           0       0.96      0.21      0.34       680\n",
      "           1       0.25      0.97      0.40       185\n",
      "\n",
      "    accuracy                           0.37       865\n",
      "   macro avg       0.60      0.59      0.37       865\n",
      "weighted avg       0.81      0.37      0.36       865\n",
      "\n",
      "AUC score: 0.5889308426073132\n",
      "Classification accuracy is:  0.3722543352601156\n"
     ]
    },
    {
     "data": {
      "image/png": "[encoded data removed]",
      "text/plain": [
       "<Figure size 432x288 with 1 Axes>"
      ]
     },
     "metadata": {},
     "output_type": "display_data"
    }
   ],
   "source": [
    "y_pred = random_forest.predict(X_test)\n",
    "print(classification_report(y_test, y_pred))\n",
    "mat = confusion_matrix(y_test, y_pred)\n",
    "print('AUC score: {}'.format(roc_auc_score(y_test, y_pred)))\n",
    "print(\"Classification accuracy is: \", (mat[0][0] + mat[1][1]) / np.sum(mat))\n",
    "\n",
    "sns.heatmap(mat.T, square=True, annot=True, fmt='d', cmap= 'RdBu', cbar=False,\n",
    "            xticklabels=['no flu', 'flu'], yticklabels=['no flu', 'flu'])\n",
    "plt.xlabel('true label')\n",
    "plt.ylabel('predicted label');"
   ]
  },
  {
   "cell_type": "code",
   "execution_count": 80,
   "metadata": {},
   "outputs": [
    {
     "name": "stderr",
     "output_type": "stream",
     "text": [
      "/Library/Frameworks/Python.framework/Versions/3.7/lib/python3.7/site-packages/sklearn/ensemble/forest.py:245: FutureWarning: The default value of n_estimators will change from 10 in version 0.20 to 100 in 0.22.\n",
      "  \"10 in version 0.20 to 100 in 0.22.\", FutureWarning)\n"
     ]
    },
    {
     "name": "stdout",
     "output_type": "stream",
     "text": [
      "Feature ranking:\n",
      "1. feature 8783 (0.0152) get flu shot\n",
      "2. feature 9524 (0.0073) got flu shot\n",
      "3. feature 15865 (0.0056) pretty sure flu\n",
      "4. feature 9011 (0.0050) getting flu shot\n",
      "5. feature 3018 (0.0038) cold flu season\n",
      "6. feature 6854 (0.0032) flu kicking as\n",
      "7. feature 20444 (0.0032) think catching flu\n",
      "8. feature 9530 (0.0030) got flu smh\n",
      "9. feature 20477 (0.0028) think got flu\n",
      "10. feature 5868 (0.0027) feel like flu\n",
      "11. feature 14744 (0.0026) omg got flu\n",
      "12. feature 5879 (0.0026) feel like shit\n",
      "13. feature 7879 (0.0024) flu two week\n",
      "14. feature 7621 (0.0024) flu shot today\n",
      "15. feature 6637 (0.0024) flu fuck day\n",
      "16. feature 18539 (0.0023) sickening truly flu\n",
      "17. feature 6799 (0.0023) flu ive got\n",
      "18. feature 8991 (0.0022) getting flu cold\n",
      "19. feature 7113 (0.0022) flu really got\n",
      "20. feature 21987 (0.0022) wait still flu\n"
     ]
    },
    {
     "data": {
      "image/png": "[encoded data removed]",
      "text/plain": [
       "<Figure size 432x288 with 1 Axes>"
      ]
     },
     "metadata": {},
     "output_type": "display_data"
    }
   ],
   "source": [
    "rfc.fit(X_train, y_train)\n",
    "importances = rfc.feature_importances_\n",
    "indices = np.argsort(importances)[::-1]\n",
    "\n",
    "# Print the feature ranking\n",
    "print(\"Feature ranking:\")\n",
    "\n",
    "terms = cv.get_feature_names()\n",
    "\n",
    "for f in range(20):\n",
    "    print('{}. feature {} ({:.4f}) {}'.format((f+1), indices[f], importances[indices[f]], terms[indices[f]]))\n",
    "\n",
    "# Plot the feature importances of the forest\n",
    "plt.figure()\n",
    "plt.title(\"Feature importances\")\n",
    "plt.bar(range(0,20), importances[indices][:20], color=\"r\", align=\"center\")\n",
    "plt.xticks(range(20), indices, rotation=90)\n",
    "plt.xlim([-1, 20])\n",
    "plt.show()"
   ]
  },
  {
   "cell_type": "markdown",
   "metadata": {},
   "source": [
    "## Logistic Regression with Trigrams"
   ]
  },
  {
   "cell_type": "code",
   "execution_count": 81,
   "metadata": {},
   "outputs": [],
   "source": [
    "logreg = LogisticRegression(class_weight='balanced', solver= 'liblinear', random_state=0)\n",
    "param_grid = {'C': [0.01, 0.1, 1, 10, 100]}\n",
    "grid = GridSearchCV(logreg, param_grid, scoring='roc_auc', cv=5)\n",
    "logreg_train = grid.fit(X_train, y_train)"
   ]
  },
  {
   "cell_type": "code",
   "execution_count": 82,
   "metadata": {},
   "outputs": [
    {
     "name": "stdout",
     "output_type": "stream",
     "text": [
      "              precision    recall  f1-score   support\n",
      "\n",
      "           0       0.81      0.99      0.89       680\n",
      "           1       0.76      0.14      0.23       185\n",
      "\n",
      "    accuracy                           0.81       865\n",
      "   macro avg       0.78      0.56      0.56       865\n",
      "weighted avg       0.80      0.81      0.75       865\n",
      "\n",
      "AUC score: 0.5616852146263911\n",
      "Classification accuracy is:  0.8057803468208092\n"
     ]
    },
    {
     "data": {
      "image/png": "[encoded data removed]",
      "text/plain": [
       "<Figure size 432x288 with 1 Axes>"
      ]
     },
     "metadata": {},
     "output_type": "display_data"
    }
   ],
   "source": [
    "y_pred = logreg_train.predict(X_test)\n",
    "print(classification_report(y_test, y_pred))\n",
    "mat = confusion_matrix(y_test, y_pred)\n",
    "print('AUC score: {}'.format(roc_auc_score(y_test, y_pred)))\n",
    "print(\"Classification accuracy is: \", (mat[0][0] + mat[1][1]) / np.sum(mat))\n",
    "\n",
    "\n",
    "sns.heatmap(mat.T, square=True, annot=True, fmt='d', cmap= 'RdBu', cbar=False,\n",
    "            xticklabels=['no flu', 'flu'], yticklabels=['no flu', 'flu'])\n",
    "plt.xlabel('true label')\n",
    "plt.ylabel('predicted label');\n"
   ]
  },
  {
   "cell_type": "markdown",
   "metadata": {},
   "source": [
    "## Naive Bayes with Trigrams"
   ]
  },
  {
   "cell_type": "code",
   "execution_count": 83,
   "metadata": {},
   "outputs": [],
   "source": [
    "naive_bayes = MultinomialNB()\n",
    "param_grid = {'alpha':[1, 1e-1, 1e-2] }\n",
    "\n",
    "grid = GridSearchCV(naive_bayes, param_grid, scoring='roc_auc', cv=5)\n",
    "nb = grid.fit(X_train, y_train)"
   ]
  },
  {
   "cell_type": "code",
   "execution_count": 84,
   "metadata": {},
   "outputs": [
    {
     "name": "stdout",
     "output_type": "stream",
     "text": [
      "              precision    recall  f1-score   support\n",
      "\n",
      "           0       0.82      0.48      0.61       680\n",
      "           1       0.25      0.62      0.35       185\n",
      "\n",
      "    accuracy                           0.51       865\n",
      "   macro avg       0.53      0.55      0.48       865\n",
      "weighted avg       0.70      0.51      0.55       865\n",
      "\n",
      "AUC score: 0.550516693163752\n",
      "Classification accuracy is:  0.5098265895953757\n"
     ]
    },
    {
     "data": {
      "image/png": "[encoded data removed]",
      "text/plain": [
       "<Figure size 432x288 with 1 Axes>"
      ]
     },
     "metadata": {},
     "output_type": "display_data"
    }
   ],
   "source": [
    "y_pred = nb.predict(X_test)\n",
    "print(classification_report(y_test, y_pred))\n",
    "mat = confusion_matrix(y_test, y_pred)\n",
    "print('AUC score: {}'.format(roc_auc_score(y_test, y_pred)))\n",
    "print(\"Classification accuracy is: \", (mat[0][0] + mat[1][1]) / np.sum(mat))\n",
    "\n",
    "sns.heatmap(mat.T, square=True, annot=True, fmt='d', cmap= 'RdBu', cbar=False,\n",
    "            xticklabels=['no flu', 'flu'], yticklabels=['no flu', 'flu'])\n",
    "plt.xlabel('true label')\n",
    "plt.ylabel('predicted label');"
   ]
  }
 ],
 "metadata": {
  "kernelspec": {
   "display_name": "Python 3",
   "language": "python",
   "name": "python3"
  },
  "language_info": {
   "codemirror_mode": {
    "name": "ipython",
    "version": 3
   },
   "file_extension": ".py",
   "mimetype": "text/x-python",
   "name": "python",
   "nbconvert_exporter": "python",
   "pygments_lexer": "ipython3",
   "version": "3.7.3"
  }
 },
 "nbformat": 4,
 "nbformat_minor": 2
}

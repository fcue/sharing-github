{
 "cells": [
  {
   "cell_type": "markdown",
   "metadata": {},
   "source": [
    "# Supervised Learning\n",
    "\n",
    "\n",
    "## I've been in the healthcare field for more than 13 years and have seen many flu outbreaks in my career. Improving how we track and predict the flu should be something we can do with the use of social media, and in real time. It is advantageous to see the flu tweets in real time because it gives public health departments a faster way of recognizing and responding to the outbreaks, thereby educating the community and enabling a rapid response in health care settings as well. \n",
    "\n",
    "## The goal of this project is to predict the positive flu tweets from twitter using supervised and unsupervised methods and employing various NLP techniques.\n",
    "\n",
    "## In this section, we analyze our tweets using supervised learning methods. I have manully labeled the data to detect which tweets are indicative of flu and which tweets are not. It is worth noting that a tweet is only labeled positive for the flu, if the user himself indicated that he has the flu, in other words, no third party flu. "
   ]
  },
  {
   "cell_type": "code",
   "execution_count": 1,
   "metadata": {},
   "outputs": [],
   "source": [
    "import numpy as np\n",
    "import pandas as pd\n",
    "\n",
    "from sklearn.feature_extraction.text import CountVectorizer\n",
    "import nltk\n",
    "import string\n",
    "import preprocessor as p\n",
    "from nltk.corpus import stopwords\n",
    "\n",
    "#visualizations\n",
    "import matplotlib.pyplot as plt\n",
    "import matplotlib\n",
    "import seaborn as sns\n",
    "from IPython.display import display\n",
    "from wordcloud import WordCloud, STOPWORDS\n",
    "import re\n",
    "import string\n",
    "import itertools\n",
    "#from mpl_toolkits.basemap import Basemap\n",
    "\n",
    "#machine learning\n",
    "from sklearn.metrics import confusion_matrix\n",
    "from sklearn.feature_extraction.text import TfidfVectorizer\n",
    "from sklearn.decomposition import TruncatedSVD\n",
    "from sklearn.pipeline import make_pipeline\n",
    "from sklearn.preprocessing import Normalizer, normalize\n",
    "from sklearn.model_selection import KFold\n",
    "from sklearn.model_selection import cross_val_score\n",
    "from sklearn.model_selection import train_test_split\n",
    "from sklearn.metrics import roc_auc_score\n",
    "from sklearn.ensemble import RandomForestClassifier\n",
    "from sklearn.naive_bayes import MultinomialNB\n",
    "import sklearn.metrics as metrics\n",
    "from sklearn.metrics import classification_report"
   ]
  },
  {
   "cell_type": "code",
   "execution_count": 2,
   "metadata": {},
   "outputs": [],
   "source": [
    "df7= pd.read_csv('df_stream7.csv') \n",
    "df8=pd.read_csv('df_stream8.csv') \n",
    "df9=pd.read_csv('df_stream9.csv') \n",
    "df10=pd.read_csv('df_stream10.csv') \n",
    "df11=pd.read_csv('df_stream11.csv')\n",
    "df13=pd.read_csv('df_stream13.csv') \n",
    "df14=pd.read_csv('df_stream14.csv')\n",
    "df16=pd.read_csv('df_stream16.csv') \n",
    "df19=pd.read_csv('df_stream19_pos.csv')\n",
    "df20=pd.read_csv('df_stream20_pos.csv') \n",
    "df21=pd.read_csv('df_stream21.csv')\n",
    "df22=pd.read_csv('df_stream22.csv')\n",
    "df23=pd.read_csv('df_stream23.csv')"
   ]
  },
  {
   "cell_type": "code",
   "execution_count": 3,
   "metadata": {},
   "outputs": [],
   "source": [
    "all= pd.concat(([df7,df8,df9,df10,df11,df13,df14,df16,df19,df20, df21, df22,df23]), sort=False)\n",
    "#saving data\n",
    "all.to_csv('all.csv')"
   ]
  },
  {
   "cell_type": "code",
   "execution_count": 4,
   "metadata": {},
   "outputs": [],
   "source": [
    "all.drop(['Unnamed: 0'], axis=1, inplace=True)"
   ]
  },
  {
   "cell_type": "code",
   "execution_count": 5,
   "metadata": {},
   "outputs": [
    {
     "data": {
      "text/plain": [
       "0    3553\n",
       "1     912\n",
       "Name: label, dtype: int64"
      ]
     },
     "execution_count": 5,
     "metadata": {},
     "output_type": "execute_result"
    }
   ],
   "source": [
    "all.label.value_counts()"
   ]
  },
  {
   "cell_type": "code",
   "execution_count": 6,
   "metadata": {},
   "outputs": [
    {
     "data": {
      "text/html": [
       "<div>\n",
       "<style scoped>\n",
       "    .dataframe tbody tr th:only-of-type {\n",
       "        vertical-align: middle;\n",
       "    }\n",
       "\n",
       "    .dataframe tbody tr th {\n",
       "        vertical-align: top;\n",
       "    }\n",
       "\n",
       "    .dataframe thead th {\n",
       "        text-align: right;\n",
       "    }\n",
       "</style>\n",
       "<table border=\"1\" class=\"dataframe\">\n",
       "  <thead>\n",
       "    <tr style=\"text-align: right;\">\n",
       "      <th></th>\n",
       "      <th>created_at</th>\n",
       "      <th>id</th>\n",
       "      <th>id_str</th>\n",
       "      <th>text</th>\n",
       "      <th>label</th>\n",
       "      <th>source</th>\n",
       "      <th>truncated</th>\n",
       "      <th>in_reply_to_status_id</th>\n",
       "      <th>in_reply_to_status_id_str</th>\n",
       "      <th>in_reply_to_user_id</th>\n",
       "      <th>...</th>\n",
       "      <th>entities</th>\n",
       "      <th>favorited</th>\n",
       "      <th>retweeted</th>\n",
       "      <th>possibly_sensitive</th>\n",
       "      <th>filter_level</th>\n",
       "      <th>lang</th>\n",
       "      <th>timestamp_ms</th>\n",
       "      <th>extended_entities</th>\n",
       "      <th>display_text_range</th>\n",
       "      <th>extended_tweet</th>\n",
       "    </tr>\n",
       "  </thead>\n",
       "  <tbody>\n",
       "    <tr>\n",
       "      <td>0</td>\n",
       "      <td>Sun Nov 03 21:55:03 +0000 2019</td>\n",
       "      <td>1.190000e+18</td>\n",
       "      <td>1.190000e+18</td>\n",
       "      <td>@chakaramelcakes Yeah girl I’ve just had the f...</td>\n",
       "      <td>1</td>\n",
       "      <td>&lt;a href=\"http://twitter.com/download/iphone\" r...</td>\n",
       "      <td>False</td>\n",
       "      <td>1.190000e+18</td>\n",
       "      <td>1.190000e+18</td>\n",
       "      <td>2.792793e+09</td>\n",
       "      <td>...</td>\n",
       "      <td>{'hashtags': [], 'urls': [], 'user_mentions': ...</td>\n",
       "      <td>False</td>\n",
       "      <td>False</td>\n",
       "      <td>NaN</td>\n",
       "      <td>low</td>\n",
       "      <td>en</td>\n",
       "      <td>1.570000e+12</td>\n",
       "      <td>NaN</td>\n",
       "      <td>[17, 107]</td>\n",
       "      <td>NaN</td>\n",
       "    </tr>\n",
       "    <tr>\n",
       "      <td>1</td>\n",
       "      <td>Sun Nov 03 21:55:12 +0000 2019</td>\n",
       "      <td>1.190000e+18</td>\n",
       "      <td>1.190000e+18</td>\n",
       "      <td>the worst part of having the flu is not being ...</td>\n",
       "      <td>1</td>\n",
       "      <td>&lt;a href=\"http://twitter.com/download/iphone\" r...</td>\n",
       "      <td>False</td>\n",
       "      <td>NaN</td>\n",
       "      <td>NaN</td>\n",
       "      <td>NaN</td>\n",
       "      <td>...</td>\n",
       "      <td>{'hashtags': [], 'urls': [], 'user_mentions': ...</td>\n",
       "      <td>False</td>\n",
       "      <td>False</td>\n",
       "      <td>NaN</td>\n",
       "      <td>low</td>\n",
       "      <td>en</td>\n",
       "      <td>1.570000e+12</td>\n",
       "      <td>NaN</td>\n",
       "      <td>NaN</td>\n",
       "      <td>NaN</td>\n",
       "    </tr>\n",
       "    <tr>\n",
       "      <td>2</td>\n",
       "      <td>Sun Nov 03 21:56:16 +0000 2019</td>\n",
       "      <td>1.190000e+18</td>\n",
       "      <td>1.190000e+18</td>\n",
       "      <td>@ComicsJacks @TheVikkiVerse @zombienomicon @Ed...</td>\n",
       "      <td>1</td>\n",
       "      <td>&lt;a href=\"https://mobile.twitter.com\" rel=\"nofo...</td>\n",
       "      <td>True</td>\n",
       "      <td>1.190000e+18</td>\n",
       "      <td>1.190000e+18</td>\n",
       "      <td>1.060000e+18</td>\n",
       "      <td>...</td>\n",
       "      <td>{'hashtags': [], 'urls': [{'url': 'https://t.c...</td>\n",
       "      <td>False</td>\n",
       "      <td>False</td>\n",
       "      <td>NaN</td>\n",
       "      <td>low</td>\n",
       "      <td>en</td>\n",
       "      <td>1.570000e+12</td>\n",
       "      <td>NaN</td>\n",
       "      <td>[58, 140]</td>\n",
       "      <td>{'full_text': '@ComicsJacks @TheVikkiVerse @zo...</td>\n",
       "    </tr>\n",
       "    <tr>\n",
       "      <td>3</td>\n",
       "      <td>Sun Nov 03 21:56:27 +0000 2019</td>\n",
       "      <td>1.190000e+18</td>\n",
       "      <td>1.190000e+18</td>\n",
       "      <td>@LieveMeAlone5 Feel better soon mate, I’ve had...</td>\n",
       "      <td>1</td>\n",
       "      <td>&lt;a href=\"http://twitter.com/download/iphone\" r...</td>\n",
       "      <td>False</td>\n",
       "      <td>1.190000e+18</td>\n",
       "      <td>1.190000e+18</td>\n",
       "      <td>9.300000e+17</td>\n",
       "      <td>...</td>\n",
       "      <td>{'hashtags': [], 'urls': [], 'user_mentions': ...</td>\n",
       "      <td>False</td>\n",
       "      <td>False</td>\n",
       "      <td>NaN</td>\n",
       "      <td>low</td>\n",
       "      <td>en</td>\n",
       "      <td>1.570000e+12</td>\n",
       "      <td>NaN</td>\n",
       "      <td>[15, 105]</td>\n",
       "      <td>NaN</td>\n",
       "    </tr>\n",
       "    <tr>\n",
       "      <td>4</td>\n",
       "      <td>Sun Nov 03 21:58:20 +0000 2019</td>\n",
       "      <td>1.190000e+18</td>\n",
       "      <td>1.190000e+18</td>\n",
       "      <td>You know the best thing about a small town? Ho...</td>\n",
       "      <td>1</td>\n",
       "      <td>&lt;a href=\"http://twitter.com/download/android\" ...</td>\n",
       "      <td>False</td>\n",
       "      <td>NaN</td>\n",
       "      <td>NaN</td>\n",
       "      <td>NaN</td>\n",
       "      <td>...</td>\n",
       "      <td>{'hashtags': [], 'urls': [], 'user_mentions': ...</td>\n",
       "      <td>False</td>\n",
       "      <td>False</td>\n",
       "      <td>NaN</td>\n",
       "      <td>low</td>\n",
       "      <td>en</td>\n",
       "      <td>1.570000e+12</td>\n",
       "      <td>NaN</td>\n",
       "      <td>NaN</td>\n",
       "      <td>NaN</td>\n",
       "    </tr>\n",
       "  </tbody>\n",
       "</table>\n",
       "<p>5 rows × 37 columns</p>\n",
       "</div>"
      ],
      "text/plain": [
       "                       created_at            id        id_str  \\\n",
       "0  Sun Nov 03 21:55:03 +0000 2019  1.190000e+18  1.190000e+18   \n",
       "1  Sun Nov 03 21:55:12 +0000 2019  1.190000e+18  1.190000e+18   \n",
       "2  Sun Nov 03 21:56:16 +0000 2019  1.190000e+18  1.190000e+18   \n",
       "3  Sun Nov 03 21:56:27 +0000 2019  1.190000e+18  1.190000e+18   \n",
       "4  Sun Nov 03 21:58:20 +0000 2019  1.190000e+18  1.190000e+18   \n",
       "\n",
       "                                                text  label  \\\n",
       "0  @chakaramelcakes Yeah girl I’ve just had the f...      1   \n",
       "1  the worst part of having the flu is not being ...      1   \n",
       "2  @ComicsJacks @TheVikkiVerse @zombienomicon @Ed...      1   \n",
       "3  @LieveMeAlone5 Feel better soon mate, I’ve had...      1   \n",
       "4  You know the best thing about a small town? Ho...      1   \n",
       "\n",
       "                                              source  truncated  \\\n",
       "0  <a href=\"http://twitter.com/download/iphone\" r...      False   \n",
       "1  <a href=\"http://twitter.com/download/iphone\" r...      False   \n",
       "2  <a href=\"https://mobile.twitter.com\" rel=\"nofo...       True   \n",
       "3  <a href=\"http://twitter.com/download/iphone\" r...      False   \n",
       "4  <a href=\"http://twitter.com/download/android\" ...      False   \n",
       "\n",
       "   in_reply_to_status_id  in_reply_to_status_id_str  in_reply_to_user_id  ...  \\\n",
       "0           1.190000e+18               1.190000e+18         2.792793e+09  ...   \n",
       "1                    NaN                        NaN                  NaN  ...   \n",
       "2           1.190000e+18               1.190000e+18         1.060000e+18  ...   \n",
       "3           1.190000e+18               1.190000e+18         9.300000e+17  ...   \n",
       "4                    NaN                        NaN                  NaN  ...   \n",
       "\n",
       "                                            entities favorited retweeted  \\\n",
       "0  {'hashtags': [], 'urls': [], 'user_mentions': ...     False     False   \n",
       "1  {'hashtags': [], 'urls': [], 'user_mentions': ...     False     False   \n",
       "2  {'hashtags': [], 'urls': [{'url': 'https://t.c...     False     False   \n",
       "3  {'hashtags': [], 'urls': [], 'user_mentions': ...     False     False   \n",
       "4  {'hashtags': [], 'urls': [], 'user_mentions': ...     False     False   \n",
       "\n",
       "  possibly_sensitive filter_level lang  timestamp_ms extended_entities  \\\n",
       "0                NaN          low   en  1.570000e+12               NaN   \n",
       "1                NaN          low   en  1.570000e+12               NaN   \n",
       "2                NaN          low   en  1.570000e+12               NaN   \n",
       "3                NaN          low   en  1.570000e+12               NaN   \n",
       "4                NaN          low   en  1.570000e+12               NaN   \n",
       "\n",
       "   display_text_range                                     extended_tweet  \n",
       "0           [17, 107]                                                NaN  \n",
       "1                 NaN                                                NaN  \n",
       "2           [58, 140]  {'full_text': '@ComicsJacks @TheVikkiVerse @zo...  \n",
       "3           [15, 105]                                                NaN  \n",
       "4                 NaN                                                NaN  \n",
       "\n",
       "[5 rows x 37 columns]"
      ]
     },
     "execution_count": 6,
     "metadata": {},
     "output_type": "execute_result"
    }
   ],
   "source": [
    "all.head()"
   ]
  },
  {
   "cell_type": "code",
   "execution_count": 7,
   "metadata": {},
   "outputs": [
    {
     "data": {
      "text/plain": [
       "0.0"
      ]
     },
     "execution_count": 7,
     "metadata": {},
     "output_type": "execute_result"
    }
   ],
   "source": [
    "all.label.isnull().sum()/len(all)"
   ]
  },
  {
   "cell_type": "code",
   "execution_count": 8,
   "metadata": {},
   "outputs": [],
   "source": [
    "#saving combined tweets without cleaning\n",
    "all.to_csv('all_tweets.csv')"
   ]
  },
  {
   "cell_type": "markdown",
   "metadata": {},
   "source": [
    "## Just curious to see which date gave me the most positive flu tweets."
   ]
  },
  {
   "cell_type": "code",
   "execution_count": 9,
   "metadata": {},
   "outputs": [],
   "source": [
    "all['Timestamp'] = pd.to_datetime(all['created_at'], infer_datetime_format = \"%d/%m/%Y\", utc  = False)"
   ]
  },
  {
   "cell_type": "code",
   "execution_count": 10,
   "metadata": {},
   "outputs": [],
   "source": [
    "#looking at the day of Tweets\n",
    "def giveday(timestamp):\n",
    "    day_string = timestamp.date\n",
    "    return day_string\n",
    "all['date'] = all['Timestamp'].apply(giveday)\n",
    "days = all.groupby('date')\n",
    "daycount = days['text'].count()\n",
    "hourdict = daycount.to_dict()"
   ]
  },
  {
   "cell_type": "code",
   "execution_count": 11,
   "metadata": {},
   "outputs": [
    {
     "data": {
      "image/png": "[encoded data removed]",
      "text/plain": [
       "<Figure size 1080x720 with 1 Axes>"
      ]
     },
     "metadata": {
      "needs_background": "light"
     },
     "output_type": "display_data"
    }
   ],
   "source": [
    "date= all.loc[all.label==1].date\n",
    "plt.figure(figsize=(15,10))\n",
    "sns.set(style=\"darkgrid\")\n",
    "sns.countplot(date, palette=\"Set3\")\n",
    "plt.xlabel('Dates')\n",
    "plt.ylabel('Count of Positive Flu Tweets')\n",
    "plt.title('Date of Positive Flu Tweets')\n",
    "plt.show()"
   ]
  },
  {
   "cell_type": "markdown",
   "metadata": {},
   "source": [
    "# Data Cleaning and Feature Engineering\n",
    "\n",
    "### Tweets have many miscellaneous characters and are prone to having slang and erroneous terms. We will try to clean this data as best as we can before we use it for modeling. "
   ]
  },
  {
   "cell_type": "code",
   "execution_count": 12,
   "metadata": {},
   "outputs": [],
   "source": [
    "#Creating dataframe that just focuses on 'Text' and 'Label'. \n",
    "new= pd.DataFrame(all[['text', 'label']])"
   ]
  },
  {
   "cell_type": "code",
   "execution_count": 13,
   "metadata": {},
   "outputs": [],
   "source": [
    "new = new.sample(frac=1).reset_index(drop=True)"
   ]
  },
  {
   "cell_type": "code",
   "execution_count": 14,
   "metadata": {},
   "outputs": [
    {
     "data": {
      "text/html": [
       "<div>\n",
       "<style scoped>\n",
       "    .dataframe tbody tr th:only-of-type {\n",
       "        vertical-align: middle;\n",
       "    }\n",
       "\n",
       "    .dataframe tbody tr th {\n",
       "        vertical-align: top;\n",
       "    }\n",
       "\n",
       "    .dataframe thead th {\n",
       "        text-align: right;\n",
       "    }\n",
       "</style>\n",
       "<table border=\"1\" class=\"dataframe\">\n",
       "  <thead>\n",
       "    <tr style=\"text-align: right;\">\n",
       "      <th></th>\n",
       "      <th>text</th>\n",
       "      <th>label</th>\n",
       "    </tr>\n",
       "  </thead>\n",
       "  <tbody>\n",
       "    <tr>\n",
       "      <td>0</td>\n",
       "      <td>Said the same thing üòÇüòÇüòÇ</td>\n",
       "      <td>0</td>\n",
       "    </tr>\n",
       "    <tr>\n",
       "      <td>1</td>\n",
       "      <td>RT @YYSepsis: @KarnCliffe &amp;amp; I just had a l...</td>\n",
       "      <td>0</td>\n",
       "    </tr>\n",
       "    <tr>\n",
       "      <td>2</td>\n",
       "      <td>y’all be getting the flu??? I’ve never had tha...</td>\n",
       "      <td>0</td>\n",
       "    </tr>\n",
       "    <tr>\n",
       "      <td>3</td>\n",
       "      <td>This guy is a cancer</td>\n",
       "      <td>0</td>\n",
       "    </tr>\n",
       "    <tr>\n",
       "      <td>4</td>\n",
       "      <td>Missed all of you! xoxoxoxox❤️\\n\\nI'm soon to ...</td>\n",
       "      <td>1</td>\n",
       "    </tr>\n",
       "    <tr>\n",
       "      <td>5</td>\n",
       "      <td>I REBUKE THE FLU IN THE NAME OF JESUS!! 😩</td>\n",
       "      <td>0</td>\n",
       "    </tr>\n",
       "    <tr>\n",
       "      <td>6</td>\n",
       "      <td>RT @ech0astral: swine flu was really running s...</td>\n",
       "      <td>0</td>\n",
       "    </tr>\n",
       "    <tr>\n",
       "      <td>7</td>\n",
       "      <td>Btw I took this pic when I was sick with the f...</td>\n",
       "      <td>0</td>\n",
       "    </tr>\n",
       "    <tr>\n",
       "      <td>8</td>\n",
       "      <td>so my new med causes flu like symptoms and ext...</td>\n",
       "      <td>0</td>\n",
       "    </tr>\n",
       "    <tr>\n",
       "      <td>9</td>\n",
       "      <td>What you need to know ahead of this year's flu...</td>\n",
       "      <td>0</td>\n",
       "    </tr>\n",
       "  </tbody>\n",
       "</table>\n",
       "</div>"
      ],
      "text/plain": [
       "                                                text  label\n",
       "0                   Said the same thing üòÇüòÇüòÇ      0\n",
       "1  RT @YYSepsis: @KarnCliffe &amp; I just had a l...      0\n",
       "2  y’all be getting the flu??? I’ve never had tha...      0\n",
       "3                               This guy is a cancer      0\n",
       "4  Missed all of you! xoxoxoxox❤️\\n\\nI'm soon to ...      1\n",
       "5          I REBUKE THE FLU IN THE NAME OF JESUS!! 😩      0\n",
       "6  RT @ech0astral: swine flu was really running s...      0\n",
       "7  Btw I took this pic when I was sick with the f...      0\n",
       "8  so my new med causes flu like symptoms and ext...      0\n",
       "9  What you need to know ahead of this year's flu...      0"
      ]
     },
     "execution_count": 14,
     "metadata": {},
     "output_type": "execute_result"
    }
   ],
   "source": [
    "new.head(10)"
   ]
  },
  {
   "cell_type": "markdown",
   "metadata": {},
   "source": [
    "### There's also some duplicates in there. We need to drop those. "
   ]
  },
  {
   "cell_type": "code",
   "execution_count": 15,
   "metadata": {},
   "outputs": [],
   "source": [
    "# While labeling, I've intentionally left some tweets blank to try to achieve a higher positive label.I'm dropping\n",
    "# the blank tweets here\n",
    "\n",
    "new.dropna(inplace=True)"
   ]
  },
  {
   "cell_type": "code",
   "execution_count": 16,
   "metadata": {},
   "outputs": [
    {
     "name": "stdout",
     "output_type": "stream",
     "text": [
      "Values before dropping duplicate tweets\n"
     ]
    },
    {
     "data": {
      "text/plain": [
       "0    3552\n",
       "1     912\n",
       "Name: label, dtype: int64"
      ]
     },
     "execution_count": 16,
     "metadata": {},
     "output_type": "execute_result"
    }
   ],
   "source": [
    "print('Values before dropping duplicate tweets')\n",
    "new.label.value_counts()"
   ]
  },
  {
   "cell_type": "code",
   "execution_count": 17,
   "metadata": {},
   "outputs": [],
   "source": [
    "# because there were so many tweets that are Retweeets or the same tweets over and over again in the feeds,\n",
    "# I've had to drop it here. \n",
    "new.drop_duplicates(inplace=True)"
   ]
  },
  {
   "cell_type": "code",
   "execution_count": 18,
   "metadata": {},
   "outputs": [
    {
     "data": {
      "text/html": [
       "<div>\n",
       "<style scoped>\n",
       "    .dataframe tbody tr th:only-of-type {\n",
       "        vertical-align: middle;\n",
       "    }\n",
       "\n",
       "    .dataframe tbody tr th {\n",
       "        vertical-align: top;\n",
       "    }\n",
       "\n",
       "    .dataframe thead th {\n",
       "        text-align: right;\n",
       "    }\n",
       "</style>\n",
       "<table border=\"1\" class=\"dataframe\">\n",
       "  <thead>\n",
       "    <tr style=\"text-align: right;\">\n",
       "      <th></th>\n",
       "      <th>text</th>\n",
       "      <th>label</th>\n",
       "    </tr>\n",
       "  </thead>\n",
       "  <tbody>\n",
       "    <tr>\n",
       "      <td>0</td>\n",
       "      <td>Said the same thing üòÇüòÇüòÇ</td>\n",
       "      <td>0</td>\n",
       "    </tr>\n",
       "    <tr>\n",
       "      <td>1</td>\n",
       "      <td>RT @YYSepsis: @KarnCliffe &amp;amp; I just had a l...</td>\n",
       "      <td>0</td>\n",
       "    </tr>\n",
       "    <tr>\n",
       "      <td>2</td>\n",
       "      <td>y’all be getting the flu??? I’ve never had tha...</td>\n",
       "      <td>0</td>\n",
       "    </tr>\n",
       "    <tr>\n",
       "      <td>3</td>\n",
       "      <td>This guy is a cancer</td>\n",
       "      <td>0</td>\n",
       "    </tr>\n",
       "    <tr>\n",
       "      <td>4</td>\n",
       "      <td>Missed all of you! xoxoxoxox❤️\\n\\nI'm soon to ...</td>\n",
       "      <td>1</td>\n",
       "    </tr>\n",
       "    <tr>\n",
       "      <td>...</td>\n",
       "      <td>...</td>\n",
       "      <td>...</td>\n",
       "    </tr>\n",
       "    <tr>\n",
       "      <td>4460</td>\n",
       "      <td>@senatemajldr https://t.co/6Aj7Cn0uXo</td>\n",
       "      <td>0</td>\n",
       "    </tr>\n",
       "    <tr>\n",
       "      <td>4461</td>\n",
       "      <td>Yh this flu cold whatever it is can doooooo on...</td>\n",
       "      <td>0</td>\n",
       "    </tr>\n",
       "    <tr>\n",
       "      <td>4462</td>\n",
       "      <td>RT @Dante_Colle: Good Morning everyone! üòä @...</td>\n",
       "      <td>0</td>\n",
       "    </tr>\n",
       "    <tr>\n",
       "      <td>4463</td>\n",
       "      <td>RT @cafe_health: Please do not get a flu shot ...</td>\n",
       "      <td>0</td>\n",
       "    </tr>\n",
       "    <tr>\n",
       "      <td>4464</td>\n",
       "      <td>this visual is beyond me @flumemusic x @thatgu...</td>\n",
       "      <td>0</td>\n",
       "    </tr>\n",
       "  </tbody>\n",
       "</table>\n",
       "<p>4323 rows × 2 columns</p>\n",
       "</div>"
      ],
      "text/plain": [
       "                                                   text  label\n",
       "0                      Said the same thing üòÇüòÇüòÇ      0\n",
       "1     RT @YYSepsis: @KarnCliffe &amp; I just had a l...      0\n",
       "2     y’all be getting the flu??? I’ve never had tha...      0\n",
       "3                                  This guy is a cancer      0\n",
       "4     Missed all of you! xoxoxoxox❤️\\n\\nI'm soon to ...      1\n",
       "...                                                 ...    ...\n",
       "4460              @senatemajldr https://t.co/6Aj7Cn0uXo      0\n",
       "4461  Yh this flu cold whatever it is can doooooo on...      0\n",
       "4462  RT @Dante_Colle: Good Morning everyone! üòä @...      0\n",
       "4463  RT @cafe_health: Please do not get a flu shot ...      0\n",
       "4464  this visual is beyond me @flumemusic x @thatgu...      0\n",
       "\n",
       "[4323 rows x 2 columns]"
      ]
     },
     "execution_count": 18,
     "metadata": {},
     "output_type": "execute_result"
    }
   ],
   "source": [
    "new"
   ]
  },
  {
   "cell_type": "code",
   "execution_count": 19,
   "metadata": {},
   "outputs": [
    {
     "name": "stdout",
     "output_type": "stream",
     "text": [
      "Values after dropping duplicate tweets\n"
     ]
    },
    {
     "data": {
      "text/plain": [
       "0    3427\n",
       "1     896\n",
       "Name: label, dtype: int64"
      ]
     },
     "execution_count": 19,
     "metadata": {},
     "output_type": "execute_result"
    }
   ],
   "source": [
    "print('Values after dropping duplicate tweets')\n",
    "new.label.value_counts()"
   ]
  },
  {
   "cell_type": "markdown",
   "metadata": {},
   "source": [
    "### Creating functions to clean tweets and add new columns as we clean and process."
   ]
  },
  {
   "cell_type": "code",
   "execution_count": 20,
   "metadata": {},
   "outputs": [],
   "source": [
    "#removing URLs and string beginning with @ \n",
    "def remove_mentionsURLs(text):\n",
    "    tweet_out= re.sub(r'@[A-Za-z0-9]+', '', text)\n",
    "    tweet_out=re.sub(r'http\\S+', '', tweet_out)\n",
    "    tweet_out= re.sub(r'RT @[\\w_]+:', '', tweet_out)\n",
    "    return tweet_out\n",
    "\n",
    "new['text_noURLs'] = new['text'].apply(lambda x: remove_mentionsURLs(x))"
   ]
  },
  {
   "cell_type": "code",
   "execution_count": 21,
   "metadata": {},
   "outputs": [],
   "source": [
    "#removing punctuations from the text\n",
    "def remove_punct(text):\n",
    "    text  = \"\".join([char for char in text if char not in string.punctuation])\n",
    "    text = re.sub('[0-9]+', '', text)\n",
    "    return text\n",
    "\n",
    "new['text_punct'] = new['text_noURLs'].apply(lambda x: remove_punct(x))"
   ]
  },
  {
   "cell_type": "code",
   "execution_count": 22,
   "metadata": {},
   "outputs": [],
   "source": [
    "# remove words with 2 or less characters\n",
    "def remove_RT(text):\n",
    "    text= re.sub(r'\\b\\w{1,2}\\b', '', text)\n",
    "    return text\n",
    "\n",
    "new['text_removeRT'] = new['text_punct'].apply(lambda x: remove_RT(x))"
   ]
  },
  {
   "cell_type": "code",
   "execution_count": 23,
   "metadata": {},
   "outputs": [],
   "source": [
    "#tokenzing into words \n",
    "def tokenization(text):\n",
    "    text = re.split('\\W+', text)\n",
    "    return text\n",
    "\n",
    "new['tokenized'] = new['text_removeRT'].apply(lambda x: tokenization(x.lower()))"
   ]
  },
  {
   "cell_type": "code",
   "execution_count": 24,
   "metadata": {
    "scrolled": true
   },
   "outputs": [],
   "source": [
    "#removing stop words\n",
    "stopword = nltk.corpus.stopwords.words('english')\n",
    "def remove_stopwords(text):\n",
    "    text = [word for word in text if word not in stopword]\n",
    "    return text\n",
    "    \n",
    "new['nonstop'] = new['tokenized'].apply(lambda x: remove_stopwords(x))"
   ]
  },
  {
   "cell_type": "code",
   "execution_count": 25,
   "metadata": {},
   "outputs": [],
   "source": [
    "# lemmatizing\n",
    "wn = nltk.WordNetLemmatizer()\n",
    "\n",
    "def lemmatizer(text):\n",
    "    text = [wn.lemmatize(word) for word in text]\n",
    "    return text\n",
    "\n",
    "new['Tweet_lemmatized'] = new['nonstop'].apply(lambda x: lemmatizer(x))"
   ]
  },
  {
   "cell_type": "code",
   "execution_count": 26,
   "metadata": {},
   "outputs": [],
   "source": [
    "#stemming\n",
    "from nltk.stem import PorterStemmer \n",
    "port_stemmer= nltk.PorterStemmer()\n",
    "\n",
    "def stemming(text):\n",
    "    #stripped = [word.lower() for word in text if word.lower() not in stopwords]\n",
    "    out_text= [port_stemmer.stem(word) for word in text]\n",
    "    return out_text\n",
    "\n",
    "new['stemmed']= new['nonstop'].apply(lambda x: stemming(x))"
   ]
  },
  {
   "cell_type": "code",
   "execution_count": 27,
   "metadata": {},
   "outputs": [
    {
     "name": "stdout",
     "output_type": "stream",
     "text": [
      "Unique words in lemmatized text:6937\n",
      "Unique words in stemmed text:5975\n"
     ]
    }
   ],
   "source": [
    "#Let's check to see how many unique words in lemmatized and stemmed words\n",
    "\n",
    "word_count_lemma= list(itertools.chain.from_iterable(new['Tweet_lemmatized']))\n",
    "word_count_stem= list(itertools.chain.from_iterable(new['stemmed']))\n",
    "\n",
    "print('Unique words in lemmatized text:' +str(len(set(word_count_lemma))));\n",
    "print('Unique words in stemmed text:' +str(len(set(word_count_stem))));"
   ]
  },
  {
   "cell_type": "code",
   "execution_count": 28,
   "metadata": {},
   "outputs": [],
   "source": [
    "# this removes less frequent words, leaving ONLY frequent words, or common words. Sometimes, less occuring words do \n",
    "#not have any value, or less value. \n",
    "flat_list= list(itertools.chain.from_iterable(new['stemmed']))\n",
    "fd= nltk.FreqDist(flat_list)\n",
    "\n",
    "keep_words= list(filter(lambda x: 2500>x[1]>3, fd.items()))\n",
    "keep_words_list= [item[0] for item in keep_words]\n",
    "\n",
    "def remove_lessfreq(tokanized_tweets):\n",
    "    text_out= [word for word in tokanized_tweets if word in keep_words_list]\n",
    "    return text_out\n",
    "#removing less frequent words that are stemmed\n",
    "new['remove_less_freq']= new['stemmed'].apply(lambda x: remove_lessfreq(x))\n",
    "#removing less frequent words that are stemmed\n",
    "new['remove_less_freq_lemma']= new['Tweet_lemmatized'].apply(lambda x: remove_lessfreq(x))"
   ]
  },
  {
   "cell_type": "code",
   "execution_count": 29,
   "metadata": {},
   "outputs": [
    {
     "name": "stdout",
     "output_type": "stream",
     "text": [
      "['said', 'thing', 'üòç', 'amp', 'love', 'even', 'discuss', 'member', 'lot', 'question']\n"
     ]
    }
   ],
   "source": [
    "print(keep_words_list[0:10])"
   ]
  },
  {
   "cell_type": "code",
   "execution_count": 30,
   "metadata": {},
   "outputs": [],
   "source": [
    "# joining words back for modeling\n",
    "def join_tokens(tokens):\n",
    "    documents= \" \".join([word for word in tokens if not word.isdigit()])\n",
    "    return documents\n",
    "#this one is from stemmed words with common words\n",
    "new['document']= new['remove_less_freq'].apply(lambda x: join_tokens(x))"
   ]
  },
  {
   "cell_type": "code",
   "execution_count": 31,
   "metadata": {},
   "outputs": [],
   "source": [
    "def join_tokens(tokens):\n",
    "    documents= \" \".join([word for word in tokens if not word.isdigit()])\n",
    "    return documents\n",
    "#this one is lemma words \n",
    "new['document_lemma']= new['Tweet_lemmatized'].apply(lambda x: join_tokens(x))"
   ]
  },
  {
   "cell_type": "code",
   "execution_count": 32,
   "metadata": {},
   "outputs": [],
   "source": [
    "def join_tokens(tokens):\n",
    "    documents= \" \".join([word for word in tokens if not word.isdigit()])\n",
    "    return documents\n",
    "\n",
    "new['document_stemmed']= new['stemmed'].apply(lambda x: join_tokens(x))"
   ]
  },
  {
   "cell_type": "markdown",
   "metadata": {},
   "source": [
    "### Comparing what stemmed words looks like without removing less frequent words, "
   ]
  },
  {
   "cell_type": "code",
   "execution_count": 33,
   "metadata": {},
   "outputs": [
    {
     "name": "stdout",
     "output_type": "stream",
     "text": [
      "0                                  said thing üòç üòç üòç\n",
      "1        amp love even discuss sepsi amp flu member lo...\n",
      "2                                     get flu never shit \n",
      "3                                              guy cancer\n",
      "4       miss xoxoxoxox soon back bout flu turn pneumonia \n",
      "                              ...                        \n",
      "4460                                                     \n",
      "4461                  flu cold whatev doooooo one üëã üèº\n",
      "4462     coll good morn everyon üòä delray interview r...\n",
      "4463     health pleas get flu shot peopl complet ineff...\n",
      "4464                                       visual beyond \n",
      "Name: document_stemmed, Length: 4323, dtype: object\n"
     ]
    }
   ],
   "source": [
    "#comparing what stemmed words looks like without removing less frequent words\n",
    "print(new['document_stemmed'])             "
   ]
  },
  {
   "cell_type": "code",
   "execution_count": 34,
   "metadata": {},
   "outputs": [
    {
     "name": "stdout",
     "output_type": "stream",
     "text": [
      "0                                  said thing üòç üòç üòç\n",
      "1       amp love even discuss amp member lot question ...\n",
      "2                                          get never shit\n",
      "3                                              guy cancer\n",
      "4                      miss soon back bout turn pneumonia\n",
      "                              ...                        \n",
      "4460                                                     \n",
      "4461                                  cold whatev one üèº\n",
      "4462    good morn everyon üòä interview realli proud l...\n",
      "4463    health pleas get shot peopl complet year young...\n",
      "4464                                                     \n",
      "Name: document, Length: 4323, dtype: object\n"
     ]
    }
   ],
   "source": [
    "#stemmed words removing less \n",
    "print(new['document']) "
   ]
  },
  {
   "cell_type": "code",
   "execution_count": 35,
   "metadata": {
    "scrolled": true
   },
   "outputs": [
    {
     "name": "stdout",
     "output_type": "stream",
     "text": [
      "{'dead', 'know', 'nutrit', 'stomach', 'island', 'jordan', 'els', 'guess', 'live', 'äôve', 'give', 'small', 'üèº', 'inject', 'contract', 'product', 'sit', 'place', 'noon', 'laugh', 'colleagu', 'nap', 'yesterday', 'heart', 'close', 'wit', 'pretti', 'fast', 'line', 'internet', 'fuck', 'retweet', 'deliveri', 'price', 'yay', 'nasal', 'green', 'wouldnt', 'good', 'lmao', 'across', 'medicin', 'sometim', 'send', 'annoy', 'chest', 'immun', 'confid', 'hard', 'pull', 'short', 'receiv', 'needl', 'guarante', 'left', 'üôå', 'cost', 'bacteria', 'annual', 'anti', 'antivaxx', 'truth', 'cassandra', 'thought', 'confirm', 'social', 'tri', 'tool', 'make', 'encourag', 'articl', 'prevent', 'care', 'cross', 'often', 'way', 'shoot', 'camp', 'hr', 'mix', 'ticket', 'okay', 'afternoon', 'selfish', 'ultra', 'amp', 'influenza', 'wish', 'beep', 'egg', 'told', 'fri', 'confus', 'gym', 'servic', 'explain', 'freez', 'fill', 'florida', 'possibl', 'regret', 'physic', 'everybodi', 'flucold', 'busi', 'publicli', 'worri', 'tonight', 'tha', 'anxieti', 'forecast', 'room', 'night', 'plagu', 'isnt', 'readi', 'evil', 'worst', 'move', 'walkin', 'seem', 'wrong', 'rare', 'activ', 'allow', 'circl', 'race', 'quick', 'bro', 'shift', 'honest', 'sneez', 'interview', 'sex', 'veteran', 'wtf', 'predict', 'could', 'andor', 'diseas', 'bitch', 'weight', 'antibodi', 'horribl', 'channel', 'rid', 'administr', 'gonna', 'swear', 'face', 'decid', 'list', 'hour', 'whistl', 'wont', 'safeti', 'creep', 'clearli', 'earlier', 'herd', 'fail', 'forgot', 'low', 'insur', 'machin', 'total', 'manag', 'sat', 'celebr', 'proud', 'smoke', 'month', 'note', 'yeah', 'father', 'next', 'üòû', 'late', 'home', 'kind', 'prior', 'crown', 'proper', 'announc', 'record', 'nerd', 'visit', 'patient', 'flushot', 'elderli', 'killer', 'age', 'past', 'argu', 'man', 'hope', 'nigga', 'wear', 'function', 'beat', 'con', 'bowl', 'idea', 'play', 'event', 'cut', 'immigr', 'ring', 'diabet', 'court', 'lost', 'younger', 'order', 'treatment', 'doesnt', 'life', 'vulner', 'see', 'futur', 'yr', 'miss', 'cowork', 'avian', 'youv', 'dee', 'kaiser', 'big', 'sticker', 'student', 'season', 'leg', 'sinc', 'lesson', 'away', 'guy', 'may', 'fat', 'super', 'freedom', 'wake', 'piss', 'üôé', 'row', 'deep', 'right', 'standard', 'allergi', 'fit', 'walter', 'abl', 'wife', 'hoe', 'rsv', 'asthma', 'gotta', 'shop', 'remedi', 'market', 'myth', 'complet', 'woke', 'boyfriend', 'realiz', 'second', 'attend', 'half', 'dude', 'block', 'holiday', 'open', 'morn', 'win', 'theyll', 'cat', 'minor', 'among', 'rip', 'depart', 'swine', 'number', 'welcom', 'slept', 'monday', 'wild', 'word', 'tree', 'state', 'spell', 'today', 'therapi', 'older', 'someth', 'read', 'shut', 'forev', 'without', 'honestli', 'declin', 'favorit', 'didnt', 'anoth', 'tweet', 'current', 'highli', 'narcolepsi', 'tbh', 'daughter', 'afterward', 'protect', 'taught', 'facil', 'demdeb', 'offic', 'anim', 'term', 'probabl', 'fluid', 'highest', 'mandatori', 'andrew', 'four', 'averag', 'nasti', 'card', 'mucinex', 'updat', 'footbal', 'univers', 'ever', 'mercuri', 'everywher', 'track', 'fun', 'touch', 'arriv', 'pick', 'size', 'outsid', 'friday', 'gave', 'host', 'throw', 'blue', 'expert', 'rate', 'tast', 'releas', 'littl', 'natur', 'believ', 'scari', 'per', 'felt', 'äô', 'straight', 'tough', 'bu', 'viru', 'infant', 'herbal', 'part', 'best', 'twitter', 'point', 'collect', 'side', 'burn', 'mount', 'break', 'simpli', 'done', 'power', 'pill', 'excus', 'complic', 'hiv', 'soup', 'anymor', 'coldflu', 'choos', 'putin', 'haha', 'semest', 'region', 'around', 'worldwid', 'loss', 'latest', 'look', 'mexican', 'novemb', 'came', 'got', 'combin', 'üèæ', 'commun', 'rough', 'one', 'light', 'shock', 'heal', 'mice', 'googl', 'nonsens', 'hate', 'pregnant', 'war', 'pneumonia', 'tire', 'she', 'hospit', 'canada', 'review', 'cure', 'round', 'happen', 'select', 'miser', 'howev', 'kidney', 'contact', 'here', 'pharmaci', 'london', 'design', 'cheer', 'weekend', 'sorri', 'injuri', 'throat', 'team', 'pmpm', 'recent', 'support', 'tea', 'usual', 'lose', 'swollen', 'professor', 'rememb', 'spend', 'goe', 'forward', 'demand', 'common', 'deni', 'save', 'nurs', 'effort', 'hit', 'feel', 'decad', 'vote', 'boondock', 'sick', 'mayb', 'come', 'headlin', 'period', 'yell', 'neurosurgeon', 'includ', 'bronchiti', 'asleep', 'bare', 'girl', 'appetit', 'hand', 'mani', 'text', 'reduc', 'teen', 'jesu', 'prescrib', 'wanna', 'bill', 'crap', 'back', 'bug', 'cough', 'write', 'better', 'üíï', 'wonder', 'disord', 'certain', 'fund', 'river', 'limit', 'partner', 'funni', 'result', 'octob', 'dental', 'awak', 'hug', 'year', 'kick', 'genocid', 'realiti', 'everi', 'cri', 'answer', 'reason', 'love', 'hurt', 'dang', 'offer', 'experi', 'set', 'use', 'american', 'imma', 'omg', 'anyth', 'di', 'let', 'üëè', 'vax', 'jame', 'major', 'avoid', 'schedul', 'spent', 'week', 'neg', 'midterm', 'affect', 'compromis', 'smh', 'cute', 'mouth', 'teddi', 'chang', 'piec', 'begin', 'that', 'fullblown', 'return', 'far', 'tuesday', 'fake', 'perfect', 'inform', 'campaign', 'child', 'cool', 'reaction', 'ôçô', 'perform', 'comin', 'massag', 'hey', 'polio', 'train', 'put', 'com', 'expect', 'experienc', 'kill', 'extra', 'caught', 'mental', 'threw', 'would', 'thru', 'tabl', 'custodi', 'relat', 'discov', 'show', 'ùìæ', 'psa', 'harm', 'enter', 'singl', 'govern', 'everyon', 'post', 'epidem', 'suck', 'fell', 'lot', 'date', 'plenti', 'ye', 'freak', 'grade', 'jude', 'scienc', 'doc', 'walk', 'seriou', 'sleev', 'üòç', 'scientist', 'north', 'bruh', 'street', 'üòî', 'push', 'üíø', 'non', 'rise', 'door', 'nose', 'key', 'other', 'accept', 'music', 'cant', 'coffe', 'contagi', 'huge', 'fatal', 'fli', 'diet', 'cell', 'five', 'yep', 'media', 'lol', 'alarm', 'rather', 'elderberri', 'infect', 'jab', 'chicago', 'broke', 'add', 'turn', 'pic', 'insulin', 'sore', 'dan', 'member', 'pressur', 'energi', 'si', 'report', 'either', 'cook', 'swab', 'finish', 'border', 'neck', 'taken', 'watch', 'suppos', 'fashion', 'extrem', 'knew', 'god', 'children', 'stand', 'outrag', 'rapid', 'butt', 'knock', 'folk', 'zero', 'said', 'prescript', 'lemon', 'tissu', 'account', 'men', 'yall', 'viral', 'trust', 'much', 'wors', 'wednesday', 'poor', 'pay', 'forget', 'jam', 'nice', 'dont', 'ear', 'avail', 'buy', 'muscl', 'risk', 'might', 'histori', 'resid', 'arent', 'later', 'pharma', 'germ', 'phone', 'question', 'ladi', 'weve', 'found', 'health', 'human', 'recov', 'fightflu', 'billion', 'pharmacist', 'motiv', 'also', 'cop', 'librari', 'drive', 'get', 'flash', 'learn', 'shout', 'cover', 'take', 'äôll', 'pregnanc', 'alreadi', 'murder', 'top', 'sure', 'whatev', 'third', 'disappoint', 'end', 'fire', 'treat', 'offici', 'bit', 'took', 'sweet', 'yearli', 'video', 'stori', 'essenti', 'tablet', 'pain', 'concern', 'stupid', 'dr', 'pandem', 'sad', 'act', 'minut', 'earli', 'alright', 'need', 'shoutout', 'known', 'higher', 'error', 'less', 'prayer', 'new', 'type', 'vaccineswork', 'district', 'ward', 'share', 'definit', 'hear', 'symptom', 'lick', 'target', 'agre', 'first', 'doctor', 'book', 'liter', 'crazi', 'rich', 'estim', 'worker', 'bmore', 'old', 'reach', 'detain', 'determin', 'chair', 'thi', 'area', 'system', 'dear', 'instead', 'genuin', 'foot', 'nearli', 'effect', 'amaz', 'garlic', 'parent', 'shot', 'action', 'easi', 'poll', 'mom', 'youll', 'surviv', 'exercis', 'alway', 'lil', 'friendli', 'seen', 'wash', 'flulik', 'watson', 'eat', 'drug', 'tech', 'lead', 'level', 'drop', 'two', 'stock', 'tho', 'widespread', 'info', 'correl', 'weaken', 'atm', 'job', 'togeth', 'normal', 'ùóô', 'day', 'suggest', 'pop', 'death', 'patrol', 'peak', 'cup', 'talk', 'water', 'messag', 'die', 'self', 'young', 'bird', 'tip', 'cours', 'stuff', 'lucki', 'will', 'awesom', 'ugh', 'lowkey', 'tryna', 'paid', 'spread', 'remind', 'stay', 'canadian', 'onlin', 'üòé', 'winter', 'almost', 'anyway', 'damn', 'wale', 'vaccin', 'true', 'lunch', 'world', 'money', 'fluvaccin', 'dump', 'carri', 'concert', 'shake', 'medic', 'trump', 'sever', 'countri', 'peac', 'hero', 'evid', 'sanit', 'wasnt', 'pl', 'identifi', 'scare', 'sell', 'son', 'nh', 'rest', 'serious', 'urg', 'coupl', 'mine', 'exposur', 'load', 'condit', 'mean', 'enough', 'ate', 'threaten', 'ignor', 'food', 'blame', 'wow', 'cannot', 'brown', 'check', 'memori', 'african', 'actual', 'town', 'husband', 'eye', 'perhap', 'circul', 'speak', 'near', 'group', 'thank', 'itll', 'accord', 'roll', 'detent', 'success', 'erythromycin', 'honor', 'dinner', 'slip', 'friend', 'dick', 'relief', 'physician', 'forc', 'local', 'dog', 'posit', 'virus', 'appoint', 'bag', 'run', 'attack', 'especi', 'bless', 'karma', 'gain', 'enemi', 'truli', 'healthi', 'min', 'peski', 'hold', 'went', 'meet', 'resist', 'long', 'pray', 'longer', 'campu', 'farmer', 'hot', 'fulli', 'full', 'bring', 'äôre', 'recommend', 'citi', 'drank', 'due', 'flufight', 'omfg', 'hous', 'he', 'flurel', 'bullshit', 'famili', 'prepar', 'stop', 'kept', 'peopl', 'least', 'sent', 'chill', 'nyquil', 'allerg', 'thing', 'free', 'exactli', 'must', 'mother', 'monster', 'äôm', 'screw', 'vitamin', 'slowli', 'via', 'fact', 'facebook', 'blood', 'podcast', 'mind', 'call', 'idk', 'never', 'choic', 'understand', 'saturday', 'depress', 'warn', 'ppl', 'postpon', 'combo', 'spray', 'case', 'diagnos', 'happi', 'insid', 'hygien', 'autoimmun', 'well', 'complain', 'oil', 'herb', 'disabl', 'ten', 'cuz', 'bad', 'pleas', 'shit', 'saw', 'donat', 'realli', 'credit', 'danger', 'high', 'maryland', 'tattoo', 'black', 'made', 'babi', 'studi', 'fluffi', 'sign', 'trigger', 'clear', 'grown', 'prof', 'skin', 'acut', 'deadli', 'battl', 'fluseason', 'advic', 'think', 'class', 'sister', 'wipe', 'ive', 'follow', 'entir', 'kiss', 'senior', 'upon', 'pack', 'data', 'contain', 'regular', 'boost', 'drink', 'becom', 'keep', 'head', 'theyr', 'leav', 'aim', 'cancel', 'australian', 'wiggin', 'movi', 'million', 'employe', 'ultim', 'fitzhenri', 'store', 'episod', 'aw', 'sort', 'center', 'afford', 'temperatur', 'sky', 'disney', 'lack', 'absolut', 'want', 'real', 'red', 'üòä', 'present', 'clean', 'asap', 'nobodi', 'john', 'similar', 'unit', 'ago', 'final', 'joke', 'luck', 'imagin', 'whiskey', 'doubl', 'news', 'name', 'dad', 'bandaid', 'ass', 'air', 'headach', 'poison', 'bacteri', 'gener', 'fever', 'introduc', 'despit', 'centr', 'staff', 'goal', 'bore', 'alon', 'ginger', 'yea', 'hahaha', 'lie', 'urgent', 'research', 'sleep', 'work', 'debut', 'paul', 'three', 'white', 'stage', 'chanc', 'cold', 'gross', 'thimeros', 'antibiot', 'discuss', 'oklahoma', 'none', 'interest', 'associ', 'within', 'consid', 'btw', 'lay', 'clinic', 'go', 'encephalomyel', 'juic', 'outbreak', 'car', 'issu', 'bet', 'educ', 'fighter', 'flew', 'cancer', 'six', 'deserv', 'adult', 'form', 'claim', 'weird', 'louisiana', 'devil', 'awar', 'everyth', 'step', 'üèω', 'bed', 'legit', 'person', 'tune', 'improv', 'aint', 'admin', 'potenti', 'simpl', 'birthday', 'ingredi', 'obtain', 'üíâ', 'üòí', 'replac', 'concentr', 'cdc', 'santa', 'stream', 'noth', 'spanish', 'increas', 'plan', 'kid', 'weather', 'ann', 'counti', 'äôall', 'nov', 'snow', 'breath', 'biden', 'link', 'whether', 'bodi', 'start', 'heard', 'what', 'fan', 'warm', 'respiratori', 'someon', 'app', 'getvaccin', 'ad', 'rais', 'measl', 'great', 'worth', 'colleg', 'nah', 'blow', 'fuckin', 'finna', 'your', 'healthcar', 'appear', 'parti', 'quit', 'travel', 'meant', 'vibe', 'purpos', 'texa', 'emerg', 'differ', 'problem', 'szn', 'expos', 'pass', 'destroy', 'lung', 'obvious', 'chicken', 'time', 'appar', 'gone', 'dumb', 'dose', 'provid', 'respons', 'there', 'say', 'tomorrow', 'adem', 'üòå', 'last', 'help', 'fine', 'wait', 'critic', 'given', 'kinda', 'victim', 'sinu', 'though', 'compani', 'practic', 'havent', 'dyk', 'multipl', 'lab', 'beauti', 'everytim', 'catch', 'ceo', 'school', 'admit', 'glad', 'tour', 'pound', 'like', 'till', 'benefit', 'moment', 'ill', 'safe', 'south', 'sound', 'soon', 'session', 'global', 'volunt', 'arm', 'plu', 'suffer', 'nope', 'voic', 'basic', 'import', 'program', 'oper', 'gut', 'still', 'gotten', 'flume', 'bout', 'trip', 'soldier', 'daili', 'robert', 'ôäô', 'enjoy', 'ice', 'fish', 'public', 'fragil', 'find', 'ahead', 'stick', 'disgust', 'deal', 'whole', 'strain', 'chronic', 'base', 'mask', 'join', 'äôt', 'fight', 'appropri', 'continu', 'brain', 'boy', 'central', 'brother', 'dumbass', 'everyday', 'refus', 'along', 'stress', 'screen', 'measur', 'twice', 'hello', 'polic', 'caus', 'control', 'even', 'mistak', 'europ', 'christma', 'etc', 'amount', 'keto', 'strength', 'nation', 'game', 'develop', 'listen', 'women', 'mention', 'advers', 'soap', 'consent', 'involv', 'med', 'terribl', 'elig', 'skip', 'smile', 'request', 'ach', 'test', 'trash', 'outta', 'topic', 'yet', 'hell', 'custom', 'china', 'beach', 'administ', 'ask', 'fall', 'anyon', 'tell', 'strong', 'migrant', 'strep', 'particip'}\n"
     ]
    }
   ],
   "source": [
    "#using a unique set of words for out vocabulary for BOW modeling\n",
    "list_unique= set(list(itertools.chain.from_iterable(new['remove_less_freq'])))\n",
    "print (list_unique)"
   ]
  },
  {
   "cell_type": "code",
   "execution_count": 36,
   "metadata": {},
   "outputs": [],
   "source": [
    "new.to_csv('data/cleaned_tweets.csv')"
   ]
  },
  {
   "cell_type": "code",
   "execution_count": 37,
   "metadata": {},
   "outputs": [
    {
     "data": {
      "text/html": [
       "<div>\n",
       "<style scoped>\n",
       "    .dataframe tbody tr th:only-of-type {\n",
       "        vertical-align: middle;\n",
       "    }\n",
       "\n",
       "    .dataframe tbody tr th {\n",
       "        vertical-align: top;\n",
       "    }\n",
       "\n",
       "    .dataframe thead th {\n",
       "        text-align: right;\n",
       "    }\n",
       "</style>\n",
       "<table border=\"1\" class=\"dataframe\">\n",
       "  <thead>\n",
       "    <tr style=\"text-align: right;\">\n",
       "      <th></th>\n",
       "      <th>text</th>\n",
       "      <th>label</th>\n",
       "      <th>text_noURLs</th>\n",
       "      <th>text_punct</th>\n",
       "      <th>text_removeRT</th>\n",
       "      <th>tokenized</th>\n",
       "      <th>nonstop</th>\n",
       "      <th>Tweet_lemmatized</th>\n",
       "      <th>stemmed</th>\n",
       "      <th>remove_less_freq</th>\n",
       "      <th>remove_less_freq_lemma</th>\n",
       "      <th>document</th>\n",
       "      <th>document_lemma</th>\n",
       "      <th>document_stemmed</th>\n",
       "    </tr>\n",
       "  </thead>\n",
       "  <tbody>\n",
       "    <tr>\n",
       "      <td>0</td>\n",
       "      <td>Said the same thing üòÇüòÇüòÇ</td>\n",
       "      <td>0</td>\n",
       "      <td>Said the same thing üòÇüòÇüòÇ</td>\n",
       "      <td>Said the same thing üòÇüòÇüòÇ</td>\n",
       "      <td>Said the same thing üòÇüòÇüòÇ</td>\n",
       "      <td>[said, the, same, thing, üòç, üòç, üòç]</td>\n",
       "      <td>[said, thing, üòç, üòç, üòç]</td>\n",
       "      <td>[said, thing, üòç, üòç, üòç]</td>\n",
       "      <td>[said, thing, üòç, üòç, üòç]</td>\n",
       "      <td>[said, thing, üòç, üòç, üòç]</td>\n",
       "      <td>[said, thing, üòç, üòç, üòç]</td>\n",
       "      <td>said thing üòç üòç üòç</td>\n",
       "      <td>said thing üòç üòç üòç</td>\n",
       "      <td>said thing üòç üòç üòç</td>\n",
       "    </tr>\n",
       "    <tr>\n",
       "      <td>1</td>\n",
       "      <td>RT @YYSepsis: @KarnCliffe &amp;amp; I just had a l...</td>\n",
       "      <td>0</td>\n",
       "      <td>RT :  &amp;amp; I just had a lovely evening  discu...</td>\n",
       "      <td>RT   amp I just had a lovely evening  discussi...</td>\n",
       "      <td>amp  just had  lovely evening  discussing s...</td>\n",
       "      <td>[, amp, just, had, lovely, evening, discussing...</td>\n",
       "      <td>[, amp, lovely, evening, discussing, sepsis, a...</td>\n",
       "      <td>[, amp, lovely, evening, discussing, sepsis, a...</td>\n",
       "      <td>[, amp, love, even, discuss, sepsi, amp, flu, ...</td>\n",
       "      <td>[amp, love, even, discuss, amp, member, lot, q...</td>\n",
       "      <td>[amp, amp, member, lot, question, amp]</td>\n",
       "      <td>amp love even discuss amp member lot question ...</td>\n",
       "      <td>amp lovely evening discussing sepsis amp flu ...</td>\n",
       "      <td>amp love even discuss sepsi amp flu member lo...</td>\n",
       "    </tr>\n",
       "    <tr>\n",
       "      <td>2</td>\n",
       "      <td>y’all be getting the flu??? I’ve never had tha...</td>\n",
       "      <td>0</td>\n",
       "      <td>y’all be getting the flu??? I’ve never had tha...</td>\n",
       "      <td>y’all be getting the flu I’ve never had that s...</td>\n",
       "      <td>’all  getting the flu ’ never had that shit be...</td>\n",
       "      <td>[, all, getting, the, flu, never, had, that, s...</td>\n",
       "      <td>[, getting, flu, never, shit, ]</td>\n",
       "      <td>[, getting, flu, never, shit, ]</td>\n",
       "      <td>[, get, flu, never, shit, ]</td>\n",
       "      <td>[get, never, shit]</td>\n",
       "      <td>[never, shit]</td>\n",
       "      <td>get never shit</td>\n",
       "      <td>getting flu never shit</td>\n",
       "      <td>get flu never shit</td>\n",
       "    </tr>\n",
       "    <tr>\n",
       "      <td>3</td>\n",
       "      <td>This guy is a cancer</td>\n",
       "      <td>0</td>\n",
       "      <td>This guy is a cancer</td>\n",
       "      <td>This guy is a cancer</td>\n",
       "      <td>This guy   cancer</td>\n",
       "      <td>[this, guy, cancer]</td>\n",
       "      <td>[guy, cancer]</td>\n",
       "      <td>[guy, cancer]</td>\n",
       "      <td>[guy, cancer]</td>\n",
       "      <td>[guy, cancer]</td>\n",
       "      <td>[guy, cancer]</td>\n",
       "      <td>guy cancer</td>\n",
       "      <td>guy cancer</td>\n",
       "      <td>guy cancer</td>\n",
       "    </tr>\n",
       "    <tr>\n",
       "      <td>4</td>\n",
       "      <td>Missed all of you! xoxoxoxox❤️\\n\\nI'm soon to ...</td>\n",
       "      <td>1</td>\n",
       "      <td>Missed all of you! xoxoxoxox❤️\\n\\nI'm soon to ...</td>\n",
       "      <td>Missed all of you xoxoxoxox❤️\\n\\nIm soon to be...</td>\n",
       "      <td>Missed all  you xoxoxoxox❤️\\n\\n soon   back  H...</td>\n",
       "      <td>[missed, all, you, xoxoxoxox, soon, back, had,...</td>\n",
       "      <td>[missed, xoxoxoxox, soon, back, bout, flu, tur...</td>\n",
       "      <td>[missed, xoxoxoxox, soon, back, bout, flu, tur...</td>\n",
       "      <td>[miss, xoxoxoxox, soon, back, bout, flu, turn,...</td>\n",
       "      <td>[miss, soon, back, bout, turn, pneumonia]</td>\n",
       "      <td>[soon, back, bout, pneumonia]</td>\n",
       "      <td>miss soon back bout turn pneumonia</td>\n",
       "      <td>missed xoxoxoxox soon back bout flu turned pne...</td>\n",
       "      <td>miss xoxoxoxox soon back bout flu turn pneumonia</td>\n",
       "    </tr>\n",
       "  </tbody>\n",
       "</table>\n",
       "</div>"
      ],
      "text/plain": [
       "                                                text  label  \\\n",
       "0                   Said the same thing üòÇüòÇüòÇ      0   \n",
       "1  RT @YYSepsis: @KarnCliffe &amp; I just had a l...      0   \n",
       "2  y’all be getting the flu??? I’ve never had tha...      0   \n",
       "3                               This guy is a cancer      0   \n",
       "4  Missed all of you! xoxoxoxox❤️\\n\\nI'm soon to ...      1   \n",
       "\n",
       "                                         text_noURLs  \\\n",
       "0                   Said the same thing üòÇüòÇüòÇ   \n",
       "1  RT :  &amp; I just had a lovely evening  discu...   \n",
       "2  y’all be getting the flu??? I’ve never had tha...   \n",
       "3                               This guy is a cancer   \n",
       "4  Missed all of you! xoxoxoxox❤️\\n\\nI'm soon to ...   \n",
       "\n",
       "                                          text_punct  \\\n",
       "0                   Said the same thing üòÇüòÇüòÇ   \n",
       "1  RT   amp I just had a lovely evening  discussi...   \n",
       "2  y’all be getting the flu I’ve never had that s...   \n",
       "3                               This guy is a cancer   \n",
       "4  Missed all of you xoxoxoxox❤️\\n\\nIm soon to be...   \n",
       "\n",
       "                                       text_removeRT  \\\n",
       "0                   Said the same thing üòÇüòÇüòÇ   \n",
       "1     amp  just had  lovely evening  discussing s...   \n",
       "2  ’all  getting the flu ’ never had that shit be...   \n",
       "3                                  This guy   cancer   \n",
       "4  Missed all  you xoxoxoxox❤️\\n\\n soon   back  H...   \n",
       "\n",
       "                                           tokenized  \\\n",
       "0            [said, the, same, thing, üòç, üòç, üòç]   \n",
       "1  [, amp, just, had, lovely, evening, discussing...   \n",
       "2  [, all, getting, the, flu, never, had, that, s...   \n",
       "3                                [this, guy, cancer]   \n",
       "4  [missed, all, you, xoxoxoxox, soon, back, had,...   \n",
       "\n",
       "                                             nonstop  \\\n",
       "0                       [said, thing, üòç, üòç, üòç]   \n",
       "1  [, amp, lovely, evening, discussing, sepsis, a...   \n",
       "2                    [, getting, flu, never, shit, ]   \n",
       "3                                      [guy, cancer]   \n",
       "4  [missed, xoxoxoxox, soon, back, bout, flu, tur...   \n",
       "\n",
       "                                    Tweet_lemmatized  \\\n",
       "0                       [said, thing, üòç, üòç, üòç]   \n",
       "1  [, amp, lovely, evening, discussing, sepsis, a...   \n",
       "2                    [, getting, flu, never, shit, ]   \n",
       "3                                      [guy, cancer]   \n",
       "4  [missed, xoxoxoxox, soon, back, bout, flu, tur...   \n",
       "\n",
       "                                             stemmed  \\\n",
       "0                       [said, thing, üòç, üòç, üòç]   \n",
       "1  [, amp, love, even, discuss, sepsi, amp, flu, ...   \n",
       "2                        [, get, flu, never, shit, ]   \n",
       "3                                      [guy, cancer]   \n",
       "4  [miss, xoxoxoxox, soon, back, bout, flu, turn,...   \n",
       "\n",
       "                                    remove_less_freq  \\\n",
       "0                       [said, thing, üòç, üòç, üòç]   \n",
       "1  [amp, love, even, discuss, amp, member, lot, q...   \n",
       "2                                 [get, never, shit]   \n",
       "3                                      [guy, cancer]   \n",
       "4          [miss, soon, back, bout, turn, pneumonia]   \n",
       "\n",
       "                   remove_less_freq_lemma  \\\n",
       "0            [said, thing, üòç, üòç, üòç]   \n",
       "1  [amp, amp, member, lot, question, amp]   \n",
       "2                           [never, shit]   \n",
       "3                           [guy, cancer]   \n",
       "4           [soon, back, bout, pneumonia]   \n",
       "\n",
       "                                            document  \\\n",
       "0                             said thing üòç üòç üòç   \n",
       "1  amp love even discuss amp member lot question ...   \n",
       "2                                     get never shit   \n",
       "3                                         guy cancer   \n",
       "4                 miss soon back bout turn pneumonia   \n",
       "\n",
       "                                      document_lemma  \\\n",
       "0                             said thing üòç üòç üòç   \n",
       "1   amp lovely evening discussing sepsis amp flu ...   \n",
       "2                            getting flu never shit    \n",
       "3                                         guy cancer   \n",
       "4  missed xoxoxoxox soon back bout flu turned pne...   \n",
       "\n",
       "                                    document_stemmed  \n",
       "0                             said thing üòç üòç üòç  \n",
       "1   amp love even discuss sepsi amp flu member lo...  \n",
       "2                                get flu never shit   \n",
       "3                                         guy cancer  \n",
       "4  miss xoxoxoxox soon back bout flu turn pneumonia   "
      ]
     },
     "execution_count": 37,
     "metadata": {},
     "output_type": "execute_result"
    }
   ],
   "source": [
    "# 1 final look at data.\n",
    "new.head()"
   ]
  },
  {
   "cell_type": "markdown",
   "metadata": {},
   "source": [
    "# I want to visualize the top 20 ngrams for the tweets we've collected. N-grams using the CountVectorizer helps us create bigrams and trigrams. A bigram makes a prediction for a word based on the one before, and a trigram makes a prediction for the word based on the two words before. We will use these features later on."
   ]
  },
  {
   "cell_type": "code",
   "execution_count": 38,
   "metadata": {},
   "outputs": [
    {
     "name": "stdout",
     "output_type": "stream",
     "text": [
      "flu 3351\n",
      "shot 873\n",
      "got 422\n",
      "like 306\n",
      "sick 260\n",
      "cold 258\n",
      "getting 231\n",
      "day 216\n",
      "year 212\n",
      "season 210\n",
      "vaccine 204\n",
      "time 178\n",
      "today 175\n",
      "people 169\n",
      "week 155\n",
      "know 144\n",
      "feel 139\n",
      "amp 136\n",
      "work 120\n",
      "think 115\n"
     ]
    },
    {
     "data": {
      "image/png": "[encoded data removed]",
      "text/plain": [
       "<Figure size 1080x720 with 1 Axes>"
      ]
     },
     "metadata": {},
     "output_type": "display_data"
    }
   ],
   "source": [
    "def get_top_n_words(corpus, n=None):\n",
    "    vec = CountVectorizer(stop_words = 'english').fit(corpus)\n",
    "    bag_of_words = vec.transform(corpus)\n",
    "    sum_words = bag_of_words.sum(axis=0) \n",
    "    words_freq = [(word, sum_words[0, idx]) for word, idx in vec.vocabulary_.items()]\n",
    "    words_freq =sorted(words_freq, key = lambda x: x[1], reverse=True)\n",
    "    return words_freq[:n]\n",
    "#note here that I'm using the lemmatized document since that is what I've use with my best \n",
    "common_words = get_top_n_words(new['document_lemma'], 20)\n",
    "for word, freq in common_words:\n",
    "    print(word, freq)\n",
    "df2 = pd.DataFrame(common_words, columns = ['text' , 'count'])\n",
    "plt.figure(figsize=(15,10))\n",
    "df2.groupby('text').sum()['count'].sort_values(ascending=False).plot(\n",
    "    kind='bar', title='Top 20 words')\n",
    "plt.show()"
   ]
  },
  {
   "cell_type": "code",
   "execution_count": 39,
   "metadata": {},
   "outputs": [
    {
     "name": "stdout",
     "output_type": "stream",
     "text": [
      "flu shot 819\n",
      "got flu 242\n",
      "flu season 172\n",
      "getting flu 145\n",
      "flu vaccine 124\n",
      "cold flu 100\n",
      "stomach flu 68\n",
      "flu jab 65\n",
      "feel like 55\n",
      "like flu 42\n",
      "free flu 39\n",
      "amp flu 35\n",
      "sick flu 34\n",
      "shot today 32\n",
      "swine flu 31\n",
      "flu like 31\n",
      "flu game 29\n",
      "cold amp 26\n",
      "year flu 25\n",
      "man flu 25\n"
     ]
    },
    {
     "data": {
      "image/png": "[encoded data removed]",
      "text/plain": [
       "<Figure size 1080x720 with 1 Axes>"
      ]
     },
     "metadata": {},
     "output_type": "display_data"
    }
   ],
   "source": [
    "def get_top_n_bigram(corpus, n=None):\n",
    "    vec = CountVectorizer(stop_words = 'english', ngram_range=(2, 2)).fit(corpus)\n",
    "    bag_of_words = vec.transform(corpus)\n",
    "    sum_words = bag_of_words.sum(axis=0) \n",
    "    words_freq = [(word, sum_words[0, idx]) for word, idx in vec.vocabulary_.items()]\n",
    "    words_freq =sorted(words_freq, key = lambda x: x[1], reverse=True)\n",
    "    return words_freq[:n]\n",
    "common_words = get_top_n_bigram(new['document_lemma'], 20)\n",
    "for word, freq in common_words:\n",
    "    print(word, freq)\n",
    "df3 = pd.DataFrame(common_words, columns = ['text' , 'count'])\n",
    "plt.figure(figsize=(15,10))\n",
    "df3.groupby('text').sum()['count'].sort_values(ascending=False).plot(\n",
    "    kind='bar', title='Top 20 bigrams')\n",
    "plt.show()"
   ]
  },
  {
   "cell_type": "code",
   "execution_count": 40,
   "metadata": {},
   "outputs": [
    {
     "name": "stdout",
     "output_type": "stream",
     "text": [
      "got flu shot 122\n",
      "getting flu shot 79\n",
      "flu shot today 32\n",
      "cold flu season 26\n",
      "cold amp flu 26\n",
      "flu shot year 20\n",
      "free flu shot 17\n",
      "flu shot flu 16\n",
      "gotten flu shot 13\n",
      "flu shot clinic 13\n",
      "flu nearly killed 12\n",
      "nearly killed winter 12\n",
      "flu shot protect 12\n",
      "flu like symptom 11\n",
      "feel like flu 11\n",
      "fried chicken flu 11\n",
      "flu shot got 11\n",
      "border patrol refusing 10\n",
      "patrol refusing let 10\n",
      "refusing let doctor 10\n"
     ]
    },
    {
     "data": {
      "image/png": "[encoded data removed]",
      "text/plain": [
       "<Figure size 1080x720 with 1 Axes>"
      ]
     },
     "metadata": {},
     "output_type": "display_data"
    }
   ],
   "source": [
    "def get_top_n_trigram(corpus, n=None):\n",
    "    vec = CountVectorizer(stop_words = 'english', ngram_range=(3, 3)).fit(corpus)\n",
    "    bag_of_words = vec.transform(corpus)\n",
    "    sum_words = bag_of_words.sum(axis=0) \n",
    "    words_freq = [(word, sum_words[0, idx]) for word, idx in vec.vocabulary_.items()]\n",
    "    words_freq =sorted(words_freq, key = lambda x: x[1], reverse=True)\n",
    "    return words_freq[:n]\n",
    "common_words = get_top_n_trigram(new['document_lemma'], 20)\n",
    "for word, freq in common_words:\n",
    "    print(word, freq)\n",
    "df4 = pd.DataFrame(common_words, columns = ['text' , 'count'])\n",
    "plt.figure(figsize=(15,10))\n",
    "df4.groupby('text').sum()['count'].sort_values(ascending=False).plot(\n",
    "    kind='bar', title='Top 20 trigrams')\n",
    "plt.show()"
   ]
  },
  {
   "cell_type": "markdown",
   "metadata": {},
   "source": [
    "# Defining our bag of words\n",
    "\n",
    "### Using bag of words with our unique list of words and trying out lemmatized ,stemmed documents. Let's see which ones will get better scores. "
   ]
  },
  {
   "cell_type": "code",
   "execution_count": 41,
   "metadata": {},
   "outputs": [
    {
     "name": "stdout",
     "output_type": "stream",
     "text": [
      "There are 1395 features\n",
      "['abl', 'absolut', 'accept', 'accord', 'account', 'ach', 'across', 'act', 'action', 'activ', 'actual', 'acut', 'ad', 'add', 'adem', 'admin', 'administ', 'administr', 'admit', 'adult']\n"
     ]
    },
    {
     "data": {
      "text/html": [
       "<div>\n",
       "<style scoped>\n",
       "    .dataframe tbody tr th:only-of-type {\n",
       "        vertical-align: middle;\n",
       "    }\n",
       "\n",
       "    .dataframe tbody tr th {\n",
       "        vertical-align: top;\n",
       "    }\n",
       "\n",
       "    .dataframe thead th {\n",
       "        text-align: right;\n",
       "    }\n",
       "</style>\n",
       "<table border=\"1\" class=\"dataframe\">\n",
       "  <thead>\n",
       "    <tr style=\"text-align: right;\">\n",
       "      <th></th>\n",
       "      <th>abl</th>\n",
       "      <th>absolut</th>\n",
       "      <th>accept</th>\n",
       "      <th>accord</th>\n",
       "      <th>account</th>\n",
       "      <th>ach</th>\n",
       "      <th>across</th>\n",
       "      <th>act</th>\n",
       "      <th>action</th>\n",
       "      <th>activ</th>\n",
       "      <th>...</th>\n",
       "      <th>üíø</th>\n",
       "      <th>üòä</th>\n",
       "      <th>üòå</th>\n",
       "      <th>üòç</th>\n",
       "      <th>üòé</th>\n",
       "      <th>üòí</th>\n",
       "      <th>üòî</th>\n",
       "      <th>üòû</th>\n",
       "      <th>üôå</th>\n",
       "      <th>üôé</th>\n",
       "    </tr>\n",
       "  </thead>\n",
       "  <tbody>\n",
       "    <tr>\n",
       "      <td>0</td>\n",
       "      <td>0</td>\n",
       "      <td>0</td>\n",
       "      <td>0</td>\n",
       "      <td>0</td>\n",
       "      <td>0</td>\n",
       "      <td>0</td>\n",
       "      <td>0</td>\n",
       "      <td>0</td>\n",
       "      <td>0</td>\n",
       "      <td>0</td>\n",
       "      <td>...</td>\n",
       "      <td>0</td>\n",
       "      <td>0</td>\n",
       "      <td>0</td>\n",
       "      <td>0</td>\n",
       "      <td>0</td>\n",
       "      <td>0</td>\n",
       "      <td>0</td>\n",
       "      <td>0</td>\n",
       "      <td>0</td>\n",
       "      <td>0</td>\n",
       "    </tr>\n",
       "    <tr>\n",
       "      <td>1</td>\n",
       "      <td>0</td>\n",
       "      <td>0</td>\n",
       "      <td>0</td>\n",
       "      <td>0</td>\n",
       "      <td>0</td>\n",
       "      <td>0</td>\n",
       "      <td>0</td>\n",
       "      <td>0</td>\n",
       "      <td>0</td>\n",
       "      <td>0</td>\n",
       "      <td>...</td>\n",
       "      <td>0</td>\n",
       "      <td>0</td>\n",
       "      <td>0</td>\n",
       "      <td>0</td>\n",
       "      <td>0</td>\n",
       "      <td>0</td>\n",
       "      <td>0</td>\n",
       "      <td>0</td>\n",
       "      <td>0</td>\n",
       "      <td>0</td>\n",
       "    </tr>\n",
       "    <tr>\n",
       "      <td>2</td>\n",
       "      <td>0</td>\n",
       "      <td>0</td>\n",
       "      <td>0</td>\n",
       "      <td>0</td>\n",
       "      <td>0</td>\n",
       "      <td>0</td>\n",
       "      <td>0</td>\n",
       "      <td>0</td>\n",
       "      <td>0</td>\n",
       "      <td>0</td>\n",
       "      <td>...</td>\n",
       "      <td>0</td>\n",
       "      <td>0</td>\n",
       "      <td>0</td>\n",
       "      <td>0</td>\n",
       "      <td>0</td>\n",
       "      <td>0</td>\n",
       "      <td>0</td>\n",
       "      <td>0</td>\n",
       "      <td>0</td>\n",
       "      <td>0</td>\n",
       "    </tr>\n",
       "    <tr>\n",
       "      <td>3</td>\n",
       "      <td>0</td>\n",
       "      <td>0</td>\n",
       "      <td>0</td>\n",
       "      <td>0</td>\n",
       "      <td>0</td>\n",
       "      <td>0</td>\n",
       "      <td>0</td>\n",
       "      <td>0</td>\n",
       "      <td>0</td>\n",
       "      <td>0</td>\n",
       "      <td>...</td>\n",
       "      <td>0</td>\n",
       "      <td>0</td>\n",
       "      <td>0</td>\n",
       "      <td>0</td>\n",
       "      <td>0</td>\n",
       "      <td>0</td>\n",
       "      <td>0</td>\n",
       "      <td>0</td>\n",
       "      <td>0</td>\n",
       "      <td>0</td>\n",
       "    </tr>\n",
       "    <tr>\n",
       "      <td>4</td>\n",
       "      <td>0</td>\n",
       "      <td>0</td>\n",
       "      <td>0</td>\n",
       "      <td>0</td>\n",
       "      <td>0</td>\n",
       "      <td>0</td>\n",
       "      <td>0</td>\n",
       "      <td>0</td>\n",
       "      <td>0</td>\n",
       "      <td>0</td>\n",
       "      <td>...</td>\n",
       "      <td>0</td>\n",
       "      <td>0</td>\n",
       "      <td>0</td>\n",
       "      <td>0</td>\n",
       "      <td>0</td>\n",
       "      <td>0</td>\n",
       "      <td>0</td>\n",
       "      <td>0</td>\n",
       "      <td>0</td>\n",
       "      <td>0</td>\n",
       "    </tr>\n",
       "  </tbody>\n",
       "</table>\n",
       "<p>5 rows × 1395 columns</p>\n",
       "</div>"
      ],
      "text/plain": [
       "   abl  absolut  accept  accord  account  ach  across  act  action  activ  \\\n",
       "0    0        0       0       0        0    0       0    0       0      0   \n",
       "1    0        0       0       0        0    0       0    0       0      0   \n",
       "2    0        0       0       0        0    0       0    0       0      0   \n",
       "3    0        0       0       0        0    0       0    0       0      0   \n",
       "4    0        0       0       0        0    0       0    0       0      0   \n",
       "\n",
       "   ...  üíø  üòä  üòå  üòç  üòé  üòí  üòî  üòû  üôå  üôé  \n",
       "0  ...    0    0    0    0    0    0    0    0    0    0  \n",
       "1  ...    0    0    0    0    0    0    0    0    0    0  \n",
       "2  ...    0    0    0    0    0    0    0    0    0    0  \n",
       "3  ...    0    0    0    0    0    0    0    0    0    0  \n",
       "4  ...    0    0    0    0    0    0    0    0    0    0  \n",
       "\n",
       "[5 rows x 1395 columns]"
      ]
     },
     "execution_count": 41,
     "metadata": {},
     "output_type": "execute_result"
    }
   ],
   "source": [
    "from sklearn.feature_extraction import text\n",
    "#extended punctuation list\n",
    "punc = ['.', ',', '\"', \"'\", '?', '!', ':', ';', '(', ')', '[', ']', '{', '}',\"%\"]\n",
    "stop_words = text.ENGLISH_STOP_WORDS.union(punc)\n",
    "#stopwords_en = stopwords.words('english')\n",
    "\n",
    "#create a bag of words using CountVectorizer.\n",
    "vectorizer = CountVectorizer(vocabulary=list_unique,#max_features=2000,\n",
    "                                min_df=10, \n",
    "                             stop_words=stop_words,\n",
    "                             #tokenizer='callable',\n",
    "                             ngram_range=(1, 1),\n",
    "                            strip_accents='ascii')\n",
    "#remember \"document is from stemmed words\"\n",
    "X = vectorizer.fit_transform(new['document'])\n",
    "#extracting features \n",
    "columns = list(vectorizer.get_feature_names())\n",
    "print('There are {} features'.format(len(columns)))\n",
    "print(columns[0:20])\n",
    "\n",
    "# Convert bag of words to a dataframe\n",
    "count_vectordf = pd.DataFrame(X.toarray(), columns=columns)\n",
    "count_vectordf.head()"
   ]
  },
  {
   "cell_type": "markdown",
   "metadata": {},
   "source": [
    "### Splitting"
   ]
  },
  {
   "cell_type": "code",
   "execution_count": 42,
   "metadata": {},
   "outputs": [],
   "source": [
    "X_train, X_test, y_train, y_test = train_test_split(count_vectordf, new['label'], test_size=0.20, random_state=42)"
   ]
  },
  {
   "cell_type": "markdown",
   "metadata": {},
   "source": [
    "# Logistic Regression with BOW\n",
    "\n"
   ]
  },
  {
   "cell_type": "code",
   "execution_count": 43,
   "metadata": {},
   "outputs": [],
   "source": [
    "from sklearn.pipeline import make_pipeline\n",
    "from sklearn.model_selection import GridSearchCV\n",
    "from sklearn.metrics import confusion_matrix\n",
    "from sklearn.linear_model import LogisticRegression\n",
    "logreg = LogisticRegression(class_weight='balanced', solver='liblinear', random_state=0)\n",
    "param_grid = {'C': [0.01, 0.1, 1, 10, 100]}\n",
    "grid = GridSearchCV(logreg, param_grid, scoring='roc_auc', cv=5)\n",
    "logreg_train = grid.fit(X_train, y_train)"
   ]
  },
  {
   "cell_type": "code",
   "execution_count": 44,
   "metadata": {},
   "outputs": [
    {
     "name": "stdout",
     "output_type": "stream",
     "text": [
      "              precision    recall  f1-score   support\n",
      "\n",
      "           0       0.94      0.75      0.83       692\n",
      "           1       0.44      0.80      0.57       173\n",
      "\n",
      "    accuracy                           0.76       865\n",
      "   macro avg       0.69      0.77      0.70       865\n",
      "weighted avg       0.84      0.76      0.78       865\n",
      "\n",
      "AUC score: 0.7745664739884393\n",
      "Classification accuracy is:  0.7572254335260116\n"
     ]
    },
    {
     "data": {
      "image/png": "[encoded data removed]",
      "text/plain": [
       "<Figure size 432x288 with 1 Axes>"
      ]
     },
     "metadata": {},
     "output_type": "display_data"
    }
   ],
   "source": [
    "y_pred = logreg_train.predict(X_test)\n",
    "print(classification_report(y_test, y_pred))\n",
    "mat = confusion_matrix(y_test, y_pred)\n",
    "print('AUC score: {}'.format(roc_auc_score(y_test, y_pred)))\n",
    "print(\"Classification accuracy is: \", (mat[0][0] + mat[1][1]) / np.sum(mat))\n",
    "\n",
    "\n",
    "sns.heatmap(mat.T, square=True, annot=True, fmt='d', cmap= 'RdBu', cbar=False,\n",
    "            xticklabels=['no flu', 'flu'], yticklabels=['no flu', 'flu'])\n",
    "plt.xlabel('true label')\n",
    "plt.ylabel('predicted label');\n"
   ]
  },
  {
   "cell_type": "markdown",
   "metadata": {},
   "source": [
    "## Random Forest with BOW"
   ]
  },
  {
   "cell_type": "code",
   "execution_count": 45,
   "metadata": {},
   "outputs": [],
   "source": [
    "n_estimators = [100]\n",
    "max_depth = [5, 8]\n",
    "min_samples_split = [2, 3]\n",
    "min_samples_leaf = [1, 2] \n",
    "rfc = RandomForestClassifier(class_weight='balanced')\n",
    "param_grid = dict(n_estimators = n_estimators, max_depth = max_depth,  \n",
    "              min_samples_split = min_samples_split, \n",
    "             min_samples_leaf = min_samples_leaf)\n",
    "\n",
    "grid = GridSearchCV(rfc, param_grid, scoring='roc_auc', cv=5)\n",
    "random_forest = grid.fit(X_train, y_train)"
   ]
  },
  {
   "cell_type": "code",
   "execution_count": 46,
   "metadata": {},
   "outputs": [
    {
     "name": "stdout",
     "output_type": "stream",
     "text": [
      "              precision    recall  f1-score   support\n",
      "\n",
      "           0       0.96      0.66      0.78       692\n",
      "           1       0.39      0.88      0.54       173\n",
      "\n",
      "    accuracy                           0.70       865\n",
      "   macro avg       0.67      0.77      0.66       865\n",
      "weighted avg       0.84      0.70      0.73       865\n",
      "\n",
      "AUC score: 0.7695086705202312\n",
      "Classification accuracy is:  0.7040462427745665\n"
     ]
    },
    {
     "data": {
      "image/png": "[encoded data removed]",
      "text/plain": [
       "<Figure size 432x288 with 1 Axes>"
      ]
     },
     "metadata": {},
     "output_type": "display_data"
    }
   ],
   "source": [
    "y_pred = random_forest.predict(X_test)\n",
    "print(classification_report(y_test, y_pred))\n",
    "mat = confusion_matrix(y_test, y_pred)\n",
    "print('AUC score: {}'.format(roc_auc_score(y_test, y_pred)))\n",
    "print(\"Classification accuracy is: \", (mat[0][0] + mat[1][1]) / np.sum(mat))\n",
    "\n",
    "sns.heatmap(mat.T, square=True, annot=True, fmt='d', cmap= 'RdBu', cbar=False,\n",
    "            xticklabels=['no flu', 'flu'], yticklabels=['no flu', 'flu'])\n",
    "plt.xlabel('true label')\n",
    "plt.ylabel('predicted label');\n"
   ]
  },
  {
   "cell_type": "code",
   "execution_count": 47,
   "metadata": {},
   "outputs": [
    {
     "name": "stderr",
     "output_type": "stream",
     "text": [
      "/Library/Frameworks/Python.framework/Versions/3.7/lib/python3.7/site-packages/sklearn/ensemble/forest.py:245: FutureWarning: The default value of n_estimators will change from 10 in version 0.20 to 100 in 0.22.\n",
      "  \"10 in version 0.20 to 100 in 0.22.\", FutureWarning)\n"
     ]
    },
    {
     "name": "stdout",
     "output_type": "stream",
     "text": [
      "Feature ranking:\n",
      "1. feature 1066 (0.0823) shot\n",
      "2. feature 1265 (0.0286) vaccin\n",
      "3. feature 1037 (0.0214) season\n",
      "4. feature 443 (0.0180) feel\n",
      "5. feature 533 (0.0167) got\n",
      "6. feature 876 (0.0147) peopl\n",
      "7. feature 298 (0.0105) day\n",
      "8. feature 117 (0.0080) bed\n",
      "9. feature 1072 (0.0075) sick\n",
      "10. feature 226 (0.0074) cold\n",
      "11. feature 1149 (0.0073) suck\n",
      "12. feature 1198 (0.0071) think\n",
      "13. feature 698 (0.0070) like\n",
      "14. feature 1132 (0.0067) stomach\n",
      "15. feature 643 (0.0062) jab\n",
      "16. feature 499 (0.0062) fuck\n",
      "17. feature 1355 (0.0058) year\n",
      "18. feature 1304 (0.0054) week\n",
      "19. feature 592 (0.0052) hope\n",
      "20. feature 970 (0.0050) realli\n"
     ]
    },
    {
     "data": {
      "image/png": "[encoded data removed]",
      "text/plain": [
       "<Figure size 432x288 with 1 Axes>"
      ]
     },
     "metadata": {},
     "output_type": "display_data"
    }
   ],
   "source": [
    "#have to fit without Gridsearch to get feature importances\n",
    "rfc.fit(X_train, y_train)\n",
    "importances = rfc.feature_importances_\n",
    "indices = np.argsort(importances)[::-1]\n",
    "\n",
    "# Print the feature ranking\n",
    "print(\"Feature ranking:\")\n",
    "\n",
    "terms = vectorizer.get_feature_names()\n",
    "\n",
    "for f in range(20):\n",
    "    print('{}. feature {} ({:.4f}) {}'.format((f+1), indices[f], importances[indices[f]], terms[indices[f]]))\n",
    "\n",
    "# Plot the feature importances of the forest\n",
    "plt.figure()\n",
    "plt.title(\"Feature importances\")\n",
    "plt.bar(range(0,20), importances[indices][:20], color=\"r\", align=\"center\")\n",
    "plt.xticks(range(20), indices, rotation=90)\n",
    "plt.xlim([-1, 20])\n",
    "plt.show()"
   ]
  },
  {
   "cell_type": "markdown",
   "metadata": {},
   "source": [
    "# Naive Bayes with BOW"
   ]
  },
  {
   "cell_type": "code",
   "execution_count": 48,
   "metadata": {},
   "outputs": [],
   "source": [
    "naive_bayes = MultinomialNB()\n",
    "param_grid = {'alpha':[1, 1e-1, 1e-2] }\n",
    "\n",
    "grid = GridSearchCV(naive_bayes, param_grid, scoring='roc_auc', cv=5)\n",
    "nb = grid.fit(X_train, y_train)\n"
   ]
  },
  {
   "cell_type": "code",
   "execution_count": 49,
   "metadata": {},
   "outputs": [
    {
     "name": "stdout",
     "output_type": "stream",
     "text": [
      "              precision    recall  f1-score   support\n",
      "\n",
      "           0       0.89      0.90      0.89       692\n",
      "           1       0.57      0.54      0.55       173\n",
      "\n",
      "    accuracy                           0.83       865\n",
      "   macro avg       0.73      0.72      0.72       865\n",
      "weighted avg       0.82      0.83      0.82       865\n",
      "\n",
      "AUC score: 0.7174855491329479\n",
      "Classification accuracy is:  0.8254335260115607\n"
     ]
    },
    {
     "data": {
      "image/png": "[encoded data removed]",
      "text/plain": [
       "<Figure size 432x288 with 1 Axes>"
      ]
     },
     "metadata": {},
     "output_type": "display_data"
    }
   ],
   "source": [
    "y_pred = nb.predict(X_test)\n",
    "print(classification_report(y_test, y_pred))\n",
    "mat = confusion_matrix(y_test, y_pred)\n",
    "print('AUC score: {}'.format(roc_auc_score(y_test, y_pred)))\n",
    "print(\"Classification accuracy is: \", (mat[0][0] + mat[1][1]) / np.sum(mat))\n",
    "\n",
    "sns.heatmap(mat.T, square=True, annot=True, fmt='d', cmap= 'RdBu', cbar=False,\n",
    "            xticklabels=['no flu', 'flu'], yticklabels=['no flu', 'flu'])\n",
    "plt.xlabel('true label')\n",
    "plt.ylabel('predicted label');\n"
   ]
  },
  {
   "cell_type": "markdown",
   "metadata": {},
   "source": [
    "# Not bad for our a small dataset. But there's more things to try. This time we'll take our lemmatized words and see if it improves scores"
   ]
  },
  {
   "cell_type": "code",
   "execution_count": 50,
   "metadata": {},
   "outputs": [],
   "source": [
    "cv=CountVectorizer(strip_accents='ascii')\n",
    "\n",
    "count_vector=cv.fit_transform(new['document_lemma'])\n",
    "count_vectordf= pd.DataFrame(count_vector.toarray())\n",
    "count_vectordf.columns= cv.get_feature_names()\n",
    "X_train, X_test, y_train, y_test = train_test_split(count_vectordf, new['label'], test_size=0.20, random_state=42)"
   ]
  },
  {
   "cell_type": "markdown",
   "metadata": {},
   "source": [
    "## Logistic Regression with BOW Lemma"
   ]
  },
  {
   "cell_type": "code",
   "execution_count": 51,
   "metadata": {},
   "outputs": [],
   "source": [
    "logreg = LogisticRegression(class_weight='balanced', solver= 'liblinear', random_state=0)\n",
    "param_grid = {'C': [0.01, 0.1, 1, 10, 100]}\n",
    "grid = GridSearchCV(logreg, param_grid, scoring='roc_auc', cv=5)\n",
    "logreg_train = grid.fit(X_train, y_train)"
   ]
  },
  {
   "cell_type": "code",
   "execution_count": 52,
   "metadata": {},
   "outputs": [
    {
     "name": "stdout",
     "output_type": "stream",
     "text": [
      "{'C': 1}\n"
     ]
    }
   ],
   "source": [
    "print(grid.best_params_)"
   ]
  },
  {
   "cell_type": "code",
   "execution_count": 53,
   "metadata": {},
   "outputs": [
    {
     "name": "stdout",
     "output_type": "stream",
     "text": [
      "              precision    recall  f1-score   support\n",
      "\n",
      "           0       0.95      0.85      0.90       692\n",
      "           1       0.59      0.83      0.69       173\n",
      "\n",
      "    accuracy                           0.85       865\n",
      "   macro avg       0.77      0.84      0.79       865\n",
      "weighted avg       0.88      0.85      0.86       865\n",
      "\n",
      "AUC score: 0.8424855491329479\n",
      "Classification accuracy is:  0.8485549132947977\n"
     ]
    },
    {
     "data": {
      "image/png": "[encoded data removed]",
      "text/plain": [
       "<Figure size 432x288 with 1 Axes>"
      ]
     },
     "metadata": {},
     "output_type": "display_data"
    }
   ],
   "source": [
    "y_pred = logreg_train.predict(X_test)\n",
    "print(classification_report(y_test, y_pred))\n",
    "mat = confusion_matrix(y_test, y_pred)\n",
    "print('AUC score: {}'.format(roc_auc_score(y_test, y_pred)))\n",
    "print(\"Classification accuracy is: \", (mat[0][0] + mat[1][1]) / np.sum(mat))\n",
    "\n",
    "\n",
    "sns.heatmap(mat.T, square=True, annot=True, fmt='d', cmap= 'RdBu', cbar=False,\n",
    "            xticklabels=['no flu', 'flu'], yticklabels=['no flu', 'flu'])\n",
    "plt.xlabel('true label')\n",
    "plt.ylabel('predicted label');\n"
   ]
  },
  {
   "cell_type": "markdown",
   "metadata": {},
   "source": [
    "## Random Forest with BOW Lemma"
   ]
  },
  {
   "cell_type": "code",
   "execution_count": 54,
   "metadata": {},
   "outputs": [],
   "source": [
    "n_estimators = [100, 200]\n",
    "max_depth = [5, 8, 15]\n",
    "min_samples_split = [2, 5, 10]\n",
    "min_samples_leaf = [1, 2, 5] \n",
    "rfc = RandomForestClassifier(class_weight='balanced')\n",
    "param_grid = dict(n_estimators = n_estimators, max_depth = max_depth,  \n",
    "              min_samples_split = min_samples_split, \n",
    "             min_samples_leaf = min_samples_leaf)\n",
    "\n",
    "grid = GridSearchCV(rfc, param_grid, scoring='roc_auc', cv=5)\n",
    "random_forest = grid.fit(X_train, y_train)"
   ]
  },
  {
   "cell_type": "code",
   "execution_count": 55,
   "metadata": {},
   "outputs": [
    {
     "name": "stdout",
     "output_type": "stream",
     "text": [
      "              precision    recall  f1-score   support\n",
      "\n",
      "           0       0.96      0.82      0.88       692\n",
      "           1       0.55      0.87      0.67       173\n",
      "\n",
      "    accuracy                           0.83       865\n",
      "   macro avg       0.75      0.85      0.78       865\n",
      "weighted avg       0.88      0.83      0.84       865\n",
      "\n",
      "AUC score: 0.8453757225433526\n",
      "Classification accuracy is:  0.8289017341040462\n"
     ]
    },
    {
     "data": {
      "image/png": "[encoded data removed]",
      "text/plain": [
       "<Figure size 432x288 with 1 Axes>"
      ]
     },
     "metadata": {},
     "output_type": "display_data"
    }
   ],
   "source": [
    "y_pred = random_forest.predict(X_test)\n",
    "print(classification_report(y_test, y_pred))\n",
    "mat = confusion_matrix(y_test, y_pred)\n",
    "print('AUC score: {}'.format(roc_auc_score(y_test, y_pred)))\n",
    "print(\"Classification accuracy is: \", (mat[0][0] + mat[1][1]) / np.sum(mat))\n",
    "\n",
    "sns.heatmap(mat.T, square=True, annot=True, fmt='d', cmap= 'RdBu', cbar=False,\n",
    "            xticklabels=['no flu', 'flu'], yticklabels=['no flu', 'flu'])\n",
    "plt.xlabel('true label')\n",
    "plt.ylabel('predicted label');"
   ]
  },
  {
   "cell_type": "code",
   "execution_count": 56,
   "metadata": {},
   "outputs": [
    {
     "name": "stderr",
     "output_type": "stream",
     "text": [
      "/Library/Frameworks/Python.framework/Versions/3.7/lib/python3.7/site-packages/sklearn/ensemble/forest.py:245: FutureWarning: The default value of n_estimators will change from 10 in version 0.20 to 100 in 0.22.\n",
      "  \"10 in version 0.20 to 100 in 0.22.\", FutureWarning)\n"
     ]
    },
    {
     "name": "stdout",
     "output_type": "stream",
     "text": [
      "Feature ranking:\n",
      "1. feature 2241 (0.1081) flu\n",
      "2. feature 5388 (0.0571) shot\n",
      "3. feature 6437 (0.0141) vaccine\n",
      "4. feature 5263 (0.0137) season\n",
      "5. feature 2470 (0.0127) get\n",
      "6. feature 2543 (0.0097) got\n",
      "7. feature 2136 (0.0074) feel\n",
      "8. feature 1467 (0.0064) day\n",
      "9. feature 5416 (0.0063) sick\n",
      "10. feature 4413 (0.0062) people\n",
      "11. feature 599 (0.0061) better\n",
      "12. feature 558 (0.0053) bed\n",
      "13. feature 1104 (0.0053) cold\n",
      "14. feature 6824 (0.0051) year\n",
      "15. feature 6048 (0.0048) think\n",
      "16. feature 2359 (0.0048) free\n",
      "17. feature 5730 (0.0047) stomach\n",
      "18. feature 3149 (0.0047) ive\n",
      "19. feature 2473 (0.0047) getting\n",
      "20. feature 3460 (0.0047) like\n"
     ]
    },
    {
     "data": {
      "image/png": "[encoded data removed]",
      "text/plain": [
       "<Figure size 432x288 with 1 Axes>"
      ]
     },
     "metadata": {},
     "output_type": "display_data"
    }
   ],
   "source": [
    "rfc.fit(X_train, y_train)\n",
    "importances = rfc.feature_importances_\n",
    "indices = np.argsort(importances)[::-1]\n",
    "\n",
    "# Print the feature ranking\n",
    "print(\"Feature ranking:\")\n",
    "\n",
    "terms = cv.get_feature_names()\n",
    "\n",
    "for f in range(20):\n",
    "    print('{}. feature {} ({:.4f}) {}'.format((f+1), indices[f], importances[indices[f]], terms[indices[f]]))\n",
    "\n",
    "# Plot the feature importances of the forest\n",
    "plt.figure()\n",
    "plt.title(\"Feature importances\")\n",
    "plt.bar(range(0,20), importances[indices][:20], color=\"r\", align=\"center\")\n",
    "plt.xticks(range(20), indices, rotation=90)\n",
    "plt.xlim([-1, 20])\n",
    "plt.show()"
   ]
  },
  {
   "cell_type": "markdown",
   "metadata": {},
   "source": [
    "# Naive Bayes with BOW Lemma"
   ]
  },
  {
   "cell_type": "code",
   "execution_count": 57,
   "metadata": {},
   "outputs": [],
   "source": [
    "naive_bayes = MultinomialNB()\n",
    "param_grid = {'alpha':[1, 1e-1, 1e-2] }\n",
    "\n",
    "grid = GridSearchCV(naive_bayes, param_grid, scoring='roc_auc', cv=5)\n",
    "nb = grid.fit(X_train, y_train)\n"
   ]
  },
  {
   "cell_type": "code",
   "execution_count": 58,
   "metadata": {},
   "outputs": [
    {
     "name": "stdout",
     "output_type": "stream",
     "text": [
      "              precision    recall  f1-score   support\n",
      "\n",
      "           0       0.91      0.81      0.85       692\n",
      "           1       0.46      0.67      0.55       173\n",
      "\n",
      "    accuracy                           0.78       865\n",
      "   macro avg       0.69      0.74      0.70       865\n",
      "weighted avg       0.82      0.78      0.79       865\n",
      "\n",
      "AUC score: 0.7384393063583814\n",
      "Classification accuracy is:  0.7791907514450868\n"
     ]
    },
    {
     "data": {
      "image/png": "[encoded data removed]",
      "text/plain": [
       "<Figure size 432x288 with 1 Axes>"
      ]
     },
     "metadata": {},
     "output_type": "display_data"
    }
   ],
   "source": [
    "y_pred = nb.predict(X_test)\n",
    "print(classification_report(y_test, y_pred))\n",
    "mat = confusion_matrix(y_test, y_pred)\n",
    "print('AUC score: {}'.format(roc_auc_score(y_test, y_pred)))\n",
    "print(\"Classification accuracy is: \", (mat[0][0] + mat[1][1]) / np.sum(mat))\n",
    "\n",
    "sns.heatmap(mat.T, square=True, annot=True, fmt='d', cmap= 'RdBu', cbar=False,\n",
    "            xticklabels=['no flu', 'flu'], yticklabels=['no flu', 'flu'])\n",
    "plt.xlabel('true label')\n",
    "plt.ylabel('predicted label');\n"
   ]
  },
  {
   "cell_type": "markdown",
   "metadata": {},
   "source": [
    "## Logistic Regression with Lemmatized document and BOW gave us the best scores. I want to fine tune it to see if we can improve these scores a little more. "
   ]
  },
  {
   "cell_type": "code",
   "execution_count": 59,
   "metadata": {},
   "outputs": [],
   "source": [
    "cv=CountVectorizer(strip_accents='ascii')\n",
    "\n",
    "count_vector=cv.fit_transform(new['document_lemma'])\n",
    "count_vectordf= pd.DataFrame(count_vector.toarray())\n",
    "count_vectordf.columns= cv.get_feature_names()\n",
    "X_train, X_test, y_train, y_test = train_test_split(count_vectordf, new['label'], test_size=0.20, random_state=42)"
   ]
  },
  {
   "cell_type": "code",
   "execution_count": 60,
   "metadata": {},
   "outputs": [
    {
     "name": "stdout",
     "output_type": "stream",
     "text": [
      "{'C': 1, 'max_iter': 100, 'penalty': 'l2'}\n"
     ]
    }
   ],
   "source": [
    "logreg = LogisticRegression( solver ='liblinear', class_weight='balanced', random_state=0)\n",
    "\n",
    "\n",
    "param_grid = {'C': [0.01, 0.1, 1, 10, 100],\n",
    "             'penalty': ['l1', 'l2'],\n",
    "              'max_iter': [100, 200, 250, 500]}\n",
    "\n",
    "\n",
    "\n",
    "\n",
    "grid = GridSearchCV(logreg, param_grid, scoring='roc_auc', cv=5)\n",
    "logreg_train = grid.fit(X_train, y_train)\n",
    "print(grid.best_params_)"
   ]
  },
  {
   "cell_type": "code",
   "execution_count": 61,
   "metadata": {},
   "outputs": [
    {
     "name": "stdout",
     "output_type": "stream",
     "text": [
      "              precision    recall  f1-score   support\n",
      "\n",
      "           0       0.95      0.85      0.90       692\n",
      "           1       0.59      0.83      0.69       173\n",
      "\n",
      "    accuracy                           0.85       865\n",
      "   macro avg       0.77      0.84      0.79       865\n",
      "weighted avg       0.88      0.85      0.86       865\n",
      "\n",
      "AUC score: 0.8424855491329479\n",
      "Classification accuracy is:  0.8485549132947977\n"
     ]
    },
    {
     "data": {
      "image/png": "[encoded data removed]",
      "text/plain": [
       "<Figure size 432x288 with 1 Axes>"
      ]
     },
     "metadata": {},
     "output_type": "display_data"
    }
   ],
   "source": [
    "y_pred = logreg_train.predict(X_test)\n",
    "print(classification_report(y_test, y_pred))\n",
    "mat = confusion_matrix(y_test, y_pred)\n",
    "print('AUC score: {}'.format(roc_auc_score(y_test, y_pred)))\n",
    "print(\"Classification accuracy is: \", (mat[0][0] + mat[1][1]) / np.sum(mat))\n",
    "\n",
    "\n",
    "sns.heatmap(mat.T, square=True, annot=True, fmt='d', cmap= 'RdBu', cbar=False,\n",
    "            xticklabels=['no flu', 'flu'], yticklabels=['no flu', 'flu'])\n",
    "plt.xlabel('true label')\n",
    "plt.ylabel('predicted label');\n"
   ]
  },
  {
   "cell_type": "markdown",
   "metadata": {},
   "source": [
    "# Using TF-IDF"
   ]
  },
  {
   "cell_type": "code",
   "execution_count": 62,
   "metadata": {},
   "outputs": [
    {
     "name": "stdout",
     "output_type": "stream",
     "text": [
      "Number of features: 1000\n"
     ]
    }
   ],
   "source": [
    "# Split original into train and test, used to look at text later\n",
    "from sklearn.feature_extraction import text\n",
    "punc = ['.', ',', '\"', \"'\", '?', '!', ':', ';', '(', ')', '[', ']', '{', '}',\"%\", 'pron']\n",
    "stop_words = text.ENGLISH_STOP_WORDS.union(punc)\n",
    "\n",
    "\n",
    "X_train, X_test, y_train, y_test = train_test_split(new['document_lemma'], \n",
    "                                                    new['label'], \n",
    "                                                    test_size=0.25, \n",
    "                                                    random_state=0)\n",
    "\n",
    "#creating our Tf_idf vectorizer\n",
    "vectorizer_tfidf = TfidfVectorizer(#vocabulary= list_unique,\n",
    "    max_features= 1000, # drop words that occur in more than this % of paragraphs\n",
    "                             #min_df=1# only use words that appear at least 10 times\n",
    "                             stop_words=stop_words, \n",
    "                             lowercase=True, #convert everything to lower case\n",
    "                             use_idf=True,#we definitely want to use inverse document frequencies in our weighting\n",
    "                             norm=u'l2', #Applies a correction factor so that longer paragraphs and shorter paragraphs get treated equally\n",
    "                             smooth_idf=True ,#Adds 1 to all document frequencies, as if an extra document existed that used every word once.  Prevents divide-by-zero errors\n",
    "                            strip_accents= 'ascii')\n",
    "\n",
    "\n",
    "# Fit and transform training data set, only transform test\n",
    "X_train_tfidf = vectorizer_tfidf.fit_transform(X_train)\n",
    "X_test_tfidf = vectorizer_tfidf.transform(X_test)\n",
    "\n",
    "print(\"Number of features: %d\" % X_train_tfidf.get_shape()[1])"
   ]
  },
  {
   "cell_type": "markdown",
   "metadata": {},
   "source": [
    "## Random Forest Tf-IDF"
   ]
  },
  {
   "cell_type": "code",
   "execution_count": 63,
   "metadata": {},
   "outputs": [],
   "source": [
    "n_estimators = [100, 200]\n",
    "max_depth = [5, 8, 15]\n",
    "min_samples_split = [2, 5, 10]\n",
    "min_samples_leaf = [1, 2, 5] \n",
    "rfc = RandomForestClassifier(class_weight='balanced')\n",
    "param_grid = dict(n_estimators = n_estimators, max_depth = max_depth,  \n",
    "              min_samples_split = min_samples_split, \n",
    "             min_samples_leaf = min_samples_leaf)\n",
    "\n",
    "grid = GridSearchCV(rfc, param_grid, scoring='roc_auc', cv=5)\n",
    "random_forest = grid.fit(X_train_tfidf, y_train)"
   ]
  },
  {
   "cell_type": "code",
   "execution_count": 64,
   "metadata": {},
   "outputs": [
    {
     "name": "stdout",
     "output_type": "stream",
     "text": [
      "              precision    recall  f1-score   support\n",
      "\n",
      "           0       0.96      0.75      0.84       848\n",
      "           1       0.50      0.89      0.64       233\n",
      "\n",
      "    accuracy                           0.78      1081\n",
      "   macro avg       0.73      0.82      0.74      1081\n",
      "weighted avg       0.86      0.78      0.80      1081\n",
      "\n",
      "AUC score: 0.8209748765082193\n",
      "Classification accuracy is:  0.782608695652174\n"
     ]
    },
    {
     "data": {
      "image/png": "[encoded data removed]",
      "text/plain": [
       "<Figure size 432x288 with 1 Axes>"
      ]
     },
     "metadata": {},
     "output_type": "display_data"
    }
   ],
   "source": [
    "y_pred = random_forest.predict(X_test_tfidf)\n",
    "print(classification_report(y_test, y_pred))\n",
    "mat = confusion_matrix(y_test, y_pred)\n",
    "print('AUC score: {}'.format(roc_auc_score(y_test, y_pred)))\n",
    "print(\"Classification accuracy is: \", (mat[0][0] + mat[1][1]) / np.sum(mat))\n",
    "\n",
    "sns.heatmap(mat.T, square=True, annot=True, fmt='d', cmap= 'RdBu', cbar=False,\n",
    "            xticklabels=['no flu', 'flu'], yticklabels=['no flu', 'flu'])\n",
    "plt.xlabel('true label')\n",
    "plt.ylabel('predicted label');"
   ]
  },
  {
   "cell_type": "code",
   "execution_count": 65,
   "metadata": {},
   "outputs": [
    {
     "name": "stderr",
     "output_type": "stream",
     "text": [
      "/Library/Frameworks/Python.framework/Versions/3.7/lib/python3.7/site-packages/sklearn/ensemble/forest.py:245: FutureWarning: The default value of n_estimators will change from 10 in version 0.20 to 100 in 0.22.\n",
      "  \"10 in version 0.20 to 100 in 0.22.\", FutureWarning)\n"
     ]
    },
    {
     "name": "stdout",
     "output_type": "stream",
     "text": [
      "Feature ranking:\n",
      "1. feature 308 (0.1533) flu\n",
      "2. feature 749 (0.0818) shot\n",
      "3. feature 729 (0.0181) season\n",
      "4. feature 926 (0.0178) vaccine\n",
      "5. feature 356 (0.0177) got\n",
      "6. feature 956 (0.0166) week\n",
      "7. feature 190 (0.0163) day\n",
      "8. feature 293 (0.0132) feel\n",
      "9. feature 67 (0.0100) bed\n",
      "10. feature 142 (0.0092) cold\n",
      "11. feature 859 (0.0087) think\n",
      "12. feature 447 (0.0076) ive\n",
      "13. feature 611 (0.0075) people\n",
      "14. feature 487 (0.0074) like\n",
      "15. feature 800 (0.0074) stomach\n",
      "16. feature 59 (0.0072) bad\n",
      "17. feature 344 (0.0071) getting\n",
      "18. feature 297 (0.0070) fever\n",
      "19. feature 752 (0.0069) sick\n",
      "20. feature 23 (0.0069) amp\n"
     ]
    },
    {
     "data": {
      "image/png": "[encoded data removed]",
      "text/plain": [
       "<Figure size 432x288 with 1 Axes>"
      ]
     },
     "metadata": {},
     "output_type": "display_data"
    }
   ],
   "source": [
    "rfc.fit(X_train_tfidf, y_train)\n",
    "importances = rfc.feature_importances_\n",
    "indices = np.argsort(importances)[::-1]\n",
    "\n",
    "# Print the feature ranking\n",
    "print(\"Feature ranking:\")\n",
    "\n",
    "terms = vectorizer_tfidf.get_feature_names()\n",
    "\n",
    "for f in range(20):\n",
    "    print('{}. feature {} ({:.4f}) {}'.format((f+1), indices[f], importances[indices[f]], terms[indices[f]]))\n",
    "\n",
    "# Plot the feature importances of the forest\n",
    "plt.figure()\n",
    "plt.title(\"Feature importances\")\n",
    "plt.bar(range(0,20), importances[indices][:20], color=\"r\", align=\"center\")\n",
    "plt.xticks(range(20), indices, rotation=90)\n",
    "plt.xlim([-1, 20])\n",
    "plt.show()"
   ]
  },
  {
   "cell_type": "markdown",
   "metadata": {},
   "source": [
    "## Logistic Regression with TF-IDF"
   ]
  },
  {
   "cell_type": "code",
   "execution_count": 66,
   "metadata": {},
   "outputs": [],
   "source": [
    "logreg = LogisticRegression(class_weight='balanced', solver= 'liblinear', random_state=0)\n",
    "param_grid = {'C': [0.01, 0.1, 1, 10, 100]}\n",
    "grid = GridSearchCV(logreg, param_grid, scoring='roc_auc', cv=5)\n",
    "logreg_train = grid.fit(X_train_tfidf, y_train)"
   ]
  },
  {
   "cell_type": "code",
   "execution_count": 67,
   "metadata": {},
   "outputs": [
    {
     "name": "stdout",
     "output_type": "stream",
     "text": [
      "              precision    recall  f1-score   support\n",
      "\n",
      "           0       0.94      0.83      0.88       848\n",
      "           1       0.57      0.80      0.67       233\n",
      "\n",
      "    accuracy                           0.83      1081\n",
      "   macro avg       0.75      0.82      0.77      1081\n",
      "weighted avg       0.86      0.83      0.84      1081\n",
      "\n",
      "AUC score: 0.8165944610899668\n",
      "Classification accuracy is:  0.8270120259019427\n"
     ]
    },
    {
     "data": {
      "image/png": "[encoded data removed]",
      "text/plain": [
       "<Figure size 432x288 with 1 Axes>"
      ]
     },
     "metadata": {},
     "output_type": "display_data"
    }
   ],
   "source": [
    "y_pred = logreg_train.predict(X_test_tfidf)\n",
    "print(classification_report(y_test, y_pred))\n",
    "mat = confusion_matrix(y_test, y_pred)\n",
    "print('AUC score: {}'.format(roc_auc_score(y_test, y_pred)))\n",
    "print(\"Classification accuracy is: \", (mat[0][0] + mat[1][1]) / np.sum(mat))\n",
    "\n",
    "\n",
    "sns.heatmap(mat.T, square=True, annot=True, fmt='d', cmap= 'RdBu', cbar=False,\n",
    "            xticklabels=['no flu', 'flu'], yticklabels=['no flu', 'flu'])\n",
    "plt.xlabel('true label')\n",
    "plt.ylabel('predicted label');\n"
   ]
  },
  {
   "cell_type": "markdown",
   "metadata": {},
   "source": [
    "## Naive Bayes with TF-IDF"
   ]
  },
  {
   "cell_type": "code",
   "execution_count": 68,
   "metadata": {},
   "outputs": [],
   "source": [
    "naive_bayes = MultinomialNB()\n",
    "param_grid = {'alpha':[1, 1e-1, 1e-2] }\n",
    "\n",
    "grid = GridSearchCV(naive_bayes, param_grid, scoring='roc_auc', cv=5)\n",
    "nb = grid.fit(X_train_tfidf, y_train)\n"
   ]
  },
  {
   "cell_type": "code",
   "execution_count": 69,
   "metadata": {},
   "outputs": [
    {
     "name": "stdout",
     "output_type": "stream",
     "text": [
      "              precision    recall  f1-score   support\n",
      "\n",
      "           0       0.83      0.96      0.89       848\n",
      "           1       0.66      0.27      0.38       233\n",
      "\n",
      "    accuracy                           0.81      1081\n",
      "   macro avg       0.75      0.62      0.64      1081\n",
      "weighted avg       0.79      0.81      0.78      1081\n",
      "\n",
      "AUC score: 0.6163252085189084\n",
      "Classification accuracy is:  0.81313598519889\n"
     ]
    },
    {
     "data": {
      "image/png": "[encoded data removed]",
      "text/plain": [
       "<Figure size 432x288 with 1 Axes>"
      ]
     },
     "metadata": {},
     "output_type": "display_data"
    }
   ],
   "source": [
    "y_pred = nb.predict(X_test_tfidf)\n",
    "print(classification_report(y_test, y_pred))\n",
    "mat = confusion_matrix(y_test, y_pred)\n",
    "print('AUC score: {}'.format(roc_auc_score(y_test, y_pred)))\n",
    "print(\"Classification accuracy is: \", (mat[0][0] + mat[1][1]) / np.sum(mat))\n",
    "\n",
    "sns.heatmap(mat.T, square=True, annot=True, fmt='d', cmap= 'RdBu', cbar=False,\n",
    "            xticklabels=['no flu', 'flu'], yticklabels=['no flu', 'flu'])\n",
    "plt.xlabel('true label')\n",
    "plt.ylabel('predicted label');"
   ]
  },
  {
   "cell_type": "markdown",
   "metadata": {},
   "source": [
    "# Bigrams"
   ]
  },
  {
   "cell_type": "code",
   "execution_count": 70,
   "metadata": {},
   "outputs": [],
   "source": [
    "# Using bigrams \n",
    "cv=CountVectorizer(ngram_range=(2, 2))\n",
    "count_vector= cv.fit_transform(new['document_lemma'])\n",
    "count_vectordf= pd.DataFrame(count_vector.toarray())\n",
    "count_vectordf.columns= cv.get_feature_names()"
   ]
  },
  {
   "cell_type": "code",
   "execution_count": 71,
   "metadata": {},
   "outputs": [],
   "source": [
    "X= count_vectordf\n",
    "X_train, X_test, y_train, y_test = train_test_split(X, new['label'], test_size=0.20, random_state=42)"
   ]
  },
  {
   "cell_type": "markdown",
   "metadata": {},
   "source": [
    "## Random Forest with Bigrams"
   ]
  },
  {
   "cell_type": "code",
   "execution_count": 72,
   "metadata": {},
   "outputs": [],
   "source": [
    "n_estimators = [100, 200]\n",
    "max_depth = [5, 8, 15]\n",
    "min_samples_split = [2, 5, 10]\n",
    "min_samples_leaf = [1, 2, 5] \n",
    "rfc = RandomForestClassifier(class_weight='balanced')\n",
    "param_grid = dict(n_estimators = n_estimators, max_depth = max_depth,  \n",
    "              min_samples_split = min_samples_split, \n",
    "             min_samples_leaf = min_samples_leaf)\n",
    "\n",
    "grid = GridSearchCV(rfc, param_grid, scoring='roc_auc', cv=5)\n",
    "random_forest = grid.fit(X_train, y_train)"
   ]
  },
  {
   "cell_type": "code",
   "execution_count": 73,
   "metadata": {},
   "outputs": [
    {
     "name": "stdout",
     "output_type": "stream",
     "text": [
      "              precision    recall  f1-score   support\n",
      "\n",
      "           0       0.87      0.96      0.91       692\n",
      "           1       0.70      0.40      0.51       173\n",
      "\n",
      "    accuracy                           0.85       865\n",
      "   macro avg       0.78      0.68      0.71       865\n",
      "weighted avg       0.83      0.85      0.83       865\n",
      "\n",
      "AUC score: 0.6806358381502892\n",
      "Classification accuracy is:  0.846242774566474\n"
     ]
    },
    {
     "data": {
      "image/png": "[encoded data removed]",
      "text/plain": [
       "<Figure size 432x288 with 1 Axes>"
      ]
     },
     "metadata": {},
     "output_type": "display_data"
    }
   ],
   "source": [
    "y_pred = random_forest.predict(X_test)\n",
    "print(classification_report(y_test, y_pred))\n",
    "mat = confusion_matrix(y_test, y_pred)\n",
    "print('AUC score: {}'.format(roc_auc_score(y_test, y_pred)))\n",
    "print(\"Classification accuracy is: \", (mat[0][0] + mat[1][1]) / np.sum(mat))\n",
    "\n",
    "sns.heatmap(mat.T, square=True, annot=True, fmt='d', cmap= 'RdBu', cbar=False,\n",
    "            xticklabels=['no flu', 'flu'], yticklabels=['no flu', 'flu'])\n",
    "plt.xlabel('true label')\n",
    "plt.ylabel('predicted label');"
   ]
  },
  {
   "cell_type": "code",
   "execution_count": 74,
   "metadata": {},
   "outputs": [
    {
     "name": "stderr",
     "output_type": "stream",
     "text": [
      "/Library/Frameworks/Python.framework/Versions/3.7/lib/python3.7/site-packages/sklearn/ensemble/forest.py:245: FutureWarning: The default value of n_estimators will change from 10 in version 0.20 to 100 in 0.22.\n",
      "  \"10 in version 0.20 to 100 in 0.22.\", FutureWarning)\n"
     ]
    },
    {
     "name": "stdout",
     "output_type": "stream",
     "text": [
      "Feature ranking:\n",
      "1. feature 6861 (0.0546) flu shot\n",
      "2. feature 8279 (0.0136) got flu\n",
      "3. feature 6841 (0.0132) flu season\n",
      "4. feature 7012 (0.0122) flu vaccine\n",
      "5. feature 5943 (0.0069) feel like\n",
      "6. feature 7732 (0.0059) get flu\n",
      "7. feature 17140 (0.0057) sick flu\n",
      "8. feature 19103 (0.0055) think flu\n",
      "9. feature 6924 (0.0050) flu suck\n",
      "10. feature 7469 (0.0049) fuck flu\n",
      "11. feature 18077 (0.0047) stomach flu\n",
      "12. feature 7868 (0.0046) getting flu\n",
      "13. feature 2592 (0.0046) caught flu\n",
      "14. feature 7633 (0.0042) gave flu\n",
      "15. feature 9233 (0.0039) home flu\n",
      "16. feature 3914 (0.0039) damn flu\n",
      "17. feature 19466 (0.0037) today flu\n",
      "18. feature 6907 (0.0035) flu still\n",
      "19. feature 6432 (0.0033) flu day\n",
      "20. feature 2200 (0.0033) bruh flu\n"
     ]
    },
    {
     "data": {
      "image/png": "[encoded data removed]",
      "text/plain": [
       "<Figure size 432x288 with 1 Axes>"
      ]
     },
     "metadata": {},
     "output_type": "display_data"
    }
   ],
   "source": [
    "rfc.fit(X_train, y_train)\n",
    "importances = rfc.feature_importances_\n",
    "indices = np.argsort(importances)[::-1]\n",
    "\n",
    "# Print the feature ranking\n",
    "print(\"Feature ranking:\")\n",
    "\n",
    "terms = cv.get_feature_names()\n",
    "\n",
    "for f in range(20):\n",
    "    print('{}. feature {} ({:.4f}) {}'.format((f+1), indices[f], importances[indices[f]], terms[indices[f]]))\n",
    "\n",
    "# Plot the feature importances of the forest\n",
    "plt.figure()\n",
    "plt.title(\"Feature importances\")\n",
    "plt.bar(range(0,20), importances[indices][:20], color=\"r\", align=\"center\")\n",
    "plt.xticks(range(20), indices, rotation=90)\n",
    "plt.xlim([-1, 20])\n",
    "plt.show()"
   ]
  },
  {
   "cell_type": "markdown",
   "metadata": {},
   "source": [
    "## Logistic Regression with Bigrams"
   ]
  },
  {
   "cell_type": "code",
   "execution_count": 75,
   "metadata": {},
   "outputs": [],
   "source": [
    "logreg = LogisticRegression(class_weight='balanced', solver= 'liblinear', random_state=0)\n",
    "param_grid = {'C': [0.01, 0.1, 1, 10, 100]}\n",
    "grid = GridSearchCV(logreg, param_grid, scoring='roc_auc', cv=5)\n",
    "logreg_train = grid.fit(X_train, y_train)"
   ]
  },
  {
   "cell_type": "code",
   "execution_count": 76,
   "metadata": {},
   "outputs": [
    {
     "name": "stdout",
     "output_type": "stream",
     "text": [
      "              precision    recall  f1-score   support\n",
      "\n",
      "           0       0.89      0.92      0.91       692\n",
      "           1       0.64      0.55      0.59       173\n",
      "\n",
      "    accuracy                           0.85       865\n",
      "   macro avg       0.76      0.74      0.75       865\n",
      "weighted avg       0.84      0.85      0.84       865\n",
      "\n",
      "AUC score: 0.7377167630057803\n",
      "Classification accuracy is:  0.8473988439306358\n"
     ]
    },
    {
     "data": {
      "image/png": "[encoded data removed]",
      "text/plain": [
       "<Figure size 432x288 with 1 Axes>"
      ]
     },
     "metadata": {},
     "output_type": "display_data"
    }
   ],
   "source": [
    "y_pred = logreg_train.predict(X_test)\n",
    "print(classification_report(y_test, y_pred))\n",
    "mat = confusion_matrix(y_test, y_pred)\n",
    "print('AUC score: {}'.format(roc_auc_score(y_test, y_pred)))\n",
    "print(\"Classification accuracy is: \", (mat[0][0] + mat[1][1]) / np.sum(mat))\n",
    "\n",
    "\n",
    "sns.heatmap(mat.T, square=True, annot=True, fmt='d', cmap= 'RdBu', cbar=False,\n",
    "            xticklabels=['no flu', 'flu'], yticklabels=['no flu', 'flu'])\n",
    "plt.xlabel('true label')\n",
    "plt.ylabel('predicted label');\n"
   ]
  },
  {
   "cell_type": "markdown",
   "metadata": {},
   "source": [
    "## Naive Bayes with Bigrams"
   ]
  },
  {
   "cell_type": "code",
   "execution_count": 77,
   "metadata": {},
   "outputs": [],
   "source": [
    "naive_bayes = MultinomialNB()\n",
    "param_grid = {'alpha':[1, 1e-1, 1e-2] }\n",
    "\n",
    "grid = GridSearchCV(naive_bayes, param_grid, scoring='roc_auc', cv=5)\n",
    "nb = grid.fit(X_train, y_train)"
   ]
  },
  {
   "cell_type": "code",
   "execution_count": 78,
   "metadata": {},
   "outputs": [
    {
     "name": "stdout",
     "output_type": "stream",
     "text": [
      "              precision    recall  f1-score   support\n",
      "\n",
      "           0       0.90      0.66      0.76       692\n",
      "           1       0.34      0.71      0.46       173\n",
      "\n",
      "    accuracy                           0.67       865\n",
      "   macro avg       0.62      0.68      0.61       865\n",
      "weighted avg       0.79      0.67      0.70       865\n",
      "\n",
      "AUC score: 0.680635838150289\n",
      "Classification accuracy is:  0.6658959537572254\n"
     ]
    },
    {
     "data": {
      "image/png": "[encoded data removed]",
      "text/plain": [
       "<Figure size 432x288 with 1 Axes>"
      ]
     },
     "metadata": {},
     "output_type": "display_data"
    }
   ],
   "source": [
    "y_pred = nb.predict(X_test)\n",
    "print(classification_report(y_test, y_pred))\n",
    "mat = confusion_matrix(y_test, y_pred)\n",
    "print('AUC score: {}'.format(roc_auc_score(y_test, y_pred)))\n",
    "print(\"Classification accuracy is: \", (mat[0][0] + mat[1][1]) / np.sum(mat))\n",
    "\n",
    "sns.heatmap(mat.T, square=True, annot=True, fmt='d', cmap= 'RdBu', cbar=False,\n",
    "            xticklabels=['no flu', 'flu'], yticklabels=['no flu', 'flu'])\n",
    "plt.xlabel('true label')\n",
    "plt.ylabel('predicted label');"
   ]
  },
  {
   "cell_type": "markdown",
   "metadata": {},
   "source": [
    "# Trigrams"
   ]
  },
  {
   "cell_type": "code",
   "execution_count": 79,
   "metadata": {},
   "outputs": [],
   "source": [
    "#Trigrams\n",
    "cv=CountVectorizer(ngram_range=(3, 3))\n",
    "count_vector= cv.fit_transform(new['document_lemma'])\n",
    "count_vectordf= pd.DataFrame(count_vector.toarray())\n",
    "count_vectordf.columns= cv.get_feature_names()\n",
    "X= count_vectordf\n",
    "X_train, X_test, y_train, y_test = train_test_split(X, new['label'], test_size=0.20, random_state=42)"
   ]
  },
  {
   "cell_type": "markdown",
   "metadata": {},
   "source": [
    "## Random Forest with Trigrams"
   ]
  },
  {
   "cell_type": "code",
   "execution_count": 80,
   "metadata": {},
   "outputs": [],
   "source": [
    "n_estimators = [100, 200]\n",
    "max_depth = [5, 8, 15]\n",
    "min_samples_split = [2, 5, 10]\n",
    "min_samples_leaf = [1, 2, 5] \n",
    "rfc = RandomForestClassifier(class_weight='balanced')\n",
    "param_grid = dict(n_estimators = n_estimators, max_depth = max_depth,  \n",
    "              min_samples_split = min_samples_split, \n",
    "             min_samples_leaf = min_samples_leaf)\n",
    "\n",
    "grid = GridSearchCV(rfc, param_grid, scoring='roc_auc', cv=5)\n",
    "random_forest = grid.fit(X_train, y_train)"
   ]
  },
  {
   "cell_type": "code",
   "execution_count": 81,
   "metadata": {},
   "outputs": [
    {
     "name": "stdout",
     "output_type": "stream",
     "text": [
      "              precision    recall  f1-score   support\n",
      "\n",
      "           0       0.98      0.22      0.36       692\n",
      "           1       0.24      0.98      0.38       173\n",
      "\n",
      "    accuracy                           0.37       865\n",
      "   macro avg       0.61      0.60      0.37       865\n",
      "weighted avg       0.83      0.37      0.36       865\n",
      "\n",
      "AUC score: 0.6004335260115607\n",
      "Classification accuracy is:  0.37109826589595374\n"
     ]
    },
    {
     "data": {
      "image/png": "[encoded data removed]",
      "text/plain": [
       "<Figure size 432x288 with 1 Axes>"
      ]
     },
     "metadata": {},
     "output_type": "display_data"
    }
   ],
   "source": [
    "y_pred = random_forest.predict(X_test)\n",
    "print(classification_report(y_test, y_pred))\n",
    "mat = confusion_matrix(y_test, y_pred)\n",
    "print('AUC score: {}'.format(roc_auc_score(y_test, y_pred)))\n",
    "print(\"Classification accuracy is: \", (mat[0][0] + mat[1][1]) / np.sum(mat))\n",
    "\n",
    "sns.heatmap(mat.T, square=True, annot=True, fmt='d', cmap= 'RdBu', cbar=False,\n",
    "            xticklabels=['no flu', 'flu'], yticklabels=['no flu', 'flu'])\n",
    "plt.xlabel('true label')\n",
    "plt.ylabel('predicted label');"
   ]
  },
  {
   "cell_type": "code",
   "execution_count": 82,
   "metadata": {},
   "outputs": [
    {
     "name": "stderr",
     "output_type": "stream",
     "text": [
      "/Library/Frameworks/Python.framework/Versions/3.7/lib/python3.7/site-packages/sklearn/ensemble/forest.py:245: FutureWarning: The default value of n_estimators will change from 10 in version 0.20 to 100 in 0.22.\n",
      "  \"10 in version 0.20 to 100 in 0.22.\", FutureWarning)\n"
     ]
    },
    {
     "name": "stdout",
     "output_type": "stream",
     "text": [
      "Feature ranking:\n",
      "1. feature 8783 (0.0171) get flu shot\n",
      "2. feature 9524 (0.0078) got flu shot\n",
      "3. feature 15865 (0.0050) pretty sure flu\n",
      "4. feature 9011 (0.0050) getting flu shot\n",
      "5. feature 22094 (0.0039) want weed flu\n",
      "6. feature 14744 (0.0032) omg got flu\n",
      "7. feature 5868 (0.0031) feel like flu\n",
      "8. feature 20444 (0.0030) think catching flu\n",
      "9. feature 9538 (0.0029) got flu tell\n",
      "10. feature 17589 (0.0027) serious relationship flu\n",
      "11. feature 1862 (0.0025) bloody flu keeping\n",
      "12. feature 18539 (0.0025) sickening truly flu\n",
      "13. feature 3526 (0.0024) cough flu sad\n",
      "14. feature 706 (0.0024) annoyed flu mxm\n",
      "15. feature 22028 (0.0023) wann take flu\n",
      "16. feature 7113 (0.0023) flu really got\n",
      "17. feature 16730 (0.0023) restingtrying get flu\n",
      "18. feature 20458 (0.0023) think flu awesome\n",
      "19. feature 20477 (0.0022) think got flu\n",
      "20. feature 6626 (0.0022) flu fokin flu\n"
     ]
    },
    {
     "data": {
      "image/png": "[encoded data removed]",
      "text/plain": [
       "<Figure size 432x288 with 1 Axes>"
      ]
     },
     "metadata": {},
     "output_type": "display_data"
    }
   ],
   "source": [
    "rfc.fit(X_train, y_train)\n",
    "importances = rfc.feature_importances_\n",
    "indices = np.argsort(importances)[::-1]\n",
    "\n",
    "# Print the feature ranking\n",
    "print(\"Feature ranking:\")\n",
    "\n",
    "terms = cv.get_feature_names()\n",
    "\n",
    "for f in range(20):\n",
    "    print('{}. feature {} ({:.4f}) {}'.format((f+1), indices[f], importances[indices[f]], terms[indices[f]]))\n",
    "\n",
    "# Plot the feature importances of the forest\n",
    "plt.figure()\n",
    "plt.title(\"Feature importances\")\n",
    "plt.bar(range(0,20), importances[indices][:20], color=\"r\", align=\"center\")\n",
    "plt.xticks(range(20), indices, rotation=90)\n",
    "plt.xlim([-1, 20])\n",
    "plt.show()"
   ]
  },
  {
   "cell_type": "markdown",
   "metadata": {},
   "source": [
    "## Logistic Regression with Trigrams"
   ]
  },
  {
   "cell_type": "code",
   "execution_count": 83,
   "metadata": {},
   "outputs": [],
   "source": [
    "logreg = LogisticRegression(class_weight='balanced', solver= 'liblinear', random_state=0)\n",
    "param_grid = {'C': [0.01, 0.1, 1, 10, 100]}\n",
    "grid = GridSearchCV(logreg, param_grid, scoring='roc_auc', cv=5)\n",
    "logreg_train = grid.fit(X_train, y_train)"
   ]
  },
  {
   "cell_type": "code",
   "execution_count": 84,
   "metadata": {},
   "outputs": [
    {
     "name": "stdout",
     "output_type": "stream",
     "text": [
      "              precision    recall  f1-score   support\n",
      "\n",
      "           0       0.82      0.98      0.90       692\n",
      "           1       0.70      0.15      0.25       173\n",
      "\n",
      "    accuracy                           0.82       865\n",
      "   macro avg       0.76      0.57      0.57       865\n",
      "weighted avg       0.80      0.82      0.77       865\n",
      "\n",
      "AUC score: 0.5671965317919075\n",
      "Classification accuracy is:  0.8173410404624277\n"
     ]
    },
    {
     "data": {
      "image/png": "[encoded data removed]",
      "text/plain": [
       "<Figure size 432x288 with 1 Axes>"
      ]
     },
     "metadata": {},
     "output_type": "display_data"
    }
   ],
   "source": [
    "y_pred = logreg_train.predict(X_test)\n",
    "print(classification_report(y_test, y_pred))\n",
    "mat = confusion_matrix(y_test, y_pred)\n",
    "print('AUC score: {}'.format(roc_auc_score(y_test, y_pred)))\n",
    "print(\"Classification accuracy is: \", (mat[0][0] + mat[1][1]) / np.sum(mat))\n",
    "\n",
    "\n",
    "sns.heatmap(mat.T, square=True, annot=True, fmt='d', cmap= 'RdBu', cbar=False,\n",
    "            xticklabels=['no flu', 'flu'], yticklabels=['no flu', 'flu'])\n",
    "plt.xlabel('true label')\n",
    "plt.ylabel('predicted label');\n"
   ]
  },
  {
   "cell_type": "markdown",
   "metadata": {},
   "source": [
    "## Naive Bayes with Trigrams"
   ]
  },
  {
   "cell_type": "code",
   "execution_count": 85,
   "metadata": {},
   "outputs": [],
   "source": [
    "naive_bayes = MultinomialNB()\n",
    "param_grid = {'alpha':[1, 1e-1, 1e-2] }\n",
    "\n",
    "grid = GridSearchCV(naive_bayes, param_grid, scoring='roc_auc', cv=5)\n",
    "nb = grid.fit(X_train, y_train)"
   ]
  },
  {
   "cell_type": "code",
   "execution_count": 86,
   "metadata": {},
   "outputs": [
    {
     "name": "stdout",
     "output_type": "stream",
     "text": [
      "              precision    recall  f1-score   support\n",
      "\n",
      "           0       0.83      0.47      0.60       692\n",
      "           1       0.23      0.61      0.33       173\n",
      "\n",
      "    accuracy                           0.50       865\n",
      "   macro avg       0.53      0.54      0.47       865\n",
      "weighted avg       0.71      0.50      0.55       865\n",
      "\n",
      "AUC score: 0.5426300578034682\n",
      "Classification accuracy is:  0.500578034682081\n"
     ]
    },
    {
     "data": {
      "image/png": "[encoded data removed]",
      "text/plain": [
       "<Figure size 432x288 with 1 Axes>"
      ]
     },
     "metadata": {},
     "output_type": "display_data"
    }
   ],
   "source": [
    "y_pred = nb.predict(X_test)\n",
    "print(classification_report(y_test, y_pred))\n",
    "mat = confusion_matrix(y_test, y_pred)\n",
    "print('AUC score: {}'.format(roc_auc_score(y_test, y_pred)))\n",
    "print(\"Classification accuracy is: \", (mat[0][0] + mat[1][1]) / np.sum(mat))\n",
    "\n",
    "sns.heatmap(mat.T, square=True, annot=True, fmt='d', cmap= 'RdBu', cbar=False,\n",
    "            xticklabels=['no flu', 'flu'], yticklabels=['no flu', 'flu'])\n",
    "plt.xlabel('true label')\n",
    "plt.ylabel('predicted label');"
   ]
  },
  {
   "cell_type": "markdown",
   "metadata": {},
   "source": [
    "# Conclusion for the project. (Supervised and Unsupervised)\n",
    "\n",
    "1. Comparing all of the Supervised models I've used, the Logistic Regression with BOW and Lemmatized document gave us the best result. The BERT classifier we have used gave us a score 0.69% mcc. I would say that for ease of  use, BERT classifier wins. It is able to get a moderate score with tweets that do not have to be lemmatized or stemmed and with stop words present. Pytorch huggingface makes it almost too easy to just run a classifier with different models and minimal fine tuning. But Logistic Regression runs faster and we were able to get a good score with simple NLP techniques. It would be interesting to see the results on a larger dataset. \n",
    "\n",
    "2. Our Unsupervised models did not work so well. Clustering with k-means, LSA/SVD, and LDA failed to identify different topics or clusters.  Our dataset is too small and the variance or differences between the tweets are not made apparent.\n",
    "\n",
    "# What we can do to improve and future applications.\n",
    "\n",
    "1. I would like to see a larger dataset for this project. Ideally, we need tweets with geolocation so we can effectively track the positive flu by exact location. Given that only a small fraction of people share their geolocation with their tweets, it is even more rare to have geolocation plus flu positive tweets. Having a larger dataset and continuous streaming of tweets can possibly give us tweets that have geolocation. \n",
    "\n",
    "2. It's nice to have the tweets pertaining to positive flu but in reality, we will most likely need more \"features\" or parameters. An example would be to include incubation period of the disease, immunization rates, how the flu can infect and spread, and the viral strains present. These can possibly even help us predict the flu, before it even hits. \n",
    "\n",
    "3. If we can predict the flu, then is it possible to predict other epidemiological outbreaks in the world using twitter? What about Ebola? What about Measles? There's so much potential to advance disease surveillance using social media and machine learning. "
   ]
  }
 ],
 "metadata": {
  "kernelspec": {
   "display_name": "Python 3",
   "language": "python",
   "name": "python3"
  },
  "language_info": {
   "codemirror_mode": {
    "name": "ipython",
    "version": 3
   },
   "file_extension": ".py",
   "mimetype": "text/x-python",
   "name": "python",
   "nbconvert_exporter": "python",
   "pygments_lexer": "ipython3",
   "version": "3.7.3"
  }
 },
 "nbformat": 4,
 "nbformat_minor": 2
}

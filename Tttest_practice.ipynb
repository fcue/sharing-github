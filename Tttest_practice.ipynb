{
 "cells": [
  {
   "cell_type": "raw",
   "metadata": {},
   "source": [
    "Assignments\n",
    "To help you find your bearings with regard to t-tests, calculate the t-values for the following numbers:\n",
    "\n",
    "\n",
    "𝑦1¯=5 ,  𝑦2¯=8 ,  𝑠1=1 ,  𝑠2=3 ,  𝑁1=200 ,  𝑁2=500 \n",
    "𝑦1¯=1090 ,  𝑦2¯=999 ,  𝑠1=400 ,  𝑠2=30 ,  𝑁1=900 ,  𝑁2=100 \n",
    "𝑦1¯=45 ,  𝑦2¯=40 ,  𝑠1=45 ,  𝑠2=40 ,  𝑁1=2000 ,  𝑁2=2000\n",
    "\n"
   ]
  },
  {
   "cell_type": "code",
   "execution_count": 48,
   "metadata": {},
   "outputs": [],
   "source": [
    "import numpy as np\n",
    "import scipy.stats as stats\n",
    "from scipy.stats import sem\n",
    "from scipy.stats import t\n",
    "from math import sqrt\n",
    "from numpy import mean"
   ]
  },
  {
   "cell_type": "code",
   "execution_count": 50,
   "metadata": {},
   "outputs": [],
   "source": [
    "#doing it manually\n",
    "mean1, mean2 = 5, 8\n",
    "std1, std2= 1,3\n",
    "se1, se2 = std1/sqrt(200), std2/sqrt(500) #finding Standard Error\n",
    "sed = sqrt(se1**2.0 + se2**2.0) #finding differences in Standard error between the two means\n",
    "t_stat = (mean1 - mean2) / sed #calculating t-test stat\n",
    "df = 200 + 500 - 2 #calculating DOF\n",
    "p= (1.0 - t.cdf(abs(t_stat), df)) * 2.0 #calculating p value"
   ]
  },
  {
   "cell_type": "code",
   "execution_count": 53,
   "metadata": {},
   "outputs": [
    {
     "name": "stdout",
     "output_type": "stream",
     "text": [
      "t=-19.781, df=698, p=0.000\n"
     ]
    }
   ],
   "source": [
    "\n",
    "print('t=%.3f, df=%d, p=%.3f' % (t_stat, df, p))"
   ]
  },
  {
   "cell_type": "code",
   "execution_count": 57,
   "metadata": {},
   "outputs": [
    {
     "name": "stdout",
     "output_type": "stream",
     "text": [
      "t=6.659, df=998, p=0.000\n"
     ]
    }
   ],
   "source": [
    "#𝑦1¯=1090 ,  𝑦2¯=999 ,  𝑠1=400 ,  𝑠2=30 ,  𝑁1=900 ,  𝑁2=100 \n",
    "mean3, mean4 = 1090, 999\n",
    "std3, std4= 400, 30\n",
    "se3, se4= std3/np.sqrt(900), std4/np.sqrt(100)\n",
    "sed2 = sqrt(se3**2.0 + se4**2.0)\n",
    "t_stat2 = (mean3 - mean4) / sed2\n",
    "df2 = 900 + 100 - 2\n",
    "p2 = (1.0 - t.cdf(abs(t_stat2), df2)) * 2.0\n",
    "    \n",
    "print('t=%.3f, df=%d, p=%.3f' % (t_stat2, df2, p2))\n"
   ]
  },
  {
   "cell_type": "code",
   "execution_count": 58,
   "metadata": {},
   "outputs": [],
   "source": [
    "#𝑦1¯=45 ,  𝑦2¯=40 ,  𝑠1=45 ,  𝑠2=40 ,  𝑁1=2000 ,  𝑁2=2000\n",
    "mean5, mean6= 45, 40\n",
    "std5, std6=45, 40\n",
    "se5, se6= std5/np.sqrt([2000]), std6/np.sqrt([2000])\n",
    "sed3 = sqrt(se5**2.0 + se6**2.0)\n",
    "t_stat3 = (mean5 - mean6) / sed3\n",
    "df3 = 2000 + 2000 - 2 \n",
    "p3 = (1.0 - t.cdf(abs(t_stat3), df3)) * 2.0"
   ]
  },
  {
   "cell_type": "code",
   "execution_count": 56,
   "metadata": {},
   "outputs": [
    {
     "name": "stdout",
     "output_type": "stream",
     "text": [
      "t=3.714, df=3998, p=0.000\n"
     ]
    }
   ],
   "source": [
    "print('t=%.3f, df=%d, p=%.3f' % (t_stat3, df3, p3))"
   ]
  },
  {
   "cell_type": "code",
   "execution_count": null,
   "metadata": {},
   "outputs": [],
   "source": []
  }
 ],
 "metadata": {
  "kernelspec": {
   "display_name": "Python 3",
   "language": "python",
   "name": "python3"
  },
  "language_info": {
   "codemirror_mode": {
    "name": "ipython",
    "version": 3
   },
   "file_extension": ".py",
   "mimetype": "text/x-python",
   "name": "python",
   "nbconvert_exporter": "python",
   "pygments_lexer": "ipython3",
   "version": "3.7.3"
  }
 },
 "nbformat": 4,
 "nbformat_minor": 2
}

{
 "cells": [
  {
   "cell_type": "code",
   "execution_count": 20,
   "metadata": {},
   "outputs": [],
   "source": [
    "import numpy as np\n",
    "import pandas as pd\n",
    "import matplotlib.pyplot as plt\n",
    "import scipy\n",
    "%matplotlib inline"
   ]
  },
  {
   "cell_type": "code",
   "execution_count": 24,
   "metadata": {},
   "outputs": [],
   "source": [
    "fever = pd.DataFrame()\n",
    "\n",
    "# Some data to play with.\n",
    "fever['temp'] = [99.8, 98.0, 101.2, 103.4, 96.8, 102.0, 101.0, 100.0]\n",
    "fever['heart_rate'] = [68, 61, 121, 134, 76, 112, 117, 105]\n",
    "\n",
    "# We know whether the songs in our training data are jazz or not.\n",
    "fever['fever_Y'] = [ 0, 0, 1, 1, 0, 1, 1, 1]\n",
    "\n"
   ]
  },
  {
   "cell_type": "code",
   "execution_count": null,
   "metadata": {},
   "outputs": [],
   "source": []
  },
  {
   "cell_type": "code",
   "execution_count": 36,
   "metadata": {},
   "outputs": [
    {
     "data": {
      "image/png": "[encoded data removed]",
      "text/plain": [
       "<Figure size 432x288 with 1 Axes>"
      ]
     },
     "metadata": {
      "needs_background": "light"
     },
     "output_type": "display_data"
    }
   ],
   "source": [
    "plt.scatter(\n",
    "    fever[fever['fever_Y'] == 1].temp,\n",
    "    fever[fever['fever_Y'] == 1].heart_rate,\n",
    "    color='red'\n",
    ")\n",
    "plt.scatter(\n",
    "    fever[fever['fever_Y'] == 0].temp,\n",
    "    fever[fever['fever_Y'] == 0].heart_rate,\n",
    "    color='blue'\n",
    ")\n",
    "plt.legend(['Has fever', 'No fever'])\n",
    "plt.title ('Fever and Heart Rate')\n",
    "plt.show()\n",
    "\n"
   ]
  },
  {
   "cell_type": "code",
   "execution_count": 13,
   "metadata": {},
   "outputs": [
    {
     "name": "stdout",
     "output_type": "stream",
     "text": [
      "[1]\n",
      "[[0.2 0.8]]\n"
     ]
    }
   ],
   "source": [
    "from sklearn.neighbors import KNeighborsClassifier\n",
    "neighbors = KNeighborsClassifier(n_neighbors=5)\n",
    "X = fever[['high_temp', 'heart_rate']]\n",
    "Y = fever.fever_Y\n",
    "neighbors.fit(X,Y)\n",
    "\n",
    "## Predict for a 100 temp, 103 heart_rate.\n",
    "print(neighbors.predict([[100, 103]]))\n",
    "print(neighbors.predict_proba([[100, 103]]))\n",
    "\n"
   ]
  },
  {
   "cell_type": "code",
   "execution_count": null,
   "metadata": {},
   "outputs": [],
   "source": []
  }
 ],
 "metadata": {
  "kernelspec": {
   "display_name": "Python 3",
   "language": "python",
   "name": "python3"
  },
  "language_info": {
   "codemirror_mode": {
    "name": "ipython",
    "version": 3
   },
   "file_extension": ".py",
   "mimetype": "text/x-python",
   "name": "python",
   "nbconvert_exporter": "python",
   "pygments_lexer": "ipython3",
   "version": "3.7.3"
  }
 },
 "nbformat": 4,
 "nbformat_minor": 2
}

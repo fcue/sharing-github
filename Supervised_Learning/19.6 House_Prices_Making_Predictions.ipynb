{
 "cells": [
  {
   "cell_type": "markdown",
   "metadata": {},
   "source": [
    "# Assignment\n",
    "In this exercise, you'll predict house prices using your model. To complete this assignment, submit a link to a Jupyter notebook containing your solutions to the following tasks:\n",
    "\n",
    "Load the houseprices data from Thinkful's database.\n",
    "Split your data into train and test sets.\n",
    "Estimate your model from the previous checkpoint in the train set. Assess the goodness of fit of your model.\n",
    "Predict the house prices in the test set, and evaluate the performance of your model using the metrics we mentioned in this checkpoint.\n",
    "Is the performance of your model satisfactory? Why?\n",
    "Try to improve your model in terms of predictive performance by adding or removing some variables.\n",
    "Please submit a link your work notebook. This is not a graded checkpoint, but you should discuss your solutions with your mentor. Also, when you're done, compare your work to this example solution."
   ]
  },
  {
   "cell_type": "code",
   "execution_count": 39,
   "metadata": {},
   "outputs": [],
   "source": [
    "import matplotlib.pyplot as plt\n",
    "import numpy as np\n",
    "import pandas as pd\n",
    "from sklearn.linear_model import LinearRegression\n",
    "from sklearn.model_selection import train_test_split\n",
    "from sklearn.metrics import mean_absolute_error\n",
    "import statsmodels.api as sm\n",
    "from statsmodels.tools.eval_measures import mse, rmse\n",
    "from sqlalchemy import create_engine\n"
   ]
  },
  {
   "cell_type": "code",
   "execution_count": 40,
   "metadata": {},
   "outputs": [],
   "source": [
    "postgres_user = 'dsbc_student'\n",
    "postgres_pw = '7*.8G9QH21'\n",
    "postgres_host = '142.93.121.174'\n",
    "postgres_port = '5432'\n",
    "postgres_db = 'houseprices'"
   ]
  },
  {
   "cell_type": "code",
   "execution_count": 41,
   "metadata": {},
   "outputs": [],
   "source": [
    "engine = create_engine('postgresql://{}:{}@{}:{}/{}'.format(\n",
    "    postgres_user, postgres_pw, postgres_host, postgres_port, postgres_db))\n",
    "\n",
    "houseprices_df = pd.read_sql_query('select * from houseprices',con=engine)\n",
    "\n",
    "# no need for an open connection, as we're only doing a single query\n",
    "engine.dispose()"
   ]
  },
  {
   "cell_type": "code",
   "execution_count": 42,
   "metadata": {},
   "outputs": [],
   "source": [
    "houseprices_df1=houseprices_df #make a copy"
   ]
  },
  {
   "cell_type": "code",
   "execution_count": 43,
   "metadata": {},
   "outputs": [],
   "source": [
    "houseprices_df1 = pd.concat([houseprices_df1,pd.get_dummies(houseprices_df1.mszoning, prefix=\"mszoning\", drop_first=True)], axis=1)\n",
    "houseprices_df1 = pd.concat([houseprices_df1,pd.get_dummies(houseprices_df1.street, prefix=\"street\", drop_first=True)], axis=1)\n",
    "dummy_column_names = list(pd.get_dummies(houseprices_df1.mszoning, prefix=\"mszoning\", drop_first=True).columns)\n",
    "dummy_column_names = dummy_column_names + list(pd.get_dummies(houseprices_df1.street, prefix=\"street\", drop_first=True).columns)\n"
   ]
  },
  {
   "cell_type": "markdown",
   "metadata": {},
   "source": [
    "# Build your initial model using these features and estimate the parameters using OLS."
   ]
  },
  {
   "cell_type": "code",
   "execution_count": 59,
   "metadata": {},
   "outputs": [],
   "source": [
    "X = houseprices_df1[['overallqual', 'grlivarea', 'garagecars', 'garagearea', 'totalbsmtsf'] + dummy_column_names]\n",
    "y = houseprices_df1.saleprice"
   ]
  },
  {
   "cell_type": "markdown",
   "metadata": {},
   "source": [
    "Our R squared and Adj R squared 76.9% and 76.7% respectively. F stat is 482 with a significant p value of 0. Our AIC and BIC are 3.4 and 3.5. There's definitely room for improvement. Let's mix up our variables. "
   ]
  },
  {
   "cell_type": "code",
   "execution_count": 60,
   "metadata": {},
   "outputs": [
    {
     "name": "stdout",
     "output_type": "stream",
     "text": [
      "The number of observations in training set is 1168\n",
      "The number of observations in test set is 292\n"
     ]
    }
   ],
   "source": [
    "X_train, X_test, y_train, y_test = train_test_split(X, y, test_size = 0.2, random_state = 465)\n",
    "\n",
    "print(\"The number of observations in training set is {}\".format(X_train.shape[0]))\n",
    "print(\"The number of observations in test set is {}\".format(X_test.shape[0]))"
   ]
  },
  {
   "cell_type": "code",
   "execution_count": 62,
   "metadata": {},
   "outputs": [
    {
     "name": "stdout",
     "output_type": "stream",
     "text": [
      "                            OLS Regression Results                            \n",
      "==============================================================================\n",
      "Dep. Variable:              saleprice   R-squared:                       0.761\n",
      "Model:                            OLS   Adj. R-squared:                  0.759\n",
      "Method:                 Least Squares   F-statistic:                     526.5\n",
      "Date:                Thu, 01 Aug 2019   Prob (F-statistic):               0.00\n",
      "Time:                        13:42:01   Log-Likelihood:                -13991.\n",
      "No. Observations:                1168   AIC:                         2.800e+04\n",
      "Df Residuals:                    1160   BIC:                         2.804e+04\n",
      "Df Model:                           7                                         \n",
      "Covariance Type:            nonrobust                                         \n",
      "====================================================================================\n",
      "                       coef    std err          t      P>|t|      [0.025      0.975]\n",
      "------------------------------------------------------------------------------------\n",
      "const            -1.076e+05   6135.067    -17.539      0.000    -1.2e+05   -9.56e+04\n",
      "overallqual       2.396e+04   1240.318     19.315      0.000    2.15e+04    2.64e+04\n",
      "grlivarea           43.8352      2.782     15.755      0.000      38.376      49.294\n",
      "garagecars        1.534e+04   3443.392      4.454      0.000    8581.444    2.21e+04\n",
      "garagearea          17.0483     11.635      1.465      0.143      -5.779      39.876\n",
      "totalbsmtsf         26.6588      3.152      8.459      0.000      20.475      32.842\n",
      "utilities_NoSeWa -3.214e+04   3.87e+04     -0.831      0.406   -1.08e+05    4.38e+04\n",
      "centralair_Y      1.313e+04   4884.002      2.689      0.007    3552.468    2.27e+04\n",
      "==============================================================================\n",
      "Omnibus:                      384.299   Durbin-Watson:                   1.842\n",
      "Prob(Omnibus):                  0.000   Jarque-Bera (JB):            30884.475\n",
      "Skew:                          -0.561   Prob(JB):                         0.00\n",
      "Kurtosis:                      28.167   Cond. No.                     6.86e+04\n",
      "==============================================================================\n",
      "\n",
      "Warnings:\n",
      "[1] Standard Errors assume that the covariance matrix of the errors is correctly specified.\n",
      "[2] The condition number is large, 6.86e+04. This might indicate that there are\n",
      "strong multicollinearity or other numerical problems.\n"
     ]
    }
   ],
   "source": [
    "X_train = sm.add_constant(X_train)\n",
    "\n",
    "# We fit an OLS model using statsmodels\n",
    "results = sm.OLS(y_train, X_train).fit()\n",
    "\n",
    "# We print the summary results\n",
    "print(results.summary())"
   ]
  },
  {
   "cell_type": "code",
   "execution_count": 63,
   "metadata": {},
   "outputs": [
    {
     "data": {
      "image/png": "[encoded data removed]",
      "text/plain": [
       "<Figure size 432x288 with 1 Axes>"
      ]
     },
     "metadata": {
      "needs_background": "light"
     },
     "output_type": "display_data"
    },
    {
     "name": "stdout",
     "output_type": "stream",
     "text": [
      "Mean absolute error of the prediction is: 25888.074035216123\n",
      "Mean squared error of the prediction is: 1573412230.7081664\n",
      "Root mean squared error of the prediction is: 39666.26060908901\n",
      "Mean absolute percentage error of the prediction is: 15.99155046470519\n"
     ]
    }
   ],
   "source": [
    "X_test = sm.add_constant(X_test)\n",
    "\n",
    "# We are making predictions here\n",
    "y_preds = results.predict(X_test)\n",
    "\n",
    "plt.scatter(y_test, y_preds)\n",
    "plt.plot(y_test, y_test, color=\"red\")\n",
    "plt.xlabel(\"true values\")\n",
    "plt.ylabel(\"predicted values\")\n",
    "plt.title(\"Charges: true and predicted values\")\n",
    "plt.show()\n",
    "\n",
    "print(\"Mean absolute error of the prediction is: {}\".format(mean_absolute_error(y_test, y_preds)))\n",
    "print(\"Mean squared error of the prediction is: {}\".format(mse(y_test, y_preds)))\n",
    "print(\"Root mean squared error of the prediction is: {}\".format(rmse(y_test, y_preds)))\n",
    "print(\"Mean absolute percentage error of the prediction is: {}\".format(np.mean(np.abs((y_test - y_preds) / y_test)) * 100))"
   ]
  },
  {
   "cell_type": "code",
   "execution_count": null,
   "metadata": {},
   "outputs": [],
   "source": [
    "#There's some room for improvement. Our MAE, MSEP, RMSE and MAPE can be lowered. "
   ]
  },
  {
   "cell_type": "code",
   "execution_count": 49,
   "metadata": {},
   "outputs": [],
   "source": [
    "#Let's ty again with model #2. "
   ]
  },
  {
   "cell_type": "code",
   "execution_count": 67,
   "metadata": {},
   "outputs": [],
   "source": [
    "houseprices_df1 = pd.concat([houseprices_df1,pd.get_dummies(houseprices_df1.utilities, prefix=\"utilities\", drop_first=True)], axis=1)\n",
    "dummy_column_names =list(pd.get_dummies(houseprices_df1.utilities, prefix=\"utilities\", drop_first=True).columns)\n",
    "houseprices_df1 = pd.concat([houseprices_df1,pd.get_dummies(houseprices_df1.centralair, prefix=\"centralair\", drop_first=True)], axis=1)\n",
    "dummy_column_names =dummy_column_names+list(pd.get_dummies(houseprices_df1.centralair, prefix=\"centralair\", drop_first=True).columns)"
   ]
  },
  {
   "cell_type": "code",
   "execution_count": null,
   "metadata": {},
   "outputs": [],
   "source": []
  },
  {
   "cell_type": "code",
   "execution_count": 68,
   "metadata": {},
   "outputs": [],
   "source": [
    "X = houseprices_df1[['overallqual', 'grlivarea', 'garagecars', 'totalbsmtsf', 'mszoning_RL', 'lotarea', 'overallcond'] + dummy_column_names]\n",
    "y = houseprices_df1.saleprice"
   ]
  },
  {
   "cell_type": "code",
   "execution_count": 69,
   "metadata": {},
   "outputs": [
    {
     "name": "stdout",
     "output_type": "stream",
     "text": [
      "The number of observations in training set is 1168\n",
      "The number of observations in test set is 292\n"
     ]
    }
   ],
   "source": [
    "X_train, X_test, y_train, y_test = train_test_split(X, y, test_size = 0.2, random_state = 465)\n",
    "\n",
    "print(\"The number of observations in training set is {}\".format(X_train.shape[0]))\n",
    "print(\"The number of observations in test set is {}\".format(X_test.shape[0]))"
   ]
  },
  {
   "cell_type": "code",
   "execution_count": 71,
   "metadata": {},
   "outputs": [
    {
     "name": "stdout",
     "output_type": "stream",
     "text": [
      "                            OLS Regression Results                            \n",
      "==============================================================================\n",
      "Dep. Variable:              saleprice   R-squared:                       0.773\n",
      "Model:                            OLS   Adj. R-squared:                  0.771\n",
      "Method:                 Least Squares   F-statistic:                     438.3\n",
      "Date:                Thu, 01 Aug 2019   Prob (F-statistic):               0.00\n",
      "Time:                        13:44:50   Log-Likelihood:                -13959.\n",
      "No. Observations:                1168   AIC:                         2.794e+04\n",
      "Df Residuals:                    1158   BIC:                         2.799e+04\n",
      "Df Model:                           9                                         \n",
      "Covariance Type:            nonrobust                                         \n",
      "====================================================================================\n",
      "                       coef    std err          t      P>|t|      [0.025      0.975]\n",
      "------------------------------------------------------------------------------------\n",
      "const            -1.324e+05   8184.688    -16.176      0.000   -1.48e+05   -1.16e+05\n",
      "overallqual       2.509e+04   1222.684     20.518      0.000    2.27e+04    2.75e+04\n",
      "grlivarea           40.3874      2.772     14.570      0.000      34.949      45.826\n",
      "garagecars        1.922e+04   1954.132      9.835      0.000    1.54e+04    2.31e+04\n",
      "totalbsmtsf         23.1233      3.135      7.376      0.000      16.973      29.274\n",
      "mszoning_RL       1.522e+04   2882.981      5.280      0.000    9566.251    2.09e+04\n",
      "lotarea              0.4976      0.110      4.511      0.000       0.281       0.714\n",
      "overallcond       3287.6586   1033.625      3.181      0.002    1259.671    5315.646\n",
      "utilities_NoSeWa -1.317e+04   1.26e+04     -1.047      0.295   -3.78e+04    1.15e+04\n",
      "utilities_NoSeWa -1.317e+04   1.26e+04     -1.047      0.295   -3.78e+04    1.15e+04\n",
      "utilities_NoSeWa -1.317e+04   1.26e+04     -1.047      0.295   -3.78e+04    1.15e+04\n",
      "centralair_Y      1706.4694   1638.395      1.042      0.298   -1508.085    4921.024\n",
      "centralair_Y      1706.4694   1638.395      1.042      0.298   -1508.085    4921.024\n",
      "centralair_Y      1706.4694   1638.395      1.042      0.298   -1508.085    4921.024\n",
      "==============================================================================\n",
      "Omnibus:                      368.501   Durbin-Watson:                   1.871\n",
      "Prob(Omnibus):                  0.000   Jarque-Bera (JB):            32321.511\n",
      "Skew:                          -0.445   Prob(JB):                         0.00\n",
      "Kurtosis:                      28.756   Cond. No.                     4.50e+24\n",
      "==============================================================================\n",
      "\n",
      "Warnings:\n",
      "[1] Standard Errors assume that the covariance matrix of the errors is correctly specified.\n",
      "[2] The smallest eigenvalue is 1.33e-38. This might indicate that there are\n",
      "strong multicollinearity problems or that the design matrix is singular.\n"
     ]
    }
   ],
   "source": [
    "X_train = sm.add_constant(X_train)\n",
    "\n",
    "# We fit an OLS model using statsmodels\n",
    "results = sm.OLS(y_train, X_train).fit()\n",
    "\n",
    "# We print the summary results\n",
    "print(results.summary())"
   ]
  },
  {
   "cell_type": "code",
   "execution_count": 72,
   "metadata": {},
   "outputs": [
    {
     "data": {
      "image/png": "[encoded data removed]",
      "text/plain": [
       "<Figure size 432x288 with 1 Axes>"
      ]
     },
     "metadata": {
      "needs_background": "light"
     },
     "output_type": "display_data"
    },
    {
     "name": "stdout",
     "output_type": "stream",
     "text": [
      "Mean absolute error of the prediction is: 25088.882169612425\n",
      "Mean squared error of the prediction is: 1548233882.0676286\n",
      "Root mean squared error of the prediction is: 39347.603256966344\n",
      "Mean absolute percentage error of the prediction is: 15.32243692635398\n"
     ]
    }
   ],
   "source": [
    "X_test = sm.add_constant(X_test)\n",
    "\n",
    "# We are making predictions here\n",
    "y_preds = results.predict(X_test)\n",
    "\n",
    "plt.scatter(y_test, y_preds)\n",
    "plt.plot(y_test, y_test, color=\"red\")\n",
    "plt.xlabel(\"true values\")\n",
    "plt.ylabel(\"predicted values\")\n",
    "plt.title(\"Charges: true and predicted values\")\n",
    "plt.show()\n",
    "\n",
    "print(\"Mean absolute error of the prediction is: {}\".format(mean_absolute_error(y_test, y_preds)))\n",
    "print(\"Mean squared error of the prediction is: {}\".format(mse(y_test, y_preds)))\n",
    "print(\"Root mean squared error of the prediction is: {}\".format(rmse(y_test, y_preds)))\n",
    "print(\"Mean absolute percentage error of the prediction is: {}\".format(np.mean(np.abs((y_test - y_preds) / y_test)) * 100))"
   ]
  },
  {
   "cell_type": "code",
   "execution_count": null,
   "metadata": {},
   "outputs": [],
   "source": [
    "#This model is better because the metrics are lower. There are some outliers which can affect our values. It might be \n",
    "#good to eliminate them and try again. "
   ]
  }
 ],
 "metadata": {
  "kernelspec": {
   "display_name": "Python 3",
   "language": "python",
   "name": "python3"
  },
  "language_info": {
   "codemirror_mode": {
    "name": "ipython",
    "version": 3
   },
   "file_extension": ".py",
   "mimetype": "text/x-python",
   "name": "python",
   "nbconvert_exporter": "python",
   "pygments_lexer": "ipython3",
   "version": "3.7.3"
  }
 },
 "nbformat": 4,
 "nbformat_minor": 2
}
